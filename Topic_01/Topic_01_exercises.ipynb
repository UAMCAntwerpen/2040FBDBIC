{
  "cells": [
    {
      "cell_type": "markdown",
      "metadata": {
        "id": "view-in-github",
        "colab_type": "text"
      },
      "source": [
        "<a href=\"https://colab.research.google.com/github/UAMCAntwerpen/2040FBDBIC/blob/master/Class_01/Class_01_exercises.ipynb\" target=\"_parent\"><img src=\"https://colab.research.google.com/assets/colab-badge.svg\" alt=\"Open In Colab\"/></a>"
      ]
    },
    {
      "cell_type": "markdown",
      "source": [
        "# Class 01: exercises"
      ],
      "metadata": {
        "id": "j3Q1CyOJswar"
      }
    },
    {
      "cell_type": "markdown",
      "metadata": {
        "id": "6JSE9a-2TvkK"
      },
      "source": [
        "First install the necessary Python libraries:"
      ]
    },
    {
      "cell_type": "code",
      "execution_count": null,
      "metadata": {
        "id": "Lez_etzwWVMl"
      },
      "outputs": [],
      "source": [
        "!pip install rdkit mols2grid requests"
      ]
    },
    {
      "cell_type": "markdown",
      "metadata": {
        "id": "sGsRROFxUF_9"
      },
      "source": [
        "Now import the necessary Python libraries:"
      ]
    },
    {
      "cell_type": "code",
      "execution_count": null,
      "metadata": {
        "id": "4Hx76a3dY3sA"
      },
      "outputs": [],
      "source": [
        "# RDKit chemistry\n",
        "from rdkit import Chem\n",
        "\n",
        "# RDKit drawing\n",
        "from rdkit.Chem import Draw\n",
        "from rdkit.Chem.Draw import IPythonConsole\n",
        "from rdkit.Chem import rdDepictor\n",
        "IPythonConsole.ipython_useSVG = True\n",
        "rdDepictor.SetPreferCoordGen(True)\n",
        "\n",
        "# Library to display molecules in a grid\n",
        "import mols2grid\n",
        "\n",
        "# Library to download files\n",
        "import requests"
      ]
    },
    {
      "cell_type": "markdown",
      "metadata": {
        "id": "7itNQgU1XJJv"
      },
      "source": [
        "## Exercise 1\n",
        "\n",
        "Write a writer function that takes as input a list of molecules and a filename, and that writes these molecules out as SMILES (each molecule on a separate line)."
      ]
    },
    {
      "cell_type": "code",
      "source": [],
      "metadata": {
        "id": "jUZe9LxItBw5"
      },
      "execution_count": null,
      "outputs": []
    },
    {
      "cell_type": "markdown",
      "metadata": {
        "id": "zhvBX1K6UYJm"
      },
      "source": [
        "## Exercise 2\n",
        "\n",
        "Write a function that takes as input both a filename and a molecule, and that writes the molecule to the file in MOL-block format (there is a function in RDKit that does this, but this exercise is about writing this function yourselves)."
      ]
    },
    {
      "cell_type": "code",
      "execution_count": null,
      "metadata": {
        "id": "HLdvl2XjDKWI"
      },
      "outputs": [],
      "source": []
    },
    {
      "cell_type": "markdown",
      "metadata": {
        "id": "yT_K32etUhPt"
      },
      "source": [
        "## Exercise 3\n",
        "\n",
        "Write a program that reads a list of molecules (represented in SMILES), calculates their molecular weight, and prints this SMILES together with the molecular weight on the same line. Have a look at the RDKit page to find out which functions you need. The MW can be calculated using RDKit with the `MolWt()` function in the `Descriptors` module:\n",
        "\n",
        "```\n",
        ">>> from rdkit.Chem import Descriptors\n",
        ">>> m = Chem.MolFromSmiles('c1ccccc1C(=O)O')\n",
        ">>> Descriptors.MolWt(m)\n",
        "122.12299999999998\n",
        "```"
      ]
    },
    {
      "cell_type": "code",
      "execution_count": null,
      "metadata": {
        "id": "pBy32VmeUlBV"
      },
      "outputs": [],
      "source": []
    },
    {
      "cell_type": "markdown",
      "metadata": {
        "id": "LVmnBGupUren"
      },
      "source": [
        "## Exercise 4\n",
        "\n",
        "Write a program that takes as input a SDF-file of molecules and that calculates the Lipinski’s rule-of-five on these molecules. The rule-of-five is a simple criterium to predict whether a molecule is drug-like or not. A molecule confers to the rule-of-five when all of the following criteria are met:\n",
        "\n",
        "- Molecular weight <= 500 Da. The MW can be calculated using RDKit with the `MolWt()` function in the `Descriptors` module.\n",
        "\n",
        "- Calculated logP <= 5. The logP can be calculated with RDKit using the `MolLogP()` function in the Descriptors module:\n",
        "\n",
        "```\n",
        ">>> from rdkit.Chem import Descriptors\n",
        ">>> m = Chem.MolFromSmiles('c1ccccc1C(=O)O')\n",
        ">>> Descriptors.MolLogP(m)\n",
        "1.3848\n",
        "```\n",
        "\n",
        "- Number of hydrogen bond donors <= 5. Any O or N atom connected to at least one H is counted as a hydrogen bond donor. Use substructure searches with SMARTS to implement this.\n",
        "\n",
        "- Number of hydrogen bond acceptors <= 10. Any O or N atom in the molecule is counted as a hydrogen bond acceptor. Use substructure searches with SMARTS to implement this.\n"
      ]
    },
    {
      "cell_type": "code",
      "execution_count": null,
      "metadata": {
        "id": "bhNRx2LTDQMQ"
      },
      "outputs": [],
      "source": []
    }
  ],
  "metadata": {
    "colab": {
      "collapsed_sections": [
        "EiOEly6Y05LG",
        "7itNQgU1XJJv",
        "lIN5mCz_aFWk",
        "cyYtV_OXbea0",
        "ls16oHjFfOL7",
        "JZzpDeB513SF",
        "ev0cCO4bC49Q"
      ],
      "provenance": [],
      "include_colab_link": true
    },
    "kernelspec": {
      "display_name": "Python 3 (ipykernel)",
      "language": "python",
      "name": "python3"
    },
    "language_info": {
      "codemirror_mode": {
        "name": "ipython",
        "version": 3
      },
      "file_extension": ".py",
      "mimetype": "text/x-python",
      "name": "python",
      "nbconvert_exporter": "python",
      "pygments_lexer": "ipython3",
      "version": "3.7.4"
    }
  },
  "nbformat": 4,
  "nbformat_minor": 0
}
