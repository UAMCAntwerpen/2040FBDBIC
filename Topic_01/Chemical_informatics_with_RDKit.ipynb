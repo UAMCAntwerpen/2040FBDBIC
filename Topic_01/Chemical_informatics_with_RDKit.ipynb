{
  "cells": [
    {
      "cell_type": "markdown",
      "metadata": {
        "id": "view-in-github",
        "colab_type": "text"
      },
      "source": [
        "<a href=\"https://colab.research.google.com/github/UAMCAntwerpen/2040FBDBIC/blob/master/Topic_01/Chemical_informatics_with_RDKit.ipynb\" target=\"_parent\"><img src=\"https://colab.research.google.com/assets/colab-badge.svg\" alt=\"Open In Colab\"/></a>"
      ]
    },
    {
      "cell_type": "markdown",
      "metadata": {
        "id": "EiOEly6Y05LG"
      },
      "source": [
        "## Chemical informatics (or chemo-informatics) with RDKit"
      ]
    },
    {
      "cell_type": "markdown",
      "metadata": {
        "id": "RTcS32L1ThTT"
      },
      "source": [
        "In this notebook, we'll provide a quick overview of the RDKit and it's functions."
      ]
    },
    {
      "cell_type": "markdown",
      "metadata": {
        "id": "6JSE9a-2TvkK"
      },
      "source": [
        "First install the necessary Python libraries:"
      ]
    },
    {
      "cell_type": "code",
      "execution_count": null,
      "metadata": {
        "id": "Lez_etzwWVMl"
      },
      "outputs": [],
      "source": [
        "!pip install rdkit mols2grid requests"
      ]
    },
    {
      "cell_type": "markdown",
      "metadata": {
        "id": "sGsRROFxUF_9"
      },
      "source": [
        "Now import the necessary Python libraries:"
      ]
    },
    {
      "cell_type": "code",
      "execution_count": null,
      "metadata": {
        "id": "4Hx76a3dY3sA"
      },
      "outputs": [],
      "source": [
        "# RDKit chemistry\n",
        "from rdkit import Chem\n",
        "\n",
        "# RDKit drawing\n",
        "from rdkit.Chem import Draw\n",
        "from rdkit.Chem.Draw import IPythonConsole\n",
        "from rdkit.Chem import rdDepictor\n",
        "IPythonConsole.ipython_useSVG = True\n",
        "rdDepictor.SetPreferCoordGen(True)\n",
        "\n",
        "# Library to display molecules in a grid\n",
        "import mols2grid\n",
        "\n",
        "# Library to download files\n",
        "import requests"
      ]
    },
    {
      "cell_type": "markdown",
      "metadata": {
        "id": "7itNQgU1XJJv"
      },
      "source": [
        "### Displaying a chemical structure"
      ]
    },
    {
      "cell_type": "markdown",
      "metadata": {
        "id": "zhvBX1K6UYJm"
      },
      "source": [
        "Create a molecule (benzene) from a SMILES string and put the molecule into a variable called **mol**:"
      ]
    },
    {
      "cell_type": "code",
      "execution_count": null,
      "metadata": {
        "id": "HLdvl2XjDKWI"
      },
      "outputs": [],
      "source": [
        "mol = Chem.MolFromSmiles(\"c1ccccc1\")"
      ]
    },
    {
      "cell_type": "markdown",
      "metadata": {
        "id": "yT_K32etUhPt"
      },
      "source": [
        "We can display the value of a variable in a Jupyter notebook by typing the variable name and clicking shift-return:"
      ]
    },
    {
      "cell_type": "code",
      "execution_count": null,
      "metadata": {
        "id": "pBy32VmeUlBV"
      },
      "outputs": [],
      "source": [
        "mol"
      ]
    },
    {
      "cell_type": "markdown",
      "metadata": {
        "id": "LVmnBGupUren"
      },
      "source": [
        "Get some information about this molecule:"
      ]
    },
    {
      "cell_type": "code",
      "execution_count": null,
      "metadata": {
        "id": "bhNRx2LTDQMQ"
      },
      "outputs": [],
      "source": [
        "print(\"number of atoms:\", mol.GetNumAtoms())\n",
        "nBonds = mol.GetNumBonds()\n",
        "print(\"number of bonds:\", nBonds)"
      ]
    },
    {
      "cell_type": "markdown",
      "metadata": {
        "id": "zEwgnfTfUzig"
      },
      "source": [
        "The **mol** variable is not readable by humans (only by RDKit), but the moecule can be converted back to a SMILES:"
      ]
    },
    {
      "cell_type": "code",
      "execution_count": null,
      "metadata": {
        "id": "ZcQ315R3DVST"
      },
      "outputs": [],
      "source": [
        "print(Chem.MolToSmiles(mol))"
      ]
    },
    {
      "cell_type": "markdown",
      "metadata": {
        "id": "pnPx8ujAVC2o"
      },
      "source": [
        "Invalid SMILES can be captured by testing if the molecule is not **None**:"
      ]
    },
    {
      "cell_type": "code",
      "execution_count": null,
      "metadata": {
        "id": "gWFpxIBADXW0"
      },
      "outputs": [],
      "source": [
        "for smiles in [\"CCCC\", \"c\"]:\n",
        "  print(\"Smiles:\", smiles)\n",
        "  mol = Chem.MolFromSmiles(smiles)\n",
        "  print(mol)\n",
        "  print(mol is None)\n",
        "  print(\"\")"
      ]
    },
    {
      "cell_type": "markdown",
      "metadata": {
        "id": "hGpUI_KzVQkA"
      },
      "source": [
        "Hydrogen atoms are by default considered to be implicitly present, by not explicit. The **AllChem.AddHs()** and **AllChem.RemoveHs()** functions can be used to make the hydrogens explicit or implicit:"
      ]
    },
    {
      "cell_type": "code",
      "execution_count": null,
      "metadata": {
        "id": "2AT9PR70DnST"
      },
      "outputs": [],
      "source": [
        "from rdkit.Chem import AllChem\n",
        "mol = Chem.MolFromSmiles(\"C\")\n",
        "print(\"number of atoms:\", mol.GetNumAtoms())\n",
        "print(\"number of bonds:\", mol.GetNumBonds())\n",
        "print(\"\")\n",
        "mol = AllChem.AddHs(mol)\n",
        "print(\"number of atoms:\", mol.GetNumAtoms())\n",
        "print(\"number of bonds:\", mol.GetNumBonds())\n",
        "print(\"\")\n",
        "mol = AllChem.RemoveHs(mol)\n",
        "print(\"number of atoms:\", mol.GetNumAtoms())\n",
        "print(\"number of bonds:\", mol.GetNumBonds())"
      ]
    },
    {
      "cell_type": "markdown",
      "metadata": {
        "id": "OpvNaR5CVxC5"
      },
      "source": [
        "The SMILES representations for most marketed drugs are available from the Wikipedia page for the corresponding drug. For instance, we can get the SMILES for the oncology drug Imatinib (aka Gleevec) from [Wikipedia](https://en.wikipedia.org/wiki/Imatinib). With this SMILES string in hand, we can generate an RDKit molecule:"
      ]
    },
    {
      "cell_type": "code",
      "execution_count": null,
      "metadata": {
        "id": "UQkRcjmdV-Tx"
      },
      "outputs": [],
      "source": [
        "glvc = Chem.MolFromSmiles(\"Cc1ccc(cc1Nc2nccc(n2)c3cccnc3)NC(=O)c4ccc(cc4)CN5CCN(CC5)C\")"
      ]
    },
    {
      "cell_type": "code",
      "execution_count": null,
      "metadata": {
        "id": "tYn9IMvbWCoq"
      },
      "outputs": [],
      "source": [
        "glvc"
      ]
    },
    {
      "cell_type": "markdown",
      "metadata": {
        "id": "htmMjIM0EZmu"
      },
      "source": [
        "## Looping over atoms and bonds"
      ]
    },
    {
      "cell_type": "code",
      "execution_count": null,
      "metadata": {
        "id": "p5bZz2RfEbzo"
      },
      "outputs": [],
      "source": [
        "mol = Chem.MolFromSmiles('C1OC1')\n",
        "for atom in mol.GetAtoms():\n",
        "  print(atom.GetAtomicNum(), atom.GetIdx(), atom.GetSymbol(), atom.GetExplicitValence())"
      ]
    },
    {
      "cell_type": "markdown",
      "metadata": {
        "id": "hFfQIhu2EsSi"
      },
      "source": [
        "Atom indices:"
      ]
    },
    {
      "cell_type": "code",
      "execution_count": null,
      "metadata": {
        "id": "w8tjeFxCEl08"
      },
      "outputs": [],
      "source": [
        "for i in range(0, mol.GetNumAtoms()):\n",
        "  print(i, mol.GetAtomWithIdx(i).GetSymbol())"
      ]
    },
    {
      "cell_type": "markdown",
      "metadata": {
        "id": "sY5pp_tMEus_"
      },
      "source": [
        "Atom neighbors:"
      ]
    },
    {
      "cell_type": "code",
      "execution_count": null,
      "metadata": {
        "id": "rg6JgsMsEwUi"
      },
      "outputs": [],
      "source": [
        "for atom in mol.GetAtoms():\n",
        "  neighbors = atom.GetNeighbors()\n",
        "  print(neighbors)\n",
        "  print(atom.GetIdx(), end = \": \")\n",
        "  for neighbor in neighbors: print(neighbor.GetIdx(), end=\"-\")\n",
        "  print(\"\")"
      ]
    },
    {
      "cell_type": "markdown",
      "metadata": {
        "id": "qwjqZBV8E9nk"
      },
      "source": [
        "Bonds:"
      ]
    },
    {
      "cell_type": "code",
      "execution_count": null,
      "metadata": {
        "id": "YeS9j4phE-i3"
      },
      "outputs": [],
      "source": [
        "for bond in mol.GetBonds():\n",
        "  bt = bond.GetBondType()\n",
        "  bbi = bond.GetBeginAtomIdx()\n",
        "  bei = bond.GetEndAtomIdx()\n",
        "  print(bt, bbi, \"-\", bei)"
      ]
    },
    {
      "cell_type": "markdown",
      "metadata": {
        "id": "Gd7cMZlQFQXT"
      },
      "source": [
        "## Rings"
      ]
    },
    {
      "cell_type": "code",
      "execution_count": null,
      "metadata": {
        "id": "Lqvqf0pnFRxJ"
      },
      "outputs": [],
      "source": [
        "from rdkit.Chem import Draw\n",
        "from rdkit.Chem.Draw import IPythonConsole\n",
        "IPythonConsole.drawOptions.addAtomIndices = True\n",
        "mol = Chem.MolFromSmiles('OC1C2C1CC2')\n",
        "mol"
      ]
    },
    {
      "cell_type": "code",
      "execution_count": null,
      "metadata": {
        "id": "D2iL_ke5FwMC"
      },
      "outputs": [],
      "source": [
        "for atom in mol.GetAtoms():\n",
        "  idx = atom.GetIdx()\n",
        "  ring = atom.IsInRing()\n",
        "  r3 = atom.IsInRingSize(3)\n",
        "  r4 = atom.IsInRingSize(4)\n",
        "  r6 = atom.IsInRingSize(6)\n",
        "  print(idx, ring, r3, r4, r6)"
      ]
    },
    {
      "cell_type": "code",
      "execution_count": null,
      "metadata": {
        "id": "GHbGjrBNF-oG"
      },
      "outputs": [],
      "source": [
        "mol = Chem.MolFromSmiles(\"OC1C2C1CC2\")\n",
        "smallestSetOfSmallestRings = Chem.GetSymmSSSR(mol)\n",
        "n_sssr = len(smallestSetOfSmallestRings)\n",
        "print(n_sssr)\n",
        "for i in range(n_sssr): print(list(smallestSetOfSmallestRings[i]))\n",
        "mol"
      ]
    },
    {
      "cell_type": "code",
      "execution_count": null,
      "metadata": {
        "id": "PvYgcFxOGCzj"
      },
      "outputs": [],
      "source": [
        "mol = Chem.MolFromSmiles(\"c12ccccc1cccc2\")\n",
        "smallestSetOfSmallestRings = Chem.GetSymmSSSR(mol)\n",
        "n_sssr = len(smallestSetOfSmallestRings)\n",
        "print(n_sssr)\n",
        "for i in range(n_sssr): print(list(smallestSetOfSmallestRings[i]))\n",
        "mol"
      ]
    },
    {
      "cell_type": "code",
      "execution_count": null,
      "metadata": {
        "id": "QpGsEBJjGTWe"
      },
      "outputs": [],
      "source": [
        "mol = Chem.MolFromSmiles(\"[C@H]12[C@@H]3[C@@H]4[C@H]1[C@H]5[C@@H]4[C@H]3[C@@H]25\")\n",
        "smallestSetOfSmallestRings = Chem.GetSymmSSSR(mol)\n",
        "n_sssr = len(smallestSetOfSmallestRings)\n",
        "print(n_sssr)\n",
        "for i in range(n_sssr): print(list(smallestSetOfSmallestRings[i]))\n",
        "mol"
      ]
    },
    {
      "cell_type": "markdown",
      "metadata": {
        "id": "9l57cxl8GadQ"
      },
      "source": [
        "## Reading and writing molecules"
      ]
    },
    {
      "cell_type": "markdown",
      "metadata": {
        "id": "LD2pZ9QXG5yb"
      },
      "source": [
        "Single molecules:"
      ]
    },
    {
      "cell_type": "code",
      "execution_count": null,
      "metadata": {
        "id": "luXaRY9GHIWn"
      },
      "outputs": [],
      "source": [
        "mol = Chem.MolFromSmiles(\"c1ccccc1\")\n",
        "mol is None"
      ]
    },
    {
      "cell_type": "code",
      "execution_count": null,
      "metadata": {
        "id": "gl_fTUovHN-O"
      },
      "outputs": [],
      "source": [
        "mol = Chem.MolFromSmiles(\"c1cCc1\")\n",
        "mol is None"
      ]
    },
    {
      "cell_type": "code",
      "execution_count": null,
      "metadata": {
        "id": "BdQjlJQpHVE3"
      },
      "outputs": [],
      "source": [
        "smiles = ['c1ccccc1', 'c1cCc1']\n",
        "mols = []\n",
        "for s in smiles:\n",
        "  mol = Chem.MolFromSmiles(s)\n",
        "  if mol is None:\n",
        "    continue\n",
        "  else:\n",
        "    mols.append(mol)\n",
        "print(len(mols))"
      ]
    },
    {
      "cell_type": "markdown",
      "metadata": {
        "id": "BLJ_fuPuH08p"
      },
      "source": [
        "InChi strings:"
      ]
    },
    {
      "cell_type": "code",
      "execution_count": null,
      "metadata": {
        "id": "STv-t_QsHnxr"
      },
      "outputs": [],
      "source": [
        "from rdkit.Chem import inchi\n",
        "mol = Chem.MolFromSmiles(\"C1CCNCC1\")\n",
        "inchistring = inchi.MolToInchi(mol)\n",
        "print(inchistring)\n",
        "mol = inchi.MolFromInchi(inchistring)\n",
        "print(Chem.MolToSmiles(mol))"
      ]
    },
    {
      "cell_type": "markdown",
      "metadata": {
        "id": "Tm8Z_n25HylZ"
      },
      "source": [
        "MOL blocks:"
      ]
    },
    {
      "cell_type": "code",
      "execution_count": null,
      "metadata": {
        "id": "BxbV-j_PHz8z"
      },
      "outputs": [],
      "source": [
        "mol = Chem.MolFromSmiles('C1CCC1')\n",
        "print(Chem.MolToMolBlock(mol))"
      ]
    },
    {
      "cell_type": "markdown",
      "metadata": {
        "id": "vwBF8p_MH6sj"
      },
      "source": [
        "Property data:"
      ]
    },
    {
      "cell_type": "code",
      "execution_count": null,
      "metadata": {
        "id": "HDJuNYaIH76W"
      },
      "outputs": [],
      "source": [
        "mol.SetProp(\"_Name\",\"cyclobutane\")\n",
        "print(Chem.MolToMolBlock(mol))"
      ]
    },
    {
      "cell_type": "code",
      "execution_count": null,
      "metadata": {
        "id": "bAMOPTPgIAYl"
      },
      "outputs": [],
      "source": [
        "mol.GetProp(\"_Name\")"
      ]
    },
    {
      "cell_type": "markdown",
      "metadata": {
        "id": "iycgONxMIr0X"
      },
      "source": [
        "## Working with conformations"
      ]
    },
    {
      "cell_type": "code",
      "execution_count": null,
      "metadata": {
        "id": "BVdbCbAXIujG"
      },
      "outputs": [],
      "source": [
        "mol = Chem.MolFromSmiles(\"CC(=O)Oc1ccccc1C(=O)O\")\n",
        "mol.SetProp(\"_Name\", \"aspirine\")\n",
        "print(Chem.MolToMolBlock(mol))"
      ]
    },
    {
      "cell_type": "code",
      "execution_count": null,
      "metadata": {
        "id": "kzUYtDp4I3Aj"
      },
      "outputs": [],
      "source": [
        "mol = Chem.AddHs(mol)\n",
        "print(Chem.MolToMolBlock(mol))"
      ]
    },
    {
      "cell_type": "code",
      "execution_count": null,
      "metadata": {
        "id": "RNTv1UcWI7g8"
      },
      "outputs": [],
      "source": [
        "AllChem.EmbedMolecule(mol)\n",
        "print(Chem.MolToMolBlock(mol))"
      ]
    },
    {
      "cell_type": "code",
      "execution_count": null,
      "metadata": {
        "id": "wLUM3oUhJD_N"
      },
      "outputs": [],
      "source": [
        "mol = Chem.MolFromSmiles(\"CC(=O)Oc1ccccc1C(=O)O\")\n",
        "mol = Chem.AddHs(mol)\n",
        "conformationIds = AllChem.EmbedMultipleConfs(mol, numConfs=10)\n",
        "print(len(conformationIds))\n",
        "w = Chem.SDWriter(\"aspirin.sdf\")\n",
        "for cid in conformationIds: w.write(mol, confId = cid)\n",
        "w.close()"
      ]
    },
    {
      "cell_type": "code",
      "execution_count": null,
      "metadata": {
        "id": "aZKiCYxpJcBl"
      },
      "outputs": [],
      "source": [
        "mol = Chem.MolFromSmiles(\"CC(=O)Oc1ccccc1C(=O)O\")\n",
        "mol = Chem.AddHs(mol)\n",
        "conformationIds = AllChem.EmbedMultipleConfs(mol, numConfs=10)\n",
        "rmslist = []\n",
        "AllChem.AlignMolConformers(mol, RMSlist = rmslist)\n",
        "for rms in rmslist: print(rms)\n",
        "w = Chem.SDWriter(\"aspirin.sdf\")\n",
        "for cid in conformationIds: w.write(mol, confId = cid)\n",
        "w.close()"
      ]
    },
    {
      "cell_type": "markdown",
      "metadata": {
        "id": "S_peoHaxJwh3"
      },
      "source": [
        "## Substructure searching: SMARTS"
      ]
    },
    {
      "cell_type": "code",
      "execution_count": null,
      "metadata": {
        "id": "MKWZvn5QJ0kv"
      },
      "outputs": [],
      "source": [
        "m = Chem.MolFromSmiles('c1ccccc1O')\n",
        "m"
      ]
    },
    {
      "cell_type": "code",
      "execution_count": null,
      "metadata": {
        "id": "SosyWVtIJ5U6"
      },
      "outputs": [],
      "source": [
        "smartsMol = Chem.MolFromSmarts('ccO')\n",
        "m.HasSubstructMatch(smartsMol)"
      ]
    },
    {
      "cell_type": "code",
      "execution_count": null,
      "metadata": {
        "id": "B3iErTNWJ-Gq"
      },
      "outputs": [],
      "source": [
        "m.GetSubstructMatch(smartsMol)"
      ]
    },
    {
      "cell_type": "code",
      "execution_count": null,
      "metadata": {
        "id": "EtgS5OqQKAsQ"
      },
      "outputs": [],
      "source": [
        "m.GetSubstructMatches(smartsMol)"
      ]
    },
    {
      "cell_type": "code",
      "execution_count": null,
      "metadata": {
        "id": "5dIv4745KCwJ"
      },
      "outputs": [],
      "source": [
        "bromophenols = [\"Oc1ccccc1Br\", \"Oc1cccc(Br)c1\", \"Oc1ccc(Br)cc1\"]\n",
        "mols = []\n",
        "for bp in bromophenols: mols.append(Chem.MolFromSmiles(bp))"
      ]
    },
    {
      "cell_type": "code",
      "execution_count": null,
      "metadata": {
        "id": "tKNumN1KKNfM"
      },
      "outputs": [],
      "source": [
        "p = Chem.MolFromSmarts(\"Br[$(c1c([OH])cccc1),$(c1ccc([OH])cc1)]\")\n",
        "for mol in mols:\n",
        "  if mol.HasSubstructMatch(p):\n",
        "    print(Chem.MolToSmiles(mol), \"True\")\n",
        "  else:\n",
        "    print(Chem.MolToSmiles(mol), \"False\")"
      ]
    },
    {
      "cell_type": "markdown",
      "metadata": {
        "id": "nAh6BMXpX8w_"
      },
      "source": [
        "### Reading multiple chemical structures"
      ]
    },
    {
      "cell_type": "markdown",
      "metadata": {
        "id": "l6TCuHQJYAh_"
      },
      "source": [
        "The RDKit also provides the ability to read molecules from common molecular structure formats. In the code below we use the RDKit's **Chem.SDMolSupplier()** function to read molecules from an [SD file](https://en.wikipedia.org/wiki/Chemical_table_file). First, we'll download the file from GitHub:"
      ]
    },
    {
      "cell_type": "code",
      "execution_count": null,
      "metadata": {
        "id": "MV-xfUp3YYRM"
      },
      "outputs": [],
      "source": [
        "url = \"https://raw.githubusercontent.com/UAMCAntwerpen/2040FBDBIC/master/Topic_01/Example_compounds.sdf\"\n",
        "r = requests.get(url)\n",
        "bytes_written = open('example_compounds.sdf', 'w').write(r.text)"
      ]
    },
    {
      "cell_type": "markdown",
      "metadata": {
        "id": "AjVoqRNAZlmD"
      },
      "source": [
        "Now we''ll read the file:"
      ]
    },
    {
      "cell_type": "code",
      "execution_count": null,
      "metadata": {
        "id": "3TxKyKDGZoRg"
      },
      "outputs": [],
      "source": [
        "mols = [x for x in Chem.SDMolSupplier(\"example_compounds.sdf\")]"
      ]
    },
    {
      "cell_type": "markdown",
      "metadata": {
        "id": "HN13JDxkZv2R"
      },
      "source": [
        "The code above reads the molecules into a list. When we display this, we see a list of molecule objects. Below we'll take a look at a couple of ways to display multiple chemical structures in a grid:"
      ]
    },
    {
      "cell_type": "code",
      "execution_count": null,
      "metadata": {
        "id": "3sS7NYNrZxjh"
      },
      "outputs": [],
      "source": [
        "mols"
      ]
    },
    {
      "cell_type": "markdown",
      "metadata": {
        "id": "oRLDaV8BaTsz"
      },
      "source": [
        "### Displaying multiple chemical structures in a grid"
      ]
    },
    {
      "cell_type": "markdown",
      "metadata": {
        "id": "--654EVSaYXM"
      },
      "source": [
        "The RDKit's built-in **MolsToGridImage()** method provides a convenient way of displaying a grid of structures:"
      ]
    },
    {
      "cell_type": "code",
      "execution_count": null,
      "metadata": {
        "id": "E3w_BBDxacd1"
      },
      "outputs": [],
      "source": [
        "Draw.MolsToGridImage(mols,molsPerRow=4,useSVG=True)"
      ]
    }
  ],
  "metadata": {
    "colab": {
      "collapsed_sections": [
        "EiOEly6Y05LG",
        "7itNQgU1XJJv",
        "lIN5mCz_aFWk",
        "cyYtV_OXbea0",
        "ls16oHjFfOL7",
        "JZzpDeB513SF",
        "ev0cCO4bC49Q"
      ],
      "name": "Chemical informatics with RDKit.ipynb",
      "provenance": [],
      "include_colab_link": true
    },
    "kernelspec": {
      "display_name": "Python 3 (ipykernel)",
      "language": "python",
      "name": "python3"
    },
    "language_info": {
      "codemirror_mode": {
        "name": "ipython",
        "version": 3
      },
      "file_extension": ".py",
      "mimetype": "text/x-python",
      "name": "python",
      "nbconvert_exporter": "python",
      "pygments_lexer": "ipython3",
      "version": "3.7.4"
    }
  },
  "nbformat": 4,
  "nbformat_minor": 0
}
