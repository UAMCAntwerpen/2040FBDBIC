{
  "cells": [
    {
      "cell_type": "markdown",
      "metadata": {
        "colab_type": "text",
        "id": "view-in-github"
      },
      "source": [
        "<a href=\"https://colab.research.google.com/github/UAMCAntwerpen/2040FBDBIC/blob/master/Class_02_exercises.ipynb\" target=\"_parent\"><img src=\"https://colab.research.google.com/assets/colab-badge.svg\" alt=\"Open In Colab\"/></a>"
      ]
    },
    {
      "cell_type": "markdown",
      "metadata": {
        "id": "eCs713iVDO4Z"
      },
      "source": [
        "# Exercises for class 02"
      ]
    },
    {
      "cell_type": "markdown",
      "metadata": {
        "id": "8PhH8DaZuUYR"
      },
      "source": [
        "## Install RDKit"
      ]
    },
    {
      "cell_type": "code",
      "execution_count": null,
      "metadata": {
        "id": "NcH_v93MzNRq"
      },
      "outputs": [],
      "source": [
        "!pip install rdkit mols2grid requests"
      ]
    },
    {
      "cell_type": "code",
      "execution_count": null,
      "metadata": {
        "id": "_-HwX1hp6ZmG"
      },
      "outputs": [],
      "source": [
        "# RDKit chemistry\n",
        "from rdkit import Chem\n",
        "\n",
        "# RDKit drawing\n",
        "from rdkit.Chem import Draw\n",
        "from rdkit.Chem.Draw import IPythonConsole\n",
        "from rdkit.Chem import rdDepictor\n",
        "IPythonConsole.ipython_useSVG = True\n",
        "rdDepictor.SetPreferCoordGen(True)\n",
        "\n",
        "# Library to display molecules in a grid\n",
        "import mols2grid\n",
        "\n",
        "# Library to download files\n",
        "import requests"
      ]
    },
    {
      "cell_type": "markdown",
      "metadata": {
        "id": "J1-Yukf3uZVf"
      },
      "source": [
        "## Exercise 1\n",
        "\n",
        "Write a clustering algorithm that reads as input a smiles-file of compounds, calculates the Daylight fingerprints from the molecules, and performs a clustering on these molecules to retain 50 different clusters. Print, for each cluster, the names of the molecules within the cluster, and print also the corresponding SMILES. Hint: you can use the compounds_10k.smi or compounds_100k.smi databases from the UAMC Githib repository."
      ]
    },
    {
      "cell_type": "code",
      "execution_count": null,
      "metadata": {
        "id": "PxYB7JMsufi0"
      },
      "outputs": [],
      "source": []
    },
    {
      "cell_type": "markdown",
      "metadata": {
        "id": "WVAllf-l0g3J"
      },
      "source": [
        "## Exercise 2\n",
        "\n",
        "Write a program that takes the SMILES of a query molecule, reads a smiles-file of compounds, and then calculates the Tanimoto similarity of the query molecule against each of the database molecules. Plot a histogram of the calculated similarity indices, and writes out the 10 most similar compounds in SMILES format. For an example of database molecules, you can use the compounds_10k.smi or compounds_100k.smi databases from the UAMC Githib repository"
      ]
    },
    {
      "cell_type": "code",
      "execution_count": null,
      "metadata": {
        "id": "s6f82txw0j7g"
      },
      "outputs": [],
      "source": []
    },
    {
      "cell_type": "markdown",
      "metadata": {
        "id": "RLWKEl0b4OzS"
      },
      "source": [
        "## Exercise 3\n",
        "\n",
        "Write a program that performs a self-organising maps clustering of a set of molecules. For this purpose, create a 10x10 map, leading to 100 clusters. For an example of database molecules, you can use the compounds_10k.smi or compounds_100k.smi databases from the UAMC Githib repository."
      ]
    },
    {
      "cell_type": "code",
      "execution_count": null,
      "metadata": {
        "id": "IYlS2wrU4QXZ"
      },
      "outputs": [],
      "source": []
    },
    {
      "cell_type": "markdown",
      "metadata": {
        "id": "Yf0lDgH96sZw"
      },
      "source": [
        "## Exercise 4\n",
        "\n",
        "Experiment with some of the regression and classification methods that are available in [scikit-learn](https://scikit-learn.org/stable/). Use the dataset that are on the [UAMC Github repository](https://github.com/UAMCAntwerpen/2040FBDBIC). Also play around with different molecular fingerprints and note how the fingerprint types have an effect on the model quality."
      ]
    },
    {
      "cell_type": "code",
      "execution_count": null,
      "metadata": {
        "id": "Th6E38cO6ulz"
      },
      "outputs": [],
      "source": []
    }
  ],
  "metadata": {
    "colab": {
      "collapsed_sections": [
        "8PhH8DaZuUYR",
        "J1-Yukf3uZVf",
        "WVAllf-l0g3J",
        "RLWKEl0b4OzS",
        "Yf0lDgH96sZw",
        "xhpdJmfpAo1Z",
        "ynlSQX20WX6k"
      ],
      "include_colab_link": true,
      "provenance": []
    },
    "kernelspec": {
      "display_name": "rdkit",
      "language": "python",
      "name": "python3"
    },
    "language_info": {
      "codemirror_mode": {
        "name": "ipython",
        "version": 3
      },
      "file_extension": ".py",
      "mimetype": "text/x-python",
      "name": "python",
      "nbconvert_exporter": "python",
      "pygments_lexer": "ipython3",
      "version": "3.9.1 (default, Dec 11 2020, 06:28:49) \n[Clang 10.0.0 ]"
    },
    "vscode": {
      "interpreter": {
        "hash": "984c61d9eae59f925342f013e6d67034dbdb09854ae1bd3515009e4153808d15"
      }
    }
  },
  "nbformat": 4,
  "nbformat_minor": 0
}
