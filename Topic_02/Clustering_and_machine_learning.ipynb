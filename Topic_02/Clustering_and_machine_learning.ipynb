{
  "cells": [
    {
      "cell_type": "markdown",
      "metadata": {
        "id": "view-in-github",
        "colab_type": "text"
      },
      "source": [
        "<a href=\"https://colab.research.google.com/github/UAMCAntwerpen/2040FBDBIC/blob/master/Topic_02/Clustering_and_machine_learning.ipynb\" target=\"_parent\"><img src=\"https://colab.research.google.com/assets/colab-badge.svg\" alt=\"Open In Colab\"/></a>"
      ]
    },
    {
      "cell_type": "markdown",
      "metadata": {
        "id": "8PhH8DaZuUYR"
      },
      "source": [
        "## Install RDKit"
      ]
    },
    {
      "cell_type": "code",
      "execution_count": null,
      "metadata": {
        "id": "NcH_v93MzNRq"
      },
      "outputs": [],
      "source": [
        "!pip install rdkit mols2grid requests"
      ]
    },
    {
      "cell_type": "code",
      "execution_count": null,
      "metadata": {
        "id": "_-HwX1hp6ZmG"
      },
      "outputs": [],
      "source": [
        "# RDKit chemistry\n",
        "from rdkit import Chem\n",
        "\n",
        "# RDKit drawing\n",
        "from rdkit.Chem import Draw\n",
        "from rdkit.Chem.Draw import IPythonConsole\n",
        "from rdkit.Chem import rdDepictor\n",
        "IPythonConsole.ipython_useSVG = True\n",
        "rdDepictor.SetPreferCoordGen(True)\n",
        "\n",
        "# Library to display molecules in a grid\n",
        "import mols2grid\n",
        "\n",
        "# Library to download files\n",
        "import requests"
      ]
    },
    {
      "cell_type": "markdown",
      "metadata": {
        "id": "J1-Yukf3uZVf"
      },
      "source": [
        "## Linear path-based FP's"
      ]
    },
    {
      "cell_type": "code",
      "execution_count": null,
      "metadata": {
        "id": "PxYB7JMsufi0"
      },
      "outputs": [],
      "source": [
        "from rdkit.Chem import rdFingerprintGenerator\n",
        "\n",
        "mol = Chem.MolFromSmiles(\"Oc1ccc(CC(N)C(O)=O)cc1\")\n",
        "\n",
        "for fp_size in (10, 100, 1024):\n",
        "  rdkgen = rdFingerprintGenerator.GetRDKitFPGenerator(fpSize=fp_size)\n",
        "  fp = rdkgen.GetFingerprint(mol)\n",
        "  print(len(list(fp.GetOnBits())), \"bits ON out of the\", len(fp), \"bits in total\")\n",
        "\n",
        "mol"
      ]
    },
    {
      "cell_type": "code",
      "execution_count": null,
      "metadata": {
        "id": "5kuUwzVOy7M3"
      },
      "outputs": [],
      "source": [
        "mol = Chem.MolFromSmiles(\"Oc1ccc(CC(N)C(O)=O)cc1\")\n",
        "\n",
        "for max_path_length in (1,3,5,7):\n",
        "  rdkgen = rdFingerprintGenerator.GetRDKitFPGenerator(maxPath=max_path_length)\n",
        "  fp = rdkgen.GetFingerprint(mol)\n",
        "  print(len(list(fp.GetOnBits())), \"bits ON out of the\", len(fp), \"bits in total\")\n",
        "\n",
        "mol"
      ]
    },
    {
      "cell_type": "markdown",
      "metadata": {
        "id": "WVAllf-l0g3J"
      },
      "source": [
        "## Circular FP's (ECFP)"
      ]
    },
    {
      "cell_type": "code",
      "execution_count": null,
      "metadata": {
        "id": "s6f82txw0j7g"
      },
      "outputs": [],
      "source": [
        "mol = Chem.MolFromSmiles(\"O1CC(=O)NC1\")\n",
        "\n",
        "for radius in range(1,8):\n",
        "  mfpgen = rdFingerprintGenerator.GetMorganGenerator(radius=radius, fpSize=1024)\n",
        "  fp = mfpgen.GetFingerprint(mol)\n",
        "  print(\"Radius\", radius, \":\", len(list(fp.GetOnBits())), \"bits ON out of the\", len(fp), \"bits in total\")\n",
        "\n",
        "mol"
      ]
    },
    {
      "cell_type": "markdown",
      "metadata": {
        "id": "RLWKEl0b4OzS"
      },
      "source": [
        "## MACCS keys"
      ]
    },
    {
      "cell_type": "code",
      "execution_count": null,
      "metadata": {
        "id": "IYlS2wrU4QXZ"
      },
      "outputs": [],
      "source": [
        "from rdkit.Chem import MACCSkeys\n",
        "\n",
        "mol = Chem.MolFromSmiles(\"Oc1ccc(CC(N)C(O)=O)cc1\")\n",
        "fp = MACCSkeys.GenMACCSKeys(mol)\n",
        "print(len(list(fp.GetOnBits())), \"bits ON out of the\", len(fp), \"bits in total\")\n",
        "print(list(fp.GetOnBits()))\n",
        "mol"
      ]
    },
    {
      "cell_type": "markdown",
      "metadata": {
        "id": "Yf0lDgH96sZw"
      },
      "source": [
        "## Calculating similarity"
      ]
    },
    {
      "cell_type": "code",
      "execution_count": null,
      "metadata": {
        "id": "Th6E38cO6ulz"
      },
      "outputs": [],
      "source": [
        "from rdkit import DataStructs\n",
        "\n",
        "rdkgen = rdFingerprintGenerator.GetRDKitFPGenerator(fpSize=50)\n",
        "\n",
        "mol1 = Chem.MolFromSmiles(\"CCOC\")\n",
        "fp1 = rdkgen.GetFingerprint(mol1)\n",
        "print(fp1.ToBitString())\n",
        "\n",
        "mol2 = Chem.MolFromSmiles(\"CCO\")\n",
        "fp2 = rdkgen.GetFingerprint(mol2)\n",
        "print(fp2.ToBitString())\n",
        "\n",
        "tanimoto = DataStructs.FingerprintSimilarity(fp1, fp2)\n",
        "print(tanimoto)"
      ]
    },
    {
      "cell_type": "code",
      "execution_count": null,
      "metadata": {
        "id": "23oETgsTiG2y"
      },
      "outputs": [],
      "source": [
        "smiles = [\"CO\", \"CCCO\", \"CCCOCCC\"]\n",
        "mols = []\n",
        "for s in smiles: mols.append(Chem.MolFromSmiles(s))\n",
        "\n",
        "rdkgen = rdFingerprintGenerator.GetRDKitFPGenerator(fpSize=50)\n",
        "fps = []\n",
        "for mol in mols: fps.append(rdkgen.GetFingerprint(mol))\n",
        "ref = rdkgen.GetFingerprint(Chem.MolFromSmiles(\"CCCO\"))\n",
        "\n",
        "for fp in fps:\n",
        "  tversky = DataStructs.TverskySimilarity(ref, fp, 0.1, 0.9)\n",
        "  print(\"%.2f\" % tversky)\n",
        "\n",
        "print()\n",
        "for fp in fps:\n",
        "  tversky = DataStructs.TverskySimilarity(ref, fp, 0.9, 0.1)\n",
        "  print(\"%.2f\" % tversky)\n"
      ]
    },
    {
      "cell_type": "markdown",
      "metadata": {
        "id": "xhpdJmfpAo1Z"
      },
      "source": [
        "## Similarity in practice\n",
        "\n",
        "In this exercise, a file with 10,000 compounds (SMILES format) is downloaded from the UAMC GitHub repo, and then a similarity search is performed to identify the compound that is most similar to aspirin (\"CC(=O)OC1=CC=CC=C1C(=O)O\")"
      ]
    },
    {
      "cell_type": "code",
      "execution_count": null,
      "metadata": {
        "id": "B_M6A5ZPBPgl"
      },
      "outputs": [],
      "source": [
        "url = \"https://raw.githubusercontent.com/UAMCAntwerpen/2040FBDBIC/master/Topic_02/Compounds_10k.smi\"\n",
        "smiles = requests.get(url).text.split(\"\\n\")\n",
        "print(len(smiles))"
      ]
    },
    {
      "cell_type": "markdown",
      "metadata": {
        "id": "3OlEaueYXwDJ"
      },
      "source": [
        "Aspirin is the query molecule:"
      ]
    },
    {
      "cell_type": "code",
      "execution_count": null,
      "metadata": {
        "id": "4SgPlyRJXpwU"
      },
      "outputs": [],
      "source": [
        "rdkgen = rdFingerprintGenerator.GetRDKitFPGenerator(fpSize=2048)\n",
        "aspirin = Chem.MolFromSmiles(\"CC(=O)OC1=CC=CC=C1C(=O)O\")\n",
        "query = rdkgen.GetFingerprint(aspirin)\n",
        "aspirin"
      ]
    },
    {
      "cell_type": "markdown",
      "metadata": {
        "id": "AZKFk5ePYFPu"
      },
      "source": [
        "Loop over all molecules and keep the one with the highest similarity to aspirin:"
      ]
    },
    {
      "cell_type": "code",
      "execution_count": null,
      "metadata": {
        "id": "3Du8HuHIYKaN"
      },
      "outputs": [],
      "source": [
        "max_sim = 0.0\n",
        "best_hit = \"\"\n",
        "for s in smiles:\n",
        "  mol = Chem.MolFromSmiles(s)\n",
        "  fp = rdkgen.GetFingerprint(mol)\n",
        "  tanimoto = DataStructs.FingerprintSimilarity(fp, query)\n",
        "  print(tanimoto)\n",
        "  if tanimoto >= max_sim:\n",
        "    max_sim = tanimoto\n",
        "    best_hit = s"
      ]
    },
    {
      "cell_type": "markdown",
      "metadata": {
        "id": "7zM3I95eYRp6"
      },
      "source": [
        "Show the best molecule:"
      ]
    },
    {
      "cell_type": "code",
      "execution_count": null,
      "metadata": {
        "id": "Aq6Q0L0sYTzN"
      },
      "outputs": [],
      "source": [
        "mol = Chem.MolFromSmiles(best_hit)\n",
        "print(max_sim)\n",
        "mol"
      ]
    },
    {
      "cell_type": "markdown",
      "metadata": {
        "id": "QlJPuqdBWFvb"
      },
      "source": [
        "Note: you can also use other similarity metrics such as the Tversky coefficient. Try this out to see how the results will alter."
      ]
    },
    {
      "cell_type": "markdown",
      "metadata": {
        "id": "ynlSQX20WX6k"
      },
      "source": [
        "## Maximal common substructure (MCSS)"
      ]
    },
    {
      "cell_type": "code",
      "execution_count": null,
      "metadata": {
        "id": "YJH7DpjzW-KT"
      },
      "outputs": [],
      "source": [
        "from rdkit.Chem import rdFMCS\n",
        "\n",
        "morphine = Chem.MolFromSmiles(\"CN1CC[C@]23C4=C5C=CC(O)=C4O[C@H]2[C@H](C=C[C@H]3[C@H]1C5)O\")\n",
        "codeine = Chem.MolFromSmiles(\"CN1CC[C@]23[C@@H]4[C@H]1CC5=C2C(O[C@H]3[C@@H](O)C=C4)=C(OC)C=C5\")\n",
        "heroine = Chem.MolFromSmiles(\"CN([C@H](CC(C=C1)=C23)[C@@H]4C=C[C@@H]5OC(C)=O)CC[C@]43[C@H]5OC2=C1OC(C)=O\")\n",
        "\n",
        "mols = [morphine, codeine, heroine]\n",
        "mcss = rdFMCS.FindMCS(mols)\n",
        "Chem.MolFromSmarts(mcss.smartsString)"
      ]
    },
    {
      "cell_type": "markdown",
      "metadata": {
        "id": "tdsu0gayT4gn"
      },
      "source": [
        "## Clustering"
      ]
    },
    {
      "cell_type": "markdown",
      "metadata": {
        "id": "S8vtD7SZYkk5"
      },
      "source": [
        "Read in six molecules:"
      ]
    },
    {
      "cell_type": "code",
      "execution_count": null,
      "metadata": {
        "id": "wdrNOwHCT58-"
      },
      "outputs": [],
      "source": [
        "smiles = [\"c1ccccc1\", \"c1cccnc1\", \"c1ncncc1\", \"C1CC1\", \"CC=O\", \"NCC\"]\n",
        "mols = [Chem.MolFromSmiles(x) for x in smiles]\n",
        "\n",
        "mfpgen = rdFingerprintGenerator.GetMorganGenerator(fpSize=20)\n",
        "fps = [mfpgen.GetFingerprint(mol) for mol in mols]\n",
        "display(Draw.MolsToGridImage(mols, molsPerRow=3))"
      ]
    },
    {
      "cell_type": "markdown",
      "metadata": {
        "id": "qa8CuBlcYopC"
      },
      "source": [
        "Show their fingerprints:"
      ]
    },
    {
      "cell_type": "code",
      "execution_count": null,
      "metadata": {
        "id": "tUl-HmTO3x11"
      },
      "outputs": [],
      "source": [
        "import numpy as np\n",
        "for i in range(len(fps)): print(\"%s %s\" % (fps[i].ToBitString(), smiles[i]))"
      ]
    },
    {
      "cell_type": "markdown",
      "metadata": {
        "id": "Cu7IjYyHYtl4"
      },
      "source": [
        "Convert the fingerprints to a format that is useable by a clustering algorithm:"
      ]
    },
    {
      "cell_type": "code",
      "execution_count": null,
      "metadata": {
        "id": "9b-G0YLV4g5n"
      },
      "outputs": [],
      "source": [
        "nps = [np.array(x) for x in fps]\n",
        "X = np.array(nps)\n",
        "print(X)"
      ]
    },
    {
      "cell_type": "markdown",
      "metadata": {
        "id": "dXDfm7_-Y0ij"
      },
      "source": [
        "Do an hierarchical clustering:"
      ]
    },
    {
      "cell_type": "code",
      "execution_count": null,
      "metadata": {
        "id": "a60zc6X26RDp"
      },
      "outputs": [],
      "source": [
        "import sklearn\n",
        "from sklearn.cluster import AgglomerativeClustering\n",
        "clusterEngine = AgglomerativeClustering(n_clusters = 3)\n",
        "clusterEngine.fit(X)\n",
        "\n",
        "labels = [str(x) for x in clusterEngine.labels_]\n",
        "display(Draw.MolsToGridImage(mols, molsPerRow=3, legends=labels))"
      ]
    },
    {
      "cell_type": "markdown",
      "metadata": {
        "id": "bNykGus9Y7f0"
      },
      "source": [
        "And now non-hierarchical clustering (k-means):"
      ]
    },
    {
      "cell_type": "code",
      "execution_count": null,
      "metadata": {
        "id": "XU5YU18f-AAq"
      },
      "outputs": [],
      "source": [
        "from sklearn.cluster import KMeans\n",
        "clusterEngine = KMeans(n_clusters = 3)\n",
        "clusterEngine.fit(X)\n",
        "\n",
        "labels = [str(x) for x in clusterEngine.labels_]\n",
        "display(Draw.MolsToGridImage(mols, molsPerRow=3, legends=labels))"
      ]
    },
    {
      "cell_type": "code",
      "execution_count": null,
      "metadata": {
        "id": "3PEaHpszEaJX"
      },
      "outputs": [],
      "source": [
        "centers = clusterEngine.cluster_centers_\n",
        "print(centers)"
      ]
    },
    {
      "cell_type": "markdown",
      "metadata": {
        "id": "zdLDA8kWEJlC"
      },
      "source": [
        "# Machine learning: QSAR models"
      ]
    },
    {
      "cell_type": "markdown",
      "metadata": {
        "id": "pTeP_kZ8W1sZ"
      },
      "source": [
        "## An example of a simple model: linear regression"
      ]
    },
    {
      "cell_type": "markdown",
      "metadata": {
        "id": "zkRT93e4W1sZ"
      },
      "source": [
        "Read in a dataset of DPP4 inhibitors with corresponding pIC50 inhibition constants:"
      ]
    },
    {
      "cell_type": "code",
      "execution_count": null,
      "metadata": {
        "id": "n6wNaZfdW1sa"
      },
      "outputs": [],
      "source": [
        "url = \"https://raw.githubusercontent.com/UAMCAntwerpen/2040FBDBIC/master/Topic_02/dpp4.pIC50.txt\"\n",
        "data = requests.get(url).text.split(\"\\n\")\n",
        "print(data[0])"
      ]
    },
    {
      "cell_type": "markdown",
      "metadata": {
        "id": "BsO5kLioW1sa"
      },
      "source": [
        "Split into smiles, mols, fps and pIC50:"
      ]
    },
    {
      "cell_type": "code",
      "execution_count": null,
      "metadata": {
        "id": "oQ3_tPVFW1sa"
      },
      "outputs": [],
      "source": [
        "rdkgen = rdFingerprintGenerator.GetRDKitFPGenerator(fpSize=2048)\n",
        "\n",
        "mols = []\n",
        "smiles = []\n",
        "fps = []\n",
        "pic50 = []\n",
        "for d in data:\n",
        "  fields = d.split()\n",
        "  if len(fields) < 1: continue\n",
        "  smiles.append(fields[0])\n",
        "  pic50.append(float(fields[1]))\n",
        "  mol = Chem.MolFromSmiles(fields[0])\n",
        "  mols.append(mol)\n",
        "  fp = np.zeros((0,), dtype=np.int8)\n",
        "  DataStructs.ConvertToNumpyArray(rdkgen.GetFingerprint(mol), fp)\n",
        "  fps.append(fp)\n",
        "print(smiles[0])\n",
        "print(pic50[0])\n",
        "print(fps[0])\n",
        "print(max(pic50))\n",
        "print(min(pic50))\n",
        "print(len(smiles))"
      ]
    },
    {
      "cell_type": "markdown",
      "metadata": {
        "id": "1P35Q7npW1sb"
      },
      "source": [
        "Create a training set (70%) and a test set (30%):"
      ]
    },
    {
      "cell_type": "code",
      "execution_count": null,
      "metadata": {
        "id": "Lr3wJpZvW1sc"
      },
      "outputs": [],
      "source": [
        "from sklearn.model_selection import train_test_split\n",
        "\n",
        "pic50_train, pic50_test, fps_train, fps_test = train_test_split(pic50, fps, test_size=0.3, random_state=42)\n",
        "print(len(pic50_train), len(pic50_test))"
      ]
    },
    {
      "cell_type": "markdown",
      "metadata": {
        "id": "7IkGpuKZZZEB"
      },
      "source": [
        "Train a linear regression model:"
      ]
    },
    {
      "cell_type": "code",
      "execution_count": null,
      "metadata": {
        "id": "9F9OL1TNW1sd"
      },
      "outputs": [],
      "source": [
        "from sklearn import linear_model\n",
        "\n",
        "model = linear_model.LinearRegression()\n",
        "model.fit(fps_train, pic50_train)\n",
        "print(model.coef_)"
      ]
    },
    {
      "cell_type": "markdown",
      "metadata": {
        "id": "X-d3VHFfZgTY"
      },
      "source": [
        "Apply the trained model on the test set and compare the predicted values with the experimental ones:"
      ]
    },
    {
      "cell_type": "code",
      "execution_count": null,
      "metadata": {
        "id": "Kfsx3A81ZhNC"
      },
      "outputs": [],
      "source": [
        "pic50_pred = model.predict(fps_test)\n",
        "print(pic50_pred)"
      ]
    },
    {
      "cell_type": "markdown",
      "metadata": {
        "id": "TJwSWcEoZlem"
      },
      "source": [
        "Validate the model by calculating the MSE of the predictions when compared to the true values:"
      ]
    },
    {
      "cell_type": "code",
      "execution_count": null,
      "metadata": {
        "id": "4Y7mtmHVZmd5"
      },
      "outputs": [],
      "source": [
        "from sklearn.metrics import mean_squared_error\n",
        "import matplotlib.pyplot as plt\n",
        "\n",
        "print(\"MSE = \", mean_squared_error(pic50_test, pic50_pred))\n",
        "plt.plot(pic50_test, pic50_pred, '.')\n",
        "plt.xlabel(\"True values\")\n",
        "plt.ylabel(\"Predicted values\")"
      ]
    },
    {
      "cell_type": "markdown",
      "metadata": {
        "id": "uHFtDSgCZrJk"
      },
      "source": [
        "Repeat the test/train splitting a number of times in order to get statistics:"
      ]
    },
    {
      "cell_type": "code",
      "execution_count": null,
      "metadata": {
        "id": "N0YWmYbYZsOj"
      },
      "outputs": [],
      "source": [
        "for i in range(5):\n",
        "  pic50_train, pic50_test, fps_train, fps_test = train_test_split(pic50, fps, test_size=0.3)\n",
        "  model.fit(fps_train, pic50_train)\n",
        "  pic50_pred = model.predict(fps_test)\n",
        "  print(\"MSE = \", mean_squared_error(pic50_test, pic50_pred))"
      ]
    },
    {
      "cell_type": "markdown",
      "metadata": {
        "id": "yb-ngeMMZ_8k"
      },
      "source": [
        "## A more complicated model: neural networks"
      ]
    },
    {
      "cell_type": "code",
      "execution_count": null,
      "metadata": {
        "id": "tcj2gOshaCvi"
      },
      "outputs": [],
      "source": [
        "from sklearn.neural_network import MLPRegressor\n",
        "model = MLPRegressor(random_state=1, max_iter=500)\n",
        "model.fit(fps_train, pic50_train)\n",
        "pic50_pred = model.predict(fps_test)\n",
        "print(\"MSE =\", mean_squared_error(pic50_test, pic50_pred))\n",
        "plt.plot(pic50_test, pic50_pred, '.')\n",
        "plt.xlabel(\"True values\")\n",
        "plt.ylabel(\"Predicted values\")"
      ]
    },
    {
      "cell_type": "markdown",
      "metadata": {
        "id": "fn6OgWckag3E"
      },
      "source": [
        "Repeat the test/train splitting a number of times in order to get statistics:"
      ]
    },
    {
      "cell_type": "code",
      "execution_count": null,
      "metadata": {
        "id": "YCsT89kuai3a"
      },
      "outputs": [],
      "source": [
        "for i in range(3):\n",
        "  pic50_train, pic50_test, fps_train, fps_test = train_test_split(pic50, fps, test_size=0.3)\n",
        "  model.fit(fps_train, pic50_train)\n",
        "  pic50_pred = model.predict(fps_test)\n",
        "  print(\"MSE =\", mean_squared_error(pic50_test, pic50_pred))"
      ]
    },
    {
      "cell_type": "markdown",
      "metadata": {
        "id": "28hXPtvwamvA"
      },
      "source": [
        "Now built a model using the entire dataset and save for later on:"
      ]
    },
    {
      "cell_type": "code",
      "execution_count": null,
      "metadata": {
        "id": "GSZS7Pqfan2L"
      },
      "outputs": [],
      "source": [
        "pic50_predictor = MLPRegressor(max_iter=500)\n",
        "pic50_predictor.fit(fps, pic50)"
      ]
    },
    {
      "cell_type": "markdown",
      "metadata": {
        "id": "e-WxL41kcB-p"
      },
      "source": [
        "## Another model: random forest"
      ]
    },
    {
      "cell_type": "markdown",
      "metadata": {
        "id": "9Gt184KVcM5Y"
      },
      "source": [
        "Load a DPP4 dataset with actives and non-actives (classification model):"
      ]
    },
    {
      "cell_type": "code",
      "execution_count": null,
      "metadata": {
        "id": "I65fHBDqcG-b"
      },
      "outputs": [],
      "source": [
        "url = \"https://raw.githubusercontent.com/UAMCAntwerpen/2040FBDBIC/master/Topic_02/dpp4.classified.txt\"\n",
        "data = requests.get(url).text.split(\"\\n\")\n",
        "print(data[0])"
      ]
    },
    {
      "cell_type": "markdown",
      "metadata": {
        "id": "Sb3xMZSzcgP-"
      },
      "source": [
        "Generate fingerprints and make a list of all the activities:"
      ]
    },
    {
      "cell_type": "code",
      "execution_count": null,
      "metadata": {
        "id": "NJWbRSw6cqRQ"
      },
      "outputs": [],
      "source": [
        "rdkgen = rdFingerprintGenerator.GetRDKitFPGenerator(fpSize=2048)\n",
        "\n",
        "activities = []\n",
        "fps = []\n",
        "for d in data:\n",
        "  if d is None or d == \"\": continue\n",
        "  fields = d.split()\n",
        "  if fields[1] == \"ACTIVE\": activities.append(1)\n",
        "  if fields[1] == \"INACTIVE\": activities.append(0)\n",
        "  mol = Chem.MolFromSmiles(fields[0])\n",
        "  fp = np.zeros((0,), dtype=np.int8)\n",
        "  DataStructs.ConvertToNumpyArray(rdkgen.GetFingerprint(mol), fp)\n",
        "  fps.append(fp)\n",
        "\n",
        "print(len(activities), len(fps))"
      ]
    },
    {
      "cell_type": "markdown",
      "source": [
        "Let's count how many actives and inactives:"
      ],
      "metadata": {
        "id": "rAcbwRpWf54T"
      }
    },
    {
      "cell_type": "code",
      "source": [
        "n_actives = 0\n",
        "n_inactives = 0\n",
        "for a in activities:\n",
        "  if a == 1: n_actives += 1\n",
        "  if a == 0: n_inactives += 1\n",
        "print(f'Actives: {n_actives}')\n",
        "print(f'Inactives: {n_inactives}')"
      ],
      "metadata": {
        "id": "3-qKJc0vf-u6"
      },
      "execution_count": null,
      "outputs": []
    },
    {
      "cell_type": "markdown",
      "metadata": {
        "id": "46Wks4gQcrsh"
      },
      "source": [
        "Train a random forest model to predict activity:"
      ]
    },
    {
      "cell_type": "code",
      "execution_count": null,
      "metadata": {
        "id": "TBcKP5hwcuQ2"
      },
      "outputs": [],
      "source": [
        "from sklearn.ensemble import RandomForestClassifier\n",
        "\n",
        "act_train, act_test, fps_train, fps_test = train_test_split(activities, fps, test_size=0.3)\n",
        "model = RandomForestClassifier(max_depth=2)\n",
        "model.fit(fps_train, act_train)"
      ]
    },
    {
      "cell_type": "markdown",
      "metadata": {
        "id": "YXjECwLNcx5R"
      },
      "source": [
        "Calculate the accuracy of the generated model:"
      ]
    },
    {
      "cell_type": "code",
      "execution_count": null,
      "metadata": {
        "id": "DQGzszBwc0Og"
      },
      "outputs": [],
      "source": [
        "from sklearn.metrics import accuracy_score\n",
        "\n",
        "prediction = model.predict(fps_test)\n",
        "print(accuracy_score(act_test, prediction))"
      ]
    },
    {
      "cell_type": "markdown",
      "source": [
        "**Precision versus recall**\n",
        "\n",
        "The **precision** metric is defined by TP / (TP + FP). A high precision is therefore obtained when the model **reduces the number of false positives**. A model with a high precision is useful in a situation where one wants to be sure that, if the model predicts a compound to be active, the compound is really active, however at the expense of missing some other actives. This might be useful when one wants to purchase compounds with a limited budget.\n",
        "\n",
        "The **recall** metric is defined by TP / (TP + FN). A high recall is therefore obtained when the model **reduces the number of false negatives**. A model with a high recall is therefore useful in a situation where one wants to be sure that **all** active compounds in a database will be purchased, however at the expense of buying also compounds which are not active. This might be useful when one can purchase compounds with an unlimited budget."
      ],
      "metadata": {
        "id": "EsyqVJY3f0TF"
      }
    },
    {
      "cell_type": "markdown",
      "metadata": {
        "id": "9gs20R6Gc4cy"
      },
      "source": [
        "Let us make a random forest model with a **high precision**. We can do this by tweaking some of the parameters in the random forest classifier. The main parameters to adjust when using these methods is *n_estimators* and *max_features*. The former is the number of trees in the forest. The larger the better, but also the longer it will take to compute. The latter is the size of the random subsets of features to consider when splitting a node. The lower the greater the reduction of variance, but also the greater the increase in bias."
      ]
    },
    {
      "cell_type": "code",
      "execution_count": null,
      "metadata": {
        "id": "mVtTE4DQc6sy"
      },
      "outputs": [],
      "source": [
        "from sklearn.metrics import precision_score\n",
        "\n",
        "optimal_max_depth = 0\n",
        "optimal_n_estimators = 0\n",
        "optimal_max_features = 0\n",
        "optimal_precision = 0\n",
        "for max_depth in range(4,10):\n",
        "  print(f'Max_depth: {max_depth}')\n",
        "  for n_estimators in range(4,10):\n",
        "    for max_features in range(4,10):\n",
        "      precision = []\n",
        "      for i in range(5): # Repeat 5 times to get average\n",
        "        act_train, act_test, fps_train, fps_test = train_test_split(activities, fps, test_size=0.3)\n",
        "        model = RandomForestClassifier(max_depth=max_depth, n_estimators=n_estimators, max_features=max_features)\n",
        "        model.fit(fps_train, act_train)\n",
        "        prediction = model.predict(fps_test)\n",
        "        precision.append(precision_score(act_test, prediction))\n",
        "      mean_precision = np.mean(precision)\n",
        "      if mean_precision > optimal_precision:\n",
        "        optimal_max_depth = max_depth\n",
        "        optimal_n_estimators = n_estimators\n",
        "        optimal_max_features = max_features\n",
        "        optimal_precision = mean_precision\n",
        "print(f'max_depth: {optimal_max_depth}, n_estimators: {optimal_n_estimators}, max_features: {optimal_max_features} -> precision = {optimal_precision}')"
      ]
    },
    {
      "cell_type": "markdown",
      "source": [
        "Now that we have the optimal parameters for a **high precision** model, let's train this model and count the number of TP's and FP's in the test set:"
      ],
      "metadata": {
        "id": "M0XNZeFhrM-c"
      }
    },
    {
      "cell_type": "code",
      "source": [
        "from sklearn.metrics import confusion_matrix\n",
        "\n",
        "TP = []\n",
        "FP = []\n",
        "FN = []\n",
        "for i in range(10): # Repeat 10 times to get average\n",
        "  act_train, act_test, fps_train, fps_test = train_test_split(activities, fps, test_size=0.3)\n",
        "  precision_model = RandomForestClassifier(max_depth=optimal_max_depth, n_estimators=optimal_n_estimators, max_features=optimal_max_features)\n",
        "\n",
        "  precision_model.fit(fps_train, act_train)\n",
        "  prediction = precision_model.predict(fps_test)\n",
        "\n",
        "  tn, fp, fn, tp = confusion_matrix(act_test, prediction).ravel().tolist()\n",
        "\n",
        "  TP.append(tp)\n",
        "  FP.append(fp)\n",
        "  FN.append(fn)\n",
        "\n",
        "print(f'TP: {np.mean(TP)}')\n",
        "print(f'FP: {np.mean(FP)}')\n",
        "print(f'FN: {np.mean(FN)}')\n"
      ],
      "metadata": {
        "id": "EBFkLI9trnku"
      },
      "execution_count": null,
      "outputs": []
    },
    {
      "cell_type": "markdown",
      "source": [
        "Let us make a random forest model with a **high recall**:"
      ],
      "metadata": {
        "id": "s3aJiWJptH_4"
      }
    },
    {
      "cell_type": "code",
      "source": [
        "from sklearn.metrics import recall_score\n",
        "\n",
        "optimal_max_depth = 0\n",
        "optimal_n_estimators = 0\n",
        "optimal_max_features = 0\n",
        "optimal_recall = 0\n",
        "for max_depth in range(4,10):\n",
        "  print(f'Max_depth: {max_depth}')\n",
        "  for n_estimators in range(4,10):\n",
        "    for max_features in range(4,10):\n",
        "      recall = []\n",
        "      for i in range(5): # Repeat 5 times to get average\n",
        "        act_train, act_test, fps_train, fps_test = train_test_split(activities, fps, test_size=0.3)\n",
        "        model = RandomForestClassifier(max_depth=max_depth, n_estimators=n_estimators, max_features=max_features)\n",
        "        model.fit(fps_train, act_train)\n",
        "        prediction = model.predict(fps_test)\n",
        "        recall.append(recall_score(act_test, prediction))\n",
        "      mean_recall = np.mean(recall)\n",
        "      if mean_recall > optimal_recall:\n",
        "        optimal_max_depth = max_depth\n",
        "        optimal_n_estimators = n_estimators\n",
        "        optimal_max_features = max_features\n",
        "        optimal_recall = mean_recall\n",
        "print(f'max_depth: {optimal_max_depth}, n_estimators: {optimal_n_estimators}, max_features: {optimal_max_features} -> recall = {optimal_recall}')"
      ],
      "metadata": {
        "id": "5NpjDLGgtQL2"
      },
      "execution_count": null,
      "outputs": []
    },
    {
      "cell_type": "markdown",
      "source": [
        "Now that we have the optimal parameters for a high recall model, let's train this model and count the number of TP's and FP's in the test set:"
      ],
      "metadata": {
        "id": "RNfElz-gvYmg"
      }
    },
    {
      "cell_type": "code",
      "source": [
        "TP = []\n",
        "FP = []\n",
        "FN = []\n",
        "for i in range(10): # Repeat 10 times to get average\n",
        "  act_train, act_test, fps_train, fps_test = train_test_split(activities, fps, test_size=0.3)\n",
        "  recall_model = RandomForestClassifier(max_depth=optimal_max_depth, n_estimators=optimal_n_estimators, max_features=optimal_max_features)\n",
        "\n",
        "  recall_model.fit(fps_train, act_train)\n",
        "  prediction = recall_model.predict(fps_test)\n",
        "\n",
        "  tn, fp, fn, tp = confusion_matrix(act_test, prediction).ravel().tolist()\n",
        "\n",
        "  TP.append(tp)\n",
        "  FP.append(fp)\n",
        "  FN.append(fn)\n",
        "\n",
        "print(f'TP: {np.mean(TP)}')\n",
        "print(f'FP: {np.mean(FP)}')\n",
        "print(f'FN: {np.mean(FN)}')"
      ],
      "metadata": {
        "id": "kvyYYoNYvbHr"
      },
      "execution_count": null,
      "outputs": []
    },
    {
      "cell_type": "markdown",
      "metadata": {
        "id": "AmKFZf9ieCFi"
      },
      "source": [
        "Apply this model on a database of 100k compounds and search for DPP4 actives:"
      ]
    },
    {
      "cell_type": "code",
      "execution_count": null,
      "metadata": {
        "id": "cLmzOYOheFNa"
      },
      "outputs": [],
      "source": [
        "url = \"https://raw.githubusercontent.com/UAMCAntwerpen/2040FBDBIC/master/Topic_02/Compounds_100k.smi\"\n",
        "data = requests.get(url).text.split(\"\\n\")\n",
        "print(data[0])"
      ]
    },
    {
      "cell_type": "markdown",
      "metadata": {
        "id": "I6KYnExSeQk1"
      },
      "source": [
        "Calculate fingerprints:"
      ]
    },
    {
      "cell_type": "code",
      "execution_count": 153,
      "metadata": {
        "id": "kyk7yTkJeItg"
      },
      "outputs": [],
      "source": [
        "rdkgen = rdFingerprintGenerator.GetRDKitFPGenerator(fpSize=2048)\n",
        "\n",
        "db_fps = []\n",
        "for d in data:\n",
        "  if d == \"\" or d is None: continue\n",
        "  mol = Chem.MolFromSmiles(d)\n",
        "  fp = np.zeros((0,), dtype=np.int8)\n",
        "  DataStructs.ConvertToNumpyArray(Chem.RDKFingerprint(mol), fp)\n",
        "  db_fps.append(fp)"
      ]
    },
    {
      "cell_type": "markdown",
      "metadata": {
        "id": "zLnf37bCeTN7"
      },
      "source": [
        "Apply the RF on the database and extract those that are predicted to be active:"
      ]
    },
    {
      "cell_type": "code",
      "execution_count": null,
      "metadata": {
        "id": "m_DnrZT-eWl-"
      },
      "outputs": [],
      "source": [
        "prediction = recall_model.predict(db_fps)\n",
        "hits_smiles = []\n",
        "hits_fps = []\n",
        "for i in range(len(prediction)):\n",
        "  if prediction[i] == 1:\n",
        "    hits_smiles.append(data[i])\n",
        "    hits_fps.append(db_fps[i])\n",
        "print(len(hits_smiles), len(hits_fps))"
      ]
    },
    {
      "cell_type": "markdown",
      "metadata": {
        "id": "rwkL-bCpecO1"
      },
      "source": [
        "Score the identified hits with the pIC50 neural network model:"
      ]
    },
    {
      "cell_type": "code",
      "execution_count": null,
      "metadata": {
        "id": "0sXoX958efq_"
      },
      "outputs": [],
      "source": [
        "hits_pic50 = pic50_predictor.predict(hits_fps)"
      ]
    },
    {
      "cell_type": "markdown",
      "metadata": {
        "id": "3tHLWpkPeisF"
      },
      "source": [
        "Identify the compound with the highest pIC50 and show structure:"
      ]
    },
    {
      "cell_type": "code",
      "execution_count": null,
      "metadata": {
        "id": "YnxF_Uptej1m"
      },
      "outputs": [],
      "source": [
        "best_pic50 = 0\n",
        "best_smiles = \"\"\n",
        "for i in range(len(hits_pic50)):\n",
        "  if hits_pic50[i] > best_pic50:\n",
        "    best_pic50 = hits_pic50[i]\n",
        "    best_smiles = hits_smiles[i]\n",
        "print(best_pic50)\n",
        "print(best_smiles)\n",
        "mol = Chem.MolFromSmiles(best_smiles)\n",
        "mol"
      ]
    }
  ],
  "metadata": {
    "colab": {
      "collapsed_sections": [
        "8PhH8DaZuUYR",
        "J1-Yukf3uZVf",
        "WVAllf-l0g3J",
        "RLWKEl0b4OzS",
        "Yf0lDgH96sZw",
        "xhpdJmfpAo1Z",
        "ynlSQX20WX6k"
      ],
      "name": "Clustering and machine learning.ipynb",
      "provenance": [],
      "include_colab_link": true
    },
    "kernelspec": {
      "display_name": "rdkit",
      "language": "python",
      "name": "python3"
    },
    "language_info": {
      "codemirror_mode": {
        "name": "ipython",
        "version": 3
      },
      "file_extension": ".py",
      "mimetype": "text/x-python",
      "name": "python",
      "nbconvert_exporter": "python",
      "pygments_lexer": "ipython3",
      "version": "3.9.1 (default, Dec 11 2020, 06:28:49) \n[Clang 10.0.0 ]"
    },
    "vscode": {
      "interpreter": {
        "hash": "984c61d9eae59f925342f013e6d67034dbdb09854ae1bd3515009e4153808d15"
      }
    }
  },
  "nbformat": 4,
  "nbformat_minor": 0
}