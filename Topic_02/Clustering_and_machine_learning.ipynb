{
  "cells": [
    {
      "cell_type": "markdown",
      "metadata": {
        "id": "view-in-github",
        "colab_type": "text"
      },
      "source": [
        "<a href=\"https://colab.research.google.com/github/UAMCAntwerpen/2040FBDBIC/blob/master/Topic_02/Clustering_and_machine_learning.ipynb\" target=\"_parent\"><img src=\"https://colab.research.google.com/assets/colab-badge.svg\" alt=\"Open In Colab\"/></a>"
      ]
    },
    {
      "cell_type": "markdown",
      "metadata": {
        "id": "8PhH8DaZuUYR"
      },
      "source": [
        "## Install RDKit"
      ]
    },
    {
      "cell_type": "code",
      "execution_count": 1,
      "metadata": {
        "id": "NcH_v93MzNRq",
        "colab": {
          "base_uri": "https://localhost:8080/"
        },
        "outputId": "233377cf-9640-4ffc-aeb4-bdc7500c18e5"
      },
      "outputs": [
        {
          "output_type": "stream",
          "name": "stdout",
          "text": [
            "Collecting rdkit\n",
            "  Downloading rdkit-2025.9.1-cp312-cp312-manylinux_2_28_x86_64.whl.metadata (4.1 kB)\n",
            "Collecting mols2grid\n",
            "  Downloading mols2grid-2.0.0-py3-none-any.whl.metadata (16 kB)\n",
            "Requirement already satisfied: requests in /usr/local/lib/python3.12/dist-packages (2.32.4)\n",
            "Requirement already satisfied: numpy in /usr/local/lib/python3.12/dist-packages (from rdkit) (2.0.2)\n",
            "Requirement already satisfied: Pillow in /usr/local/lib/python3.12/dist-packages (from rdkit) (11.3.0)\n",
            "Requirement already satisfied: ipywidgets<8,>=7 in /usr/local/lib/python3.12/dist-packages (from mols2grid) (7.7.1)\n",
            "Requirement already satisfied: jinja2>=2.11.0 in /usr/local/lib/python3.12/dist-packages (from mols2grid) (3.1.6)\n",
            "Requirement already satisfied: pandas in /usr/local/lib/python3.12/dist-packages (from mols2grid) (2.2.2)\n",
            "Requirement already satisfied: charset_normalizer<4,>=2 in /usr/local/lib/python3.12/dist-packages (from requests) (3.4.4)\n",
            "Requirement already satisfied: idna<4,>=2.5 in /usr/local/lib/python3.12/dist-packages (from requests) (3.11)\n",
            "Requirement already satisfied: urllib3<3,>=1.21.1 in /usr/local/lib/python3.12/dist-packages (from requests) (2.5.0)\n",
            "Requirement already satisfied: certifi>=2017.4.17 in /usr/local/lib/python3.12/dist-packages (from requests) (2025.10.5)\n",
            "Requirement already satisfied: ipykernel>=4.5.1 in /usr/local/lib/python3.12/dist-packages (from ipywidgets<8,>=7->mols2grid) (6.17.1)\n",
            "Requirement already satisfied: ipython-genutils~=0.2.0 in /usr/local/lib/python3.12/dist-packages (from ipywidgets<8,>=7->mols2grid) (0.2.0)\n",
            "Requirement already satisfied: traitlets>=4.3.1 in /usr/local/lib/python3.12/dist-packages (from ipywidgets<8,>=7->mols2grid) (5.7.1)\n",
            "Requirement already satisfied: widgetsnbextension~=3.6.0 in /usr/local/lib/python3.12/dist-packages (from ipywidgets<8,>=7->mols2grid) (3.6.10)\n",
            "Requirement already satisfied: ipython>=4.0.0 in /usr/local/lib/python3.12/dist-packages (from ipywidgets<8,>=7->mols2grid) (7.34.0)\n",
            "Requirement already satisfied: jupyterlab-widgets>=1.0.0 in /usr/local/lib/python3.12/dist-packages (from ipywidgets<8,>=7->mols2grid) (3.0.15)\n",
            "Requirement already satisfied: MarkupSafe>=2.0 in /usr/local/lib/python3.12/dist-packages (from jinja2>=2.11.0->mols2grid) (3.0.3)\n",
            "Requirement already satisfied: python-dateutil>=2.8.2 in /usr/local/lib/python3.12/dist-packages (from pandas->mols2grid) (2.9.0.post0)\n",
            "Requirement already satisfied: pytz>=2020.1 in /usr/local/lib/python3.12/dist-packages (from pandas->mols2grid) (2025.2)\n",
            "Requirement already satisfied: tzdata>=2022.7 in /usr/local/lib/python3.12/dist-packages (from pandas->mols2grid) (2025.2)\n",
            "Requirement already satisfied: debugpy>=1.0 in /usr/local/lib/python3.12/dist-packages (from ipykernel>=4.5.1->ipywidgets<8,>=7->mols2grid) (1.8.15)\n",
            "Requirement already satisfied: jupyter-client>=6.1.12 in /usr/local/lib/python3.12/dist-packages (from ipykernel>=4.5.1->ipywidgets<8,>=7->mols2grid) (7.4.9)\n",
            "Requirement already satisfied: matplotlib-inline>=0.1 in /usr/local/lib/python3.12/dist-packages (from ipykernel>=4.5.1->ipywidgets<8,>=7->mols2grid) (0.2.1)\n",
            "Requirement already satisfied: nest-asyncio in /usr/local/lib/python3.12/dist-packages (from ipykernel>=4.5.1->ipywidgets<8,>=7->mols2grid) (1.6.0)\n",
            "Requirement already satisfied: packaging in /usr/local/lib/python3.12/dist-packages (from ipykernel>=4.5.1->ipywidgets<8,>=7->mols2grid) (25.0)\n",
            "Requirement already satisfied: psutil in /usr/local/lib/python3.12/dist-packages (from ipykernel>=4.5.1->ipywidgets<8,>=7->mols2grid) (5.9.5)\n",
            "Requirement already satisfied: pyzmq>=17 in /usr/local/lib/python3.12/dist-packages (from ipykernel>=4.5.1->ipywidgets<8,>=7->mols2grid) (26.2.1)\n",
            "Requirement already satisfied: tornado>=6.1 in /usr/local/lib/python3.12/dist-packages (from ipykernel>=4.5.1->ipywidgets<8,>=7->mols2grid) (6.5.1)\n",
            "Requirement already satisfied: setuptools>=18.5 in /usr/local/lib/python3.12/dist-packages (from ipython>=4.0.0->ipywidgets<8,>=7->mols2grid) (75.2.0)\n",
            "Collecting jedi>=0.16 (from ipython>=4.0.0->ipywidgets<8,>=7->mols2grid)\n",
            "  Downloading jedi-0.19.2-py2.py3-none-any.whl.metadata (22 kB)\n",
            "Requirement already satisfied: decorator in /usr/local/lib/python3.12/dist-packages (from ipython>=4.0.0->ipywidgets<8,>=7->mols2grid) (4.4.2)\n",
            "Requirement already satisfied: pickleshare in /usr/local/lib/python3.12/dist-packages (from ipython>=4.0.0->ipywidgets<8,>=7->mols2grid) (0.7.5)\n",
            "Requirement already satisfied: prompt-toolkit!=3.0.0,!=3.0.1,<3.1.0,>=2.0.0 in /usr/local/lib/python3.12/dist-packages (from ipython>=4.0.0->ipywidgets<8,>=7->mols2grid) (3.0.52)\n",
            "Requirement already satisfied: pygments in /usr/local/lib/python3.12/dist-packages (from ipython>=4.0.0->ipywidgets<8,>=7->mols2grid) (2.19.2)\n",
            "Requirement already satisfied: backcall in /usr/local/lib/python3.12/dist-packages (from ipython>=4.0.0->ipywidgets<8,>=7->mols2grid) (0.2.0)\n",
            "Requirement already satisfied: pexpect>4.3 in /usr/local/lib/python3.12/dist-packages (from ipython>=4.0.0->ipywidgets<8,>=7->mols2grid) (4.9.0)\n",
            "Requirement already satisfied: six>=1.5 in /usr/local/lib/python3.12/dist-packages (from python-dateutil>=2.8.2->pandas->mols2grid) (1.17.0)\n",
            "Requirement already satisfied: notebook>=4.4.1 in /usr/local/lib/python3.12/dist-packages (from widgetsnbextension~=3.6.0->ipywidgets<8,>=7->mols2grid) (6.5.7)\n",
            "Requirement already satisfied: parso<0.9.0,>=0.8.4 in /usr/local/lib/python3.12/dist-packages (from jedi>=0.16->ipython>=4.0.0->ipywidgets<8,>=7->mols2grid) (0.8.5)\n",
            "Requirement already satisfied: entrypoints in /usr/local/lib/python3.12/dist-packages (from jupyter-client>=6.1.12->ipykernel>=4.5.1->ipywidgets<8,>=7->mols2grid) (0.4)\n",
            "Requirement already satisfied: jupyter-core>=4.9.2 in /usr/local/lib/python3.12/dist-packages (from jupyter-client>=6.1.12->ipykernel>=4.5.1->ipywidgets<8,>=7->mols2grid) (5.9.1)\n",
            "Requirement already satisfied: argon2-cffi in /usr/local/lib/python3.12/dist-packages (from notebook>=4.4.1->widgetsnbextension~=3.6.0->ipywidgets<8,>=7->mols2grid) (25.1.0)\n",
            "Requirement already satisfied: nbformat in /usr/local/lib/python3.12/dist-packages (from notebook>=4.4.1->widgetsnbextension~=3.6.0->ipywidgets<8,>=7->mols2grid) (5.10.4)\n",
            "Requirement already satisfied: nbconvert>=5 in /usr/local/lib/python3.12/dist-packages (from notebook>=4.4.1->widgetsnbextension~=3.6.0->ipywidgets<8,>=7->mols2grid) (7.16.6)\n",
            "Requirement already satisfied: Send2Trash>=1.8.0 in /usr/local/lib/python3.12/dist-packages (from notebook>=4.4.1->widgetsnbextension~=3.6.0->ipywidgets<8,>=7->mols2grid) (1.8.3)\n",
            "Requirement already satisfied: terminado>=0.8.3 in /usr/local/lib/python3.12/dist-packages (from notebook>=4.4.1->widgetsnbextension~=3.6.0->ipywidgets<8,>=7->mols2grid) (0.18.1)\n",
            "Requirement already satisfied: prometheus-client in /usr/local/lib/python3.12/dist-packages (from notebook>=4.4.1->widgetsnbextension~=3.6.0->ipywidgets<8,>=7->mols2grid) (0.23.1)\n",
            "Requirement already satisfied: nbclassic>=0.4.7 in /usr/local/lib/python3.12/dist-packages (from notebook>=4.4.1->widgetsnbextension~=3.6.0->ipywidgets<8,>=7->mols2grid) (1.3.3)\n",
            "Requirement already satisfied: ptyprocess>=0.5 in /usr/local/lib/python3.12/dist-packages (from pexpect>4.3->ipython>=4.0.0->ipywidgets<8,>=7->mols2grid) (0.7.0)\n",
            "Requirement already satisfied: wcwidth in /usr/local/lib/python3.12/dist-packages (from prompt-toolkit!=3.0.0,!=3.0.1,<3.1.0,>=2.0.0->ipython>=4.0.0->ipywidgets<8,>=7->mols2grid) (0.2.14)\n",
            "Requirement already satisfied: platformdirs>=2.5 in /usr/local/lib/python3.12/dist-packages (from jupyter-core>=4.9.2->jupyter-client>=6.1.12->ipykernel>=4.5.1->ipywidgets<8,>=7->mols2grid) (4.5.0)\n",
            "Requirement already satisfied: notebook-shim>=0.2.3 in /usr/local/lib/python3.12/dist-packages (from nbclassic>=0.4.7->notebook>=4.4.1->widgetsnbextension~=3.6.0->ipywidgets<8,>=7->mols2grid) (0.2.4)\n",
            "Requirement already satisfied: beautifulsoup4 in /usr/local/lib/python3.12/dist-packages (from nbconvert>=5->notebook>=4.4.1->widgetsnbextension~=3.6.0->ipywidgets<8,>=7->mols2grid) (4.13.5)\n",
            "Requirement already satisfied: bleach!=5.0.0 in /usr/local/lib/python3.12/dist-packages (from bleach[css]!=5.0.0->nbconvert>=5->notebook>=4.4.1->widgetsnbextension~=3.6.0->ipywidgets<8,>=7->mols2grid) (6.2.0)\n",
            "Requirement already satisfied: defusedxml in /usr/local/lib/python3.12/dist-packages (from nbconvert>=5->notebook>=4.4.1->widgetsnbextension~=3.6.0->ipywidgets<8,>=7->mols2grid) (0.7.1)\n",
            "Requirement already satisfied: jupyterlab-pygments in /usr/local/lib/python3.12/dist-packages (from nbconvert>=5->notebook>=4.4.1->widgetsnbextension~=3.6.0->ipywidgets<8,>=7->mols2grid) (0.3.0)\n",
            "Requirement already satisfied: mistune<4,>=2.0.3 in /usr/local/lib/python3.12/dist-packages (from nbconvert>=5->notebook>=4.4.1->widgetsnbextension~=3.6.0->ipywidgets<8,>=7->mols2grid) (3.1.4)\n",
            "Requirement already satisfied: nbclient>=0.5.0 in /usr/local/lib/python3.12/dist-packages (from nbconvert>=5->notebook>=4.4.1->widgetsnbextension~=3.6.0->ipywidgets<8,>=7->mols2grid) (0.10.2)\n",
            "Requirement already satisfied: pandocfilters>=1.4.1 in /usr/local/lib/python3.12/dist-packages (from nbconvert>=5->notebook>=4.4.1->widgetsnbextension~=3.6.0->ipywidgets<8,>=7->mols2grid) (1.5.1)\n",
            "Requirement already satisfied: fastjsonschema>=2.15 in /usr/local/lib/python3.12/dist-packages (from nbformat->notebook>=4.4.1->widgetsnbextension~=3.6.0->ipywidgets<8,>=7->mols2grid) (2.21.2)\n",
            "Requirement already satisfied: jsonschema>=2.6 in /usr/local/lib/python3.12/dist-packages (from nbformat->notebook>=4.4.1->widgetsnbextension~=3.6.0->ipywidgets<8,>=7->mols2grid) (4.25.1)\n",
            "Requirement already satisfied: argon2-cffi-bindings in /usr/local/lib/python3.12/dist-packages (from argon2-cffi->notebook>=4.4.1->widgetsnbextension~=3.6.0->ipywidgets<8,>=7->mols2grid) (25.1.0)\n",
            "Requirement already satisfied: webencodings in /usr/local/lib/python3.12/dist-packages (from bleach!=5.0.0->bleach[css]!=5.0.0->nbconvert>=5->notebook>=4.4.1->widgetsnbextension~=3.6.0->ipywidgets<8,>=7->mols2grid) (0.5.1)\n",
            "Requirement already satisfied: tinycss2<1.5,>=1.1.0 in /usr/local/lib/python3.12/dist-packages (from bleach[css]!=5.0.0->nbconvert>=5->notebook>=4.4.1->widgetsnbextension~=3.6.0->ipywidgets<8,>=7->mols2grid) (1.4.0)\n",
            "Requirement already satisfied: attrs>=22.2.0 in /usr/local/lib/python3.12/dist-packages (from jsonschema>=2.6->nbformat->notebook>=4.4.1->widgetsnbextension~=3.6.0->ipywidgets<8,>=7->mols2grid) (25.4.0)\n",
            "Requirement already satisfied: jsonschema-specifications>=2023.03.6 in /usr/local/lib/python3.12/dist-packages (from jsonschema>=2.6->nbformat->notebook>=4.4.1->widgetsnbextension~=3.6.0->ipywidgets<8,>=7->mols2grid) (2025.9.1)\n",
            "Requirement already satisfied: referencing>=0.28.4 in /usr/local/lib/python3.12/dist-packages (from jsonschema>=2.6->nbformat->notebook>=4.4.1->widgetsnbextension~=3.6.0->ipywidgets<8,>=7->mols2grid) (0.37.0)\n",
            "Requirement already satisfied: rpds-py>=0.7.1 in /usr/local/lib/python3.12/dist-packages (from jsonschema>=2.6->nbformat->notebook>=4.4.1->widgetsnbextension~=3.6.0->ipywidgets<8,>=7->mols2grid) (0.28.0)\n",
            "Requirement already satisfied: jupyter-server<3,>=1.8 in /usr/local/lib/python3.12/dist-packages (from notebook-shim>=0.2.3->nbclassic>=0.4.7->notebook>=4.4.1->widgetsnbextension~=3.6.0->ipywidgets<8,>=7->mols2grid) (2.14.0)\n",
            "Requirement already satisfied: cffi>=1.0.1 in /usr/local/lib/python3.12/dist-packages (from argon2-cffi-bindings->argon2-cffi->notebook>=4.4.1->widgetsnbextension~=3.6.0->ipywidgets<8,>=7->mols2grid) (2.0.0)\n",
            "Requirement already satisfied: soupsieve>1.2 in /usr/local/lib/python3.12/dist-packages (from beautifulsoup4->nbconvert>=5->notebook>=4.4.1->widgetsnbextension~=3.6.0->ipywidgets<8,>=7->mols2grid) (2.8)\n",
            "Requirement already satisfied: typing-extensions>=4.0.0 in /usr/local/lib/python3.12/dist-packages (from beautifulsoup4->nbconvert>=5->notebook>=4.4.1->widgetsnbextension~=3.6.0->ipywidgets<8,>=7->mols2grid) (4.15.0)\n",
            "Requirement already satisfied: pycparser in /usr/local/lib/python3.12/dist-packages (from cffi>=1.0.1->argon2-cffi-bindings->argon2-cffi->notebook>=4.4.1->widgetsnbextension~=3.6.0->ipywidgets<8,>=7->mols2grid) (2.23)\n",
            "Requirement already satisfied: anyio>=3.1.0 in /usr/local/lib/python3.12/dist-packages (from jupyter-server<3,>=1.8->notebook-shim>=0.2.3->nbclassic>=0.4.7->notebook>=4.4.1->widgetsnbextension~=3.6.0->ipywidgets<8,>=7->mols2grid) (4.11.0)\n",
            "Requirement already satisfied: jupyter-events>=0.9.0 in /usr/local/lib/python3.12/dist-packages (from jupyter-server<3,>=1.8->notebook-shim>=0.2.3->nbclassic>=0.4.7->notebook>=4.4.1->widgetsnbextension~=3.6.0->ipywidgets<8,>=7->mols2grid) (0.12.0)\n",
            "Requirement already satisfied: jupyter-server-terminals>=0.4.4 in /usr/local/lib/python3.12/dist-packages (from jupyter-server<3,>=1.8->notebook-shim>=0.2.3->nbclassic>=0.4.7->notebook>=4.4.1->widgetsnbextension~=3.6.0->ipywidgets<8,>=7->mols2grid) (0.5.3)\n",
            "Requirement already satisfied: overrides>=5.0 in /usr/local/lib/python3.12/dist-packages (from jupyter-server<3,>=1.8->notebook-shim>=0.2.3->nbclassic>=0.4.7->notebook>=4.4.1->widgetsnbextension~=3.6.0->ipywidgets<8,>=7->mols2grid) (7.7.0)\n",
            "Requirement already satisfied: websocket-client>=1.7 in /usr/local/lib/python3.12/dist-packages (from jupyter-server<3,>=1.8->notebook-shim>=0.2.3->nbclassic>=0.4.7->notebook>=4.4.1->widgetsnbextension~=3.6.0->ipywidgets<8,>=7->mols2grid) (1.9.0)\n",
            "Requirement already satisfied: sniffio>=1.1 in /usr/local/lib/python3.12/dist-packages (from anyio>=3.1.0->jupyter-server<3,>=1.8->notebook-shim>=0.2.3->nbclassic>=0.4.7->notebook>=4.4.1->widgetsnbextension~=3.6.0->ipywidgets<8,>=7->mols2grid) (1.3.1)\n",
            "Requirement already satisfied: python-json-logger>=2.0.4 in /usr/local/lib/python3.12/dist-packages (from jupyter-events>=0.9.0->jupyter-server<3,>=1.8->notebook-shim>=0.2.3->nbclassic>=0.4.7->notebook>=4.4.1->widgetsnbextension~=3.6.0->ipywidgets<8,>=7->mols2grid) (4.0.0)\n",
            "Requirement already satisfied: pyyaml>=5.3 in /usr/local/lib/python3.12/dist-packages (from jupyter-events>=0.9.0->jupyter-server<3,>=1.8->notebook-shim>=0.2.3->nbclassic>=0.4.7->notebook>=4.4.1->widgetsnbextension~=3.6.0->ipywidgets<8,>=7->mols2grid) (6.0.3)\n",
            "Requirement already satisfied: rfc3339-validator in /usr/local/lib/python3.12/dist-packages (from jupyter-events>=0.9.0->jupyter-server<3,>=1.8->notebook-shim>=0.2.3->nbclassic>=0.4.7->notebook>=4.4.1->widgetsnbextension~=3.6.0->ipywidgets<8,>=7->mols2grid) (0.1.4)\n",
            "Requirement already satisfied: rfc3986-validator>=0.1.1 in /usr/local/lib/python3.12/dist-packages (from jupyter-events>=0.9.0->jupyter-server<3,>=1.8->notebook-shim>=0.2.3->nbclassic>=0.4.7->notebook>=4.4.1->widgetsnbextension~=3.6.0->ipywidgets<8,>=7->mols2grid) (0.1.1)\n",
            "Requirement already satisfied: fqdn in /usr/local/lib/python3.12/dist-packages (from jsonschema[format-nongpl]>=4.18.0->jupyter-events>=0.9.0->jupyter-server<3,>=1.8->notebook-shim>=0.2.3->nbclassic>=0.4.7->notebook>=4.4.1->widgetsnbextension~=3.6.0->ipywidgets<8,>=7->mols2grid) (1.5.1)\n",
            "Requirement already satisfied: isoduration in /usr/local/lib/python3.12/dist-packages (from jsonschema[format-nongpl]>=4.18.0->jupyter-events>=0.9.0->jupyter-server<3,>=1.8->notebook-shim>=0.2.3->nbclassic>=0.4.7->notebook>=4.4.1->widgetsnbextension~=3.6.0->ipywidgets<8,>=7->mols2grid) (20.11.0)\n",
            "Requirement already satisfied: jsonpointer>1.13 in /usr/local/lib/python3.12/dist-packages (from jsonschema[format-nongpl]>=4.18.0->jupyter-events>=0.9.0->jupyter-server<3,>=1.8->notebook-shim>=0.2.3->nbclassic>=0.4.7->notebook>=4.4.1->widgetsnbextension~=3.6.0->ipywidgets<8,>=7->mols2grid) (3.0.0)\n",
            "Requirement already satisfied: rfc3987-syntax>=1.1.0 in /usr/local/lib/python3.12/dist-packages (from jsonschema[format-nongpl]>=4.18.0->jupyter-events>=0.9.0->jupyter-server<3,>=1.8->notebook-shim>=0.2.3->nbclassic>=0.4.7->notebook>=4.4.1->widgetsnbextension~=3.6.0->ipywidgets<8,>=7->mols2grid) (1.1.0)\n",
            "Requirement already satisfied: uri-template in /usr/local/lib/python3.12/dist-packages (from jsonschema[format-nongpl]>=4.18.0->jupyter-events>=0.9.0->jupyter-server<3,>=1.8->notebook-shim>=0.2.3->nbclassic>=0.4.7->notebook>=4.4.1->widgetsnbextension~=3.6.0->ipywidgets<8,>=7->mols2grid) (1.3.0)\n",
            "Requirement already satisfied: webcolors>=24.6.0 in /usr/local/lib/python3.12/dist-packages (from jsonschema[format-nongpl]>=4.18.0->jupyter-events>=0.9.0->jupyter-server<3,>=1.8->notebook-shim>=0.2.3->nbclassic>=0.4.7->notebook>=4.4.1->widgetsnbextension~=3.6.0->ipywidgets<8,>=7->mols2grid) (24.11.1)\n",
            "Requirement already satisfied: lark>=1.2.2 in /usr/local/lib/python3.12/dist-packages (from rfc3987-syntax>=1.1.0->jsonschema[format-nongpl]>=4.18.0->jupyter-events>=0.9.0->jupyter-server<3,>=1.8->notebook-shim>=0.2.3->nbclassic>=0.4.7->notebook>=4.4.1->widgetsnbextension~=3.6.0->ipywidgets<8,>=7->mols2grid) (1.3.0)\n",
            "Requirement already satisfied: arrow>=0.15.0 in /usr/local/lib/python3.12/dist-packages (from isoduration->jsonschema[format-nongpl]>=4.18.0->jupyter-events>=0.9.0->jupyter-server<3,>=1.8->notebook-shim>=0.2.3->nbclassic>=0.4.7->notebook>=4.4.1->widgetsnbextension~=3.6.0->ipywidgets<8,>=7->mols2grid) (1.4.0)\n",
            "Downloading rdkit-2025.9.1-cp312-cp312-manylinux_2_28_x86_64.whl (36.2 MB)\n",
            "\u001b[2K   \u001b[90m━━━━━━━━━━━━━━━━━━━━━━━━━━━━━━━━━━━━━━━━\u001b[0m \u001b[32m36.2/36.2 MB\u001b[0m \u001b[31m40.2 MB/s\u001b[0m eta \u001b[36m0:00:00\u001b[0m\n",
            "\u001b[?25hDownloading mols2grid-2.0.0-py3-none-any.whl (107 kB)\n",
            "\u001b[2K   \u001b[90m━━━━━━━━━━━━━━━━━━━━━━━━━━━━━━━━━━━━━━━━\u001b[0m \u001b[32m107.0/107.0 kB\u001b[0m \u001b[31m6.0 MB/s\u001b[0m eta \u001b[36m0:00:00\u001b[0m\n",
            "\u001b[?25hDownloading jedi-0.19.2-py2.py3-none-any.whl (1.6 MB)\n",
            "\u001b[2K   \u001b[90m━━━━━━━━━━━━━━━━━━━━━━━━━━━━━━━━━━━━━━━━\u001b[0m \u001b[32m1.6/1.6 MB\u001b[0m \u001b[31m35.2 MB/s\u001b[0m eta \u001b[36m0:00:00\u001b[0m\n",
            "\u001b[?25hInstalling collected packages: rdkit, jedi, mols2grid\n",
            "Successfully installed jedi-0.19.2 mols2grid-2.0.0 rdkit-2025.9.1\n"
          ]
        }
      ],
      "source": [
        "!pip install rdkit mols2grid requests"
      ]
    },
    {
      "cell_type": "code",
      "execution_count": 2,
      "metadata": {
        "id": "_-HwX1hp6ZmG"
      },
      "outputs": [],
      "source": [
        "# RDKit chemistry\n",
        "from rdkit import Chem\n",
        "\n",
        "# RDKit drawing\n",
        "from rdkit.Chem import Draw\n",
        "from rdkit.Chem.Draw import IPythonConsole\n",
        "from rdkit.Chem import rdDepictor\n",
        "IPythonConsole.ipython_useSVG = True\n",
        "rdDepictor.SetPreferCoordGen(True)\n",
        "\n",
        "# Library to display molecules in a grid\n",
        "import mols2grid\n",
        "\n",
        "# Library to download files\n",
        "import requests"
      ]
    },
    {
      "cell_type": "markdown",
      "metadata": {
        "id": "J1-Yukf3uZVf"
      },
      "source": [
        "## Linear path-based FP's"
      ]
    },
    {
      "cell_type": "code",
      "execution_count": 3,
      "metadata": {
        "id": "PxYB7JMsufi0",
        "colab": {
          "base_uri": "https://localhost:8080/",
          "height": 242
        },
        "outputId": "d7a304ed-2902-42ad-eee2-ee1acfc81283"
      },
      "outputs": [
        {
          "output_type": "stream",
          "name": "stdout",
          "text": [
            "10 bits ON out of the 10 bits in total\n",
            "92 bits ON out of the 100 bits in total\n",
            "223 bits ON out of the 1024 bits in total\n"
          ]
        },
        {
          "output_type": "execute_result",
          "data": {
            "text/plain": [
              "<rdkit.Chem.rdchem.Mol at 0x7f0cc380b370>"
            ],
            "text/html": [
              "<?xml version='1.0' encoding='iso-8859-1'?>\n",
              "<svg version='1.1' baseProfile='full'\n",
              "              xmlns='http://www.w3.org/2000/svg'\n",
              "                      xmlns:rdkit='http://www.rdkit.org/xml'\n",
              "                      xmlns:xlink='http://www.w3.org/1999/xlink'\n",
              "                  xml:space='preserve'\n",
              "width='450px' height='150px' viewBox='0 0 450 150'>\n",
              "<!-- END OF HEADER -->\n",
              "<rect style='opacity:1.0;fill:#FFFFFF;stroke:none' width='450.0' height='150.0' x='0.0' y='0.0'> </rect>\n",
              "<path class='bond-0 atom-0 atom-1' d='M 165.8,17.0 L 174.6,22.0' style='fill:none;fill-rule:evenodd;stroke:#FF0000;stroke-width:2.0px;stroke-linecap:butt;stroke-linejoin:miter;stroke-opacity:1' />\n",
              "<path class='bond-0 atom-0 atom-1' d='M 174.6,22.0 L 183.3,27.0' style='fill:none;fill-rule:evenodd;stroke:#000000;stroke-width:2.0px;stroke-linecap:butt;stroke-linejoin:miter;stroke-opacity:1' />\n",
              "<path class='bond-1 atom-1 atom-2' d='M 183.3,27.0 L 207.0,13.3' style='fill:none;fill-rule:evenodd;stroke:#000000;stroke-width:2.0px;stroke-linecap:butt;stroke-linejoin:miter;stroke-opacity:1' />\n",
              "<path class='bond-1 atom-1 atom-2' d='M 187.4,29.4 L 207.0,18.1' style='fill:none;fill-rule:evenodd;stroke:#000000;stroke-width:2.0px;stroke-linecap:butt;stroke-linejoin:miter;stroke-opacity:1' />\n",
              "<path class='bond-2 atom-2 atom-3' d='M 207.0,13.3 L 230.7,27.0' style='fill:none;fill-rule:evenodd;stroke:#000000;stroke-width:2.0px;stroke-linecap:butt;stroke-linejoin:miter;stroke-opacity:1' />\n",
              "<path class='bond-3 atom-3 atom-4' d='M 230.7,27.0 L 230.7,54.4' style='fill:none;fill-rule:evenodd;stroke:#000000;stroke-width:2.0px;stroke-linecap:butt;stroke-linejoin:miter;stroke-opacity:1' />\n",
              "<path class='bond-3 atom-3 atom-4' d='M 226.6,29.4 L 226.6,52.0' style='fill:none;fill-rule:evenodd;stroke:#000000;stroke-width:2.0px;stroke-linecap:butt;stroke-linejoin:miter;stroke-opacity:1' />\n",
              "<path class='bond-4 atom-4 atom-5' d='M 230.7,54.4 L 254.5,68.0' style='fill:none;fill-rule:evenodd;stroke:#000000;stroke-width:2.0px;stroke-linecap:butt;stroke-linejoin:miter;stroke-opacity:1' />\n",
              "<path class='bond-5 atom-5 atom-6' d='M 254.5,68.0 L 254.5,95.4' style='fill:none;fill-rule:evenodd;stroke:#000000;stroke-width:2.0px;stroke-linecap:butt;stroke-linejoin:miter;stroke-opacity:1' />\n",
              "<path class='bond-6 atom-6 atom-7' d='M 254.5,95.4 L 245.3,100.7' style='fill:none;fill-rule:evenodd;stroke:#000000;stroke-width:2.0px;stroke-linecap:butt;stroke-linejoin:miter;stroke-opacity:1' />\n",
              "<path class='bond-6 atom-6 atom-7' d='M 245.3,100.7 L 236.1,106.0' style='fill:none;fill-rule:evenodd;stroke:#0000FF;stroke-width:2.0px;stroke-linecap:butt;stroke-linejoin:miter;stroke-opacity:1' />\n",
              "<path class='bond-7 atom-6 atom-8' d='M 254.5,95.4 L 278.2,109.1' style='fill:none;fill-rule:evenodd;stroke:#000000;stroke-width:2.0px;stroke-linecap:butt;stroke-linejoin:miter;stroke-opacity:1' />\n",
              "<path class='bond-8 atom-8 atom-9' d='M 278.2,109.1 L 278.2,119.4' style='fill:none;fill-rule:evenodd;stroke:#000000;stroke-width:2.0px;stroke-linecap:butt;stroke-linejoin:miter;stroke-opacity:1' />\n",
              "<path class='bond-8 atom-8 atom-9' d='M 278.2,119.4 L 278.2,129.7' style='fill:none;fill-rule:evenodd;stroke:#FF0000;stroke-width:2.0px;stroke-linecap:butt;stroke-linejoin:miter;stroke-opacity:1' />\n",
              "<path class='bond-9 atom-8 atom-10' d='M 278.2,111.4 L 287.4,106.1' style='fill:none;fill-rule:evenodd;stroke:#000000;stroke-width:2.0px;stroke-linecap:butt;stroke-linejoin:miter;stroke-opacity:1' />\n",
              "<path class='bond-9 atom-8 atom-10' d='M 287.4,106.1 L 296.7,100.8' style='fill:none;fill-rule:evenodd;stroke:#FF0000;stroke-width:2.0px;stroke-linecap:butt;stroke-linejoin:miter;stroke-opacity:1' />\n",
              "<path class='bond-9 atom-8 atom-10' d='M 276.1,107.9 L 285.4,102.5' style='fill:none;fill-rule:evenodd;stroke:#000000;stroke-width:2.0px;stroke-linecap:butt;stroke-linejoin:miter;stroke-opacity:1' />\n",
              "<path class='bond-9 atom-8 atom-10' d='M 285.4,102.5 L 294.6,97.2' style='fill:none;fill-rule:evenodd;stroke:#FF0000;stroke-width:2.0px;stroke-linecap:butt;stroke-linejoin:miter;stroke-opacity:1' />\n",
              "<path class='bond-10 atom-4 atom-11' d='M 230.7,54.4 L 207.1,68.1' style='fill:none;fill-rule:evenodd;stroke:#000000;stroke-width:2.0px;stroke-linecap:butt;stroke-linejoin:miter;stroke-opacity:1' />\n",
              "<path class='bond-11 atom-11 atom-12' d='M 207.1,68.1 L 183.3,54.4' style='fill:none;fill-rule:evenodd;stroke:#000000;stroke-width:2.0px;stroke-linecap:butt;stroke-linejoin:miter;stroke-opacity:1' />\n",
              "<path class='bond-11 atom-11 atom-12' d='M 207.0,63.3 L 187.4,52.0' style='fill:none;fill-rule:evenodd;stroke:#000000;stroke-width:2.0px;stroke-linecap:butt;stroke-linejoin:miter;stroke-opacity:1' />\n",
              "<path class='bond-12 atom-12 atom-1' d='M 183.3,54.4 L 183.3,27.0' style='fill:none;fill-rule:evenodd;stroke:#000000;stroke-width:2.0px;stroke-linecap:butt;stroke-linejoin:miter;stroke-opacity:1' />\n",
              "<path d='M 205.8,14.0 L 207.0,13.3 L 208.2,14.0' style='fill:none;stroke:#000000;stroke-width:2.0px;stroke-linecap:butt;stroke-linejoin:miter;stroke-miterlimit:10;stroke-opacity:1;' />\n",
              "<path d='M 229.5,26.3 L 230.7,27.0 L 230.7,28.4' style='fill:none;stroke:#000000;stroke-width:2.0px;stroke-linecap:butt;stroke-linejoin:miter;stroke-miterlimit:10;stroke-opacity:1;' />\n",
              "<path d='M 253.3,67.4 L 254.5,68.0 L 254.5,69.4' style='fill:none;stroke:#000000;stroke-width:2.0px;stroke-linecap:butt;stroke-linejoin:miter;stroke-miterlimit:10;stroke-opacity:1;' />\n",
              "<path d='M 277.0,108.4 L 278.2,109.1 L 278.2,109.6' style='fill:none;stroke:#000000;stroke-width:2.0px;stroke-linecap:butt;stroke-linejoin:miter;stroke-miterlimit:10;stroke-opacity:1;' />\n",
              "<path d='M 208.2,67.4 L 207.1,68.1 L 205.9,67.4' style='fill:none;stroke:#000000;stroke-width:2.0px;stroke-linecap:butt;stroke-linejoin:miter;stroke-miterlimit:10;stroke-opacity:1;' />\n",
              "<path d='M 184.5,55.1 L 183.3,54.4 L 183.3,53.0' style='fill:none;stroke:#000000;stroke-width:2.0px;stroke-linecap:butt;stroke-linejoin:miter;stroke-miterlimit:10;stroke-opacity:1;' />\n",
              "<path class='atom-0' d='M 142.8 7.6\n",
              "L 144.4 7.6\n",
              "L 144.4 12.6\n",
              "L 150.3 12.6\n",
              "L 150.3 7.6\n",
              "L 151.9 7.6\n",
              "L 151.9 19.3\n",
              "L 150.3 19.3\n",
              "L 150.3 13.9\n",
              "L 144.4 13.9\n",
              "L 144.4 19.3\n",
              "L 142.8 19.3\n",
              "L 142.8 7.6\n",
              "' fill='#FF0000'/>\n",
              "<path class='atom-0' d='M 154.3 13.4\n",
              "Q 154.3 10.6, 155.6 9.1\n",
              "Q 157.0 7.5, 159.6 7.5\n",
              "Q 162.2 7.5, 163.6 9.1\n",
              "Q 164.9 10.6, 164.9 13.4\n",
              "Q 164.9 16.2, 163.5 17.8\n",
              "Q 162.1 19.4, 159.6 19.4\n",
              "Q 157.0 19.4, 155.6 17.8\n",
              "Q 154.3 16.3, 154.3 13.4\n",
              "M 159.6 18.1\n",
              "Q 161.4 18.1, 162.3 16.9\n",
              "Q 163.3 15.7, 163.3 13.4\n",
              "Q 163.3 11.1, 162.3 10.0\n",
              "Q 161.4 8.8, 159.6 8.8\n",
              "Q 157.8 8.8, 156.9 10.0\n",
              "Q 155.9 11.1, 155.9 13.4\n",
              "Q 155.9 15.8, 156.9 16.9\n",
              "Q 157.8 18.1, 159.6 18.1\n",
              "' fill='#FF0000'/>\n",
              "<path class='atom-7' d='M 208.3 103.3\n",
              "L 209.9 103.3\n",
              "L 209.9 108.2\n",
              "L 215.9 108.2\n",
              "L 215.9 103.3\n",
              "L 217.4 103.3\n",
              "L 217.4 114.9\n",
              "L 215.9 114.9\n",
              "L 215.9 109.6\n",
              "L 209.9 109.6\n",
              "L 209.9 114.9\n",
              "L 208.3 114.9\n",
              "L 208.3 103.3\n",
              "' fill='#0000FF'/>\n",
              "<path class='atom-7' d='M 219.7 114.5\n",
              "Q 220.0 113.8, 220.7 113.4\n",
              "Q 221.3 113.0, 222.3 113.0\n",
              "Q 223.4 113.0, 224.1 113.6\n",
              "Q 224.7 114.2, 224.7 115.3\n",
              "Q 224.7 116.5, 223.9 117.5\n",
              "Q 223.1 118.6, 221.3 119.9\n",
              "L 224.9 119.9\n",
              "L 224.9 120.7\n",
              "L 219.7 120.7\n",
              "L 219.7 120.0\n",
              "Q 221.1 119.0, 222.0 118.2\n",
              "Q 222.8 117.5, 223.2 116.8\n",
              "Q 223.7 116.1, 223.7 115.4\n",
              "Q 223.7 114.7, 223.3 114.3\n",
              "Q 222.9 113.8, 222.3 113.8\n",
              "Q 221.7 113.8, 221.2 114.1\n",
              "Q 220.8 114.3, 220.5 114.9\n",
              "L 219.7 114.5\n",
              "' fill='#0000FF'/>\n",
              "<path class='atom-7' d='M 228.2 103.3\n",
              "L 232.0 109.5\n",
              "Q 232.4 110.1, 233.0 111.2\n",
              "Q 233.6 112.3, 233.7 112.3\n",
              "L 233.7 103.3\n",
              "L 235.2 103.3\n",
              "L 235.2 114.9\n",
              "L 233.6 114.9\n",
              "L 229.5 108.2\n",
              "Q 229.0 107.4, 228.5 106.5\n",
              "Q 228.0 105.6, 227.9 105.3\n",
              "L 227.9 114.9\n",
              "L 226.4 114.9\n",
              "L 226.4 103.3\n",
              "L 228.2 103.3\n",
              "' fill='#0000FF'/>\n",
              "<path class='atom-9' d='M 272.9 136.5\n",
              "Q 272.9 133.7, 274.3 132.1\n",
              "Q 275.6 130.6, 278.2 130.6\n",
              "Q 280.8 130.6, 282.2 132.1\n",
              "Q 283.5 133.7, 283.5 136.5\n",
              "Q 283.5 139.3, 282.2 140.9\n",
              "Q 280.8 142.5, 278.2 142.5\n",
              "Q 275.6 142.5, 274.3 140.9\n",
              "Q 272.9 139.3, 272.9 136.5\n",
              "M 278.2 141.2\n",
              "Q 280.0 141.2, 280.9 140.0\n",
              "Q 281.9 138.8, 281.9 136.5\n",
              "Q 281.9 134.2, 280.9 133.0\n",
              "Q 280.0 131.9, 278.2 131.9\n",
              "Q 276.4 131.9, 275.5 133.0\n",
              "Q 274.5 134.2, 274.5 136.5\n",
              "Q 274.5 138.8, 275.5 140.0\n",
              "Q 276.4 141.2, 278.2 141.2\n",
              "' fill='#FF0000'/>\n",
              "<path class='atom-9' d='M 285.4 130.7\n",
              "L 286.9 130.7\n",
              "L 286.9 135.6\n",
              "L 292.9 135.6\n",
              "L 292.9 130.7\n",
              "L 294.5 130.7\n",
              "L 294.5 142.3\n",
              "L 292.9 142.3\n",
              "L 292.9 136.9\n",
              "L 286.9 136.9\n",
              "L 286.9 142.3\n",
              "L 285.4 142.3\n",
              "L 285.4 130.7\n",
              "' fill='#FF0000'/>\n",
              "<path class='atom-10' d='M 296.5 95.4\n",
              "Q 296.5 92.6, 297.9 91.1\n",
              "Q 299.3 89.5, 301.9 89.5\n",
              "Q 304.5 89.5, 305.8 91.1\n",
              "Q 307.2 92.6, 307.2 95.4\n",
              "Q 307.2 98.2, 305.8 99.8\n",
              "Q 304.4 101.4, 301.9 101.4\n",
              "Q 299.3 101.4, 297.9 99.8\n",
              "Q 296.5 98.2, 296.5 95.4\n",
              "M 301.9 100.1\n",
              "Q 303.7 100.1, 304.6 98.9\n",
              "Q 305.6 97.7, 305.6 95.4\n",
              "Q 305.6 93.1, 304.6 92.0\n",
              "Q 303.7 90.8, 301.9 90.8\n",
              "Q 300.1 90.8, 299.1 92.0\n",
              "Q 298.2 93.1, 298.2 95.4\n",
              "Q 298.2 97.8, 299.1 98.9\n",
              "Q 300.1 100.1, 301.9 100.1\n",
              "' fill='#FF0000'/>\n",
              "</svg>\n"
            ],
            "image/svg+xml": "<?xml version='1.0' encoding='iso-8859-1'?>\n<svg version='1.1' baseProfile='full'\n              xmlns='http://www.w3.org/2000/svg'\n                      xmlns:rdkit='http://www.rdkit.org/xml'\n                      xmlns:xlink='http://www.w3.org/1999/xlink'\n                  xml:space='preserve'\nwidth='450px' height='150px' viewBox='0 0 450 150'>\n<!-- END OF HEADER -->\n<rect style='opacity:1.0;fill:#FFFFFF;stroke:none' width='450.0' height='150.0' x='0.0' y='0.0'> </rect>\n<path class='bond-0 atom-0 atom-1' d='M 165.8,17.0 L 174.6,22.0' style='fill:none;fill-rule:evenodd;stroke:#FF0000;stroke-width:2.0px;stroke-linecap:butt;stroke-linejoin:miter;stroke-opacity:1' />\n<path class='bond-0 atom-0 atom-1' d='M 174.6,22.0 L 183.3,27.0' style='fill:none;fill-rule:evenodd;stroke:#000000;stroke-width:2.0px;stroke-linecap:butt;stroke-linejoin:miter;stroke-opacity:1' />\n<path class='bond-1 atom-1 atom-2' d='M 183.3,27.0 L 207.0,13.3' style='fill:none;fill-rule:evenodd;stroke:#000000;stroke-width:2.0px;stroke-linecap:butt;stroke-linejoin:miter;stroke-opacity:1' />\n<path class='bond-1 atom-1 atom-2' d='M 187.4,29.4 L 207.0,18.1' style='fill:none;fill-rule:evenodd;stroke:#000000;stroke-width:2.0px;stroke-linecap:butt;stroke-linejoin:miter;stroke-opacity:1' />\n<path class='bond-2 atom-2 atom-3' d='M 207.0,13.3 L 230.7,27.0' style='fill:none;fill-rule:evenodd;stroke:#000000;stroke-width:2.0px;stroke-linecap:butt;stroke-linejoin:miter;stroke-opacity:1' />\n<path class='bond-3 atom-3 atom-4' d='M 230.7,27.0 L 230.7,54.4' style='fill:none;fill-rule:evenodd;stroke:#000000;stroke-width:2.0px;stroke-linecap:butt;stroke-linejoin:miter;stroke-opacity:1' />\n<path class='bond-3 atom-3 atom-4' d='M 226.6,29.4 L 226.6,52.0' style='fill:none;fill-rule:evenodd;stroke:#000000;stroke-width:2.0px;stroke-linecap:butt;stroke-linejoin:miter;stroke-opacity:1' />\n<path class='bond-4 atom-4 atom-5' d='M 230.7,54.4 L 254.5,68.0' style='fill:none;fill-rule:evenodd;stroke:#000000;stroke-width:2.0px;stroke-linecap:butt;stroke-linejoin:miter;stroke-opacity:1' />\n<path class='bond-5 atom-5 atom-6' d='M 254.5,68.0 L 254.5,95.4' style='fill:none;fill-rule:evenodd;stroke:#000000;stroke-width:2.0px;stroke-linecap:butt;stroke-linejoin:miter;stroke-opacity:1' />\n<path class='bond-6 atom-6 atom-7' d='M 254.5,95.4 L 245.3,100.7' style='fill:none;fill-rule:evenodd;stroke:#000000;stroke-width:2.0px;stroke-linecap:butt;stroke-linejoin:miter;stroke-opacity:1' />\n<path class='bond-6 atom-6 atom-7' d='M 245.3,100.7 L 236.1,106.0' style='fill:none;fill-rule:evenodd;stroke:#0000FF;stroke-width:2.0px;stroke-linecap:butt;stroke-linejoin:miter;stroke-opacity:1' />\n<path class='bond-7 atom-6 atom-8' d='M 254.5,95.4 L 278.2,109.1' style='fill:none;fill-rule:evenodd;stroke:#000000;stroke-width:2.0px;stroke-linecap:butt;stroke-linejoin:miter;stroke-opacity:1' />\n<path class='bond-8 atom-8 atom-9' d='M 278.2,109.1 L 278.2,119.4' style='fill:none;fill-rule:evenodd;stroke:#000000;stroke-width:2.0px;stroke-linecap:butt;stroke-linejoin:miter;stroke-opacity:1' />\n<path class='bond-8 atom-8 atom-9' d='M 278.2,119.4 L 278.2,129.7' style='fill:none;fill-rule:evenodd;stroke:#FF0000;stroke-width:2.0px;stroke-linecap:butt;stroke-linejoin:miter;stroke-opacity:1' />\n<path class='bond-9 atom-8 atom-10' d='M 278.2,111.4 L 287.4,106.1' style='fill:none;fill-rule:evenodd;stroke:#000000;stroke-width:2.0px;stroke-linecap:butt;stroke-linejoin:miter;stroke-opacity:1' />\n<path class='bond-9 atom-8 atom-10' d='M 287.4,106.1 L 296.7,100.8' style='fill:none;fill-rule:evenodd;stroke:#FF0000;stroke-width:2.0px;stroke-linecap:butt;stroke-linejoin:miter;stroke-opacity:1' />\n<path class='bond-9 atom-8 atom-10' d='M 276.1,107.9 L 285.4,102.5' style='fill:none;fill-rule:evenodd;stroke:#000000;stroke-width:2.0px;stroke-linecap:butt;stroke-linejoin:miter;stroke-opacity:1' />\n<path class='bond-9 atom-8 atom-10' d='M 285.4,102.5 L 294.6,97.2' style='fill:none;fill-rule:evenodd;stroke:#FF0000;stroke-width:2.0px;stroke-linecap:butt;stroke-linejoin:miter;stroke-opacity:1' />\n<path class='bond-10 atom-4 atom-11' d='M 230.7,54.4 L 207.1,68.1' style='fill:none;fill-rule:evenodd;stroke:#000000;stroke-width:2.0px;stroke-linecap:butt;stroke-linejoin:miter;stroke-opacity:1' />\n<path class='bond-11 atom-11 atom-12' d='M 207.1,68.1 L 183.3,54.4' style='fill:none;fill-rule:evenodd;stroke:#000000;stroke-width:2.0px;stroke-linecap:butt;stroke-linejoin:miter;stroke-opacity:1' />\n<path class='bond-11 atom-11 atom-12' d='M 207.0,63.3 L 187.4,52.0' style='fill:none;fill-rule:evenodd;stroke:#000000;stroke-width:2.0px;stroke-linecap:butt;stroke-linejoin:miter;stroke-opacity:1' />\n<path class='bond-12 atom-12 atom-1' d='M 183.3,54.4 L 183.3,27.0' style='fill:none;fill-rule:evenodd;stroke:#000000;stroke-width:2.0px;stroke-linecap:butt;stroke-linejoin:miter;stroke-opacity:1' />\n<path d='M 205.8,14.0 L 207.0,13.3 L 208.2,14.0' style='fill:none;stroke:#000000;stroke-width:2.0px;stroke-linecap:butt;stroke-linejoin:miter;stroke-miterlimit:10;stroke-opacity:1;' />\n<path d='M 229.5,26.3 L 230.7,27.0 L 230.7,28.4' style='fill:none;stroke:#000000;stroke-width:2.0px;stroke-linecap:butt;stroke-linejoin:miter;stroke-miterlimit:10;stroke-opacity:1;' />\n<path d='M 253.3,67.4 L 254.5,68.0 L 254.5,69.4' style='fill:none;stroke:#000000;stroke-width:2.0px;stroke-linecap:butt;stroke-linejoin:miter;stroke-miterlimit:10;stroke-opacity:1;' />\n<path d='M 277.0,108.4 L 278.2,109.1 L 278.2,109.6' style='fill:none;stroke:#000000;stroke-width:2.0px;stroke-linecap:butt;stroke-linejoin:miter;stroke-miterlimit:10;stroke-opacity:1;' />\n<path d='M 208.2,67.4 L 207.1,68.1 L 205.9,67.4' style='fill:none;stroke:#000000;stroke-width:2.0px;stroke-linecap:butt;stroke-linejoin:miter;stroke-miterlimit:10;stroke-opacity:1;' />\n<path d='M 184.5,55.1 L 183.3,54.4 L 183.3,53.0' style='fill:none;stroke:#000000;stroke-width:2.0px;stroke-linecap:butt;stroke-linejoin:miter;stroke-miterlimit:10;stroke-opacity:1;' />\n<path class='atom-0' d='M 142.8 7.6\nL 144.4 7.6\nL 144.4 12.6\nL 150.3 12.6\nL 150.3 7.6\nL 151.9 7.6\nL 151.9 19.3\nL 150.3 19.3\nL 150.3 13.9\nL 144.4 13.9\nL 144.4 19.3\nL 142.8 19.3\nL 142.8 7.6\n' fill='#FF0000'/>\n<path class='atom-0' d='M 154.3 13.4\nQ 154.3 10.6, 155.6 9.1\nQ 157.0 7.5, 159.6 7.5\nQ 162.2 7.5, 163.6 9.1\nQ 164.9 10.6, 164.9 13.4\nQ 164.9 16.2, 163.5 17.8\nQ 162.1 19.4, 159.6 19.4\nQ 157.0 19.4, 155.6 17.8\nQ 154.3 16.3, 154.3 13.4\nM 159.6 18.1\nQ 161.4 18.1, 162.3 16.9\nQ 163.3 15.7, 163.3 13.4\nQ 163.3 11.1, 162.3 10.0\nQ 161.4 8.8, 159.6 8.8\nQ 157.8 8.8, 156.9 10.0\nQ 155.9 11.1, 155.9 13.4\nQ 155.9 15.8, 156.9 16.9\nQ 157.8 18.1, 159.6 18.1\n' fill='#FF0000'/>\n<path class='atom-7' d='M 208.3 103.3\nL 209.9 103.3\nL 209.9 108.2\nL 215.9 108.2\nL 215.9 103.3\nL 217.4 103.3\nL 217.4 114.9\nL 215.9 114.9\nL 215.9 109.6\nL 209.9 109.6\nL 209.9 114.9\nL 208.3 114.9\nL 208.3 103.3\n' fill='#0000FF'/>\n<path class='atom-7' d='M 219.7 114.5\nQ 220.0 113.8, 220.7 113.4\nQ 221.3 113.0, 222.3 113.0\nQ 223.4 113.0, 224.1 113.6\nQ 224.7 114.2, 224.7 115.3\nQ 224.7 116.5, 223.9 117.5\nQ 223.1 118.6, 221.3 119.9\nL 224.9 119.9\nL 224.9 120.7\nL 219.7 120.7\nL 219.7 120.0\nQ 221.1 119.0, 222.0 118.2\nQ 222.8 117.5, 223.2 116.8\nQ 223.7 116.1, 223.7 115.4\nQ 223.7 114.7, 223.3 114.3\nQ 222.9 113.8, 222.3 113.8\nQ 221.7 113.8, 221.2 114.1\nQ 220.8 114.3, 220.5 114.9\nL 219.7 114.5\n' fill='#0000FF'/>\n<path class='atom-7' d='M 228.2 103.3\nL 232.0 109.5\nQ 232.4 110.1, 233.0 111.2\nQ 233.6 112.3, 233.7 112.3\nL 233.7 103.3\nL 235.2 103.3\nL 235.2 114.9\nL 233.6 114.9\nL 229.5 108.2\nQ 229.0 107.4, 228.5 106.5\nQ 228.0 105.6, 227.9 105.3\nL 227.9 114.9\nL 226.4 114.9\nL 226.4 103.3\nL 228.2 103.3\n' fill='#0000FF'/>\n<path class='atom-9' d='M 272.9 136.5\nQ 272.9 133.7, 274.3 132.1\nQ 275.6 130.6, 278.2 130.6\nQ 280.8 130.6, 282.2 132.1\nQ 283.5 133.7, 283.5 136.5\nQ 283.5 139.3, 282.2 140.9\nQ 280.8 142.5, 278.2 142.5\nQ 275.6 142.5, 274.3 140.9\nQ 272.9 139.3, 272.9 136.5\nM 278.2 141.2\nQ 280.0 141.2, 280.9 140.0\nQ 281.9 138.8, 281.9 136.5\nQ 281.9 134.2, 280.9 133.0\nQ 280.0 131.9, 278.2 131.9\nQ 276.4 131.9, 275.5 133.0\nQ 274.5 134.2, 274.5 136.5\nQ 274.5 138.8, 275.5 140.0\nQ 276.4 141.2, 278.2 141.2\n' fill='#FF0000'/>\n<path class='atom-9' d='M 285.4 130.7\nL 286.9 130.7\nL 286.9 135.6\nL 292.9 135.6\nL 292.9 130.7\nL 294.5 130.7\nL 294.5 142.3\nL 292.9 142.3\nL 292.9 136.9\nL 286.9 136.9\nL 286.9 142.3\nL 285.4 142.3\nL 285.4 130.7\n' fill='#FF0000'/>\n<path class='atom-10' d='M 296.5 95.4\nQ 296.5 92.6, 297.9 91.1\nQ 299.3 89.5, 301.9 89.5\nQ 304.5 89.5, 305.8 91.1\nQ 307.2 92.6, 307.2 95.4\nQ 307.2 98.2, 305.8 99.8\nQ 304.4 101.4, 301.9 101.4\nQ 299.3 101.4, 297.9 99.8\nQ 296.5 98.2, 296.5 95.4\nM 301.9 100.1\nQ 303.7 100.1, 304.6 98.9\nQ 305.6 97.7, 305.6 95.4\nQ 305.6 93.1, 304.6 92.0\nQ 303.7 90.8, 301.9 90.8\nQ 300.1 90.8, 299.1 92.0\nQ 298.2 93.1, 298.2 95.4\nQ 298.2 97.8, 299.1 98.9\nQ 300.1 100.1, 301.9 100.1\n' fill='#FF0000'/>\n</svg>\n",
            "image/png": "[encoded data removed]"
          },
          "metadata": {},
          "execution_count": 3
        }
      ],
      "source": [
        "mol = Chem.MolFromSmiles(\"Oc1ccc(CC(N)C(O)=O)cc1\")\n",
        "\n",
        "for fp_size in (10, 100, 1024):\n",
        "  fp = Chem.RDKFingerprint(mol, fpSize=fp_size)\n",
        "  print(len(list(fp.GetOnBits())), \"bits ON out of the\", len(fp), \"bits in total\")\n",
        "\n",
        "mol"
      ]
    },
    {
      "cell_type": "code",
      "execution_count": 4,
      "metadata": {
        "id": "5kuUwzVOy7M3",
        "colab": {
          "base_uri": "https://localhost:8080/",
          "height": 259
        },
        "outputId": "a34fbba7-e0b1-4a7d-bf25-a6a9c06c7805"
      },
      "outputs": [
        {
          "output_type": "stream",
          "name": "stdout",
          "text": [
            "14 bits ON out of the 2048 bits in total\n",
            "59 bits ON out of the 2048 bits in total\n",
            "130 bits ON out of the 2048 bits in total\n",
            "233 bits ON out of the 2048 bits in total\n"
          ]
        },
        {
          "output_type": "execute_result",
          "data": {
            "text/plain": [
              "<rdkit.Chem.rdchem.Mol at 0x7f0cc380b680>"
            ],
            "text/html": [
              "<?xml version='1.0' encoding='iso-8859-1'?>\n",
              "<svg version='1.1' baseProfile='full'\n",
              "              xmlns='http://www.w3.org/2000/svg'\n",
              "                      xmlns:rdkit='http://www.rdkit.org/xml'\n",
              "                      xmlns:xlink='http://www.w3.org/1999/xlink'\n",
              "                  xml:space='preserve'\n",
              "width='450px' height='150px' viewBox='0 0 450 150'>\n",
              "<!-- END OF HEADER -->\n",
              "<rect style='opacity:1.0;fill:#FFFFFF;stroke:none' width='450.0' height='150.0' x='0.0' y='0.0'> </rect>\n",
              "<path class='bond-0 atom-0 atom-1' d='M 165.8,17.0 L 174.6,22.0' style='fill:none;fill-rule:evenodd;stroke:#FF0000;stroke-width:2.0px;stroke-linecap:butt;stroke-linejoin:miter;stroke-opacity:1' />\n",
              "<path class='bond-0 atom-0 atom-1' d='M 174.6,22.0 L 183.3,27.0' style='fill:none;fill-rule:evenodd;stroke:#000000;stroke-width:2.0px;stroke-linecap:butt;stroke-linejoin:miter;stroke-opacity:1' />\n",
              "<path class='bond-1 atom-1 atom-2' d='M 183.3,27.0 L 207.0,13.3' style='fill:none;fill-rule:evenodd;stroke:#000000;stroke-width:2.0px;stroke-linecap:butt;stroke-linejoin:miter;stroke-opacity:1' />\n",
              "<path class='bond-1 atom-1 atom-2' d='M 187.4,29.4 L 207.0,18.1' style='fill:none;fill-rule:evenodd;stroke:#000000;stroke-width:2.0px;stroke-linecap:butt;stroke-linejoin:miter;stroke-opacity:1' />\n",
              "<path class='bond-2 atom-2 atom-3' d='M 207.0,13.3 L 230.7,27.0' style='fill:none;fill-rule:evenodd;stroke:#000000;stroke-width:2.0px;stroke-linecap:butt;stroke-linejoin:miter;stroke-opacity:1' />\n",
              "<path class='bond-3 atom-3 atom-4' d='M 230.7,27.0 L 230.7,54.4' style='fill:none;fill-rule:evenodd;stroke:#000000;stroke-width:2.0px;stroke-linecap:butt;stroke-linejoin:miter;stroke-opacity:1' />\n",
              "<path class='bond-3 atom-3 atom-4' d='M 226.6,29.4 L 226.6,52.0' style='fill:none;fill-rule:evenodd;stroke:#000000;stroke-width:2.0px;stroke-linecap:butt;stroke-linejoin:miter;stroke-opacity:1' />\n",
              "<path class='bond-4 atom-4 atom-5' d='M 230.7,54.4 L 254.5,68.0' style='fill:none;fill-rule:evenodd;stroke:#000000;stroke-width:2.0px;stroke-linecap:butt;stroke-linejoin:miter;stroke-opacity:1' />\n",
              "<path class='bond-5 atom-5 atom-6' d='M 254.5,68.0 L 254.5,95.4' style='fill:none;fill-rule:evenodd;stroke:#000000;stroke-width:2.0px;stroke-linecap:butt;stroke-linejoin:miter;stroke-opacity:1' />\n",
              "<path class='bond-6 atom-6 atom-7' d='M 254.5,95.4 L 245.3,100.7' style='fill:none;fill-rule:evenodd;stroke:#000000;stroke-width:2.0px;stroke-linecap:butt;stroke-linejoin:miter;stroke-opacity:1' />\n",
              "<path class='bond-6 atom-6 atom-7' d='M 245.3,100.7 L 236.1,106.0' style='fill:none;fill-rule:evenodd;stroke:#0000FF;stroke-width:2.0px;stroke-linecap:butt;stroke-linejoin:miter;stroke-opacity:1' />\n",
              "<path class='bond-7 atom-6 atom-8' d='M 254.5,95.4 L 278.2,109.1' style='fill:none;fill-rule:evenodd;stroke:#000000;stroke-width:2.0px;stroke-linecap:butt;stroke-linejoin:miter;stroke-opacity:1' />\n",
              "<path class='bond-8 atom-8 atom-9' d='M 278.2,109.1 L 278.2,119.4' style='fill:none;fill-rule:evenodd;stroke:#000000;stroke-width:2.0px;stroke-linecap:butt;stroke-linejoin:miter;stroke-opacity:1' />\n",
              "<path class='bond-8 atom-8 atom-9' d='M 278.2,119.4 L 278.2,129.7' style='fill:none;fill-rule:evenodd;stroke:#FF0000;stroke-width:2.0px;stroke-linecap:butt;stroke-linejoin:miter;stroke-opacity:1' />\n",
              "<path class='bond-9 atom-8 atom-10' d='M 278.2,111.4 L 287.4,106.1' style='fill:none;fill-rule:evenodd;stroke:#000000;stroke-width:2.0px;stroke-linecap:butt;stroke-linejoin:miter;stroke-opacity:1' />\n",
              "<path class='bond-9 atom-8 atom-10' d='M 287.4,106.1 L 296.7,100.8' style='fill:none;fill-rule:evenodd;stroke:#FF0000;stroke-width:2.0px;stroke-linecap:butt;stroke-linejoin:miter;stroke-opacity:1' />\n",
              "<path class='bond-9 atom-8 atom-10' d='M 276.1,107.9 L 285.4,102.5' style='fill:none;fill-rule:evenodd;stroke:#000000;stroke-width:2.0px;stroke-linecap:butt;stroke-linejoin:miter;stroke-opacity:1' />\n",
              "<path class='bond-9 atom-8 atom-10' d='M 285.4,102.5 L 294.6,97.2' style='fill:none;fill-rule:evenodd;stroke:#FF0000;stroke-width:2.0px;stroke-linecap:butt;stroke-linejoin:miter;stroke-opacity:1' />\n",
              "<path class='bond-10 atom-4 atom-11' d='M 230.7,54.4 L 207.1,68.1' style='fill:none;fill-rule:evenodd;stroke:#000000;stroke-width:2.0px;stroke-linecap:butt;stroke-linejoin:miter;stroke-opacity:1' />\n",
              "<path class='bond-11 atom-11 atom-12' d='M 207.1,68.1 L 183.3,54.4' style='fill:none;fill-rule:evenodd;stroke:#000000;stroke-width:2.0px;stroke-linecap:butt;stroke-linejoin:miter;stroke-opacity:1' />\n",
              "<path class='bond-11 atom-11 atom-12' d='M 207.0,63.3 L 187.4,52.0' style='fill:none;fill-rule:evenodd;stroke:#000000;stroke-width:2.0px;stroke-linecap:butt;stroke-linejoin:miter;stroke-opacity:1' />\n",
              "<path class='bond-12 atom-12 atom-1' d='M 183.3,54.4 L 183.3,27.0' style='fill:none;fill-rule:evenodd;stroke:#000000;stroke-width:2.0px;stroke-linecap:butt;stroke-linejoin:miter;stroke-opacity:1' />\n",
              "<path d='M 205.8,14.0 L 207.0,13.3 L 208.2,14.0' style='fill:none;stroke:#000000;stroke-width:2.0px;stroke-linecap:butt;stroke-linejoin:miter;stroke-miterlimit:10;stroke-opacity:1;' />\n",
              "<path d='M 229.5,26.3 L 230.7,27.0 L 230.7,28.4' style='fill:none;stroke:#000000;stroke-width:2.0px;stroke-linecap:butt;stroke-linejoin:miter;stroke-miterlimit:10;stroke-opacity:1;' />\n",
              "<path d='M 253.3,67.4 L 254.5,68.0 L 254.5,69.4' style='fill:none;stroke:#000000;stroke-width:2.0px;stroke-linecap:butt;stroke-linejoin:miter;stroke-miterlimit:10;stroke-opacity:1;' />\n",
              "<path d='M 277.0,108.4 L 278.2,109.1 L 278.2,109.6' style='fill:none;stroke:#000000;stroke-width:2.0px;stroke-linecap:butt;stroke-linejoin:miter;stroke-miterlimit:10;stroke-opacity:1;' />\n",
              "<path d='M 208.2,67.4 L 207.1,68.1 L 205.9,67.4' style='fill:none;stroke:#000000;stroke-width:2.0px;stroke-linecap:butt;stroke-linejoin:miter;stroke-miterlimit:10;stroke-opacity:1;' />\n",
              "<path d='M 184.5,55.1 L 183.3,54.4 L 183.3,53.0' style='fill:none;stroke:#000000;stroke-width:2.0px;stroke-linecap:butt;stroke-linejoin:miter;stroke-miterlimit:10;stroke-opacity:1;' />\n",
              "<path class='atom-0' d='M 142.8 7.6\n",
              "L 144.4 7.6\n",
              "L 144.4 12.6\n",
              "L 150.3 12.6\n",
              "L 150.3 7.6\n",
              "L 151.9 7.6\n",
              "L 151.9 19.3\n",
              "L 150.3 19.3\n",
              "L 150.3 13.9\n",
              "L 144.4 13.9\n",
              "L 144.4 19.3\n",
              "L 142.8 19.3\n",
              "L 142.8 7.6\n",
              "' fill='#FF0000'/>\n",
              "<path class='atom-0' d='M 154.3 13.4\n",
              "Q 154.3 10.6, 155.6 9.1\n",
              "Q 157.0 7.5, 159.6 7.5\n",
              "Q 162.2 7.5, 163.6 9.1\n",
              "Q 164.9 10.6, 164.9 13.4\n",
              "Q 164.9 16.2, 163.5 17.8\n",
              "Q 162.1 19.4, 159.6 19.4\n",
              "Q 157.0 19.4, 155.6 17.8\n",
              "Q 154.3 16.3, 154.3 13.4\n",
              "M 159.6 18.1\n",
              "Q 161.4 18.1, 162.3 16.9\n",
              "Q 163.3 15.7, 163.3 13.4\n",
              "Q 163.3 11.1, 162.3 10.0\n",
              "Q 161.4 8.8, 159.6 8.8\n",
              "Q 157.8 8.8, 156.9 10.0\n",
              "Q 155.9 11.1, 155.9 13.4\n",
              "Q 155.9 15.8, 156.9 16.9\n",
              "Q 157.8 18.1, 159.6 18.1\n",
              "' fill='#FF0000'/>\n",
              "<path class='atom-7' d='M 208.3 103.3\n",
              "L 209.9 103.3\n",
              "L 209.9 108.2\n",
              "L 215.9 108.2\n",
              "L 215.9 103.3\n",
              "L 217.4 103.3\n",
              "L 217.4 114.9\n",
              "L 215.9 114.9\n",
              "L 215.9 109.6\n",
              "L 209.9 109.6\n",
              "L 209.9 114.9\n",
              "L 208.3 114.9\n",
              "L 208.3 103.3\n",
              "' fill='#0000FF'/>\n",
              "<path class='atom-7' d='M 219.7 114.5\n",
              "Q 220.0 113.8, 220.7 113.4\n",
              "Q 221.3 113.0, 222.3 113.0\n",
              "Q 223.4 113.0, 224.1 113.6\n",
              "Q 224.7 114.2, 224.7 115.3\n",
              "Q 224.7 116.5, 223.9 117.5\n",
              "Q 223.1 118.6, 221.3 119.9\n",
              "L 224.9 119.9\n",
              "L 224.9 120.7\n",
              "L 219.7 120.7\n",
              "L 219.7 120.0\n",
              "Q 221.1 119.0, 222.0 118.2\n",
              "Q 222.8 117.5, 223.2 116.8\n",
              "Q 223.7 116.1, 223.7 115.4\n",
              "Q 223.7 114.7, 223.3 114.3\n",
              "Q 222.9 113.8, 222.3 113.8\n",
              "Q 221.7 113.8, 221.2 114.1\n",
              "Q 220.8 114.3, 220.5 114.9\n",
              "L 219.7 114.5\n",
              "' fill='#0000FF'/>\n",
              "<path class='atom-7' d='M 228.2 103.3\n",
              "L 232.0 109.5\n",
              "Q 232.4 110.1, 233.0 111.2\n",
              "Q 233.6 112.3, 233.7 112.3\n",
              "L 233.7 103.3\n",
              "L 235.2 103.3\n",
              "L 235.2 114.9\n",
              "L 233.6 114.9\n",
              "L 229.5 108.2\n",
              "Q 229.0 107.4, 228.5 106.5\n",
              "Q 228.0 105.6, 227.9 105.3\n",
              "L 227.9 114.9\n",
              "L 226.4 114.9\n",
              "L 226.4 103.3\n",
              "L 228.2 103.3\n",
              "' fill='#0000FF'/>\n",
              "<path class='atom-9' d='M 272.9 136.5\n",
              "Q 272.9 133.7, 274.3 132.1\n",
              "Q 275.6 130.6, 278.2 130.6\n",
              "Q 280.8 130.6, 282.2 132.1\n",
              "Q 283.5 133.7, 283.5 136.5\n",
              "Q 283.5 139.3, 282.2 140.9\n",
              "Q 280.8 142.5, 278.2 142.5\n",
              "Q 275.6 142.5, 274.3 140.9\n",
              "Q 272.9 139.3, 272.9 136.5\n",
              "M 278.2 141.2\n",
              "Q 280.0 141.2, 280.9 140.0\n",
              "Q 281.9 138.8, 281.9 136.5\n",
              "Q 281.9 134.2, 280.9 133.0\n",
              "Q 280.0 131.9, 278.2 131.9\n",
              "Q 276.4 131.9, 275.5 133.0\n",
              "Q 274.5 134.2, 274.5 136.5\n",
              "Q 274.5 138.8, 275.5 140.0\n",
              "Q 276.4 141.2, 278.2 141.2\n",
              "' fill='#FF0000'/>\n",
              "<path class='atom-9' d='M 285.4 130.7\n",
              "L 286.9 130.7\n",
              "L 286.9 135.6\n",
              "L 292.9 135.6\n",
              "L 292.9 130.7\n",
              "L 294.5 130.7\n",
              "L 294.5 142.3\n",
              "L 292.9 142.3\n",
              "L 292.9 136.9\n",
              "L 286.9 136.9\n",
              "L 286.9 142.3\n",
              "L 285.4 142.3\n",
              "L 285.4 130.7\n",
              "' fill='#FF0000'/>\n",
              "<path class='atom-10' d='M 296.5 95.4\n",
              "Q 296.5 92.6, 297.9 91.1\n",
              "Q 299.3 89.5, 301.9 89.5\n",
              "Q 304.5 89.5, 305.8 91.1\n",
              "Q 307.2 92.6, 307.2 95.4\n",
              "Q 307.2 98.2, 305.8 99.8\n",
              "Q 304.4 101.4, 301.9 101.4\n",
              "Q 299.3 101.4, 297.9 99.8\n",
              "Q 296.5 98.2, 296.5 95.4\n",
              "M 301.9 100.1\n",
              "Q 303.7 100.1, 304.6 98.9\n",
              "Q 305.6 97.7, 305.6 95.4\n",
              "Q 305.6 93.1, 304.6 92.0\n",
              "Q 303.7 90.8, 301.9 90.8\n",
              "Q 300.1 90.8, 299.1 92.0\n",
              "Q 298.2 93.1, 298.2 95.4\n",
              "Q 298.2 97.8, 299.1 98.9\n",
              "Q 300.1 100.1, 301.9 100.1\n",
              "' fill='#FF0000'/>\n",
              "</svg>\n"
            ],
            "image/svg+xml": "<?xml version='1.0' encoding='iso-8859-1'?>\n<svg version='1.1' baseProfile='full'\n              xmlns='http://www.w3.org/2000/svg'\n                      xmlns:rdkit='http://www.rdkit.org/xml'\n                      xmlns:xlink='http://www.w3.org/1999/xlink'\n                  xml:space='preserve'\nwidth='450px' height='150px' viewBox='0 0 450 150'>\n<!-- END OF HEADER -->\n<rect style='opacity:1.0;fill:#FFFFFF;stroke:none' width='450.0' height='150.0' x='0.0' y='0.0'> </rect>\n<path class='bond-0 atom-0 atom-1' d='M 165.8,17.0 L 174.6,22.0' style='fill:none;fill-rule:evenodd;stroke:#FF0000;stroke-width:2.0px;stroke-linecap:butt;stroke-linejoin:miter;stroke-opacity:1' />\n<path class='bond-0 atom-0 atom-1' d='M 174.6,22.0 L 183.3,27.0' style='fill:none;fill-rule:evenodd;stroke:#000000;stroke-width:2.0px;stroke-linecap:butt;stroke-linejoin:miter;stroke-opacity:1' />\n<path class='bond-1 atom-1 atom-2' d='M 183.3,27.0 L 207.0,13.3' style='fill:none;fill-rule:evenodd;stroke:#000000;stroke-width:2.0px;stroke-linecap:butt;stroke-linejoin:miter;stroke-opacity:1' />\n<path class='bond-1 atom-1 atom-2' d='M 187.4,29.4 L 207.0,18.1' style='fill:none;fill-rule:evenodd;stroke:#000000;stroke-width:2.0px;stroke-linecap:butt;stroke-linejoin:miter;stroke-opacity:1' />\n<path class='bond-2 atom-2 atom-3' d='M 207.0,13.3 L 230.7,27.0' style='fill:none;fill-rule:evenodd;stroke:#000000;stroke-width:2.0px;stroke-linecap:butt;stroke-linejoin:miter;stroke-opacity:1' />\n<path class='bond-3 atom-3 atom-4' d='M 230.7,27.0 L 230.7,54.4' style='fill:none;fill-rule:evenodd;stroke:#000000;stroke-width:2.0px;stroke-linecap:butt;stroke-linejoin:miter;stroke-opacity:1' />\n<path class='bond-3 atom-3 atom-4' d='M 226.6,29.4 L 226.6,52.0' style='fill:none;fill-rule:evenodd;stroke:#000000;stroke-width:2.0px;stroke-linecap:butt;stroke-linejoin:miter;stroke-opacity:1' />\n<path class='bond-4 atom-4 atom-5' d='M 230.7,54.4 L 254.5,68.0' style='fill:none;fill-rule:evenodd;stroke:#000000;stroke-width:2.0px;stroke-linecap:butt;stroke-linejoin:miter;stroke-opacity:1' />\n<path class='bond-5 atom-5 atom-6' d='M 254.5,68.0 L 254.5,95.4' style='fill:none;fill-rule:evenodd;stroke:#000000;stroke-width:2.0px;stroke-linecap:butt;stroke-linejoin:miter;stroke-opacity:1' />\n<path class='bond-6 atom-6 atom-7' d='M 254.5,95.4 L 245.3,100.7' style='fill:none;fill-rule:evenodd;stroke:#000000;stroke-width:2.0px;stroke-linecap:butt;stroke-linejoin:miter;stroke-opacity:1' />\n<path class='bond-6 atom-6 atom-7' d='M 245.3,100.7 L 236.1,106.0' style='fill:none;fill-rule:evenodd;stroke:#0000FF;stroke-width:2.0px;stroke-linecap:butt;stroke-linejoin:miter;stroke-opacity:1' />\n<path class='bond-7 atom-6 atom-8' d='M 254.5,95.4 L 278.2,109.1' style='fill:none;fill-rule:evenodd;stroke:#000000;stroke-width:2.0px;stroke-linecap:butt;stroke-linejoin:miter;stroke-opacity:1' />\n<path class='bond-8 atom-8 atom-9' d='M 278.2,109.1 L 278.2,119.4' style='fill:none;fill-rule:evenodd;stroke:#000000;stroke-width:2.0px;stroke-linecap:butt;stroke-linejoin:miter;stroke-opacity:1' />\n<path class='bond-8 atom-8 atom-9' d='M 278.2,119.4 L 278.2,129.7' style='fill:none;fill-rule:evenodd;stroke:#FF0000;stroke-width:2.0px;stroke-linecap:butt;stroke-linejoin:miter;stroke-opacity:1' />\n<path class='bond-9 atom-8 atom-10' d='M 278.2,111.4 L 287.4,106.1' style='fill:none;fill-rule:evenodd;stroke:#000000;stroke-width:2.0px;stroke-linecap:butt;stroke-linejoin:miter;stroke-opacity:1' />\n<path class='bond-9 atom-8 atom-10' d='M 287.4,106.1 L 296.7,100.8' style='fill:none;fill-rule:evenodd;stroke:#FF0000;stroke-width:2.0px;stroke-linecap:butt;stroke-linejoin:miter;stroke-opacity:1' />\n<path class='bond-9 atom-8 atom-10' d='M 276.1,107.9 L 285.4,102.5' style='fill:none;fill-rule:evenodd;stroke:#000000;stroke-width:2.0px;stroke-linecap:butt;stroke-linejoin:miter;stroke-opacity:1' />\n<path class='bond-9 atom-8 atom-10' d='M 285.4,102.5 L 294.6,97.2' style='fill:none;fill-rule:evenodd;stroke:#FF0000;stroke-width:2.0px;stroke-linecap:butt;stroke-linejoin:miter;stroke-opacity:1' />\n<path class='bond-10 atom-4 atom-11' d='M 230.7,54.4 L 207.1,68.1' style='fill:none;fill-rule:evenodd;stroke:#000000;stroke-width:2.0px;stroke-linecap:butt;stroke-linejoin:miter;stroke-opacity:1' />\n<path class='bond-11 atom-11 atom-12' d='M 207.1,68.1 L 183.3,54.4' style='fill:none;fill-rule:evenodd;stroke:#000000;stroke-width:2.0px;stroke-linecap:butt;stroke-linejoin:miter;stroke-opacity:1' />\n<path class='bond-11 atom-11 atom-12' d='M 207.0,63.3 L 187.4,52.0' style='fill:none;fill-rule:evenodd;stroke:#000000;stroke-width:2.0px;stroke-linecap:butt;stroke-linejoin:miter;stroke-opacity:1' />\n<path class='bond-12 atom-12 atom-1' d='M 183.3,54.4 L 183.3,27.0' style='fill:none;fill-rule:evenodd;stroke:#000000;stroke-width:2.0px;stroke-linecap:butt;stroke-linejoin:miter;stroke-opacity:1' />\n<path d='M 205.8,14.0 L 207.0,13.3 L 208.2,14.0' style='fill:none;stroke:#000000;stroke-width:2.0px;stroke-linecap:butt;stroke-linejoin:miter;stroke-miterlimit:10;stroke-opacity:1;' />\n<path d='M 229.5,26.3 L 230.7,27.0 L 230.7,28.4' style='fill:none;stroke:#000000;stroke-width:2.0px;stroke-linecap:butt;stroke-linejoin:miter;stroke-miterlimit:10;stroke-opacity:1;' />\n<path d='M 253.3,67.4 L 254.5,68.0 L 254.5,69.4' style='fill:none;stroke:#000000;stroke-width:2.0px;stroke-linecap:butt;stroke-linejoin:miter;stroke-miterlimit:10;stroke-opacity:1;' />\n<path d='M 277.0,108.4 L 278.2,109.1 L 278.2,109.6' style='fill:none;stroke:#000000;stroke-width:2.0px;stroke-linecap:butt;stroke-linejoin:miter;stroke-miterlimit:10;stroke-opacity:1;' />\n<path d='M 208.2,67.4 L 207.1,68.1 L 205.9,67.4' style='fill:none;stroke:#000000;stroke-width:2.0px;stroke-linecap:butt;stroke-linejoin:miter;stroke-miterlimit:10;stroke-opacity:1;' />\n<path d='M 184.5,55.1 L 183.3,54.4 L 183.3,53.0' style='fill:none;stroke:#000000;stroke-width:2.0px;stroke-linecap:butt;stroke-linejoin:miter;stroke-miterlimit:10;stroke-opacity:1;' />\n<path class='atom-0' d='M 142.8 7.6\nL 144.4 7.6\nL 144.4 12.6\nL 150.3 12.6\nL 150.3 7.6\nL 151.9 7.6\nL 151.9 19.3\nL 150.3 19.3\nL 150.3 13.9\nL 144.4 13.9\nL 144.4 19.3\nL 142.8 19.3\nL 142.8 7.6\n' fill='#FF0000'/>\n<path class='atom-0' d='M 154.3 13.4\nQ 154.3 10.6, 155.6 9.1\nQ 157.0 7.5, 159.6 7.5\nQ 162.2 7.5, 163.6 9.1\nQ 164.9 10.6, 164.9 13.4\nQ 164.9 16.2, 163.5 17.8\nQ 162.1 19.4, 159.6 19.4\nQ 157.0 19.4, 155.6 17.8\nQ 154.3 16.3, 154.3 13.4\nM 159.6 18.1\nQ 161.4 18.1, 162.3 16.9\nQ 163.3 15.7, 163.3 13.4\nQ 163.3 11.1, 162.3 10.0\nQ 161.4 8.8, 159.6 8.8\nQ 157.8 8.8, 156.9 10.0\nQ 155.9 11.1, 155.9 13.4\nQ 155.9 15.8, 156.9 16.9\nQ 157.8 18.1, 159.6 18.1\n' fill='#FF0000'/>\n<path class='atom-7' d='M 208.3 103.3\nL 209.9 103.3\nL 209.9 108.2\nL 215.9 108.2\nL 215.9 103.3\nL 217.4 103.3\nL 217.4 114.9\nL 215.9 114.9\nL 215.9 109.6\nL 209.9 109.6\nL 209.9 114.9\nL 208.3 114.9\nL 208.3 103.3\n' fill='#0000FF'/>\n<path class='atom-7' d='M 219.7 114.5\nQ 220.0 113.8, 220.7 113.4\nQ 221.3 113.0, 222.3 113.0\nQ 223.4 113.0, 224.1 113.6\nQ 224.7 114.2, 224.7 115.3\nQ 224.7 116.5, 223.9 117.5\nQ 223.1 118.6, 221.3 119.9\nL 224.9 119.9\nL 224.9 120.7\nL 219.7 120.7\nL 219.7 120.0\nQ 221.1 119.0, 222.0 118.2\nQ 222.8 117.5, 223.2 116.8\nQ 223.7 116.1, 223.7 115.4\nQ 223.7 114.7, 223.3 114.3\nQ 222.9 113.8, 222.3 113.8\nQ 221.7 113.8, 221.2 114.1\nQ 220.8 114.3, 220.5 114.9\nL 219.7 114.5\n' fill='#0000FF'/>\n<path class='atom-7' d='M 228.2 103.3\nL 232.0 109.5\nQ 232.4 110.1, 233.0 111.2\nQ 233.6 112.3, 233.7 112.3\nL 233.7 103.3\nL 235.2 103.3\nL 235.2 114.9\nL 233.6 114.9\nL 229.5 108.2\nQ 229.0 107.4, 228.5 106.5\nQ 228.0 105.6, 227.9 105.3\nL 227.9 114.9\nL 226.4 114.9\nL 226.4 103.3\nL 228.2 103.3\n' fill='#0000FF'/>\n<path class='atom-9' d='M 272.9 136.5\nQ 272.9 133.7, 274.3 132.1\nQ 275.6 130.6, 278.2 130.6\nQ 280.8 130.6, 282.2 132.1\nQ 283.5 133.7, 283.5 136.5\nQ 283.5 139.3, 282.2 140.9\nQ 280.8 142.5, 278.2 142.5\nQ 275.6 142.5, 274.3 140.9\nQ 272.9 139.3, 272.9 136.5\nM 278.2 141.2\nQ 280.0 141.2, 280.9 140.0\nQ 281.9 138.8, 281.9 136.5\nQ 281.9 134.2, 280.9 133.0\nQ 280.0 131.9, 278.2 131.9\nQ 276.4 131.9, 275.5 133.0\nQ 274.5 134.2, 274.5 136.5\nQ 274.5 138.8, 275.5 140.0\nQ 276.4 141.2, 278.2 141.2\n' fill='#FF0000'/>\n<path class='atom-9' d='M 285.4 130.7\nL 286.9 130.7\nL 286.9 135.6\nL 292.9 135.6\nL 292.9 130.7\nL 294.5 130.7\nL 294.5 142.3\nL 292.9 142.3\nL 292.9 136.9\nL 286.9 136.9\nL 286.9 142.3\nL 285.4 142.3\nL 285.4 130.7\n' fill='#FF0000'/>\n<path class='atom-10' d='M 296.5 95.4\nQ 296.5 92.6, 297.9 91.1\nQ 299.3 89.5, 301.9 89.5\nQ 304.5 89.5, 305.8 91.1\nQ 307.2 92.6, 307.2 95.4\nQ 307.2 98.2, 305.8 99.8\nQ 304.4 101.4, 301.9 101.4\nQ 299.3 101.4, 297.9 99.8\nQ 296.5 98.2, 296.5 95.4\nM 301.9 100.1\nQ 303.7 100.1, 304.6 98.9\nQ 305.6 97.7, 305.6 95.4\nQ 305.6 93.1, 304.6 92.0\nQ 303.7 90.8, 301.9 90.8\nQ 300.1 90.8, 299.1 92.0\nQ 298.2 93.1, 298.2 95.4\nQ 298.2 97.8, 299.1 98.9\nQ 300.1 100.1, 301.9 100.1\n' fill='#FF0000'/>\n</svg>\n",
            "image/png": "[encoded data removed]"
          },
          "metadata": {},
          "execution_count": 4
        }
      ],
      "source": [
        "mol = Chem.MolFromSmiles(\"Oc1ccc(CC(N)C(O)=O)cc1\")\n",
        "\n",
        "for max_path_length in (1,3,5,7):\n",
        "  fp = Chem.RDKFingerprint(mol, maxPath=max_path_length)\n",
        "  print(len(list(fp.GetOnBits())), \"bits ON out of the\", len(fp), \"bits in total\")\n",
        "\n",
        "mol"
      ]
    },
    {
      "cell_type": "markdown",
      "metadata": {
        "id": "WVAllf-l0g3J"
      },
      "source": [
        "## Circular FP's (ECFP)"
      ]
    },
    {
      "cell_type": "code",
      "execution_count": 5,
      "metadata": {
        "id": "s6f82txw0j7g",
        "colab": {
          "base_uri": "https://localhost:8080/",
          "height": 429
        },
        "outputId": "7145af7e-1bd0-4001-c209-3592aff44fe2"
      },
      "outputs": [
        {
          "output_type": "stream",
          "name": "stdout",
          "text": [
            "Radius 1 : 11 bits ON out of the 1024 bits in total\n",
            "Radius 2 : 16 bits ON out of the 1024 bits in total\n",
            "Radius 3 : 17 bits ON out of the 1024 bits in total\n",
            "Radius 4 : 17 bits ON out of the 1024 bits in total\n",
            "Radius 5 : 17 bits ON out of the 1024 bits in total\n",
            "Radius 6 : 17 bits ON out of the 1024 bits in total\n",
            "Radius 7 : 17 bits ON out of the 1024 bits in total\n"
          ]
        },
        {
          "output_type": "stream",
          "name": "stderr",
          "text": [
            "[10:08:49] DEPRECATION WARNING: please use MorganGenerator\n",
            "[10:08:49] DEPRECATION WARNING: please use MorganGenerator\n",
            "[10:08:49] DEPRECATION WARNING: please use MorganGenerator\n",
            "[10:08:49] DEPRECATION WARNING: please use MorganGenerator\n",
            "[10:08:49] DEPRECATION WARNING: please use MorganGenerator\n",
            "[10:08:49] DEPRECATION WARNING: please use MorganGenerator\n",
            "[10:08:49] DEPRECATION WARNING: please use MorganGenerator\n"
          ]
        },
        {
          "output_type": "execute_result",
          "data": {
            "text/plain": [
              "<rdkit.Chem.rdchem.Mol at 0x7f0cc366a3b0>"
            ],
            "text/html": [
              "<?xml version='1.0' encoding='iso-8859-1'?>\n",
              "<svg version='1.1' baseProfile='full'\n",
              "              xmlns='http://www.w3.org/2000/svg'\n",
              "                      xmlns:rdkit='http://www.rdkit.org/xml'\n",
              "                      xmlns:xlink='http://www.w3.org/1999/xlink'\n",
              "                  xml:space='preserve'\n",
              "width='450px' height='150px' viewBox='0 0 450 150'>\n",
              "<!-- END OF HEADER -->\n",
              "<rect style='opacity:1.0;fill:#FFFFFF;stroke:none' width='450.0' height='150.0' x='0.0' y='0.0'> </rect>\n",
              "<path class='bond-0 atom-0 atom-1' d='M 257.0,128.0 L 236.8,123.7' style='fill:none;fill-rule:evenodd;stroke:#FF0000;stroke-width:2.0px;stroke-linecap:butt;stroke-linejoin:miter;stroke-opacity:1' />\n",
              "<path class='bond-0 atom-0 atom-1' d='M 236.8,123.7 L 216.7,119.5' style='fill:none;fill-rule:evenodd;stroke:#000000;stroke-width:2.0px;stroke-linecap:butt;stroke-linejoin:miter;stroke-opacity:1' />\n",
              "<path class='bond-1 atom-1 atom-2' d='M 216.7,119.5 L 211.0,66.0' style='fill:none;fill-rule:evenodd;stroke:#000000;stroke-width:2.0px;stroke-linecap:butt;stroke-linejoin:miter;stroke-opacity:1' />\n",
              "<path class='bond-2 atom-2 atom-3' d='M 215.5,63.9 L 197.1,53.3' style='fill:none;fill-rule:evenodd;stroke:#000000;stroke-width:2.0px;stroke-linecap:butt;stroke-linejoin:miter;stroke-opacity:1' />\n",
              "<path class='bond-2 atom-2 atom-3' d='M 197.1,53.3 L 178.6,42.7' style='fill:none;fill-rule:evenodd;stroke:#FF0000;stroke-width:2.0px;stroke-linecap:butt;stroke-linejoin:miter;stroke-opacity:1' />\n",
              "<path class='bond-2 atom-2 atom-3' d='M 211.5,70.9 L 193.1,60.3' style='fill:none;fill-rule:evenodd;stroke:#000000;stroke-width:2.0px;stroke-linecap:butt;stroke-linejoin:miter;stroke-opacity:1' />\n",
              "<path class='bond-2 atom-2 atom-3' d='M 193.1,60.3 L 174.6,49.7' style='fill:none;fill-rule:evenodd;stroke:#FF0000;stroke-width:2.0px;stroke-linecap:butt;stroke-linejoin:miter;stroke-opacity:1' />\n",
              "<path class='bond-3 atom-2 atom-4' d='M 211.0,66.0 L 230.3,57.4' style='fill:none;fill-rule:evenodd;stroke:#000000;stroke-width:2.0px;stroke-linecap:butt;stroke-linejoin:miter;stroke-opacity:1' />\n",
              "<path class='bond-3 atom-2 atom-4' d='M 230.3,57.4 L 249.7,48.7' style='fill:none;fill-rule:evenodd;stroke:#0000FF;stroke-width:2.0px;stroke-linecap:butt;stroke-linejoin:miter;stroke-opacity:1' />\n",
              "<path class='bond-4 atom-4 atom-5' d='M 270.5,55.6 L 283.3,69.8' style='fill:none;fill-rule:evenodd;stroke:#0000FF;stroke-width:2.0px;stroke-linecap:butt;stroke-linejoin:miter;stroke-opacity:1' />\n",
              "<path class='bond-4 atom-4 atom-5' d='M 283.3,69.8 L 296.1,84.0' style='fill:none;fill-rule:evenodd;stroke:#000000;stroke-width:2.0px;stroke-linecap:butt;stroke-linejoin:miter;stroke-opacity:1' />\n",
              "<path class='bond-5 atom-5 atom-0' d='M 296.1,84.0 L 286.5,100.6' style='fill:none;fill-rule:evenodd;stroke:#000000;stroke-width:2.0px;stroke-linecap:butt;stroke-linejoin:miter;stroke-opacity:1' />\n",
              "<path class='bond-5 atom-5 atom-0' d='M 286.5,100.6 L 277.0,117.3' style='fill:none;fill-rule:evenodd;stroke:#FF0000;stroke-width:2.0px;stroke-linecap:butt;stroke-linejoin:miter;stroke-opacity:1' />\n",
              "<path d='M 217.7,119.7 L 216.7,119.5 L 216.4,116.8' style='fill:none;stroke:#000000;stroke-width:2.0px;stroke-linecap:butt;stroke-linejoin:miter;stroke-miterlimit:10;stroke-opacity:1;' />\n",
              "<path d='M 211.3,68.7 L 211.0,66.0 L 211.9,65.6' style='fill:none;stroke:#000000;stroke-width:2.0px;stroke-linecap:butt;stroke-linejoin:miter;stroke-miterlimit:10;stroke-opacity:1;' />\n",
              "<path d='M 295.5,83.3 L 296.1,84.0 L 295.6,84.8' style='fill:none;stroke:#000000;stroke-width:2.0px;stroke-linecap:butt;stroke-linejoin:miter;stroke-miterlimit:10;stroke-opacity:1;' />\n",
              "<path class='atom-0' d='M 258.8 130.7\n",
              "Q 258.8 125.2, 261.5 122.1\n",
              "Q 264.2 119.0, 269.3 119.0\n",
              "Q 274.3 119.0, 277.1 122.1\n",
              "Q 279.8 125.2, 279.8 130.7\n",
              "Q 279.8 136.2, 277.0 139.4\n",
              "Q 274.3 142.5, 269.3 142.5\n",
              "Q 264.2 142.5, 261.5 139.4\n",
              "Q 258.8 136.2, 258.8 130.7\n",
              "M 269.3 139.9\n",
              "Q 272.8 139.9, 274.6 137.6\n",
              "Q 276.5 135.2, 276.5 130.7\n",
              "Q 276.5 126.2, 274.6 123.9\n",
              "Q 272.8 121.6, 269.3 121.6\n",
              "Q 265.8 121.6, 263.9 123.9\n",
              "Q 262.0 126.1, 262.0 130.7\n",
              "Q 262.0 135.3, 263.9 137.6\n",
              "Q 265.8 139.9, 269.3 139.9\n",
              "' fill='#FF0000'/>\n",
              "<path class='atom-3' d='M 153.9 39.2\n",
              "Q 153.9 33.7, 156.6 30.7\n",
              "Q 159.3 27.6, 164.4 27.6\n",
              "Q 169.4 27.6, 172.1 30.7\n",
              "Q 174.9 33.7, 174.9 39.2\n",
              "Q 174.9 44.8, 172.1 47.9\n",
              "Q 169.4 51.1, 164.4 51.1\n",
              "Q 159.3 51.1, 156.6 47.9\n",
              "Q 153.9 44.8, 153.9 39.2\n",
              "M 164.4 48.5\n",
              "Q 167.9 48.5, 169.7 46.1\n",
              "Q 171.6 43.8, 171.6 39.2\n",
              "Q 171.6 34.7, 169.7 32.5\n",
              "Q 167.9 30.2, 164.4 30.2\n",
              "Q 160.9 30.2, 159.0 32.4\n",
              "Q 157.1 34.7, 157.1 39.2\n",
              "Q 157.1 43.8, 159.0 46.1\n",
              "Q 160.9 48.5, 164.4 48.5\n",
              "' fill='#FF0000'/>\n",
              "<path class='atom-4' d='M 255.0 32.6\n",
              "L 262.5 44.7\n",
              "Q 263.3 45.9, 264.5 48.1\n",
              "Q 265.7 50.3, 265.7 50.4\n",
              "L 265.7 32.6\n",
              "L 268.8 32.6\n",
              "L 268.8 55.5\n",
              "L 265.6 55.5\n",
              "L 257.6 42.3\n",
              "Q 256.7 40.7, 255.7 38.9\n",
              "Q 254.7 37.2, 254.4 36.6\n",
              "L 254.4 55.5\n",
              "L 251.4 55.5\n",
              "L 251.4 32.6\n",
              "L 255.0 32.6\n",
              "' fill='#0000FF'/>\n",
              "<path class='atom-4' d='M 251.2 7.5\n",
              "L 254.3 7.5\n",
              "L 254.3 17.2\n",
              "L 265.9 17.2\n",
              "L 265.9 7.5\n",
              "L 269.0 7.5\n",
              "L 269.0 30.3\n",
              "L 265.9 30.3\n",
              "L 265.9 19.8\n",
              "L 254.3 19.8\n",
              "L 254.3 30.3\n",
              "L 251.2 30.3\n",
              "L 251.2 7.5\n",
              "' fill='#0000FF'/>\n",
              "</svg>\n"
            ],
            "image/svg+xml": "<?xml version='1.0' encoding='iso-8859-1'?>\n<svg version='1.1' baseProfile='full'\n              xmlns='http://www.w3.org/2000/svg'\n                      xmlns:rdkit='http://www.rdkit.org/xml'\n                      xmlns:xlink='http://www.w3.org/1999/xlink'\n                  xml:space='preserve'\nwidth='450px' height='150px' viewBox='0 0 450 150'>\n<!-- END OF HEADER -->\n<rect style='opacity:1.0;fill:#FFFFFF;stroke:none' width='450.0' height='150.0' x='0.0' y='0.0'> </rect>\n<path class='bond-0 atom-0 atom-1' d='M 257.0,128.0 L 236.8,123.7' style='fill:none;fill-rule:evenodd;stroke:#FF0000;stroke-width:2.0px;stroke-linecap:butt;stroke-linejoin:miter;stroke-opacity:1' />\n<path class='bond-0 atom-0 atom-1' d='M 236.8,123.7 L 216.7,119.5' style='fill:none;fill-rule:evenodd;stroke:#000000;stroke-width:2.0px;stroke-linecap:butt;stroke-linejoin:miter;stroke-opacity:1' />\n<path class='bond-1 atom-1 atom-2' d='M 216.7,119.5 L 211.0,66.0' style='fill:none;fill-rule:evenodd;stroke:#000000;stroke-width:2.0px;stroke-linecap:butt;stroke-linejoin:miter;stroke-opacity:1' />\n<path class='bond-2 atom-2 atom-3' d='M 215.5,63.9 L 197.1,53.3' style='fill:none;fill-rule:evenodd;stroke:#000000;stroke-width:2.0px;stroke-linecap:butt;stroke-linejoin:miter;stroke-opacity:1' />\n<path class='bond-2 atom-2 atom-3' d='M 197.1,53.3 L 178.6,42.7' style='fill:none;fill-rule:evenodd;stroke:#FF0000;stroke-width:2.0px;stroke-linecap:butt;stroke-linejoin:miter;stroke-opacity:1' />\n<path class='bond-2 atom-2 atom-3' d='M 211.5,70.9 L 193.1,60.3' style='fill:none;fill-rule:evenodd;stroke:#000000;stroke-width:2.0px;stroke-linecap:butt;stroke-linejoin:miter;stroke-opacity:1' />\n<path class='bond-2 atom-2 atom-3' d='M 193.1,60.3 L 174.6,49.7' style='fill:none;fill-rule:evenodd;stroke:#FF0000;stroke-width:2.0px;stroke-linecap:butt;stroke-linejoin:miter;stroke-opacity:1' />\n<path class='bond-3 atom-2 atom-4' d='M 211.0,66.0 L 230.3,57.4' style='fill:none;fill-rule:evenodd;stroke:#000000;stroke-width:2.0px;stroke-linecap:butt;stroke-linejoin:miter;stroke-opacity:1' />\n<path class='bond-3 atom-2 atom-4' d='M 230.3,57.4 L 249.7,48.7' style='fill:none;fill-rule:evenodd;stroke:#0000FF;stroke-width:2.0px;stroke-linecap:butt;stroke-linejoin:miter;stroke-opacity:1' />\n<path class='bond-4 atom-4 atom-5' d='M 270.5,55.6 L 283.3,69.8' style='fill:none;fill-rule:evenodd;stroke:#0000FF;stroke-width:2.0px;stroke-linecap:butt;stroke-linejoin:miter;stroke-opacity:1' />\n<path class='bond-4 atom-4 atom-5' d='M 283.3,69.8 L 296.1,84.0' style='fill:none;fill-rule:evenodd;stroke:#000000;stroke-width:2.0px;stroke-linecap:butt;stroke-linejoin:miter;stroke-opacity:1' />\n<path class='bond-5 atom-5 atom-0' d='M 296.1,84.0 L 286.5,100.6' style='fill:none;fill-rule:evenodd;stroke:#000000;stroke-width:2.0px;stroke-linecap:butt;stroke-linejoin:miter;stroke-opacity:1' />\n<path class='bond-5 atom-5 atom-0' d='M 286.5,100.6 L 277.0,117.3' style='fill:none;fill-rule:evenodd;stroke:#FF0000;stroke-width:2.0px;stroke-linecap:butt;stroke-linejoin:miter;stroke-opacity:1' />\n<path d='M 217.7,119.7 L 216.7,119.5 L 216.4,116.8' style='fill:none;stroke:#000000;stroke-width:2.0px;stroke-linecap:butt;stroke-linejoin:miter;stroke-miterlimit:10;stroke-opacity:1;' />\n<path d='M 211.3,68.7 L 211.0,66.0 L 211.9,65.6' style='fill:none;stroke:#000000;stroke-width:2.0px;stroke-linecap:butt;stroke-linejoin:miter;stroke-miterlimit:10;stroke-opacity:1;' />\n<path d='M 295.5,83.3 L 296.1,84.0 L 295.6,84.8' style='fill:none;stroke:#000000;stroke-width:2.0px;stroke-linecap:butt;stroke-linejoin:miter;stroke-miterlimit:10;stroke-opacity:1;' />\n<path class='atom-0' d='M 258.8 130.7\nQ 258.8 125.2, 261.5 122.1\nQ 264.2 119.0, 269.3 119.0\nQ 274.3 119.0, 277.1 122.1\nQ 279.8 125.2, 279.8 130.7\nQ 279.8 136.2, 277.0 139.4\nQ 274.3 142.5, 269.3 142.5\nQ 264.2 142.5, 261.5 139.4\nQ 258.8 136.2, 258.8 130.7\nM 269.3 139.9\nQ 272.8 139.9, 274.6 137.6\nQ 276.5 135.2, 276.5 130.7\nQ 276.5 126.2, 274.6 123.9\nQ 272.8 121.6, 269.3 121.6\nQ 265.8 121.6, 263.9 123.9\nQ 262.0 126.1, 262.0 130.7\nQ 262.0 135.3, 263.9 137.6\nQ 265.8 139.9, 269.3 139.9\n' fill='#FF0000'/>\n<path class='atom-3' d='M 153.9 39.2\nQ 153.9 33.7, 156.6 30.7\nQ 159.3 27.6, 164.4 27.6\nQ 169.4 27.6, 172.1 30.7\nQ 174.9 33.7, 174.9 39.2\nQ 174.9 44.8, 172.1 47.9\nQ 169.4 51.1, 164.4 51.1\nQ 159.3 51.1, 156.6 47.9\nQ 153.9 44.8, 153.9 39.2\nM 164.4 48.5\nQ 167.9 48.5, 169.7 46.1\nQ 171.6 43.8, 171.6 39.2\nQ 171.6 34.7, 169.7 32.5\nQ 167.9 30.2, 164.4 30.2\nQ 160.9 30.2, 159.0 32.4\nQ 157.1 34.7, 157.1 39.2\nQ 157.1 43.8, 159.0 46.1\nQ 160.9 48.5, 164.4 48.5\n' fill='#FF0000'/>\n<path class='atom-4' d='M 255.0 32.6\nL 262.5 44.7\nQ 263.3 45.9, 264.5 48.1\nQ 265.7 50.3, 265.7 50.4\nL 265.7 32.6\nL 268.8 32.6\nL 268.8 55.5\nL 265.6 55.5\nL 257.6 42.3\nQ 256.7 40.7, 255.7 38.9\nQ 254.7 37.2, 254.4 36.6\nL 254.4 55.5\nL 251.4 55.5\nL 251.4 32.6\nL 255.0 32.6\n' fill='#0000FF'/>\n<path class='atom-4' d='M 251.2 7.5\nL 254.3 7.5\nL 254.3 17.2\nL 265.9 17.2\nL 265.9 7.5\nL 269.0 7.5\nL 269.0 30.3\nL 265.9 30.3\nL 265.9 19.8\nL 254.3 19.8\nL 254.3 30.3\nL 251.2 30.3\nL 251.2 7.5\n' fill='#0000FF'/>\n</svg>\n",
            "image/png": "[encoded data removed]"
          },
          "metadata": {},
          "execution_count": 5
        }
      ],
      "source": [
        "from rdkit.Chem import AllChem\n",
        "mol = Chem.MolFromSmiles(\"O1CC(=O)NC1\")\n",
        "\n",
        "for radius in range(1,8):\n",
        "  fp = AllChem.GetMorganFingerprintAsBitVect(mol,radius,nBits=1024)\n",
        "  print(\"Radius\", radius, \":\", len(list(fp.GetOnBits())), \"bits ON out of the\", len(fp), \"bits in total\")\n",
        "\n",
        "mol"
      ]
    },
    {
      "cell_type": "markdown",
      "metadata": {
        "id": "RLWKEl0b4OzS"
      },
      "source": [
        "## MACCS keys"
      ]
    },
    {
      "cell_type": "code",
      "execution_count": 6,
      "metadata": {
        "id": "IYlS2wrU4QXZ",
        "colab": {
          "base_uri": "https://localhost:8080/",
          "height": 225
        },
        "outputId": "dd00e593-25fe-4c6f-9a8b-4b20169d23bc"
      },
      "outputs": [
        {
          "output_type": "stream",
          "name": "stdout",
          "text": [
            "26 bits ON out of the 167 bits in total\n",
            "[54, 84, 90, 95, 104, 111, 113, 123, 127, 131, 139, 143, 146, 151, 152, 154, 155, 156, 157, 158, 159, 161, 162, 163, 164, 165]\n"
          ]
        },
        {
          "output_type": "execute_result",
          "data": {
            "text/plain": [
              "<rdkit.Chem.rdchem.Mol at 0x7f0cc366a880>"
            ],
            "text/html": [
              "<?xml version='1.0' encoding='iso-8859-1'?>\n",
              "<svg version='1.1' baseProfile='full'\n",
              "              xmlns='http://www.w3.org/2000/svg'\n",
              "                      xmlns:rdkit='http://www.rdkit.org/xml'\n",
              "                      xmlns:xlink='http://www.w3.org/1999/xlink'\n",
              "                  xml:space='preserve'\n",
              "width='450px' height='150px' viewBox='0 0 450 150'>\n",
              "<!-- END OF HEADER -->\n",
              "<rect style='opacity:1.0;fill:#FFFFFF;stroke:none' width='450.0' height='150.0' x='0.0' y='0.0'> </rect>\n",
              "<path class='bond-0 atom-0 atom-1' d='M 165.8,17.0 L 174.6,22.0' style='fill:none;fill-rule:evenodd;stroke:#FF0000;stroke-width:2.0px;stroke-linecap:butt;stroke-linejoin:miter;stroke-opacity:1' />\n",
              "<path class='bond-0 atom-0 atom-1' d='M 174.6,22.0 L 183.3,27.0' style='fill:none;fill-rule:evenodd;stroke:#000000;stroke-width:2.0px;stroke-linecap:butt;stroke-linejoin:miter;stroke-opacity:1' />\n",
              "<path class='bond-1 atom-1 atom-2' d='M 183.3,27.0 L 207.0,13.3' style='fill:none;fill-rule:evenodd;stroke:#000000;stroke-width:2.0px;stroke-linecap:butt;stroke-linejoin:miter;stroke-opacity:1' />\n",
              "<path class='bond-1 atom-1 atom-2' d='M 187.4,29.4 L 207.0,18.1' style='fill:none;fill-rule:evenodd;stroke:#000000;stroke-width:2.0px;stroke-linecap:butt;stroke-linejoin:miter;stroke-opacity:1' />\n",
              "<path class='bond-2 atom-2 atom-3' d='M 207.0,13.3 L 230.7,27.0' style='fill:none;fill-rule:evenodd;stroke:#000000;stroke-width:2.0px;stroke-linecap:butt;stroke-linejoin:miter;stroke-opacity:1' />\n",
              "<path class='bond-3 atom-3 atom-4' d='M 230.7,27.0 L 230.7,54.4' style='fill:none;fill-rule:evenodd;stroke:#000000;stroke-width:2.0px;stroke-linecap:butt;stroke-linejoin:miter;stroke-opacity:1' />\n",
              "<path class='bond-3 atom-3 atom-4' d='M 226.6,29.4 L 226.6,52.0' style='fill:none;fill-rule:evenodd;stroke:#000000;stroke-width:2.0px;stroke-linecap:butt;stroke-linejoin:miter;stroke-opacity:1' />\n",
              "<path class='bond-4 atom-4 atom-5' d='M 230.7,54.4 L 254.5,68.0' style='fill:none;fill-rule:evenodd;stroke:#000000;stroke-width:2.0px;stroke-linecap:butt;stroke-linejoin:miter;stroke-opacity:1' />\n",
              "<path class='bond-5 atom-5 atom-6' d='M 254.5,68.0 L 254.5,95.4' style='fill:none;fill-rule:evenodd;stroke:#000000;stroke-width:2.0px;stroke-linecap:butt;stroke-linejoin:miter;stroke-opacity:1' />\n",
              "<path class='bond-6 atom-6 atom-7' d='M 254.5,95.4 L 245.3,100.7' style='fill:none;fill-rule:evenodd;stroke:#000000;stroke-width:2.0px;stroke-linecap:butt;stroke-linejoin:miter;stroke-opacity:1' />\n",
              "<path class='bond-6 atom-6 atom-7' d='M 245.3,100.7 L 236.1,106.0' style='fill:none;fill-rule:evenodd;stroke:#0000FF;stroke-width:2.0px;stroke-linecap:butt;stroke-linejoin:miter;stroke-opacity:1' />\n",
              "<path class='bond-7 atom-6 atom-8' d='M 254.5,95.4 L 278.2,109.1' style='fill:none;fill-rule:evenodd;stroke:#000000;stroke-width:2.0px;stroke-linecap:butt;stroke-linejoin:miter;stroke-opacity:1' />\n",
              "<path class='bond-8 atom-8 atom-9' d='M 278.2,109.1 L 278.2,119.4' style='fill:none;fill-rule:evenodd;stroke:#000000;stroke-width:2.0px;stroke-linecap:butt;stroke-linejoin:miter;stroke-opacity:1' />\n",
              "<path class='bond-8 atom-8 atom-9' d='M 278.2,119.4 L 278.2,129.7' style='fill:none;fill-rule:evenodd;stroke:#FF0000;stroke-width:2.0px;stroke-linecap:butt;stroke-linejoin:miter;stroke-opacity:1' />\n",
              "<path class='bond-9 atom-8 atom-10' d='M 278.2,111.4 L 287.4,106.1' style='fill:none;fill-rule:evenodd;stroke:#000000;stroke-width:2.0px;stroke-linecap:butt;stroke-linejoin:miter;stroke-opacity:1' />\n",
              "<path class='bond-9 atom-8 atom-10' d='M 287.4,106.1 L 296.7,100.8' style='fill:none;fill-rule:evenodd;stroke:#FF0000;stroke-width:2.0px;stroke-linecap:butt;stroke-linejoin:miter;stroke-opacity:1' />\n",
              "<path class='bond-9 atom-8 atom-10' d='M 276.1,107.9 L 285.4,102.5' style='fill:none;fill-rule:evenodd;stroke:#000000;stroke-width:2.0px;stroke-linecap:butt;stroke-linejoin:miter;stroke-opacity:1' />\n",
              "<path class='bond-9 atom-8 atom-10' d='M 285.4,102.5 L 294.6,97.2' style='fill:none;fill-rule:evenodd;stroke:#FF0000;stroke-width:2.0px;stroke-linecap:butt;stroke-linejoin:miter;stroke-opacity:1' />\n",
              "<path class='bond-10 atom-4 atom-11' d='M 230.7,54.4 L 207.1,68.1' style='fill:none;fill-rule:evenodd;stroke:#000000;stroke-width:2.0px;stroke-linecap:butt;stroke-linejoin:miter;stroke-opacity:1' />\n",
              "<path class='bond-11 atom-11 atom-12' d='M 207.1,68.1 L 183.3,54.4' style='fill:none;fill-rule:evenodd;stroke:#000000;stroke-width:2.0px;stroke-linecap:butt;stroke-linejoin:miter;stroke-opacity:1' />\n",
              "<path class='bond-11 atom-11 atom-12' d='M 207.0,63.3 L 187.4,52.0' style='fill:none;fill-rule:evenodd;stroke:#000000;stroke-width:2.0px;stroke-linecap:butt;stroke-linejoin:miter;stroke-opacity:1' />\n",
              "<path class='bond-12 atom-12 atom-1' d='M 183.3,54.4 L 183.3,27.0' style='fill:none;fill-rule:evenodd;stroke:#000000;stroke-width:2.0px;stroke-linecap:butt;stroke-linejoin:miter;stroke-opacity:1' />\n",
              "<path d='M 205.8,14.0 L 207.0,13.3 L 208.2,14.0' style='fill:none;stroke:#000000;stroke-width:2.0px;stroke-linecap:butt;stroke-linejoin:miter;stroke-miterlimit:10;stroke-opacity:1;' />\n",
              "<path d='M 229.5,26.3 L 230.7,27.0 L 230.7,28.4' style='fill:none;stroke:#000000;stroke-width:2.0px;stroke-linecap:butt;stroke-linejoin:miter;stroke-miterlimit:10;stroke-opacity:1;' />\n",
              "<path d='M 253.3,67.4 L 254.5,68.0 L 254.5,69.4' style='fill:none;stroke:#000000;stroke-width:2.0px;stroke-linecap:butt;stroke-linejoin:miter;stroke-miterlimit:10;stroke-opacity:1;' />\n",
              "<path d='M 277.0,108.4 L 278.2,109.1 L 278.2,109.6' style='fill:none;stroke:#000000;stroke-width:2.0px;stroke-linecap:butt;stroke-linejoin:miter;stroke-miterlimit:10;stroke-opacity:1;' />\n",
              "<path d='M 208.2,67.4 L 207.1,68.1 L 205.9,67.4' style='fill:none;stroke:#000000;stroke-width:2.0px;stroke-linecap:butt;stroke-linejoin:miter;stroke-miterlimit:10;stroke-opacity:1;' />\n",
              "<path d='M 184.5,55.1 L 183.3,54.4 L 183.3,53.0' style='fill:none;stroke:#000000;stroke-width:2.0px;stroke-linecap:butt;stroke-linejoin:miter;stroke-miterlimit:10;stroke-opacity:1;' />\n",
              "<path class='atom-0' d='M 142.8 7.6\n",
              "L 144.4 7.6\n",
              "L 144.4 12.6\n",
              "L 150.3 12.6\n",
              "L 150.3 7.6\n",
              "L 151.9 7.6\n",
              "L 151.9 19.3\n",
              "L 150.3 19.3\n",
              "L 150.3 13.9\n",
              "L 144.4 13.9\n",
              "L 144.4 19.3\n",
              "L 142.8 19.3\n",
              "L 142.8 7.6\n",
              "' fill='#FF0000'/>\n",
              "<path class='atom-0' d='M 154.3 13.4\n",
              "Q 154.3 10.6, 155.6 9.1\n",
              "Q 157.0 7.5, 159.6 7.5\n",
              "Q 162.2 7.5, 163.6 9.1\n",
              "Q 164.9 10.6, 164.9 13.4\n",
              "Q 164.9 16.2, 163.5 17.8\n",
              "Q 162.1 19.4, 159.6 19.4\n",
              "Q 157.0 19.4, 155.6 17.8\n",
              "Q 154.3 16.3, 154.3 13.4\n",
              "M 159.6 18.1\n",
              "Q 161.4 18.1, 162.3 16.9\n",
              "Q 163.3 15.7, 163.3 13.4\n",
              "Q 163.3 11.1, 162.3 10.0\n",
              "Q 161.4 8.8, 159.6 8.8\n",
              "Q 157.8 8.8, 156.9 10.0\n",
              "Q 155.9 11.1, 155.9 13.4\n",
              "Q 155.9 15.8, 156.9 16.9\n",
              "Q 157.8 18.1, 159.6 18.1\n",
              "' fill='#FF0000'/>\n",
              "<path class='atom-7' d='M 208.3 103.3\n",
              "L 209.9 103.3\n",
              "L 209.9 108.2\n",
              "L 215.9 108.2\n",
              "L 215.9 103.3\n",
              "L 217.4 103.3\n",
              "L 217.4 114.9\n",
              "L 215.9 114.9\n",
              "L 215.9 109.6\n",
              "L 209.9 109.6\n",
              "L 209.9 114.9\n",
              "L 208.3 114.9\n",
              "L 208.3 103.3\n",
              "' fill='#0000FF'/>\n",
              "<path class='atom-7' d='M 219.7 114.5\n",
              "Q 220.0 113.8, 220.7 113.4\n",
              "Q 221.3 113.0, 222.3 113.0\n",
              "Q 223.4 113.0, 224.1 113.6\n",
              "Q 224.7 114.2, 224.7 115.3\n",
              "Q 224.7 116.5, 223.9 117.5\n",
              "Q 223.1 118.6, 221.3 119.9\n",
              "L 224.9 119.9\n",
              "L 224.9 120.7\n",
              "L 219.7 120.7\n",
              "L 219.7 120.0\n",
              "Q 221.1 119.0, 222.0 118.2\n",
              "Q 222.8 117.5, 223.2 116.8\n",
              "Q 223.7 116.1, 223.7 115.4\n",
              "Q 223.7 114.7, 223.3 114.3\n",
              "Q 222.9 113.8, 222.3 113.8\n",
              "Q 221.7 113.8, 221.2 114.1\n",
              "Q 220.8 114.3, 220.5 114.9\n",
              "L 219.7 114.5\n",
              "' fill='#0000FF'/>\n",
              "<path class='atom-7' d='M 228.2 103.3\n",
              "L 232.0 109.5\n",
              "Q 232.4 110.1, 233.0 111.2\n",
              "Q 233.6 112.3, 233.7 112.3\n",
              "L 233.7 103.3\n",
              "L 235.2 103.3\n",
              "L 235.2 114.9\n",
              "L 233.6 114.9\n",
              "L 229.5 108.2\n",
              "Q 229.0 107.4, 228.5 106.5\n",
              "Q 228.0 105.6, 227.9 105.3\n",
              "L 227.9 114.9\n",
              "L 226.4 114.9\n",
              "L 226.4 103.3\n",
              "L 228.2 103.3\n",
              "' fill='#0000FF'/>\n",
              "<path class='atom-9' d='M 272.9 136.5\n",
              "Q 272.9 133.7, 274.3 132.1\n",
              "Q 275.6 130.6, 278.2 130.6\n",
              "Q 280.8 130.6, 282.2 132.1\n",
              "Q 283.5 133.7, 283.5 136.5\n",
              "Q 283.5 139.3, 282.2 140.9\n",
              "Q 280.8 142.5, 278.2 142.5\n",
              "Q 275.6 142.5, 274.3 140.9\n",
              "Q 272.9 139.3, 272.9 136.5\n",
              "M 278.2 141.2\n",
              "Q 280.0 141.2, 280.9 140.0\n",
              "Q 281.9 138.8, 281.9 136.5\n",
              "Q 281.9 134.2, 280.9 133.0\n",
              "Q 280.0 131.9, 278.2 131.9\n",
              "Q 276.4 131.9, 275.5 133.0\n",
              "Q 274.5 134.2, 274.5 136.5\n",
              "Q 274.5 138.8, 275.5 140.0\n",
              "Q 276.4 141.2, 278.2 141.2\n",
              "' fill='#FF0000'/>\n",
              "<path class='atom-9' d='M 285.4 130.7\n",
              "L 286.9 130.7\n",
              "L 286.9 135.6\n",
              "L 292.9 135.6\n",
              "L 292.9 130.7\n",
              "L 294.5 130.7\n",
              "L 294.5 142.3\n",
              "L 292.9 142.3\n",
              "L 292.9 136.9\n",
              "L 286.9 136.9\n",
              "L 286.9 142.3\n",
              "L 285.4 142.3\n",
              "L 285.4 130.7\n",
              "' fill='#FF0000'/>\n",
              "<path class='atom-10' d='M 296.5 95.4\n",
              "Q 296.5 92.6, 297.9 91.1\n",
              "Q 299.3 89.5, 301.9 89.5\n",
              "Q 304.5 89.5, 305.8 91.1\n",
              "Q 307.2 92.6, 307.2 95.4\n",
              "Q 307.2 98.2, 305.8 99.8\n",
              "Q 304.4 101.4, 301.9 101.4\n",
              "Q 299.3 101.4, 297.9 99.8\n",
              "Q 296.5 98.2, 296.5 95.4\n",
              "M 301.9 100.1\n",
              "Q 303.7 100.1, 304.6 98.9\n",
              "Q 305.6 97.7, 305.6 95.4\n",
              "Q 305.6 93.1, 304.6 92.0\n",
              "Q 303.7 90.8, 301.9 90.8\n",
              "Q 300.1 90.8, 299.1 92.0\n",
              "Q 298.2 93.1, 298.2 95.4\n",
              "Q 298.2 97.8, 299.1 98.9\n",
              "Q 300.1 100.1, 301.9 100.1\n",
              "' fill='#FF0000'/>\n",
              "</svg>\n"
            ],
            "image/svg+xml": "<?xml version='1.0' encoding='iso-8859-1'?>\n<svg version='1.1' baseProfile='full'\n              xmlns='http://www.w3.org/2000/svg'\n                      xmlns:rdkit='http://www.rdkit.org/xml'\n                      xmlns:xlink='http://www.w3.org/1999/xlink'\n                  xml:space='preserve'\nwidth='450px' height='150px' viewBox='0 0 450 150'>\n<!-- END OF HEADER -->\n<rect style='opacity:1.0;fill:#FFFFFF;stroke:none' width='450.0' height='150.0' x='0.0' y='0.0'> </rect>\n<path class='bond-0 atom-0 atom-1' d='M 165.8,17.0 L 174.6,22.0' style='fill:none;fill-rule:evenodd;stroke:#FF0000;stroke-width:2.0px;stroke-linecap:butt;stroke-linejoin:miter;stroke-opacity:1' />\n<path class='bond-0 atom-0 atom-1' d='M 174.6,22.0 L 183.3,27.0' style='fill:none;fill-rule:evenodd;stroke:#000000;stroke-width:2.0px;stroke-linecap:butt;stroke-linejoin:miter;stroke-opacity:1' />\n<path class='bond-1 atom-1 atom-2' d='M 183.3,27.0 L 207.0,13.3' style='fill:none;fill-rule:evenodd;stroke:#000000;stroke-width:2.0px;stroke-linecap:butt;stroke-linejoin:miter;stroke-opacity:1' />\n<path class='bond-1 atom-1 atom-2' d='M 187.4,29.4 L 207.0,18.1' style='fill:none;fill-rule:evenodd;stroke:#000000;stroke-width:2.0px;stroke-linecap:butt;stroke-linejoin:miter;stroke-opacity:1' />\n<path class='bond-2 atom-2 atom-3' d='M 207.0,13.3 L 230.7,27.0' style='fill:none;fill-rule:evenodd;stroke:#000000;stroke-width:2.0px;stroke-linecap:butt;stroke-linejoin:miter;stroke-opacity:1' />\n<path class='bond-3 atom-3 atom-4' d='M 230.7,27.0 L 230.7,54.4' style='fill:none;fill-rule:evenodd;stroke:#000000;stroke-width:2.0px;stroke-linecap:butt;stroke-linejoin:miter;stroke-opacity:1' />\n<path class='bond-3 atom-3 atom-4' d='M 226.6,29.4 L 226.6,52.0' style='fill:none;fill-rule:evenodd;stroke:#000000;stroke-width:2.0px;stroke-linecap:butt;stroke-linejoin:miter;stroke-opacity:1' />\n<path class='bond-4 atom-4 atom-5' d='M 230.7,54.4 L 254.5,68.0' style='fill:none;fill-rule:evenodd;stroke:#000000;stroke-width:2.0px;stroke-linecap:butt;stroke-linejoin:miter;stroke-opacity:1' />\n<path class='bond-5 atom-5 atom-6' d='M 254.5,68.0 L 254.5,95.4' style='fill:none;fill-rule:evenodd;stroke:#000000;stroke-width:2.0px;stroke-linecap:butt;stroke-linejoin:miter;stroke-opacity:1' />\n<path class='bond-6 atom-6 atom-7' d='M 254.5,95.4 L 245.3,100.7' style='fill:none;fill-rule:evenodd;stroke:#000000;stroke-width:2.0px;stroke-linecap:butt;stroke-linejoin:miter;stroke-opacity:1' />\n<path class='bond-6 atom-6 atom-7' d='M 245.3,100.7 L 236.1,106.0' style='fill:none;fill-rule:evenodd;stroke:#0000FF;stroke-width:2.0px;stroke-linecap:butt;stroke-linejoin:miter;stroke-opacity:1' />\n<path class='bond-7 atom-6 atom-8' d='M 254.5,95.4 L 278.2,109.1' style='fill:none;fill-rule:evenodd;stroke:#000000;stroke-width:2.0px;stroke-linecap:butt;stroke-linejoin:miter;stroke-opacity:1' />\n<path class='bond-8 atom-8 atom-9' d='M 278.2,109.1 L 278.2,119.4' style='fill:none;fill-rule:evenodd;stroke:#000000;stroke-width:2.0px;stroke-linecap:butt;stroke-linejoin:miter;stroke-opacity:1' />\n<path class='bond-8 atom-8 atom-9' d='M 278.2,119.4 L 278.2,129.7' style='fill:none;fill-rule:evenodd;stroke:#FF0000;stroke-width:2.0px;stroke-linecap:butt;stroke-linejoin:miter;stroke-opacity:1' />\n<path class='bond-9 atom-8 atom-10' d='M 278.2,111.4 L 287.4,106.1' style='fill:none;fill-rule:evenodd;stroke:#000000;stroke-width:2.0px;stroke-linecap:butt;stroke-linejoin:miter;stroke-opacity:1' />\n<path class='bond-9 atom-8 atom-10' d='M 287.4,106.1 L 296.7,100.8' style='fill:none;fill-rule:evenodd;stroke:#FF0000;stroke-width:2.0px;stroke-linecap:butt;stroke-linejoin:miter;stroke-opacity:1' />\n<path class='bond-9 atom-8 atom-10' d='M 276.1,107.9 L 285.4,102.5' style='fill:none;fill-rule:evenodd;stroke:#000000;stroke-width:2.0px;stroke-linecap:butt;stroke-linejoin:miter;stroke-opacity:1' />\n<path class='bond-9 atom-8 atom-10' d='M 285.4,102.5 L 294.6,97.2' style='fill:none;fill-rule:evenodd;stroke:#FF0000;stroke-width:2.0px;stroke-linecap:butt;stroke-linejoin:miter;stroke-opacity:1' />\n<path class='bond-10 atom-4 atom-11' d='M 230.7,54.4 L 207.1,68.1' style='fill:none;fill-rule:evenodd;stroke:#000000;stroke-width:2.0px;stroke-linecap:butt;stroke-linejoin:miter;stroke-opacity:1' />\n<path class='bond-11 atom-11 atom-12' d='M 207.1,68.1 L 183.3,54.4' style='fill:none;fill-rule:evenodd;stroke:#000000;stroke-width:2.0px;stroke-linecap:butt;stroke-linejoin:miter;stroke-opacity:1' />\n<path class='bond-11 atom-11 atom-12' d='M 207.0,63.3 L 187.4,52.0' style='fill:none;fill-rule:evenodd;stroke:#000000;stroke-width:2.0px;stroke-linecap:butt;stroke-linejoin:miter;stroke-opacity:1' />\n<path class='bond-12 atom-12 atom-1' d='M 183.3,54.4 L 183.3,27.0' style='fill:none;fill-rule:evenodd;stroke:#000000;stroke-width:2.0px;stroke-linecap:butt;stroke-linejoin:miter;stroke-opacity:1' />\n<path d='M 205.8,14.0 L 207.0,13.3 L 208.2,14.0' style='fill:none;stroke:#000000;stroke-width:2.0px;stroke-linecap:butt;stroke-linejoin:miter;stroke-miterlimit:10;stroke-opacity:1;' />\n<path d='M 229.5,26.3 L 230.7,27.0 L 230.7,28.4' style='fill:none;stroke:#000000;stroke-width:2.0px;stroke-linecap:butt;stroke-linejoin:miter;stroke-miterlimit:10;stroke-opacity:1;' />\n<path d='M 253.3,67.4 L 254.5,68.0 L 254.5,69.4' style='fill:none;stroke:#000000;stroke-width:2.0px;stroke-linecap:butt;stroke-linejoin:miter;stroke-miterlimit:10;stroke-opacity:1;' />\n<path d='M 277.0,108.4 L 278.2,109.1 L 278.2,109.6' style='fill:none;stroke:#000000;stroke-width:2.0px;stroke-linecap:butt;stroke-linejoin:miter;stroke-miterlimit:10;stroke-opacity:1;' />\n<path d='M 208.2,67.4 L 207.1,68.1 L 205.9,67.4' style='fill:none;stroke:#000000;stroke-width:2.0px;stroke-linecap:butt;stroke-linejoin:miter;stroke-miterlimit:10;stroke-opacity:1;' />\n<path d='M 184.5,55.1 L 183.3,54.4 L 183.3,53.0' style='fill:none;stroke:#000000;stroke-width:2.0px;stroke-linecap:butt;stroke-linejoin:miter;stroke-miterlimit:10;stroke-opacity:1;' />\n<path class='atom-0' d='M 142.8 7.6\nL 144.4 7.6\nL 144.4 12.6\nL 150.3 12.6\nL 150.3 7.6\nL 151.9 7.6\nL 151.9 19.3\nL 150.3 19.3\nL 150.3 13.9\nL 144.4 13.9\nL 144.4 19.3\nL 142.8 19.3\nL 142.8 7.6\n' fill='#FF0000'/>\n<path class='atom-0' d='M 154.3 13.4\nQ 154.3 10.6, 155.6 9.1\nQ 157.0 7.5, 159.6 7.5\nQ 162.2 7.5, 163.6 9.1\nQ 164.9 10.6, 164.9 13.4\nQ 164.9 16.2, 163.5 17.8\nQ 162.1 19.4, 159.6 19.4\nQ 157.0 19.4, 155.6 17.8\nQ 154.3 16.3, 154.3 13.4\nM 159.6 18.1\nQ 161.4 18.1, 162.3 16.9\nQ 163.3 15.7, 163.3 13.4\nQ 163.3 11.1, 162.3 10.0\nQ 161.4 8.8, 159.6 8.8\nQ 157.8 8.8, 156.9 10.0\nQ 155.9 11.1, 155.9 13.4\nQ 155.9 15.8, 156.9 16.9\nQ 157.8 18.1, 159.6 18.1\n' fill='#FF0000'/>\n<path class='atom-7' d='M 208.3 103.3\nL 209.9 103.3\nL 209.9 108.2\nL 215.9 108.2\nL 215.9 103.3\nL 217.4 103.3\nL 217.4 114.9\nL 215.9 114.9\nL 215.9 109.6\nL 209.9 109.6\nL 209.9 114.9\nL 208.3 114.9\nL 208.3 103.3\n' fill='#0000FF'/>\n<path class='atom-7' d='M 219.7 114.5\nQ 220.0 113.8, 220.7 113.4\nQ 221.3 113.0, 222.3 113.0\nQ 223.4 113.0, 224.1 113.6\nQ 224.7 114.2, 224.7 115.3\nQ 224.7 116.5, 223.9 117.5\nQ 223.1 118.6, 221.3 119.9\nL 224.9 119.9\nL 224.9 120.7\nL 219.7 120.7\nL 219.7 120.0\nQ 221.1 119.0, 222.0 118.2\nQ 222.8 117.5, 223.2 116.8\nQ 223.7 116.1, 223.7 115.4\nQ 223.7 114.7, 223.3 114.3\nQ 222.9 113.8, 222.3 113.8\nQ 221.7 113.8, 221.2 114.1\nQ 220.8 114.3, 220.5 114.9\nL 219.7 114.5\n' fill='#0000FF'/>\n<path class='atom-7' d='M 228.2 103.3\nL 232.0 109.5\nQ 232.4 110.1, 233.0 111.2\nQ 233.6 112.3, 233.7 112.3\nL 233.7 103.3\nL 235.2 103.3\nL 235.2 114.9\nL 233.6 114.9\nL 229.5 108.2\nQ 229.0 107.4, 228.5 106.5\nQ 228.0 105.6, 227.9 105.3\nL 227.9 114.9\nL 226.4 114.9\nL 226.4 103.3\nL 228.2 103.3\n' fill='#0000FF'/>\n<path class='atom-9' d='M 272.9 136.5\nQ 272.9 133.7, 274.3 132.1\nQ 275.6 130.6, 278.2 130.6\nQ 280.8 130.6, 282.2 132.1\nQ 283.5 133.7, 283.5 136.5\nQ 283.5 139.3, 282.2 140.9\nQ 280.8 142.5, 278.2 142.5\nQ 275.6 142.5, 274.3 140.9\nQ 272.9 139.3, 272.9 136.5\nM 278.2 141.2\nQ 280.0 141.2, 280.9 140.0\nQ 281.9 138.8, 281.9 136.5\nQ 281.9 134.2, 280.9 133.0\nQ 280.0 131.9, 278.2 131.9\nQ 276.4 131.9, 275.5 133.0\nQ 274.5 134.2, 274.5 136.5\nQ 274.5 138.8, 275.5 140.0\nQ 276.4 141.2, 278.2 141.2\n' fill='#FF0000'/>\n<path class='atom-9' d='M 285.4 130.7\nL 286.9 130.7\nL 286.9 135.6\nL 292.9 135.6\nL 292.9 130.7\nL 294.5 130.7\nL 294.5 142.3\nL 292.9 142.3\nL 292.9 136.9\nL 286.9 136.9\nL 286.9 142.3\nL 285.4 142.3\nL 285.4 130.7\n' fill='#FF0000'/>\n<path class='atom-10' d='M 296.5 95.4\nQ 296.5 92.6, 297.9 91.1\nQ 299.3 89.5, 301.9 89.5\nQ 304.5 89.5, 305.8 91.1\nQ 307.2 92.6, 307.2 95.4\nQ 307.2 98.2, 305.8 99.8\nQ 304.4 101.4, 301.9 101.4\nQ 299.3 101.4, 297.9 99.8\nQ 296.5 98.2, 296.5 95.4\nM 301.9 100.1\nQ 303.7 100.1, 304.6 98.9\nQ 305.6 97.7, 305.6 95.4\nQ 305.6 93.1, 304.6 92.0\nQ 303.7 90.8, 301.9 90.8\nQ 300.1 90.8, 299.1 92.0\nQ 298.2 93.1, 298.2 95.4\nQ 298.2 97.8, 299.1 98.9\nQ 300.1 100.1, 301.9 100.1\n' fill='#FF0000'/>\n</svg>\n",
            "image/png": "[encoded data removed]"
          },
          "metadata": {},
          "execution_count": 6
        }
      ],
      "source": [
        "from rdkit.Chem import MACCSkeys\n",
        "\n",
        "mol = Chem.MolFromSmiles(\"Oc1ccc(CC(N)C(O)=O)cc1\")\n",
        "fp = MACCSkeys.GenMACCSKeys(mol)\n",
        "print(len(list(fp.GetOnBits())), \"bits ON out of the\", len(fp), \"bits in total\")\n",
        "print(list(fp.GetOnBits()))\n",
        "mol"
      ]
    },
    {
      "cell_type": "markdown",
      "metadata": {
        "id": "Yf0lDgH96sZw"
      },
      "source": [
        "## Calculating similarity"
      ]
    },
    {
      "cell_type": "code",
      "execution_count": 7,
      "metadata": {
        "id": "Th6E38cO6ulz",
        "colab": {
          "base_uri": "https://localhost:8080/"
        },
        "outputId": "2e8e4eff-9130-4976-9f51-61ed392e1201"
      },
      "outputs": [
        {
          "output_type": "stream",
          "name": "stdout",
          "text": [
            "00000000101000001000001011010000000000000001000100\n",
            "00000000001000001000000011010000000000000000000000\n",
            "0.5555555555555556\n"
          ]
        }
      ],
      "source": [
        "from rdkit import DataStructs\n",
        "\n",
        "mol1 = Chem.MolFromSmiles(\"CCOC\")\n",
        "fp1 = Chem.RDKFingerprint(mol1, fpSize=50)\n",
        "print(fp1.ToBitString())\n",
        "\n",
        "mol2 = Chem.MolFromSmiles(\"CCO\")\n",
        "fp2 = Chem.RDKFingerprint(mol2, fpSize=50)\n",
        "print(fp2.ToBitString())\n",
        "\n",
        "tanimoto = DataStructs.FingerprintSimilarity(fp1, fp2)\n",
        "print(tanimoto)"
      ]
    },
    {
      "cell_type": "code",
      "execution_count": 8,
      "metadata": {
        "id": "23oETgsTiG2y",
        "colab": {
          "base_uri": "https://localhost:8080/"
        },
        "outputId": "a8061b4e-4f56-4f9b-add0-d5cd47a1b209"
      },
      "outputs": [
        {
          "output_type": "stream",
          "name": "stdout",
          "text": [
            "0.71\n",
            "1.00\n",
            "0.48\n",
            "\n",
            "0.22\n",
            "1.00\n",
            "0.89\n"
          ]
        }
      ],
      "source": [
        "smiles = [\"CO\", \"CCCO\", \"CCCOCCC\"]\n",
        "mols = []\n",
        "for s in smiles: mols.append(Chem.MolFromSmiles(s))\n",
        "fps = []\n",
        "for mol in mols: fps.append(Chem.RDKFingerprint(mol))\n",
        "ref = Chem.RDKFingerprint(Chem.MolFromSmiles(\"CCCO\"))\n",
        "\n",
        "for fp in fps:\n",
        "  tversky = DataStructs.TverskySimilarity(ref, fp, 0.1, 0.9)\n",
        "  print(\"%.2f\" % tversky)\n",
        "\n",
        "print()\n",
        "for fp in fps:\n",
        "  tversky = DataStructs.TverskySimilarity(ref, fp, 0.9, 0.1)\n",
        "  print(\"%.2f\" % tversky)\n"
      ]
    },
    {
      "cell_type": "markdown",
      "metadata": {
        "id": "xhpdJmfpAo1Z"
      },
      "source": [
        "## Similarity in practice\n",
        "\n",
        "In this exercise, a file with 10,000 compounds (SMILES format) is downloaded from the UAMC GitHub repo, and then a similarity search is performed to identify the compound that is most similar to aspirin (\"CC(=O)OC1=CC=CC=C1C(=O)O\")"
      ]
    },
    {
      "cell_type": "code",
      "execution_count": 9,
      "metadata": {
        "id": "B_M6A5ZPBPgl"
      },
      "outputs": [],
      "source": [
        "url = \"https://raw.githubusercontent.com/UAMCAntwerpen/2040FBDBIC/master/Topic_02/Compounds_10k.smi\"\n",
        "smiles = requests.get(url).text.split(\"\\n\")"
      ]
    },
    {
      "cell_type": "markdown",
      "metadata": {
        "id": "3OlEaueYXwDJ"
      },
      "source": [
        "Aspirin is the query molecule:"
      ]
    },
    {
      "cell_type": "code",
      "execution_count": 10,
      "metadata": {
        "id": "4SgPlyRJXpwU",
        "colab": {
          "base_uri": "https://localhost:8080/",
          "height": 191
        },
        "outputId": "3bd5206e-5aec-4e3b-9dda-d6c5f030f63a"
      },
      "outputs": [
        {
          "output_type": "execute_result",
          "data": {
            "text/plain": [
              "<rdkit.Chem.rdchem.Mol at 0x7f0cc2addaf0>"
            ],
            "text/html": [
              "<?xml version='1.0' encoding='iso-8859-1'?>\n",
              "<svg version='1.1' baseProfile='full'\n",
              "              xmlns='http://www.w3.org/2000/svg'\n",
              "                      xmlns:rdkit='http://www.rdkit.org/xml'\n",
              "                      xmlns:xlink='http://www.w3.org/1999/xlink'\n",
              "                  xml:space='preserve'\n",
              "width='450px' height='150px' viewBox='0 0 450 150'>\n",
              "<!-- END OF HEADER -->\n",
              "<rect style='opacity:1.0;fill:#FFFFFF;stroke:none' width='450.0' height='150.0' x='0.0' y='0.0'> </rect>\n",
              "<path class='bond-0 atom-0 atom-1' d='M 135.5,69.6 L 166.9,87.8' style='fill:none;fill-rule:evenodd;stroke:#000000;stroke-width:2.0px;stroke-linecap:butt;stroke-linejoin:miter;stroke-opacity:1' />\n",
              "<path class='bond-1 atom-1 atom-2' d='M 164.2,86.2 L 164.2,100.7' style='fill:none;fill-rule:evenodd;stroke:#000000;stroke-width:2.0px;stroke-linecap:butt;stroke-linejoin:miter;stroke-opacity:1' />\n",
              "<path class='bond-1 atom-1 atom-2' d='M 164.2,100.7 L 164.2,115.1' style='fill:none;fill-rule:evenodd;stroke:#FF0000;stroke-width:2.0px;stroke-linecap:butt;stroke-linejoin:miter;stroke-opacity:1' />\n",
              "<path class='bond-1 atom-1 atom-2' d='M 169.7,86.3 L 169.6,100.7' style='fill:none;fill-rule:evenodd;stroke:#000000;stroke-width:2.0px;stroke-linecap:butt;stroke-linejoin:miter;stroke-opacity:1' />\n",
              "<path class='bond-1 atom-1 atom-2' d='M 169.6,100.7 L 169.6,115.2' style='fill:none;fill-rule:evenodd;stroke:#FF0000;stroke-width:2.0px;stroke-linecap:butt;stroke-linejoin:miter;stroke-opacity:1' />\n",
              "<path class='bond-2 atom-1 atom-3' d='M 166.9,87.8 L 178.6,81.2' style='fill:none;fill-rule:evenodd;stroke:#000000;stroke-width:2.0px;stroke-linecap:butt;stroke-linejoin:miter;stroke-opacity:1' />\n",
              "<path class='bond-2 atom-1 atom-3' d='M 178.6,81.2 L 190.2,74.5' style='fill:none;fill-rule:evenodd;stroke:#FF0000;stroke-width:2.0px;stroke-linecap:butt;stroke-linejoin:miter;stroke-opacity:1' />\n",
              "<path class='bond-3 atom-3 atom-4' d='M 206.7,74.5 L 218.3,81.2' style='fill:none;fill-rule:evenodd;stroke:#FF0000;stroke-width:2.0px;stroke-linecap:butt;stroke-linejoin:miter;stroke-opacity:1' />\n",
              "<path class='bond-3 atom-3 atom-4' d='M 218.3,81.2 L 229.9,87.9' style='fill:none;fill-rule:evenodd;stroke:#000000;stroke-width:2.0px;stroke-linecap:butt;stroke-linejoin:miter;stroke-opacity:1' />\n",
              "<path class='bond-4 atom-4 atom-5' d='M 229.9,87.9 L 229.8,124.3' style='fill:none;fill-rule:evenodd;stroke:#000000;stroke-width:2.0px;stroke-linecap:butt;stroke-linejoin:miter;stroke-opacity:1' />\n",
              "<path class='bond-4 atom-4 atom-5' d='M 235.3,91.1 L 235.2,121.1' style='fill:none;fill-rule:evenodd;stroke:#000000;stroke-width:2.0px;stroke-linecap:butt;stroke-linejoin:miter;stroke-opacity:1' />\n",
              "<path class='bond-5 atom-5 atom-6' d='M 229.8,124.3 L 261.2,142.5' style='fill:none;fill-rule:evenodd;stroke:#000000;stroke-width:2.0px;stroke-linecap:butt;stroke-linejoin:miter;stroke-opacity:1' />\n",
              "<path class='bond-6 atom-6 atom-7' d='M 261.2,142.5 L 292.7,124.4' style='fill:none;fill-rule:evenodd;stroke:#000000;stroke-width:2.0px;stroke-linecap:butt;stroke-linejoin:miter;stroke-opacity:1' />\n",
              "<path class='bond-6 atom-6 atom-7' d='M 261.2,136.2 L 287.3,121.2' style='fill:none;fill-rule:evenodd;stroke:#000000;stroke-width:2.0px;stroke-linecap:butt;stroke-linejoin:miter;stroke-opacity:1' />\n",
              "<path class='bond-7 atom-7 atom-8' d='M 292.7,124.4 L 292.8,88.1' style='fill:none;fill-rule:evenodd;stroke:#000000;stroke-width:2.0px;stroke-linecap:butt;stroke-linejoin:miter;stroke-opacity:1' />\n",
              "<path class='bond-8 atom-8 atom-9' d='M 292.8,88.1 L 261.4,69.8' style='fill:none;fill-rule:evenodd;stroke:#000000;stroke-width:2.0px;stroke-linecap:butt;stroke-linejoin:miter;stroke-opacity:1' />\n",
              "<path class='bond-8 atom-8 atom-9' d='M 287.3,91.2 L 261.3,76.1' style='fill:none;fill-rule:evenodd;stroke:#000000;stroke-width:2.0px;stroke-linecap:butt;stroke-linejoin:miter;stroke-opacity:1' />\n",
              "<path class='bond-9 atom-9 atom-10' d='M 261.4,69.8 L 261.4,33.5' style='fill:none;fill-rule:evenodd;stroke:#000000;stroke-width:2.0px;stroke-linecap:butt;stroke-linejoin:miter;stroke-opacity:1' />\n",
              "<path class='bond-10 atom-10 atom-11' d='M 264.2,32.0 L 251.9,24.9' style='fill:none;fill-rule:evenodd;stroke:#000000;stroke-width:2.0px;stroke-linecap:butt;stroke-linejoin:miter;stroke-opacity:1' />\n",
              "<path class='bond-10 atom-10 atom-11' d='M 251.9,24.9 L 239.7,17.8' style='fill:none;fill-rule:evenodd;stroke:#FF0000;stroke-width:2.0px;stroke-linecap:butt;stroke-linejoin:miter;stroke-opacity:1' />\n",
              "<path class='bond-10 atom-10 atom-11' d='M 261.4,36.7 L 249.2,29.6' style='fill:none;fill-rule:evenodd;stroke:#000000;stroke-width:2.0px;stroke-linecap:butt;stroke-linejoin:miter;stroke-opacity:1' />\n",
              "<path class='bond-10 atom-10 atom-11' d='M 249.2,29.6 L 236.9,22.5' style='fill:none;fill-rule:evenodd;stroke:#FF0000;stroke-width:2.0px;stroke-linecap:butt;stroke-linejoin:miter;stroke-opacity:1' />\n",
              "<path class='bond-11 atom-10 atom-12' d='M 261.4,33.5 L 273.0,26.9' style='fill:none;fill-rule:evenodd;stroke:#000000;stroke-width:2.0px;stroke-linecap:butt;stroke-linejoin:miter;stroke-opacity:1' />\n",
              "<path class='bond-11 atom-10 atom-12' d='M 273.0,26.9 L 284.6,20.2' style='fill:none;fill-rule:evenodd;stroke:#FF0000;stroke-width:2.0px;stroke-linecap:butt;stroke-linejoin:miter;stroke-opacity:1' />\n",
              "<path class='bond-12 atom-9 atom-4' d='M 261.4,69.8 L 229.9,87.9' style='fill:none;fill-rule:evenodd;stroke:#000000;stroke-width:2.0px;stroke-linecap:butt;stroke-linejoin:miter;stroke-opacity:1' />\n",
              "<path d='M 165.4,86.9 L 166.9,87.8 L 167.5,87.5' style='fill:none;stroke:#000000;stroke-width:2.0px;stroke-linecap:butt;stroke-linejoin:miter;stroke-miterlimit:10;stroke-opacity:1;' />\n",
              "<path d='M 229.8,122.5 L 229.8,124.3 L 231.4,125.2' style='fill:none;stroke:#000000;stroke-width:2.0px;stroke-linecap:butt;stroke-linejoin:miter;stroke-miterlimit:10;stroke-opacity:1;' />\n",
              "<path d='M 259.6,141.6 L 261.2,142.5 L 262.8,141.6' style='fill:none;stroke:#000000;stroke-width:2.0px;stroke-linecap:butt;stroke-linejoin:miter;stroke-miterlimit:10;stroke-opacity:1;' />\n",
              "<path d='M 291.1,125.3 L 292.7,124.4 L 292.7,122.6' style='fill:none;stroke:#000000;stroke-width:2.0px;stroke-linecap:butt;stroke-linejoin:miter;stroke-miterlimit:10;stroke-opacity:1;' />\n",
              "<path d='M 292.8,89.9 L 292.8,88.1 L 291.2,87.2' style='fill:none;stroke:#000000;stroke-width:2.0px;stroke-linecap:butt;stroke-linejoin:miter;stroke-miterlimit:10;stroke-opacity:1;' />\n",
              "<path d='M 261.4,35.3 L 261.4,33.5 L 262.0,33.2' style='fill:none;stroke:#000000;stroke-width:2.0px;stroke-linecap:butt;stroke-linejoin:miter;stroke-miterlimit:10;stroke-opacity:1;' />\n",
              "<path class='atom-2' d='M 159.8 124.2\n",
              "Q 159.8 120.5, 161.6 118.4\n",
              "Q 163.4 116.3, 166.9 116.3\n",
              "Q 170.3 116.3, 172.1 118.4\n",
              "Q 173.9 120.5, 173.9 124.2\n",
              "Q 173.9 127.9, 172.1 130.1\n",
              "Q 170.2 132.2, 166.9 132.2\n",
              "Q 163.5 132.2, 161.6 130.1\n",
              "Q 159.8 128.0, 159.8 124.2\n",
              "M 166.9 130.4\n",
              "Q 169.2 130.4, 170.5 128.9\n",
              "Q 171.8 127.3, 171.8 124.2\n",
              "Q 171.8 121.2, 170.5 119.6\n",
              "Q 169.2 118.1, 166.9 118.1\n",
              "Q 164.5 118.1, 163.2 119.6\n",
              "Q 162.0 121.1, 162.0 124.2\n",
              "Q 162.0 127.3, 163.2 128.9\n",
              "Q 164.5 130.4, 166.9 130.4\n",
              "' fill='#FF0000'/>\n",
              "<path class='atom-3' d='M 191.4 69.8\n",
              "Q 191.4 66.1, 193.2 64.0\n",
              "Q 195.0 61.9, 198.4 61.9\n",
              "Q 201.9 61.9, 203.7 64.0\n",
              "Q 205.5 66.1, 205.5 69.8\n",
              "Q 205.5 73.5, 203.7 75.7\n",
              "Q 201.8 77.8, 198.4 77.8\n",
              "Q 195.0 77.8, 193.2 75.7\n",
              "Q 191.4 73.5, 191.4 69.8\n",
              "M 198.4 76.0\n",
              "Q 200.8 76.0, 202.1 74.5\n",
              "Q 203.3 72.9, 203.3 69.8\n",
              "Q 203.3 66.7, 202.1 65.2\n",
              "Q 200.8 63.7, 198.4 63.7\n",
              "Q 196.1 63.7, 194.8 65.2\n",
              "Q 193.5 66.7, 193.5 69.8\n",
              "Q 193.5 72.9, 194.8 74.5\n",
              "Q 196.1 76.0, 198.4 76.0\n",
              "' fill='#FF0000'/>\n",
              "<path class='atom-11' d='M 222.9 15.3\n",
              "Q 222.9 11.6, 224.8 9.6\n",
              "Q 226.6 7.5, 230.0 7.5\n",
              "Q 233.4 7.5, 235.3 9.6\n",
              "Q 237.1 11.6, 237.1 15.3\n",
              "Q 237.1 19.1, 235.2 21.2\n",
              "Q 233.4 23.3, 230.0 23.3\n",
              "Q 226.6 23.3, 224.8 21.2\n",
              "Q 222.9 19.1, 222.9 15.3\n",
              "M 230.0 21.6\n",
              "Q 232.4 21.6, 233.6 20.0\n",
              "Q 234.9 18.4, 234.9 15.3\n",
              "Q 234.9 12.3, 233.6 10.8\n",
              "Q 232.4 9.2, 230.0 9.2\n",
              "Q 227.6 9.2, 226.4 10.8\n",
              "Q 225.1 12.3, 225.1 15.3\n",
              "Q 225.1 18.5, 226.4 20.0\n",
              "Q 227.6 21.6, 230.0 21.6\n",
              "' fill='#FF0000'/>\n",
              "<path class='atom-12' d='M 285.8 15.5\n",
              "Q 285.8 11.8, 287.7 9.7\n",
              "Q 289.5 7.6, 292.9 7.6\n",
              "Q 296.3 7.6, 298.2 9.7\n",
              "Q 300.0 11.8, 300.0 15.5\n",
              "Q 300.0 19.2, 298.1 21.4\n",
              "Q 296.3 23.5, 292.9 23.5\n",
              "Q 289.5 23.5, 287.7 21.4\n",
              "Q 285.8 19.2, 285.8 15.5\n",
              "M 292.9 21.7\n",
              "Q 295.3 21.7, 296.5 20.2\n",
              "Q 297.8 18.6, 297.8 15.5\n",
              "Q 297.8 12.4, 296.5 10.9\n",
              "Q 295.3 9.4, 292.9 9.4\n",
              "Q 290.6 9.4, 289.3 10.9\n",
              "Q 288.0 12.4, 288.0 15.5\n",
              "Q 288.0 18.6, 289.3 20.2\n",
              "Q 290.6 21.7, 292.9 21.7\n",
              "' fill='#FF0000'/>\n",
              "<path class='atom-12' d='M 302.4 7.8\n",
              "L 304.5 7.8\n",
              "L 304.5 14.4\n",
              "L 312.4 14.4\n",
              "L 312.4 7.8\n",
              "L 314.5 7.8\n",
              "L 314.5 23.2\n",
              "L 312.4 23.2\n",
              "L 312.4 16.1\n",
              "L 304.5 16.1\n",
              "L 304.5 23.2\n",
              "L 302.4 23.2\n",
              "L 302.4 7.8\n",
              "' fill='#FF0000'/>\n",
              "</svg>\n"
            ],
            "image/svg+xml": "<?xml version='1.0' encoding='iso-8859-1'?>\n<svg version='1.1' baseProfile='full'\n              xmlns='http://www.w3.org/2000/svg'\n                      xmlns:rdkit='http://www.rdkit.org/xml'\n                      xmlns:xlink='http://www.w3.org/1999/xlink'\n                  xml:space='preserve'\nwidth='450px' height='150px' viewBox='0 0 450 150'>\n<!-- END OF HEADER -->\n<rect style='opacity:1.0;fill:#FFFFFF;stroke:none' width='450.0' height='150.0' x='0.0' y='0.0'> </rect>\n<path class='bond-0 atom-0 atom-1' d='M 135.5,69.6 L 166.9,87.8' style='fill:none;fill-rule:evenodd;stroke:#000000;stroke-width:2.0px;stroke-linecap:butt;stroke-linejoin:miter;stroke-opacity:1' />\n<path class='bond-1 atom-1 atom-2' d='M 164.2,86.2 L 164.2,100.7' style='fill:none;fill-rule:evenodd;stroke:#000000;stroke-width:2.0px;stroke-linecap:butt;stroke-linejoin:miter;stroke-opacity:1' />\n<path class='bond-1 atom-1 atom-2' d='M 164.2,100.7 L 164.2,115.1' style='fill:none;fill-rule:evenodd;stroke:#FF0000;stroke-width:2.0px;stroke-linecap:butt;stroke-linejoin:miter;stroke-opacity:1' />\n<path class='bond-1 atom-1 atom-2' d='M 169.7,86.3 L 169.6,100.7' style='fill:none;fill-rule:evenodd;stroke:#000000;stroke-width:2.0px;stroke-linecap:butt;stroke-linejoin:miter;stroke-opacity:1' />\n<path class='bond-1 atom-1 atom-2' d='M 169.6,100.7 L 169.6,115.2' style='fill:none;fill-rule:evenodd;stroke:#FF0000;stroke-width:2.0px;stroke-linecap:butt;stroke-linejoin:miter;stroke-opacity:1' />\n<path class='bond-2 atom-1 atom-3' d='M 166.9,87.8 L 178.6,81.2' style='fill:none;fill-rule:evenodd;stroke:#000000;stroke-width:2.0px;stroke-linecap:butt;stroke-linejoin:miter;stroke-opacity:1' />\n<path class='bond-2 atom-1 atom-3' d='M 178.6,81.2 L 190.2,74.5' style='fill:none;fill-rule:evenodd;stroke:#FF0000;stroke-width:2.0px;stroke-linecap:butt;stroke-linejoin:miter;stroke-opacity:1' />\n<path class='bond-3 atom-3 atom-4' d='M 206.7,74.5 L 218.3,81.2' style='fill:none;fill-rule:evenodd;stroke:#FF0000;stroke-width:2.0px;stroke-linecap:butt;stroke-linejoin:miter;stroke-opacity:1' />\n<path class='bond-3 atom-3 atom-4' d='M 218.3,81.2 L 229.9,87.9' style='fill:none;fill-rule:evenodd;stroke:#000000;stroke-width:2.0px;stroke-linecap:butt;stroke-linejoin:miter;stroke-opacity:1' />\n<path class='bond-4 atom-4 atom-5' d='M 229.9,87.9 L 229.8,124.3' style='fill:none;fill-rule:evenodd;stroke:#000000;stroke-width:2.0px;stroke-linecap:butt;stroke-linejoin:miter;stroke-opacity:1' />\n<path class='bond-4 atom-4 atom-5' d='M 235.3,91.1 L 235.2,121.1' style='fill:none;fill-rule:evenodd;stroke:#000000;stroke-width:2.0px;stroke-linecap:butt;stroke-linejoin:miter;stroke-opacity:1' />\n<path class='bond-5 atom-5 atom-6' d='M 229.8,124.3 L 261.2,142.5' style='fill:none;fill-rule:evenodd;stroke:#000000;stroke-width:2.0px;stroke-linecap:butt;stroke-linejoin:miter;stroke-opacity:1' />\n<path class='bond-6 atom-6 atom-7' d='M 261.2,142.5 L 292.7,124.4' style='fill:none;fill-rule:evenodd;stroke:#000000;stroke-width:2.0px;stroke-linecap:butt;stroke-linejoin:miter;stroke-opacity:1' />\n<path class='bond-6 atom-6 atom-7' d='M 261.2,136.2 L 287.3,121.2' style='fill:none;fill-rule:evenodd;stroke:#000000;stroke-width:2.0px;stroke-linecap:butt;stroke-linejoin:miter;stroke-opacity:1' />\n<path class='bond-7 atom-7 atom-8' d='M 292.7,124.4 L 292.8,88.1' style='fill:none;fill-rule:evenodd;stroke:#000000;stroke-width:2.0px;stroke-linecap:butt;stroke-linejoin:miter;stroke-opacity:1' />\n<path class='bond-8 atom-8 atom-9' d='M 292.8,88.1 L 261.4,69.8' style='fill:none;fill-rule:evenodd;stroke:#000000;stroke-width:2.0px;stroke-linecap:butt;stroke-linejoin:miter;stroke-opacity:1' />\n<path class='bond-8 atom-8 atom-9' d='M 287.3,91.2 L 261.3,76.1' style='fill:none;fill-rule:evenodd;stroke:#000000;stroke-width:2.0px;stroke-linecap:butt;stroke-linejoin:miter;stroke-opacity:1' />\n<path class='bond-9 atom-9 atom-10' d='M 261.4,69.8 L 261.4,33.5' style='fill:none;fill-rule:evenodd;stroke:#000000;stroke-width:2.0px;stroke-linecap:butt;stroke-linejoin:miter;stroke-opacity:1' />\n<path class='bond-10 atom-10 atom-11' d='M 264.2,32.0 L 251.9,24.9' style='fill:none;fill-rule:evenodd;stroke:#000000;stroke-width:2.0px;stroke-linecap:butt;stroke-linejoin:miter;stroke-opacity:1' />\n<path class='bond-10 atom-10 atom-11' d='M 251.9,24.9 L 239.7,17.8' style='fill:none;fill-rule:evenodd;stroke:#FF0000;stroke-width:2.0px;stroke-linecap:butt;stroke-linejoin:miter;stroke-opacity:1' />\n<path class='bond-10 atom-10 atom-11' d='M 261.4,36.7 L 249.2,29.6' style='fill:none;fill-rule:evenodd;stroke:#000000;stroke-width:2.0px;stroke-linecap:butt;stroke-linejoin:miter;stroke-opacity:1' />\n<path class='bond-10 atom-10 atom-11' d='M 249.2,29.6 L 236.9,22.5' style='fill:none;fill-rule:evenodd;stroke:#FF0000;stroke-width:2.0px;stroke-linecap:butt;stroke-linejoin:miter;stroke-opacity:1' />\n<path class='bond-11 atom-10 atom-12' d='M 261.4,33.5 L 273.0,26.9' style='fill:none;fill-rule:evenodd;stroke:#000000;stroke-width:2.0px;stroke-linecap:butt;stroke-linejoin:miter;stroke-opacity:1' />\n<path class='bond-11 atom-10 atom-12' d='M 273.0,26.9 L 284.6,20.2' style='fill:none;fill-rule:evenodd;stroke:#FF0000;stroke-width:2.0px;stroke-linecap:butt;stroke-linejoin:miter;stroke-opacity:1' />\n<path class='bond-12 atom-9 atom-4' d='M 261.4,69.8 L 229.9,87.9' style='fill:none;fill-rule:evenodd;stroke:#000000;stroke-width:2.0px;stroke-linecap:butt;stroke-linejoin:miter;stroke-opacity:1' />\n<path d='M 165.4,86.9 L 166.9,87.8 L 167.5,87.5' style='fill:none;stroke:#000000;stroke-width:2.0px;stroke-linecap:butt;stroke-linejoin:miter;stroke-miterlimit:10;stroke-opacity:1;' />\n<path d='M 229.8,122.5 L 229.8,124.3 L 231.4,125.2' style='fill:none;stroke:#000000;stroke-width:2.0px;stroke-linecap:butt;stroke-linejoin:miter;stroke-miterlimit:10;stroke-opacity:1;' />\n<path d='M 259.6,141.6 L 261.2,142.5 L 262.8,141.6' style='fill:none;stroke:#000000;stroke-width:2.0px;stroke-linecap:butt;stroke-linejoin:miter;stroke-miterlimit:10;stroke-opacity:1;' />\n<path d='M 291.1,125.3 L 292.7,124.4 L 292.7,122.6' style='fill:none;stroke:#000000;stroke-width:2.0px;stroke-linecap:butt;stroke-linejoin:miter;stroke-miterlimit:10;stroke-opacity:1;' />\n<path d='M 292.8,89.9 L 292.8,88.1 L 291.2,87.2' style='fill:none;stroke:#000000;stroke-width:2.0px;stroke-linecap:butt;stroke-linejoin:miter;stroke-miterlimit:10;stroke-opacity:1;' />\n<path d='M 261.4,35.3 L 261.4,33.5 L 262.0,33.2' style='fill:none;stroke:#000000;stroke-width:2.0px;stroke-linecap:butt;stroke-linejoin:miter;stroke-miterlimit:10;stroke-opacity:1;' />\n<path class='atom-2' d='M 159.8 124.2\nQ 159.8 120.5, 161.6 118.4\nQ 163.4 116.3, 166.9 116.3\nQ 170.3 116.3, 172.1 118.4\nQ 173.9 120.5, 173.9 124.2\nQ 173.9 127.9, 172.1 130.1\nQ 170.2 132.2, 166.9 132.2\nQ 163.5 132.2, 161.6 130.1\nQ 159.8 128.0, 159.8 124.2\nM 166.9 130.4\nQ 169.2 130.4, 170.5 128.9\nQ 171.8 127.3, 171.8 124.2\nQ 171.8 121.2, 170.5 119.6\nQ 169.2 118.1, 166.9 118.1\nQ 164.5 118.1, 163.2 119.6\nQ 162.0 121.1, 162.0 124.2\nQ 162.0 127.3, 163.2 128.9\nQ 164.5 130.4, 166.9 130.4\n' fill='#FF0000'/>\n<path class='atom-3' d='M 191.4 69.8\nQ 191.4 66.1, 193.2 64.0\nQ 195.0 61.9, 198.4 61.9\nQ 201.9 61.9, 203.7 64.0\nQ 205.5 66.1, 205.5 69.8\nQ 205.5 73.5, 203.7 75.7\nQ 201.8 77.8, 198.4 77.8\nQ 195.0 77.8, 193.2 75.7\nQ 191.4 73.5, 191.4 69.8\nM 198.4 76.0\nQ 200.8 76.0, 202.1 74.5\nQ 203.3 72.9, 203.3 69.8\nQ 203.3 66.7, 202.1 65.2\nQ 200.8 63.7, 198.4 63.7\nQ 196.1 63.7, 194.8 65.2\nQ 193.5 66.7, 193.5 69.8\nQ 193.5 72.9, 194.8 74.5\nQ 196.1 76.0, 198.4 76.0\n' fill='#FF0000'/>\n<path class='atom-11' d='M 222.9 15.3\nQ 222.9 11.6, 224.8 9.6\nQ 226.6 7.5, 230.0 7.5\nQ 233.4 7.5, 235.3 9.6\nQ 237.1 11.6, 237.1 15.3\nQ 237.1 19.1, 235.2 21.2\nQ 233.4 23.3, 230.0 23.3\nQ 226.6 23.3, 224.8 21.2\nQ 222.9 19.1, 222.9 15.3\nM 230.0 21.6\nQ 232.4 21.6, 233.6 20.0\nQ 234.9 18.4, 234.9 15.3\nQ 234.9 12.3, 233.6 10.8\nQ 232.4 9.2, 230.0 9.2\nQ 227.6 9.2, 226.4 10.8\nQ 225.1 12.3, 225.1 15.3\nQ 225.1 18.5, 226.4 20.0\nQ 227.6 21.6, 230.0 21.6\n' fill='#FF0000'/>\n<path class='atom-12' d='M 285.8 15.5\nQ 285.8 11.8, 287.7 9.7\nQ 289.5 7.6, 292.9 7.6\nQ 296.3 7.6, 298.2 9.7\nQ 300.0 11.8, 300.0 15.5\nQ 300.0 19.2, 298.1 21.4\nQ 296.3 23.5, 292.9 23.5\nQ 289.5 23.5, 287.7 21.4\nQ 285.8 19.2, 285.8 15.5\nM 292.9 21.7\nQ 295.3 21.7, 296.5 20.2\nQ 297.8 18.6, 297.8 15.5\nQ 297.8 12.4, 296.5 10.9\nQ 295.3 9.4, 292.9 9.4\nQ 290.6 9.4, 289.3 10.9\nQ 288.0 12.4, 288.0 15.5\nQ 288.0 18.6, 289.3 20.2\nQ 290.6 21.7, 292.9 21.7\n' fill='#FF0000'/>\n<path class='atom-12' d='M 302.4 7.8\nL 304.5 7.8\nL 304.5 14.4\nL 312.4 14.4\nL 312.4 7.8\nL 314.5 7.8\nL 314.5 23.2\nL 312.4 23.2\nL 312.4 16.1\nL 304.5 16.1\nL 304.5 23.2\nL 302.4 23.2\nL 302.4 7.8\n' fill='#FF0000'/>\n</svg>\n",
            "image/png": "[encoded data removed]"
          },
          "metadata": {},
          "execution_count": 10
        }
      ],
      "source": [
        "aspirin = Chem.MolFromSmiles(\"CC(=O)OC1=CC=CC=C1C(=O)O\")\n",
        "query = Chem.RDKFingerprint(aspirin)\n",
        "aspirin"
      ]
    },
    {
      "cell_type": "markdown",
      "metadata": {
        "id": "AZKFk5ePYFPu"
      },
      "source": [
        "Loop over all molecules and keep the one with the highest similarity to aspirin:"
      ]
    },
    {
      "cell_type": "code",
      "execution_count": 11,
      "metadata": {
        "id": "3Du8HuHIYKaN"
      },
      "outputs": [],
      "source": [
        "max_sim = 0.0\n",
        "best_hit = \"\"\n",
        "for s in smiles:\n",
        "  mol = Chem.MolFromSmiles(s)\n",
        "  fp = Chem.RDKFingerprint(mol)\n",
        "  tanimoto = DataStructs.FingerprintSimilarity(fp, query)\n",
        "  if tanimoto >= max_sim:\n",
        "    max_sim = tanimoto\n",
        "    best_hit = s"
      ]
    },
    {
      "cell_type": "markdown",
      "metadata": {
        "id": "7zM3I95eYRp6"
      },
      "source": [
        "Show the best molecule:"
      ]
    },
    {
      "cell_type": "code",
      "execution_count": 12,
      "metadata": {
        "id": "Aq6Q0L0sYTzN",
        "colab": {
          "base_uri": "https://localhost:8080/",
          "height": 208
        },
        "outputId": "83ad6d0a-832b-47dc-bda8-f8e901afd862"
      },
      "outputs": [
        {
          "output_type": "stream",
          "name": "stdout",
          "text": [
            "0.570264765784114\n"
          ]
        },
        {
          "output_type": "execute_result",
          "data": {
            "text/plain": [
              "<rdkit.Chem.rdchem.Mol at 0x7f0cc2ade0a0>"
            ],
            "text/html": [
              "<?xml version='1.0' encoding='iso-8859-1'?>\n",
              "<svg version='1.1' baseProfile='full'\n",
              "              xmlns='http://www.w3.org/2000/svg'\n",
              "                      xmlns:rdkit='http://www.rdkit.org/xml'\n",
              "                      xmlns:xlink='http://www.w3.org/1999/xlink'\n",
              "                  xml:space='preserve'\n",
              "width='450px' height='150px' viewBox='0 0 450 150'>\n",
              "<!-- END OF HEADER -->\n",
              "<rect style='opacity:1.0;fill:#FFFFFF;stroke:none' width='450.0' height='150.0' x='0.0' y='0.0'> </rect>\n",
              "<path class='bond-0 atom-0 atom-1' d='M 187.2,116.4 L 192.8,113.2' style='fill:none;fill-rule:evenodd;stroke:#000000;stroke-width:2.0px;stroke-linecap:butt;stroke-linejoin:miter;stroke-opacity:1' />\n",
              "<path class='bond-0 atom-0 atom-1' d='M 192.8,113.2 L 198.4,109.9' style='fill:none;fill-rule:evenodd;stroke:#FF0000;stroke-width:2.0px;stroke-linecap:butt;stroke-linejoin:miter;stroke-opacity:1' />\n",
              "<path class='bond-1 atom-1 atom-2' d='M 206.3,109.9 L 211.9,113.1' style='fill:none;fill-rule:evenodd;stroke:#FF0000;stroke-width:2.0px;stroke-linecap:butt;stroke-linejoin:miter;stroke-opacity:1' />\n",
              "<path class='bond-1 atom-1 atom-2' d='M 211.9,113.1 L 217.5,116.3' style='fill:none;fill-rule:evenodd;stroke:#000000;stroke-width:2.0px;stroke-linecap:butt;stroke-linejoin:miter;stroke-opacity:1' />\n",
              "<path class='bond-2 atom-2 atom-3' d='M 217.5,116.3 L 217.5,133.8' style='fill:none;fill-rule:evenodd;stroke:#000000;stroke-width:2.0px;stroke-linecap:butt;stroke-linejoin:miter;stroke-opacity:1' />\n",
              "<path class='bond-2 atom-2 atom-3' d='M 220.1,117.8 L 220.2,132.3' style='fill:none;fill-rule:evenodd;stroke:#000000;stroke-width:2.0px;stroke-linecap:butt;stroke-linejoin:miter;stroke-opacity:1' />\n",
              "<path class='bond-3 atom-3 atom-4' d='M 217.5,133.8 L 232.7,142.5' style='fill:none;fill-rule:evenodd;stroke:#000000;stroke-width:2.0px;stroke-linecap:butt;stroke-linejoin:miter;stroke-opacity:1' />\n",
              "<path class='bond-4 atom-4 atom-5' d='M 232.7,142.5 L 247.8,133.7' style='fill:none;fill-rule:evenodd;stroke:#000000;stroke-width:2.0px;stroke-linecap:butt;stroke-linejoin:miter;stroke-opacity:1' />\n",
              "<path class='bond-4 atom-4 atom-5' d='M 232.7,139.5 L 245.2,132.2' style='fill:none;fill-rule:evenodd;stroke:#000000;stroke-width:2.0px;stroke-linecap:butt;stroke-linejoin:miter;stroke-opacity:1' />\n",
              "<path class='bond-5 atom-5 atom-6' d='M 247.8,133.7 L 247.7,116.3' style='fill:none;fill-rule:evenodd;stroke:#000000;stroke-width:2.0px;stroke-linecap:butt;stroke-linejoin:miter;stroke-opacity:1' />\n",
              "<path class='bond-6 atom-6 atom-7' d='M 247.7,116.3 L 232.6,107.6' style='fill:none;fill-rule:evenodd;stroke:#000000;stroke-width:2.0px;stroke-linecap:butt;stroke-linejoin:miter;stroke-opacity:1' />\n",
              "<path class='bond-6 atom-6 atom-7' d='M 245.1,117.8 L 232.6,110.6' style='fill:none;fill-rule:evenodd;stroke:#000000;stroke-width:2.0px;stroke-linecap:butt;stroke-linejoin:miter;stroke-opacity:1' />\n",
              "<path class='bond-7 atom-7 atom-8' d='M 232.6,107.6 L 232.6,90.1' style='fill:none;fill-rule:evenodd;stroke:#000000;stroke-width:2.0px;stroke-linecap:butt;stroke-linejoin:miter;stroke-opacity:1' />\n",
              "<path class='bond-8 atom-8 atom-9' d='M 233.9,89.3 L 228.0,85.9' style='fill:none;fill-rule:evenodd;stroke:#000000;stroke-width:2.0px;stroke-linecap:butt;stroke-linejoin:miter;stroke-opacity:1' />\n",
              "<path class='bond-8 atom-8 atom-9' d='M 228.0,85.9 L 222.1,82.6' style='fill:none;fill-rule:evenodd;stroke:#FF0000;stroke-width:2.0px;stroke-linecap:butt;stroke-linejoin:miter;stroke-opacity:1' />\n",
              "<path class='bond-8 atom-8 atom-9' d='M 232.6,91.6 L 226.7,88.2' style='fill:none;fill-rule:evenodd;stroke:#000000;stroke-width:2.0px;stroke-linecap:butt;stroke-linejoin:miter;stroke-opacity:1' />\n",
              "<path class='bond-8 atom-8 atom-9' d='M 226.7,88.2 L 220.8,84.8' style='fill:none;fill-rule:evenodd;stroke:#FF0000;stroke-width:2.0px;stroke-linecap:butt;stroke-linejoin:miter;stroke-opacity:1' />\n",
              "<path class='bond-9 atom-8 atom-10' d='M 232.6,90.1 L 238.1,86.9' style='fill:none;fill-rule:evenodd;stroke:#000000;stroke-width:2.0px;stroke-linecap:butt;stroke-linejoin:miter;stroke-opacity:1' />\n",
              "<path class='bond-9 atom-8 atom-10' d='M 238.1,86.9 L 243.7,83.7' style='fill:none;fill-rule:evenodd;stroke:#FF0000;stroke-width:2.0px;stroke-linecap:butt;stroke-linejoin:miter;stroke-opacity:1' />\n",
              "<path class='bond-10 atom-10 atom-11' d='M 247.7,77.0 L 247.7,70.4' style='fill:none;fill-rule:evenodd;stroke:#FF0000;stroke-width:2.0px;stroke-linecap:butt;stroke-linejoin:miter;stroke-opacity:1' />\n",
              "<path class='bond-10 atom-10 atom-11' d='M 247.7,70.4 L 247.6,63.9' style='fill:none;fill-rule:evenodd;stroke:#000000;stroke-width:2.0px;stroke-linecap:butt;stroke-linejoin:miter;stroke-opacity:1' />\n",
              "<path class='bond-11 atom-11 atom-12' d='M 247.6,63.9 L 232.5,55.2' style='fill:none;fill-rule:evenodd;stroke:#000000;stroke-width:2.0px;stroke-linecap:butt;stroke-linejoin:miter;stroke-opacity:1' />\n",
              "<path class='bond-11 atom-11 atom-12' d='M 247.6,60.8 L 235.1,53.7' style='fill:none;fill-rule:evenodd;stroke:#000000;stroke-width:2.0px;stroke-linecap:butt;stroke-linejoin:miter;stroke-opacity:1' />\n",
              "<path class='bond-12 atom-12 atom-13' d='M 232.5,55.2 L 232.5,37.7' style='fill:none;fill-rule:evenodd;stroke:#000000;stroke-width:2.0px;stroke-linecap:butt;stroke-linejoin:miter;stroke-opacity:1' />\n",
              "<path class='bond-13 atom-13 atom-14' d='M 232.5,37.7 L 247.6,28.9' style='fill:none;fill-rule:evenodd;stroke:#000000;stroke-width:2.0px;stroke-linecap:butt;stroke-linejoin:miter;stroke-opacity:1' />\n",
              "<path class='bond-13 atom-13 atom-14' d='M 235.1,39.2 L 247.6,32.0' style='fill:none;fill-rule:evenodd;stroke:#000000;stroke-width:2.0px;stroke-linecap:butt;stroke-linejoin:miter;stroke-opacity:1' />\n",
              "<path class='bond-14 atom-14 atom-15' d='M 247.6,28.9 L 247.6,22.5' style='fill:none;fill-rule:evenodd;stroke:#000000;stroke-width:2.0px;stroke-linecap:butt;stroke-linejoin:miter;stroke-opacity:1' />\n",
              "<path class='bond-14 atom-14 atom-15' d='M 247.6,22.5 L 247.5,16.1' style='fill:none;fill-rule:evenodd;stroke:#00CC00;stroke-width:2.0px;stroke-linecap:butt;stroke-linejoin:miter;stroke-opacity:1' />\n",
              "<path class='bond-15 atom-14 atom-16' d='M 247.6,28.9 L 262.7,37.6' style='fill:none;fill-rule:evenodd;stroke:#000000;stroke-width:2.0px;stroke-linecap:butt;stroke-linejoin:miter;stroke-opacity:1' />\n",
              "<path class='bond-16 atom-16 atom-17' d='M 262.7,37.6 L 262.8,55.1' style='fill:none;fill-rule:evenodd;stroke:#000000;stroke-width:2.0px;stroke-linecap:butt;stroke-linejoin:miter;stroke-opacity:1' />\n",
              "<path class='bond-16 atom-16 atom-17' d='M 260.1,39.2 L 260.1,53.6' style='fill:none;fill-rule:evenodd;stroke:#000000;stroke-width:2.0px;stroke-linecap:butt;stroke-linejoin:miter;stroke-opacity:1' />\n",
              "<path class='bond-17 atom-7 atom-2' d='M 232.6,107.6 L 217.5,116.3' style='fill:none;fill-rule:evenodd;stroke:#000000;stroke-width:2.0px;stroke-linecap:butt;stroke-linejoin:miter;stroke-opacity:1' />\n",
              "<path class='bond-18 atom-17 atom-11' d='M 262.8,55.1 L 247.6,63.9' style='fill:none;fill-rule:evenodd;stroke:#000000;stroke-width:2.0px;stroke-linecap:butt;stroke-linejoin:miter;stroke-opacity:1' />\n",
              "<path d='M 217.5,132.9 L 217.5,133.8 L 218.3,134.2' style='fill:none;stroke:#000000;stroke-width:2.0px;stroke-linecap:butt;stroke-linejoin:miter;stroke-miterlimit:10;stroke-opacity:1;' />\n",
              "<path d='M 231.9,142.1 L 232.7,142.5 L 233.4,142.1' style='fill:none;stroke:#000000;stroke-width:2.0px;stroke-linecap:butt;stroke-linejoin:miter;stroke-miterlimit:10;stroke-opacity:1;' />\n",
              "<path d='M 247.0,134.2 L 247.8,133.7 L 247.8,132.9' style='fill:none;stroke:#000000;stroke-width:2.0px;stroke-linecap:butt;stroke-linejoin:miter;stroke-miterlimit:10;stroke-opacity:1;' />\n",
              "<path d='M 247.8,117.1 L 247.7,116.3 L 247.0,115.8' style='fill:none;stroke:#000000;stroke-width:2.0px;stroke-linecap:butt;stroke-linejoin:miter;stroke-miterlimit:10;stroke-opacity:1;' />\n",
              "<path d='M 232.6,91.0 L 232.6,90.1 L 232.8,89.9' style='fill:none;stroke:#000000;stroke-width:2.0px;stroke-linecap:butt;stroke-linejoin:miter;stroke-miterlimit:10;stroke-opacity:1;' />\n",
              "<path d='M 233.3,55.6 L 232.5,55.2 L 232.5,54.3' style='fill:none;stroke:#000000;stroke-width:2.0px;stroke-linecap:butt;stroke-linejoin:miter;stroke-miterlimit:10;stroke-opacity:1;' />\n",
              "<path d='M 232.5,38.6 L 232.5,37.7 L 233.2,37.3' style='fill:none;stroke:#000000;stroke-width:2.0px;stroke-linecap:butt;stroke-linejoin:miter;stroke-miterlimit:10;stroke-opacity:1;' />\n",
              "<path d='M 262.0,37.2 L 262.7,37.6 L 262.7,38.5' style='fill:none;stroke:#000000;stroke-width:2.0px;stroke-linecap:butt;stroke-linejoin:miter;stroke-miterlimit:10;stroke-opacity:1;' />\n",
              "<path d='M 262.8,54.2 L 262.8,55.1 L 262.0,55.5' style='fill:none;stroke:#000000;stroke-width:2.0px;stroke-linecap:butt;stroke-linejoin:miter;stroke-miterlimit:10;stroke-opacity:1;' />\n",
              "<path class='atom-1' d='M 198.9 107.7\n",
              "Q 198.9 105.9, 199.8 104.9\n",
              "Q 200.7 103.9, 202.4 103.9\n",
              "Q 204.0 103.9, 204.9 104.9\n",
              "Q 205.8 105.9, 205.8 107.7\n",
              "Q 205.8 109.5, 204.9 110.5\n",
              "Q 204.0 111.5, 202.4 111.5\n",
              "Q 200.7 111.5, 199.8 110.5\n",
              "Q 198.9 109.5, 198.9 107.7\n",
              "M 202.4 110.7\n",
              "Q 203.5 110.7, 204.1 109.9\n",
              "Q 204.7 109.1, 204.7 107.7\n",
              "Q 204.7 106.2, 204.1 105.5\n",
              "Q 203.5 104.7, 202.4 104.7\n",
              "Q 201.2 104.7, 200.6 105.5\n",
              "Q 200.0 106.2, 200.0 107.7\n",
              "Q 200.0 109.2, 200.6 109.9\n",
              "Q 201.2 110.7, 202.4 110.7\n",
              "' fill='#FF0000'/>\n",
              "<path class='atom-9' d='M 214.0 81.4\n",
              "Q 214.0 79.6, 214.9 78.6\n",
              "Q 215.8 77.6, 217.4 77.6\n",
              "Q 219.1 77.6, 220.0 78.6\n",
              "Q 220.8 79.6, 220.8 81.4\n",
              "Q 220.8 83.2, 219.9 84.3\n",
              "Q 219.1 85.3, 217.4 85.3\n",
              "Q 215.8 85.3, 214.9 84.3\n",
              "Q 214.0 83.2, 214.0 81.4\n",
              "M 217.4 84.4\n",
              "Q 218.6 84.4, 219.2 83.7\n",
              "Q 219.8 82.9, 219.8 81.4\n",
              "Q 219.8 80.0, 219.2 79.2\n",
              "Q 218.6 78.5, 217.4 78.5\n",
              "Q 216.3 78.5, 215.7 79.2\n",
              "Q 215.1 80.0, 215.1 81.4\n",
              "Q 215.1 82.9, 215.7 83.7\n",
              "Q 216.3 84.4, 217.4 84.4\n",
              "' fill='#FF0000'/>\n",
              "<path class='atom-10' d='M 244.3 81.4\n",
              "Q 244.3 79.6, 245.2 78.6\n",
              "Q 246.0 77.6, 247.7 77.6\n",
              "Q 249.3 77.6, 250.2 78.6\n",
              "Q 251.1 79.6, 251.1 81.4\n",
              "Q 251.1 83.2, 250.2 84.2\n",
              "Q 249.3 85.2, 247.7 85.2\n",
              "Q 246.0 85.2, 245.2 84.2\n",
              "Q 244.3 83.2, 244.3 81.4\n",
              "M 247.7 84.4\n",
              "Q 248.8 84.4, 249.4 83.6\n",
              "Q 250.0 82.9, 250.0 81.4\n",
              "Q 250.0 79.9, 249.4 79.2\n",
              "Q 248.8 78.4, 247.7 78.4\n",
              "Q 246.5 78.4, 245.9 79.2\n",
              "Q 245.3 79.9, 245.3 81.4\n",
              "Q 245.3 82.9, 245.9 83.6\n",
              "Q 246.5 84.4, 247.7 84.4\n",
              "' fill='#FF0000'/>\n",
              "<path class='atom-15' d='M 244.7 11.7\n",
              "Q 244.7 9.9, 245.5 8.9\n",
              "Q 246.4 8.0, 248.1 8.0\n",
              "Q 249.6 8.0, 250.4 9.0\n",
              "L 249.7 9.6\n",
              "Q 249.1 8.8, 248.1 8.8\n",
              "Q 246.9 8.8, 246.3 9.6\n",
              "Q 245.7 10.3, 245.7 11.7\n",
              "Q 245.7 13.2, 246.4 14.0\n",
              "Q 247.0 14.7, 248.2 14.7\n",
              "Q 249.0 14.7, 249.9 14.2\n",
              "L 250.2 15.0\n",
              "Q 249.8 15.3, 249.3 15.4\n",
              "Q 248.7 15.5, 248.0 15.5\n",
              "Q 246.4 15.5, 245.5 14.6\n",
              "Q 244.7 13.6, 244.7 11.7\n",
              "' fill='#00CC00'/>\n",
              "<path class='atom-15' d='M 251.2 7.5\n",
              "L 252.1 7.5\n",
              "L 252.1 15.5\n",
              "L 251.2 15.5\n",
              "L 251.2 7.5\n",
              "' fill='#00CC00'/>\n",
              "</svg>\n"
            ],
            "image/svg+xml": "<?xml version='1.0' encoding='iso-8859-1'?>\n<svg version='1.1' baseProfile='full'\n              xmlns='http://www.w3.org/2000/svg'\n                      xmlns:rdkit='http://www.rdkit.org/xml'\n                      xmlns:xlink='http://www.w3.org/1999/xlink'\n                  xml:space='preserve'\nwidth='450px' height='150px' viewBox='0 0 450 150'>\n<!-- END OF HEADER -->\n<rect style='opacity:1.0;fill:#FFFFFF;stroke:none' width='450.0' height='150.0' x='0.0' y='0.0'> </rect>\n<path class='bond-0 atom-0 atom-1' d='M 187.2,116.4 L 192.8,113.2' style='fill:none;fill-rule:evenodd;stroke:#000000;stroke-width:2.0px;stroke-linecap:butt;stroke-linejoin:miter;stroke-opacity:1' />\n<path class='bond-0 atom-0 atom-1' d='M 192.8,113.2 L 198.4,109.9' style='fill:none;fill-rule:evenodd;stroke:#FF0000;stroke-width:2.0px;stroke-linecap:butt;stroke-linejoin:miter;stroke-opacity:1' />\n<path class='bond-1 atom-1 atom-2' d='M 206.3,109.9 L 211.9,113.1' style='fill:none;fill-rule:evenodd;stroke:#FF0000;stroke-width:2.0px;stroke-linecap:butt;stroke-linejoin:miter;stroke-opacity:1' />\n<path class='bond-1 atom-1 atom-2' d='M 211.9,113.1 L 217.5,116.3' style='fill:none;fill-rule:evenodd;stroke:#000000;stroke-width:2.0px;stroke-linecap:butt;stroke-linejoin:miter;stroke-opacity:1' />\n<path class='bond-2 atom-2 atom-3' d='M 217.5,116.3 L 217.5,133.8' style='fill:none;fill-rule:evenodd;stroke:#000000;stroke-width:2.0px;stroke-linecap:butt;stroke-linejoin:miter;stroke-opacity:1' />\n<path class='bond-2 atom-2 atom-3' d='M 220.1,117.8 L 220.2,132.3' style='fill:none;fill-rule:evenodd;stroke:#000000;stroke-width:2.0px;stroke-linecap:butt;stroke-linejoin:miter;stroke-opacity:1' />\n<path class='bond-3 atom-3 atom-4' d='M 217.5,133.8 L 232.7,142.5' style='fill:none;fill-rule:evenodd;stroke:#000000;stroke-width:2.0px;stroke-linecap:butt;stroke-linejoin:miter;stroke-opacity:1' />\n<path class='bond-4 atom-4 atom-5' d='M 232.7,142.5 L 247.8,133.7' style='fill:none;fill-rule:evenodd;stroke:#000000;stroke-width:2.0px;stroke-linecap:butt;stroke-linejoin:miter;stroke-opacity:1' />\n<path class='bond-4 atom-4 atom-5' d='M 232.7,139.5 L 245.2,132.2' style='fill:none;fill-rule:evenodd;stroke:#000000;stroke-width:2.0px;stroke-linecap:butt;stroke-linejoin:miter;stroke-opacity:1' />\n<path class='bond-5 atom-5 atom-6' d='M 247.8,133.7 L 247.7,116.3' style='fill:none;fill-rule:evenodd;stroke:#000000;stroke-width:2.0px;stroke-linecap:butt;stroke-linejoin:miter;stroke-opacity:1' />\n<path class='bond-6 atom-6 atom-7' d='M 247.7,116.3 L 232.6,107.6' style='fill:none;fill-rule:evenodd;stroke:#000000;stroke-width:2.0px;stroke-linecap:butt;stroke-linejoin:miter;stroke-opacity:1' />\n<path class='bond-6 atom-6 atom-7' d='M 245.1,117.8 L 232.6,110.6' style='fill:none;fill-rule:evenodd;stroke:#000000;stroke-width:2.0px;stroke-linecap:butt;stroke-linejoin:miter;stroke-opacity:1' />\n<path class='bond-7 atom-7 atom-8' d='M 232.6,107.6 L 232.6,90.1' style='fill:none;fill-rule:evenodd;stroke:#000000;stroke-width:2.0px;stroke-linecap:butt;stroke-linejoin:miter;stroke-opacity:1' />\n<path class='bond-8 atom-8 atom-9' d='M 233.9,89.3 L 228.0,85.9' style='fill:none;fill-rule:evenodd;stroke:#000000;stroke-width:2.0px;stroke-linecap:butt;stroke-linejoin:miter;stroke-opacity:1' />\n<path class='bond-8 atom-8 atom-9' d='M 228.0,85.9 L 222.1,82.6' style='fill:none;fill-rule:evenodd;stroke:#FF0000;stroke-width:2.0px;stroke-linecap:butt;stroke-linejoin:miter;stroke-opacity:1' />\n<path class='bond-8 atom-8 atom-9' d='M 232.6,91.6 L 226.7,88.2' style='fill:none;fill-rule:evenodd;stroke:#000000;stroke-width:2.0px;stroke-linecap:butt;stroke-linejoin:miter;stroke-opacity:1' />\n<path class='bond-8 atom-8 atom-9' d='M 226.7,88.2 L 220.8,84.8' style='fill:none;fill-rule:evenodd;stroke:#FF0000;stroke-width:2.0px;stroke-linecap:butt;stroke-linejoin:miter;stroke-opacity:1' />\n<path class='bond-9 atom-8 atom-10' d='M 232.6,90.1 L 238.1,86.9' style='fill:none;fill-rule:evenodd;stroke:#000000;stroke-width:2.0px;stroke-linecap:butt;stroke-linejoin:miter;stroke-opacity:1' />\n<path class='bond-9 atom-8 atom-10' d='M 238.1,86.9 L 243.7,83.7' style='fill:none;fill-rule:evenodd;stroke:#FF0000;stroke-width:2.0px;stroke-linecap:butt;stroke-linejoin:miter;stroke-opacity:1' />\n<path class='bond-10 atom-10 atom-11' d='M 247.7,77.0 L 247.7,70.4' style='fill:none;fill-rule:evenodd;stroke:#FF0000;stroke-width:2.0px;stroke-linecap:butt;stroke-linejoin:miter;stroke-opacity:1' />\n<path class='bond-10 atom-10 atom-11' d='M 247.7,70.4 L 247.6,63.9' style='fill:none;fill-rule:evenodd;stroke:#000000;stroke-width:2.0px;stroke-linecap:butt;stroke-linejoin:miter;stroke-opacity:1' />\n<path class='bond-11 atom-11 atom-12' d='M 247.6,63.9 L 232.5,55.2' style='fill:none;fill-rule:evenodd;stroke:#000000;stroke-width:2.0px;stroke-linecap:butt;stroke-linejoin:miter;stroke-opacity:1' />\n<path class='bond-11 atom-11 atom-12' d='M 247.6,60.8 L 235.1,53.7' style='fill:none;fill-rule:evenodd;stroke:#000000;stroke-width:2.0px;stroke-linecap:butt;stroke-linejoin:miter;stroke-opacity:1' />\n<path class='bond-12 atom-12 atom-13' d='M 232.5,55.2 L 232.5,37.7' style='fill:none;fill-rule:evenodd;stroke:#000000;stroke-width:2.0px;stroke-linecap:butt;stroke-linejoin:miter;stroke-opacity:1' />\n<path class='bond-13 atom-13 atom-14' d='M 232.5,37.7 L 247.6,28.9' style='fill:none;fill-rule:evenodd;stroke:#000000;stroke-width:2.0px;stroke-linecap:butt;stroke-linejoin:miter;stroke-opacity:1' />\n<path class='bond-13 atom-13 atom-14' d='M 235.1,39.2 L 247.6,32.0' style='fill:none;fill-rule:evenodd;stroke:#000000;stroke-width:2.0px;stroke-linecap:butt;stroke-linejoin:miter;stroke-opacity:1' />\n<path class='bond-14 atom-14 atom-15' d='M 247.6,28.9 L 247.6,22.5' style='fill:none;fill-rule:evenodd;stroke:#000000;stroke-width:2.0px;stroke-linecap:butt;stroke-linejoin:miter;stroke-opacity:1' />\n<path class='bond-14 atom-14 atom-15' d='M 247.6,22.5 L 247.5,16.1' style='fill:none;fill-rule:evenodd;stroke:#00CC00;stroke-width:2.0px;stroke-linecap:butt;stroke-linejoin:miter;stroke-opacity:1' />\n<path class='bond-15 atom-14 atom-16' d='M 247.6,28.9 L 262.7,37.6' style='fill:none;fill-rule:evenodd;stroke:#000000;stroke-width:2.0px;stroke-linecap:butt;stroke-linejoin:miter;stroke-opacity:1' />\n<path class='bond-16 atom-16 atom-17' d='M 262.7,37.6 L 262.8,55.1' style='fill:none;fill-rule:evenodd;stroke:#000000;stroke-width:2.0px;stroke-linecap:butt;stroke-linejoin:miter;stroke-opacity:1' />\n<path class='bond-16 atom-16 atom-17' d='M 260.1,39.2 L 260.1,53.6' style='fill:none;fill-rule:evenodd;stroke:#000000;stroke-width:2.0px;stroke-linecap:butt;stroke-linejoin:miter;stroke-opacity:1' />\n<path class='bond-17 atom-7 atom-2' d='M 232.6,107.6 L 217.5,116.3' style='fill:none;fill-rule:evenodd;stroke:#000000;stroke-width:2.0px;stroke-linecap:butt;stroke-linejoin:miter;stroke-opacity:1' />\n<path class='bond-18 atom-17 atom-11' d='M 262.8,55.1 L 247.6,63.9' style='fill:none;fill-rule:evenodd;stroke:#000000;stroke-width:2.0px;stroke-linecap:butt;stroke-linejoin:miter;stroke-opacity:1' />\n<path d='M 217.5,132.9 L 217.5,133.8 L 218.3,134.2' style='fill:none;stroke:#000000;stroke-width:2.0px;stroke-linecap:butt;stroke-linejoin:miter;stroke-miterlimit:10;stroke-opacity:1;' />\n<path d='M 231.9,142.1 L 232.7,142.5 L 233.4,142.1' style='fill:none;stroke:#000000;stroke-width:2.0px;stroke-linecap:butt;stroke-linejoin:miter;stroke-miterlimit:10;stroke-opacity:1;' />\n<path d='M 247.0,134.2 L 247.8,133.7 L 247.8,132.9' style='fill:none;stroke:#000000;stroke-width:2.0px;stroke-linecap:butt;stroke-linejoin:miter;stroke-miterlimit:10;stroke-opacity:1;' />\n<path d='M 247.8,117.1 L 247.7,116.3 L 247.0,115.8' style='fill:none;stroke:#000000;stroke-width:2.0px;stroke-linecap:butt;stroke-linejoin:miter;stroke-miterlimit:10;stroke-opacity:1;' />\n<path d='M 232.6,91.0 L 232.6,90.1 L 232.8,89.9' style='fill:none;stroke:#000000;stroke-width:2.0px;stroke-linecap:butt;stroke-linejoin:miter;stroke-miterlimit:10;stroke-opacity:1;' />\n<path d='M 233.3,55.6 L 232.5,55.2 L 232.5,54.3' style='fill:none;stroke:#000000;stroke-width:2.0px;stroke-linecap:butt;stroke-linejoin:miter;stroke-miterlimit:10;stroke-opacity:1;' />\n<path d='M 232.5,38.6 L 232.5,37.7 L 233.2,37.3' style='fill:none;stroke:#000000;stroke-width:2.0px;stroke-linecap:butt;stroke-linejoin:miter;stroke-miterlimit:10;stroke-opacity:1;' />\n<path d='M 262.0,37.2 L 262.7,37.6 L 262.7,38.5' style='fill:none;stroke:#000000;stroke-width:2.0px;stroke-linecap:butt;stroke-linejoin:miter;stroke-miterlimit:10;stroke-opacity:1;' />\n<path d='M 262.8,54.2 L 262.8,55.1 L 262.0,55.5' style='fill:none;stroke:#000000;stroke-width:2.0px;stroke-linecap:butt;stroke-linejoin:miter;stroke-miterlimit:10;stroke-opacity:1;' />\n<path class='atom-1' d='M 198.9 107.7\nQ 198.9 105.9, 199.8 104.9\nQ 200.7 103.9, 202.4 103.9\nQ 204.0 103.9, 204.9 104.9\nQ 205.8 105.9, 205.8 107.7\nQ 205.8 109.5, 204.9 110.5\nQ 204.0 111.5, 202.4 111.5\nQ 200.7 111.5, 199.8 110.5\nQ 198.9 109.5, 198.9 107.7\nM 202.4 110.7\nQ 203.5 110.7, 204.1 109.9\nQ 204.7 109.1, 204.7 107.7\nQ 204.7 106.2, 204.1 105.5\nQ 203.5 104.7, 202.4 104.7\nQ 201.2 104.7, 200.6 105.5\nQ 200.0 106.2, 200.0 107.7\nQ 200.0 109.2, 200.6 109.9\nQ 201.2 110.7, 202.4 110.7\n' fill='#FF0000'/>\n<path class='atom-9' d='M 214.0 81.4\nQ 214.0 79.6, 214.9 78.6\nQ 215.8 77.6, 217.4 77.6\nQ 219.1 77.6, 220.0 78.6\nQ 220.8 79.6, 220.8 81.4\nQ 220.8 83.2, 219.9 84.3\nQ 219.1 85.3, 217.4 85.3\nQ 215.8 85.3, 214.9 84.3\nQ 214.0 83.2, 214.0 81.4\nM 217.4 84.4\nQ 218.6 84.4, 219.2 83.7\nQ 219.8 82.9, 219.8 81.4\nQ 219.8 80.0, 219.2 79.2\nQ 218.6 78.5, 217.4 78.5\nQ 216.3 78.5, 215.7 79.2\nQ 215.1 80.0, 215.1 81.4\nQ 215.1 82.9, 215.7 83.7\nQ 216.3 84.4, 217.4 84.4\n' fill='#FF0000'/>\n<path class='atom-10' d='M 244.3 81.4\nQ 244.3 79.6, 245.2 78.6\nQ 246.0 77.6, 247.7 77.6\nQ 249.3 77.6, 250.2 78.6\nQ 251.1 79.6, 251.1 81.4\nQ 251.1 83.2, 250.2 84.2\nQ 249.3 85.2, 247.7 85.2\nQ 246.0 85.2, 245.2 84.2\nQ 244.3 83.2, 244.3 81.4\nM 247.7 84.4\nQ 248.8 84.4, 249.4 83.6\nQ 250.0 82.9, 250.0 81.4\nQ 250.0 79.9, 249.4 79.2\nQ 248.8 78.4, 247.7 78.4\nQ 246.5 78.4, 245.9 79.2\nQ 245.3 79.9, 245.3 81.4\nQ 245.3 82.9, 245.9 83.6\nQ 246.5 84.4, 247.7 84.4\n' fill='#FF0000'/>\n<path class='atom-15' d='M 244.7 11.7\nQ 244.7 9.9, 245.5 8.9\nQ 246.4 8.0, 248.1 8.0\nQ 249.6 8.0, 250.4 9.0\nL 249.7 9.6\nQ 249.1 8.8, 248.1 8.8\nQ 246.9 8.8, 246.3 9.6\nQ 245.7 10.3, 245.7 11.7\nQ 245.7 13.2, 246.4 14.0\nQ 247.0 14.7, 248.2 14.7\nQ 249.0 14.7, 249.9 14.2\nL 250.2 15.0\nQ 249.8 15.3, 249.3 15.4\nQ 248.7 15.5, 248.0 15.5\nQ 246.4 15.5, 245.5 14.6\nQ 244.7 13.6, 244.7 11.7\n' fill='#00CC00'/>\n<path class='atom-15' d='M 251.2 7.5\nL 252.1 7.5\nL 252.1 15.5\nL 251.2 15.5\nL 251.2 7.5\n' fill='#00CC00'/>\n</svg>\n",
            "image/png": "[encoded data removed]"
          },
          "metadata": {},
          "execution_count": 12
        }
      ],
      "source": [
        "mol = Chem.MolFromSmiles(best_hit)\n",
        "print(max_sim)\n",
        "mol"
      ]
    },
    {
      "cell_type": "markdown",
      "metadata": {
        "id": "QlJPuqdBWFvb"
      },
      "source": [
        "Note: you can also use other similarity metrics such as the Tversky coefficient. Try this out to see how the results will alter."
      ]
    },
    {
      "cell_type": "markdown",
      "metadata": {
        "id": "ynlSQX20WX6k"
      },
      "source": [
        "## Maximal common substructure (MCSS)"
      ]
    },
    {
      "cell_type": "code",
      "execution_count": 13,
      "metadata": {
        "id": "YJH7DpjzW-KT",
        "colab": {
          "base_uri": "https://localhost:8080/",
          "height": 191
        },
        "outputId": "64472d0e-033f-43ec-eeb3-38eb37f8c4c5"
      },
      "outputs": [
        {
          "output_type": "execute_result",
          "data": {
            "text/plain": [
              "<rdkit.Chem.rdchem.Mol at 0x7f0cc366af10>"
            ],
            "text/html": [
              "<?xml version='1.0' encoding='iso-8859-1'?>\n",
              "<svg version='1.1' baseProfile='full'\n",
              "              xmlns='http://www.w3.org/2000/svg'\n",
              "                      xmlns:rdkit='http://www.rdkit.org/xml'\n",
              "                      xmlns:xlink='http://www.w3.org/1999/xlink'\n",
              "                  xml:space='preserve'\n",
              "width='450px' height='150px' viewBox='0 0 450 150'>\n",
              "<!-- END OF HEADER -->\n",
              "<rect style='opacity:1.0;fill:#FFFFFF;stroke:none' width='450.0' height='150.0' x='0.0' y='0.0'> </rect>\n",
              "<path class='bond-0 atom-0 atom-1' d='M 222.8,142.5 L 223.2,134.6' style='fill:none;fill-rule:evenodd;stroke:#000000;stroke-width:2.0px;stroke-linecap:butt;stroke-linejoin:miter;stroke-opacity:1' />\n",
              "<path class='bond-0 atom-0 atom-1' d='M 223.2,134.6 L 223.7,126.6' style='fill:none;fill-rule:evenodd;stroke:#0000FF;stroke-width:2.0px;stroke-linecap:butt;stroke-linejoin:miter;stroke-opacity:1' />\n",
              "<path class='bond-1 atom-1 atom-2' d='M 228.1,119.2 L 236.5,114.6' style='fill:none;fill-rule:evenodd;stroke:#0000FF;stroke-width:2.0px;stroke-linecap:butt;stroke-linejoin:miter;stroke-opacity:1' />\n",
              "<path class='bond-1 atom-1 atom-2' d='M 236.5,114.6 L 244.9,110.1' style='fill:none;fill-rule:evenodd;stroke:#000000;stroke-width:2.0px;stroke-linecap:butt;stroke-linejoin:miter;stroke-opacity:1' />\n",
              "<path class='bond-2 atom-2 atom-3' d='M 244.9,110.1 L 244.5,86.3' style='fill:none;fill-rule:evenodd;stroke:#000000;stroke-width:2.0px;stroke-linecap:butt;stroke-linejoin:miter;stroke-opacity:1' />\n",
              "<path class='bond-3 atom-3 atom-4' d='M 244.5,86.3 L 222.8,76.0' style='fill:none;fill-rule:evenodd;stroke:#000000;stroke-width:2.0px;stroke-linecap:butt;stroke-linejoin:miter;stroke-opacity:1' />\n",
              "<path class='bond-4 atom-4 atom-5' d='M 222.8,76.0 L 222.7,97.1' style='fill:none;fill-rule:evenodd;stroke:#000000;stroke-width:2.0px;stroke-linecap:butt;stroke-linejoin:miter;stroke-opacity:1' />\n",
              "<path class='bond-5 atom-5 atom-6' d='M 222.7,97.1 L 204.2,107.7' style='fill:none;fill-rule:evenodd;stroke:#000000;stroke-width:2.0px;stroke-linecap:butt;stroke-linejoin:miter;stroke-opacity:1' />\n",
              "<path class='bond-6 atom-6 atom-7' d='M 204.2,107.7 L 185.9,97.1' style='fill:none;fill-rule:evenodd;stroke:#000000;stroke-width:2.0px;stroke-linecap:butt;stroke-linejoin:miter;stroke-opacity:1' />\n",
              "<path class='bond-7 atom-7 atom-8' d='M 185.9,97.1 L 186.0,75.5' style='fill:none;fill-rule:evenodd;stroke:#000000;stroke-width:2.0px;stroke-linecap:butt;stroke-linejoin:miter;stroke-opacity:1' />\n",
              "<path class='bond-8 atom-8 atom-9' d='M 186.0,75.5 L 204.6,65.3' style='fill:none;fill-rule:evenodd;stroke:#000000;stroke-width:2.0px;stroke-linecap:butt;stroke-linejoin:miter;stroke-opacity:1' />\n",
              "<path class='bond-8 atom-8 atom-9' d='M 189.3,77.5 L 204.6,69.1' style='fill:none;fill-rule:evenodd;stroke:#000000;stroke-width:2.0px;stroke-linecap:butt;stroke-linejoin:miter;stroke-opacity:1;stroke-dasharray:6,4' />\n",
              "<path class='bond-9 atom-9 atom-10' d='M 204.6,65.3 L 204.9,44.0' style='fill:none;fill-rule:evenodd;stroke:#000000;stroke-width:2.0px;stroke-linecap:butt;stroke-linejoin:miter;stroke-opacity:1' />\n",
              "<path class='bond-9 atom-9 atom-10' d='M 207.9,63.4 L 208.1,47.1' style='fill:none;fill-rule:evenodd;stroke:#000000;stroke-width:2.0px;stroke-linecap:butt;stroke-linejoin:miter;stroke-opacity:1;stroke-dasharray:6,4' />\n",
              "<path class='bond-10 atom-10 atom-11' d='M 204.9,44.0 L 215.1,43.4' style='fill:none;fill-rule:evenodd;stroke:#000000;stroke-width:2.0px;stroke-linecap:butt;stroke-linejoin:miter;stroke-opacity:1' />\n",
              "<path class='bond-10 atom-10 atom-11' d='M 215.1,43.4 L 225.3,42.9' style='fill:none;fill-rule:evenodd;stroke:#FF0000;stroke-width:2.0px;stroke-linecap:butt;stroke-linejoin:miter;stroke-opacity:1' />\n",
              "<path class='bond-11 atom-11 atom-12' d='M 232.8,48.0 L 237.2,56.7' style='fill:none;fill-rule:evenodd;stroke:#FF0000;stroke-width:2.0px;stroke-linecap:butt;stroke-linejoin:miter;stroke-opacity:1' />\n",
              "<path class='bond-11 atom-11 atom-12' d='M 237.2,56.7 L 241.5,65.5' style='fill:none;fill-rule:evenodd;stroke:#000000;stroke-width:2.0px;stroke-linecap:butt;stroke-linejoin:miter;stroke-opacity:1' />\n",
              "<path class='bond-12 atom-12 atom-13' d='M 241.5,65.5 L 259.8,76.1' style='fill:none;fill-rule:evenodd;stroke:#000000;stroke-width:2.0px;stroke-linecap:butt;stroke-linejoin:miter;stroke-opacity:1' />\n",
              "<path class='bond-13 atom-13 atom-14' d='M 259.8,76.1 L 259.4,97.4' style='fill:none;fill-rule:evenodd;stroke:#000000;stroke-width:2.0px;stroke-linecap:butt;stroke-linejoin:miter;stroke-opacity:1' />\n",
              "<path class='bond-14 atom-14 atom-15' d='M 259.4,97.4 L 241.1,107.9' style='fill:none;fill-rule:evenodd;stroke:#000000;stroke-width:2.0px;stroke-linecap:butt;stroke-linejoin:miter;stroke-opacity:1' />\n",
              "<path class='bond-14 atom-14 atom-15' d='M 256.2,95.5 L 241.1,104.1' style='fill:none;fill-rule:evenodd;stroke:#000000;stroke-width:2.0px;stroke-linecap:butt;stroke-linejoin:miter;stroke-opacity:1' />\n",
              "<path class='bond-15 atom-13 atom-16' d='M 259.8,76.1 L 266.5,72.3' style='fill:none;fill-rule:evenodd;stroke:#000000;stroke-width:2.0px;stroke-linecap:butt;stroke-linejoin:miter;stroke-opacity:1' />\n",
              "<path class='bond-15 atom-13 atom-16' d='M 266.5,72.3 L 273.3,68.5' style='fill:none;fill-rule:evenodd;stroke:#FF0000;stroke-width:2.0px;stroke-linecap:butt;stroke-linejoin:miter;stroke-opacity:1' />\n",
              "<path class='bond-16 atom-10 atom-17' d='M 204.9,44.0 L 186.4,33.1' style='fill:none;fill-rule:evenodd;stroke:#000000;stroke-width:2.0px;stroke-linecap:butt;stroke-linejoin:miter;stroke-opacity:1' />\n",
              "<path class='bond-16 atom-10 atom-17' d='M 201.5,45.8 L 186.4,36.9' style='fill:none;fill-rule:evenodd;stroke:#000000;stroke-width:2.0px;stroke-linecap:butt;stroke-linejoin:miter;stroke-opacity:1;stroke-dasharray:6,4' />\n",
              "<path class='bond-17 atom-17 atom-18' d='M 186.4,33.1 L 167.9,43.8' style='fill:none;fill-rule:evenodd;stroke:#000000;stroke-width:2.0px;stroke-linecap:butt;stroke-linejoin:miter;stroke-opacity:1' />\n",
              "<path class='bond-17 atom-17 atom-18' d='M 186.4,36.9 L 171.2,45.7' style='fill:none;fill-rule:evenodd;stroke:#000000;stroke-width:2.0px;stroke-linecap:butt;stroke-linejoin:miter;stroke-opacity:1;stroke-dasharray:6,4' />\n",
              "<path class='bond-18 atom-18 atom-19' d='M 167.9,43.8 L 167.8,64.9' style='fill:none;fill-rule:evenodd;stroke:#000000;stroke-width:2.0px;stroke-linecap:butt;stroke-linejoin:miter;stroke-opacity:1' />\n",
              "<path class='bond-18 atom-18 atom-19' d='M 171.2,45.7 L 171.1,63.0' style='fill:none;fill-rule:evenodd;stroke:#000000;stroke-width:2.0px;stroke-linecap:butt;stroke-linejoin:miter;stroke-opacity:1;stroke-dasharray:6,4' />\n",
              "<path class='bond-19 atom-17 atom-20' d='M 186.4,33.1 L 186.5,25.3' style='fill:none;fill-rule:evenodd;stroke:#000000;stroke-width:2.0px;stroke-linecap:butt;stroke-linejoin:miter;stroke-opacity:1' />\n",
              "<path class='bond-19 atom-17 atom-20' d='M 186.5,25.3 L 186.5,17.4' style='fill:none;fill-rule:evenodd;stroke:#FF0000;stroke-width:2.0px;stroke-linecap:butt;stroke-linejoin:miter;stroke-opacity:1' />\n",
              "<path class='bond-20 atom-6 atom-1' d='M 204.2,107.7 L 212.0,113.1' style='fill:none;fill-rule:evenodd;stroke:#000000;stroke-width:2.0px;stroke-linecap:butt;stroke-linejoin:miter;stroke-opacity:1' />\n",
              "<path class='bond-20 atom-6 atom-1' d='M 212.0,113.1 L 219.8,118.6' style='fill:none;fill-rule:evenodd;stroke:#0000FF;stroke-width:2.0px;stroke-linecap:butt;stroke-linejoin:miter;stroke-opacity:1' />\n",
              "<path class='bond-21 atom-19 atom-8' d='M 167.8,64.9 L 186.0,75.5' style='fill:none;fill-rule:evenodd;stroke:#000000;stroke-width:2.0px;stroke-linecap:butt;stroke-linejoin:miter;stroke-opacity:1' />\n",
              "<path class='bond-21 atom-19 atom-8' d='M 171.1,63.0 L 186.1,71.7' style='fill:none;fill-rule:evenodd;stroke:#000000;stroke-width:2.0px;stroke-linecap:butt;stroke-linejoin:miter;stroke-opacity:1;stroke-dasharray:6,4' />\n",
              "<path class='bond-22 atom-9 atom-4' d='M 204.6,65.3 L 222.8,76.0' style='fill:none;fill-rule:evenodd;stroke:#000000;stroke-width:2.0px;stroke-linecap:butt;stroke-linejoin:miter;stroke-opacity:1' />\n",
              "<path class='bond-23 atom-12 atom-4' d='M 241.5,65.5 L 222.8,76.0' style='fill:none;fill-rule:evenodd;stroke:#000000;stroke-width:2.0px;stroke-linecap:butt;stroke-linejoin:miter;stroke-opacity:1' />\n",
              "<path class='bond-24 atom-15 atom-5' d='M 241.1,107.9 L 222.7,97.1' style='fill:none;fill-rule:evenodd;stroke:#000000;stroke-width:2.0px;stroke-linecap:butt;stroke-linejoin:miter;stroke-opacity:1' />\n",
              "<path d='M 244.5,110.3 L 244.9,110.1 L 244.9,108.9' style='fill:none;stroke:#000000;stroke-width:2.0px;stroke-linecap:butt;stroke-linejoin:miter;stroke-miterlimit:10;stroke-opacity:1;' />\n",
              "<path d='M 244.6,87.5 L 244.5,86.3 L 243.4,85.8' style='fill:none;stroke:#000000;stroke-width:2.0px;stroke-linecap:butt;stroke-linejoin:miter;stroke-miterlimit:10;stroke-opacity:1;' />\n",
              "<path d='M 186.9,97.6 L 185.9,97.1 L 186.0,96.0' style='fill:none;stroke:#000000;stroke-width:2.0px;stroke-linecap:butt;stroke-linejoin:miter;stroke-miterlimit:10;stroke-opacity:1;' />\n",
              "<path d='M 259.4,96.4 L 259.4,97.4 L 258.5,98.0' style='fill:none;stroke:#000000;stroke-width:2.0px;stroke-linecap:butt;stroke-linejoin:miter;stroke-miterlimit:10;stroke-opacity:1;' />\n",
              "<path d='M 242.0,107.4 L 241.1,107.9 L 240.2,107.4' style='fill:none;stroke:#000000;stroke-width:2.0px;stroke-linecap:butt;stroke-linejoin:miter;stroke-miterlimit:10;stroke-opacity:1;' />\n",
              "<path d='M 168.9,43.3 L 167.9,43.8 L 167.9,44.9' style='fill:none;stroke:#000000;stroke-width:2.0px;stroke-linecap:butt;stroke-linejoin:miter;stroke-miterlimit:10;stroke-opacity:1;' />\n",
              "<path d='M 167.8,63.8 L 167.8,64.9 L 168.7,65.4' style='fill:none;stroke:#000000;stroke-width:2.0px;stroke-linecap:butt;stroke-linejoin:miter;stroke-miterlimit:10;stroke-opacity:1;' />\n",
              "<path class='atom-1' d='M 222.0 116.9\n",
              "L 224.9 121.7\n",
              "Q 225.2 122.2, 225.7 123.0\n",
              "Q 226.1 123.9, 226.2 123.9\n",
              "L 226.2 116.9\n",
              "L 227.3 116.9\n",
              "L 227.3 125.9\n",
              "L 226.1 125.9\n",
              "L 223.0 120.7\n",
              "Q 222.6 120.1, 222.2 119.4\n",
              "Q 221.8 118.7, 221.7 118.5\n",
              "L 221.7 125.9\n",
              "L 220.5 125.9\n",
              "L 220.5 116.9\n",
              "L 222.0 116.9\n",
              "' fill='#0000FF'/>\n",
              "<path class='atom-11' d='M 226.0 42.7\n",
              "Q 226.0 40.5, 227.1 39.3\n",
              "Q 228.2 38.1, 230.1 38.1\n",
              "Q 232.1 38.1, 233.2 39.3\n",
              "Q 234.3 40.5, 234.3 42.7\n",
              "Q 234.3 44.8, 233.2 46.1\n",
              "Q 232.1 47.3, 230.1 47.3\n",
              "Q 228.2 47.3, 227.1 46.1\n",
              "Q 226.0 44.8, 226.0 42.7\n",
              "M 230.1 46.3\n",
              "Q 231.5 46.3, 232.3 45.4\n",
              "Q 233.0 44.5, 233.0 42.7\n",
              "Q 233.0 40.9, 232.3 40.0\n",
              "Q 231.5 39.1, 230.1 39.1\n",
              "Q 228.8 39.1, 228.0 40.0\n",
              "Q 227.3 40.9, 227.3 42.7\n",
              "Q 227.3 44.5, 228.0 45.4\n",
              "Q 228.8 46.3, 230.1 46.3\n",
              "' fill='#FF0000'/>\n",
              "<path class='atom-16' d='M 274.0 65.8\n",
              "Q 274.0 63.6, 275.1 62.4\n",
              "Q 276.1 61.2, 278.1 61.2\n",
              "Q 280.1 61.2, 281.2 62.4\n",
              "Q 282.2 63.6, 282.2 65.8\n",
              "Q 282.2 67.9, 281.2 69.2\n",
              "Q 280.1 70.4, 278.1 70.4\n",
              "Q 276.1 70.4, 275.1 69.2\n",
              "Q 274.0 68.0, 274.0 65.8\n",
              "M 278.1 69.4\n",
              "Q 279.5 69.4, 280.2 68.5\n",
              "Q 281.0 67.6, 281.0 65.8\n",
              "Q 281.0 64.0, 280.2 63.1\n",
              "Q 279.5 62.2, 278.1 62.2\n",
              "Q 276.7 62.2, 276.0 63.1\n",
              "Q 275.3 64.0, 275.3 65.8\n",
              "Q 275.3 67.6, 276.0 68.5\n",
              "Q 276.7 69.4, 278.1 69.4\n",
              "' fill='#FF0000'/>\n",
              "<path class='atom-20' d='M 182.4 12.1\n",
              "Q 182.4 9.9, 183.5 8.7\n",
              "Q 184.5 7.5, 186.5 7.5\n",
              "Q 188.5 7.5, 189.6 8.7\n",
              "Q 190.6 9.9, 190.6 12.1\n",
              "Q 190.6 14.2, 189.5 15.5\n",
              "Q 188.5 16.7, 186.5 16.7\n",
              "Q 184.5 16.7, 183.5 15.5\n",
              "Q 182.4 14.3, 182.4 12.1\n",
              "M 186.5 15.7\n",
              "Q 187.9 15.7, 188.6 14.8\n",
              "Q 189.4 13.9, 189.4 12.1\n",
              "Q 189.4 10.3, 188.6 9.4\n",
              "Q 187.9 8.5, 186.5 8.5\n",
              "Q 185.1 8.5, 184.4 9.4\n",
              "Q 183.7 10.3, 183.7 12.1\n",
              "Q 183.7 13.9, 184.4 14.8\n",
              "Q 185.1 15.7, 186.5 15.7\n",
              "' fill='#FF0000'/>\n",
              "</svg>\n"
            ],
            "image/svg+xml": "<?xml version='1.0' encoding='iso-8859-1'?>\n<svg version='1.1' baseProfile='full'\n              xmlns='http://www.w3.org/2000/svg'\n                      xmlns:rdkit='http://www.rdkit.org/xml'\n                      xmlns:xlink='http://www.w3.org/1999/xlink'\n                  xml:space='preserve'\nwidth='450px' height='150px' viewBox='0 0 450 150'>\n<!-- END OF HEADER -->\n<rect style='opacity:1.0;fill:#FFFFFF;stroke:none' width='450.0' height='150.0' x='0.0' y='0.0'> </rect>\n<path class='bond-0 atom-0 atom-1' d='M 222.8,142.5 L 223.2,134.6' style='fill:none;fill-rule:evenodd;stroke:#000000;stroke-width:2.0px;stroke-linecap:butt;stroke-linejoin:miter;stroke-opacity:1' />\n<path class='bond-0 atom-0 atom-1' d='M 223.2,134.6 L 223.7,126.6' style='fill:none;fill-rule:evenodd;stroke:#0000FF;stroke-width:2.0px;stroke-linecap:butt;stroke-linejoin:miter;stroke-opacity:1' />\n<path class='bond-1 atom-1 atom-2' d='M 228.1,119.2 L 236.5,114.6' style='fill:none;fill-rule:evenodd;stroke:#0000FF;stroke-width:2.0px;stroke-linecap:butt;stroke-linejoin:miter;stroke-opacity:1' />\n<path class='bond-1 atom-1 atom-2' d='M 236.5,114.6 L 244.9,110.1' style='fill:none;fill-rule:evenodd;stroke:#000000;stroke-width:2.0px;stroke-linecap:butt;stroke-linejoin:miter;stroke-opacity:1' />\n<path class='bond-2 atom-2 atom-3' d='M 244.9,110.1 L 244.5,86.3' style='fill:none;fill-rule:evenodd;stroke:#000000;stroke-width:2.0px;stroke-linecap:butt;stroke-linejoin:miter;stroke-opacity:1' />\n<path class='bond-3 atom-3 atom-4' d='M 244.5,86.3 L 222.8,76.0' style='fill:none;fill-rule:evenodd;stroke:#000000;stroke-width:2.0px;stroke-linecap:butt;stroke-linejoin:miter;stroke-opacity:1' />\n<path class='bond-4 atom-4 atom-5' d='M 222.8,76.0 L 222.7,97.1' style='fill:none;fill-rule:evenodd;stroke:#000000;stroke-width:2.0px;stroke-linecap:butt;stroke-linejoin:miter;stroke-opacity:1' />\n<path class='bond-5 atom-5 atom-6' d='M 222.7,97.1 L 204.2,107.7' style='fill:none;fill-rule:evenodd;stroke:#000000;stroke-width:2.0px;stroke-linecap:butt;stroke-linejoin:miter;stroke-opacity:1' />\n<path class='bond-6 atom-6 atom-7' d='M 204.2,107.7 L 185.9,97.1' style='fill:none;fill-rule:evenodd;stroke:#000000;stroke-width:2.0px;stroke-linecap:butt;stroke-linejoin:miter;stroke-opacity:1' />\n<path class='bond-7 atom-7 atom-8' d='M 185.9,97.1 L 186.0,75.5' style='fill:none;fill-rule:evenodd;stroke:#000000;stroke-width:2.0px;stroke-linecap:butt;stroke-linejoin:miter;stroke-opacity:1' />\n<path class='bond-8 atom-8 atom-9' d='M 186.0,75.5 L 204.6,65.3' style='fill:none;fill-rule:evenodd;stroke:#000000;stroke-width:2.0px;stroke-linecap:butt;stroke-linejoin:miter;stroke-opacity:1' />\n<path class='bond-8 atom-8 atom-9' d='M 189.3,77.5 L 204.6,69.1' style='fill:none;fill-rule:evenodd;stroke:#000000;stroke-width:2.0px;stroke-linecap:butt;stroke-linejoin:miter;stroke-opacity:1;stroke-dasharray:6,4' />\n<path class='bond-9 atom-9 atom-10' d='M 204.6,65.3 L 204.9,44.0' style='fill:none;fill-rule:evenodd;stroke:#000000;stroke-width:2.0px;stroke-linecap:butt;stroke-linejoin:miter;stroke-opacity:1' />\n<path class='bond-9 atom-9 atom-10' d='M 207.9,63.4 L 208.1,47.1' style='fill:none;fill-rule:evenodd;stroke:#000000;stroke-width:2.0px;stroke-linecap:butt;stroke-linejoin:miter;stroke-opacity:1;stroke-dasharray:6,4' />\n<path class='bond-10 atom-10 atom-11' d='M 204.9,44.0 L 215.1,43.4' style='fill:none;fill-rule:evenodd;stroke:#000000;stroke-width:2.0px;stroke-linecap:butt;stroke-linejoin:miter;stroke-opacity:1' />\n<path class='bond-10 atom-10 atom-11' d='M 215.1,43.4 L 225.3,42.9' style='fill:none;fill-rule:evenodd;stroke:#FF0000;stroke-width:2.0px;stroke-linecap:butt;stroke-linejoin:miter;stroke-opacity:1' />\n<path class='bond-11 atom-11 atom-12' d='M 232.8,48.0 L 237.2,56.7' style='fill:none;fill-rule:evenodd;stroke:#FF0000;stroke-width:2.0px;stroke-linecap:butt;stroke-linejoin:miter;stroke-opacity:1' />\n<path class='bond-11 atom-11 atom-12' d='M 237.2,56.7 L 241.5,65.5' style='fill:none;fill-rule:evenodd;stroke:#000000;stroke-width:2.0px;stroke-linecap:butt;stroke-linejoin:miter;stroke-opacity:1' />\n<path class='bond-12 atom-12 atom-13' d='M 241.5,65.5 L 259.8,76.1' style='fill:none;fill-rule:evenodd;stroke:#000000;stroke-width:2.0px;stroke-linecap:butt;stroke-linejoin:miter;stroke-opacity:1' />\n<path class='bond-13 atom-13 atom-14' d='M 259.8,76.1 L 259.4,97.4' style='fill:none;fill-rule:evenodd;stroke:#000000;stroke-width:2.0px;stroke-linecap:butt;stroke-linejoin:miter;stroke-opacity:1' />\n<path class='bond-14 atom-14 atom-15' d='M 259.4,97.4 L 241.1,107.9' style='fill:none;fill-rule:evenodd;stroke:#000000;stroke-width:2.0px;stroke-linecap:butt;stroke-linejoin:miter;stroke-opacity:1' />\n<path class='bond-14 atom-14 atom-15' d='M 256.2,95.5 L 241.1,104.1' style='fill:none;fill-rule:evenodd;stroke:#000000;stroke-width:2.0px;stroke-linecap:butt;stroke-linejoin:miter;stroke-opacity:1' />\n<path class='bond-15 atom-13 atom-16' d='M 259.8,76.1 L 266.5,72.3' style='fill:none;fill-rule:evenodd;stroke:#000000;stroke-width:2.0px;stroke-linecap:butt;stroke-linejoin:miter;stroke-opacity:1' />\n<path class='bond-15 atom-13 atom-16' d='M 266.5,72.3 L 273.3,68.5' style='fill:none;fill-rule:evenodd;stroke:#FF0000;stroke-width:2.0px;stroke-linecap:butt;stroke-linejoin:miter;stroke-opacity:1' />\n<path class='bond-16 atom-10 atom-17' d='M 204.9,44.0 L 186.4,33.1' style='fill:none;fill-rule:evenodd;stroke:#000000;stroke-width:2.0px;stroke-linecap:butt;stroke-linejoin:miter;stroke-opacity:1' />\n<path class='bond-16 atom-10 atom-17' d='M 201.5,45.8 L 186.4,36.9' style='fill:none;fill-rule:evenodd;stroke:#000000;stroke-width:2.0px;stroke-linecap:butt;stroke-linejoin:miter;stroke-opacity:1;stroke-dasharray:6,4' />\n<path class='bond-17 atom-17 atom-18' d='M 186.4,33.1 L 167.9,43.8' style='fill:none;fill-rule:evenodd;stroke:#000000;stroke-width:2.0px;stroke-linecap:butt;stroke-linejoin:miter;stroke-opacity:1' />\n<path class='bond-17 atom-17 atom-18' d='M 186.4,36.9 L 171.2,45.7' style='fill:none;fill-rule:evenodd;stroke:#000000;stroke-width:2.0px;stroke-linecap:butt;stroke-linejoin:miter;stroke-opacity:1;stroke-dasharray:6,4' />\n<path class='bond-18 atom-18 atom-19' d='M 167.9,43.8 L 167.8,64.9' style='fill:none;fill-rule:evenodd;stroke:#000000;stroke-width:2.0px;stroke-linecap:butt;stroke-linejoin:miter;stroke-opacity:1' />\n<path class='bond-18 atom-18 atom-19' d='M 171.2,45.7 L 171.1,63.0' style='fill:none;fill-rule:evenodd;stroke:#000000;stroke-width:2.0px;stroke-linecap:butt;stroke-linejoin:miter;stroke-opacity:1;stroke-dasharray:6,4' />\n<path class='bond-19 atom-17 atom-20' d='M 186.4,33.1 L 186.5,25.3' style='fill:none;fill-rule:evenodd;stroke:#000000;stroke-width:2.0px;stroke-linecap:butt;stroke-linejoin:miter;stroke-opacity:1' />\n<path class='bond-19 atom-17 atom-20' d='M 186.5,25.3 L 186.5,17.4' style='fill:none;fill-rule:evenodd;stroke:#FF0000;stroke-width:2.0px;stroke-linecap:butt;stroke-linejoin:miter;stroke-opacity:1' />\n<path class='bond-20 atom-6 atom-1' d='M 204.2,107.7 L 212.0,113.1' style='fill:none;fill-rule:evenodd;stroke:#000000;stroke-width:2.0px;stroke-linecap:butt;stroke-linejoin:miter;stroke-opacity:1' />\n<path class='bond-20 atom-6 atom-1' d='M 212.0,113.1 L 219.8,118.6' style='fill:none;fill-rule:evenodd;stroke:#0000FF;stroke-width:2.0px;stroke-linecap:butt;stroke-linejoin:miter;stroke-opacity:1' />\n<path class='bond-21 atom-19 atom-8' d='M 167.8,64.9 L 186.0,75.5' style='fill:none;fill-rule:evenodd;stroke:#000000;stroke-width:2.0px;stroke-linecap:butt;stroke-linejoin:miter;stroke-opacity:1' />\n<path class='bond-21 atom-19 atom-8' d='M 171.1,63.0 L 186.1,71.7' style='fill:none;fill-rule:evenodd;stroke:#000000;stroke-width:2.0px;stroke-linecap:butt;stroke-linejoin:miter;stroke-opacity:1;stroke-dasharray:6,4' />\n<path class='bond-22 atom-9 atom-4' d='M 204.6,65.3 L 222.8,76.0' style='fill:none;fill-rule:evenodd;stroke:#000000;stroke-width:2.0px;stroke-linecap:butt;stroke-linejoin:miter;stroke-opacity:1' />\n<path class='bond-23 atom-12 atom-4' d='M 241.5,65.5 L 222.8,76.0' style='fill:none;fill-rule:evenodd;stroke:#000000;stroke-width:2.0px;stroke-linecap:butt;stroke-linejoin:miter;stroke-opacity:1' />\n<path class='bond-24 atom-15 atom-5' d='M 241.1,107.9 L 222.7,97.1' style='fill:none;fill-rule:evenodd;stroke:#000000;stroke-width:2.0px;stroke-linecap:butt;stroke-linejoin:miter;stroke-opacity:1' />\n<path d='M 244.5,110.3 L 244.9,110.1 L 244.9,108.9' style='fill:none;stroke:#000000;stroke-width:2.0px;stroke-linecap:butt;stroke-linejoin:miter;stroke-miterlimit:10;stroke-opacity:1;' />\n<path d='M 244.6,87.5 L 244.5,86.3 L 243.4,85.8' style='fill:none;stroke:#000000;stroke-width:2.0px;stroke-linecap:butt;stroke-linejoin:miter;stroke-miterlimit:10;stroke-opacity:1;' />\n<path d='M 186.9,97.6 L 185.9,97.1 L 186.0,96.0' style='fill:none;stroke:#000000;stroke-width:2.0px;stroke-linecap:butt;stroke-linejoin:miter;stroke-miterlimit:10;stroke-opacity:1;' />\n<path d='M 259.4,96.4 L 259.4,97.4 L 258.5,98.0' style='fill:none;stroke:#000000;stroke-width:2.0px;stroke-linecap:butt;stroke-linejoin:miter;stroke-miterlimit:10;stroke-opacity:1;' />\n<path d='M 242.0,107.4 L 241.1,107.9 L 240.2,107.4' style='fill:none;stroke:#000000;stroke-width:2.0px;stroke-linecap:butt;stroke-linejoin:miter;stroke-miterlimit:10;stroke-opacity:1;' />\n<path d='M 168.9,43.3 L 167.9,43.8 L 167.9,44.9' style='fill:none;stroke:#000000;stroke-width:2.0px;stroke-linecap:butt;stroke-linejoin:miter;stroke-miterlimit:10;stroke-opacity:1;' />\n<path d='M 167.8,63.8 L 167.8,64.9 L 168.7,65.4' style='fill:none;stroke:#000000;stroke-width:2.0px;stroke-linecap:butt;stroke-linejoin:miter;stroke-miterlimit:10;stroke-opacity:1;' />\n<path class='atom-1' d='M 222.0 116.9\nL 224.9 121.7\nQ 225.2 122.2, 225.7 123.0\nQ 226.1 123.9, 226.2 123.9\nL 226.2 116.9\nL 227.3 116.9\nL 227.3 125.9\nL 226.1 125.9\nL 223.0 120.7\nQ 222.6 120.1, 222.2 119.4\nQ 221.8 118.7, 221.7 118.5\nL 221.7 125.9\nL 220.5 125.9\nL 220.5 116.9\nL 222.0 116.9\n' fill='#0000FF'/>\n<path class='atom-11' d='M 226.0 42.7\nQ 226.0 40.5, 227.1 39.3\nQ 228.2 38.1, 230.1 38.1\nQ 232.1 38.1, 233.2 39.3\nQ 234.3 40.5, 234.3 42.7\nQ 234.3 44.8, 233.2 46.1\nQ 232.1 47.3, 230.1 47.3\nQ 228.2 47.3, 227.1 46.1\nQ 226.0 44.8, 226.0 42.7\nM 230.1 46.3\nQ 231.5 46.3, 232.3 45.4\nQ 233.0 44.5, 233.0 42.7\nQ 233.0 40.9, 232.3 40.0\nQ 231.5 39.1, 230.1 39.1\nQ 228.8 39.1, 228.0 40.0\nQ 227.3 40.9, 227.3 42.7\nQ 227.3 44.5, 228.0 45.4\nQ 228.8 46.3, 230.1 46.3\n' fill='#FF0000'/>\n<path class='atom-16' d='M 274.0 65.8\nQ 274.0 63.6, 275.1 62.4\nQ 276.1 61.2, 278.1 61.2\nQ 280.1 61.2, 281.2 62.4\nQ 282.2 63.6, 282.2 65.8\nQ 282.2 67.9, 281.2 69.2\nQ 280.1 70.4, 278.1 70.4\nQ 276.1 70.4, 275.1 69.2\nQ 274.0 68.0, 274.0 65.8\nM 278.1 69.4\nQ 279.5 69.4, 280.2 68.5\nQ 281.0 67.6, 281.0 65.8\nQ 281.0 64.0, 280.2 63.1\nQ 279.5 62.2, 278.1 62.2\nQ 276.7 62.2, 276.0 63.1\nQ 275.3 64.0, 275.3 65.8\nQ 275.3 67.6, 276.0 68.5\nQ 276.7 69.4, 278.1 69.4\n' fill='#FF0000'/>\n<path class='atom-20' d='M 182.4 12.1\nQ 182.4 9.9, 183.5 8.7\nQ 184.5 7.5, 186.5 7.5\nQ 188.5 7.5, 189.6 8.7\nQ 190.6 9.9, 190.6 12.1\nQ 190.6 14.2, 189.5 15.5\nQ 188.5 16.7, 186.5 16.7\nQ 184.5 16.7, 183.5 15.5\nQ 182.4 14.3, 182.4 12.1\nM 186.5 15.7\nQ 187.9 15.7, 188.6 14.8\nQ 189.4 13.9, 189.4 12.1\nQ 189.4 10.3, 188.6 9.4\nQ 187.9 8.5, 186.5 8.5\nQ 185.1 8.5, 184.4 9.4\nQ 183.7 10.3, 183.7 12.1\nQ 183.7 13.9, 184.4 14.8\nQ 185.1 15.7, 186.5 15.7\n' fill='#FF0000'/>\n</svg>\n",
            "image/png": "[encoded data removed]"
          },
          "metadata": {},
          "execution_count": 13
        }
      ],
      "source": [
        "from rdkit.Chem import rdFMCS\n",
        "\n",
        "morphine = Chem.MolFromSmiles(\"CN1CC[C@]23C4=C5C=CC(O)=C4O[C@H]2[C@H](C=C[C@H]3[C@H]1C5)O\")\n",
        "codeine = Chem.MolFromSmiles(\"CN1CC[C@]23[C@@H]4[C@H]1CC5=C2C(O[C@H]3[C@@H](O)C=C4)=C(OC)C=C5\")\n",
        "heroine = Chem.MolFromSmiles(\"CN([C@H](CC(C=C1)=C23)[C@@H]4C=C[C@@H]5OC(C)=O)CC[C@]43[C@H]5OC2=C1OC(C)=O\")\n",
        "\n",
        "mols = [morphine, codeine, heroine]\n",
        "mcss = rdFMCS.FindMCS(mols)\n",
        "Chem.MolFromSmarts(mcss.smartsString)"
      ]
    },
    {
      "cell_type": "markdown",
      "metadata": {
        "id": "tdsu0gayT4gn"
      },
      "source": [
        "## Clustering"
      ]
    },
    {
      "cell_type": "markdown",
      "metadata": {
        "id": "S8vtD7SZYkk5"
      },
      "source": [
        "Read in six molecules:"
      ]
    },
    {
      "cell_type": "code",
      "execution_count": 14,
      "metadata": {
        "id": "wdrNOwHCT58-",
        "colab": {
          "base_uri": "https://localhost:8080/",
          "height": 523
        },
        "outputId": "82dbab33-b29f-455b-f0cc-8eb3f932799e"
      },
      "outputs": [
        {
          "output_type": "stream",
          "name": "stderr",
          "text": [
            "[10:09:21] DEPRECATION WARNING: please use MorganGenerator\n",
            "[10:09:21] DEPRECATION WARNING: please use MorganGenerator\n",
            "[10:09:21] DEPRECATION WARNING: please use MorganGenerator\n",
            "[10:09:21] DEPRECATION WARNING: please use MorganGenerator\n",
            "[10:09:21] DEPRECATION WARNING: please use MorganGenerator\n",
            "[10:09:21] DEPRECATION WARNING: please use MorganGenerator\n"
          ]
        },
        {
          "output_type": "display_data",
          "data": {
            "text/plain": [
              "<IPython.core.display.SVG object>"
            ],
            "image/svg+xml": "<svg xmlns=\"http://www.w3.org/2000/svg\" xmlns:rdkit=\"http://www.rdkit.org/xml\" xmlns:xlink=\"http://www.w3.org/1999/xlink\" version=\"1.1\" baseProfile=\"full\" xml:space=\"preserve\" width=\"600px\" height=\"400px\" viewBox=\"0 0 600 400\">\n<!-- END OF HEADER -->\n<rect style=\"opacity:1.0;fill:#FFFFFF;stroke:none\" width=\"200.0\" height=\"200.0\" x=\"0.0\" y=\"0.0\"> </rect>\n<path class=\"bond-0 atom-0 atom-1\" d=\"M 38.9,135.2 L 38.9,64.7\" style=\"fill:none;fill-rule:evenodd;stroke:#000000;stroke-width:2.0px;stroke-linecap:butt;stroke-linejoin:miter;stroke-opacity:1\"/>\n<path class=\"bond-0 atom-0 atom-1\" d=\"M 49.5,129.1 L 49.5,70.8\" style=\"fill:none;fill-rule:evenodd;stroke:#000000;stroke-width:2.0px;stroke-linecap:butt;stroke-linejoin:miter;stroke-opacity:1\"/>\n<path class=\"bond-1 atom-1 atom-2\" d=\"M 38.9,64.7 L 100.1,29.5\" style=\"fill:none;fill-rule:evenodd;stroke:#000000;stroke-width:2.0px;stroke-linecap:butt;stroke-linejoin:miter;stroke-opacity:1\"/>\n<path class=\"bond-2 atom-2 atom-3\" d=\"M 100.1,29.5 L 161.1,64.8\" style=\"fill:none;fill-rule:evenodd;stroke:#000000;stroke-width:2.0px;stroke-linecap:butt;stroke-linejoin:miter;stroke-opacity:1\"/>\n<path class=\"bond-2 atom-2 atom-3\" d=\"M 100.0,41.7 L 150.5,70.9\" style=\"fill:none;fill-rule:evenodd;stroke:#000000;stroke-width:2.0px;stroke-linecap:butt;stroke-linejoin:miter;stroke-opacity:1\"/>\n<path class=\"bond-3 atom-3 atom-4\" d=\"M 161.1,64.8 L 161.1,135.3\" style=\"fill:none;fill-rule:evenodd;stroke:#000000;stroke-width:2.0px;stroke-linecap:butt;stroke-linejoin:miter;stroke-opacity:1\"/>\n<path class=\"bond-4 atom-4 atom-5\" d=\"M 161.1,135.3 L 99.9,170.5\" style=\"fill:none;fill-rule:evenodd;stroke:#000000;stroke-width:2.0px;stroke-linecap:butt;stroke-linejoin:miter;stroke-opacity:1\"/>\n<path class=\"bond-4 atom-4 atom-5\" d=\"M 150.5,129.2 L 100.0,158.3\" style=\"fill:none;fill-rule:evenodd;stroke:#000000;stroke-width:2.0px;stroke-linecap:butt;stroke-linejoin:miter;stroke-opacity:1\"/>\n<path class=\"bond-5 atom-5 atom-0\" d=\"M 99.9,170.5 L 38.9,135.2\" style=\"fill:none;fill-rule:evenodd;stroke:#000000;stroke-width:2.0px;stroke-linecap:butt;stroke-linejoin:miter;stroke-opacity:1\"/>\n<path d=\"M 38.9,131.7 L 38.9,135.2 L 41.9,137.0\" style=\"fill:none;stroke:#000000;stroke-width:2.0px;stroke-linecap:butt;stroke-linejoin:miter;stroke-miterlimit:10;stroke-opacity:1;\"/>\n<path d=\"M 38.9,68.2 L 38.9,64.7 L 42.0,62.9\" style=\"fill:none;stroke:#000000;stroke-width:2.0px;stroke-linecap:butt;stroke-linejoin:miter;stroke-miterlimit:10;stroke-opacity:1;\"/>\n<path d=\"M 97.0,31.2 L 100.1,29.5 L 103.1,31.2\" style=\"fill:none;stroke:#000000;stroke-width:2.0px;stroke-linecap:butt;stroke-linejoin:miter;stroke-miterlimit:10;stroke-opacity:1;\"/>\n<path d=\"M 158.1,63.0 L 161.1,64.8 L 161.1,68.3\" style=\"fill:none;stroke:#000000;stroke-width:2.0px;stroke-linecap:butt;stroke-linejoin:miter;stroke-miterlimit:10;stroke-opacity:1;\"/>\n<path d=\"M 161.1,131.8 L 161.1,135.3 L 158.0,137.1\" style=\"fill:none;stroke:#000000;stroke-width:2.0px;stroke-linecap:butt;stroke-linejoin:miter;stroke-miterlimit:10;stroke-opacity:1;\"/>\n<path d=\"M 103.0,168.8 L 99.9,170.5 L 96.9,168.8\" style=\"fill:none;stroke:#000000;stroke-width:2.0px;stroke-linecap:butt;stroke-linejoin:miter;stroke-miterlimit:10;stroke-opacity:1;\"/>\n<path class=\"bond-0 atom-0 atom-1\" d=\"M 366.4,135.3 L 366.5,64.8\" style=\"fill:none;fill-rule:evenodd;stroke:#000000;stroke-width:2.0px;stroke-linecap:butt;stroke-linejoin:miter;stroke-opacity:1\"/>\n<path class=\"bond-0 atom-0 atom-1\" d=\"M 355.9,129.2 L 355.9,70.9\" style=\"fill:none;fill-rule:evenodd;stroke:#000000;stroke-width:2.0px;stroke-linecap:butt;stroke-linejoin:miter;stroke-opacity:1\"/>\n<path class=\"bond-1 atom-1 atom-2\" d=\"M 366.5,64.8 L 305.4,29.5\" style=\"fill:none;fill-rule:evenodd;stroke:#000000;stroke-width:2.0px;stroke-linecap:butt;stroke-linejoin:miter;stroke-opacity:1\"/>\n<path class=\"bond-2 atom-2 atom-3\" d=\"M 305.4,29.5 L 244.3,64.7\" style=\"fill:none;fill-rule:evenodd;stroke:#000000;stroke-width:2.0px;stroke-linecap:butt;stroke-linejoin:miter;stroke-opacity:1\"/>\n<path class=\"bond-2 atom-2 atom-3\" d=\"M 305.4,41.7 L 254.9,70.8\" style=\"fill:none;fill-rule:evenodd;stroke:#000000;stroke-width:2.0px;stroke-linecap:butt;stroke-linejoin:miter;stroke-opacity:1\"/>\n<path class=\"bond-3 atom-3 atom-4\" d=\"M 244.3,64.7 L 244.3,91.7\" style=\"fill:none;fill-rule:evenodd;stroke:#000000;stroke-width:2.0px;stroke-linecap:butt;stroke-linejoin:miter;stroke-opacity:1\"/>\n<path class=\"bond-3 atom-3 atom-4\" d=\"M 244.3,91.7 L 244.3,118.7\" style=\"fill:none;fill-rule:evenodd;stroke:#0000FF;stroke-width:2.0px;stroke-linecap:butt;stroke-linejoin:miter;stroke-opacity:1\"/>\n<path class=\"bond-4 atom-4 atom-5\" d=\"M 257.3,142.8 L 281.3,156.7\" style=\"fill:none;fill-rule:evenodd;stroke:#0000FF;stroke-width:2.0px;stroke-linecap:butt;stroke-linejoin:miter;stroke-opacity:1\"/>\n<path class=\"bond-4 atom-4 atom-5\" d=\"M 281.3,156.7 L 305.3,170.5\" style=\"fill:none;fill-rule:evenodd;stroke:#000000;stroke-width:2.0px;stroke-linecap:butt;stroke-linejoin:miter;stroke-opacity:1\"/>\n<path class=\"bond-4 atom-4 atom-5\" d=\"M 262.6,133.6 L 284.0,146.0\" style=\"fill:none;fill-rule:evenodd;stroke:#0000FF;stroke-width:2.0px;stroke-linecap:butt;stroke-linejoin:miter;stroke-opacity:1\"/>\n<path class=\"bond-4 atom-4 atom-5\" d=\"M 284.0,146.0 L 305.3,158.3\" style=\"fill:none;fill-rule:evenodd;stroke:#000000;stroke-width:2.0px;stroke-linecap:butt;stroke-linejoin:miter;stroke-opacity:1\"/>\n<path class=\"bond-5 atom-5 atom-0\" d=\"M 305.3,170.5 L 366.4,135.3\" style=\"fill:none;fill-rule:evenodd;stroke:#000000;stroke-width:2.0px;stroke-linecap:butt;stroke-linejoin:miter;stroke-opacity:1\"/>\n<path d=\"M 366.4,131.8 L 366.4,135.3 L 363.4,137.1\" style=\"fill:none;stroke:#000000;stroke-width:2.0px;stroke-linecap:butt;stroke-linejoin:miter;stroke-miterlimit:10;stroke-opacity:1;\"/>\n<path d=\"M 366.5,68.3 L 366.5,64.8 L 363.4,63.0\" style=\"fill:none;stroke:#000000;stroke-width:2.0px;stroke-linecap:butt;stroke-linejoin:miter;stroke-miterlimit:10;stroke-opacity:1;\"/>\n<path d=\"M 308.5,31.2 L 305.4,29.5 L 302.4,31.2\" style=\"fill:none;stroke:#000000;stroke-width:2.0px;stroke-linecap:butt;stroke-linejoin:miter;stroke-miterlimit:10;stroke-opacity:1;\"/>\n<path d=\"M 247.4,62.9 L 244.3,64.7 L 244.3,66.0\" style=\"fill:none;stroke:#000000;stroke-width:2.0px;stroke-linecap:butt;stroke-linejoin:miter;stroke-miterlimit:10;stroke-opacity:1;\"/>\n<path d=\"M 304.1,169.8 L 305.3,170.5 L 308.4,168.8\" style=\"fill:none;stroke:#000000;stroke-width:2.0px;stroke-linecap:butt;stroke-linejoin:miter;stroke-miterlimit:10;stroke-opacity:1;\"/>\n<path class=\"atom-4\" d=\"M 238.0 121.1 L 247.3 136.1 Q 248.2 137.5, 249.7 140.2 Q 251.2 142.9, 251.2 143.1 L 251.2 121.1 L 255.0 121.1 L 255.0 149.4 L 251.1 149.4 L 241.2 133.0 Q 240.0 131.1, 238.8 128.9 Q 237.6 126.7, 237.2 126.0 L 237.2 149.4 L 233.5 149.4 L 233.5 121.1 L 238.0 121.1 \" fill=\"#0000FF\"/>\n<path class=\"bond-0 atom-0 atom-1\" d=\"M 439.0,64.7 L 439.0,91.7\" style=\"fill:none;fill-rule:evenodd;stroke:#000000;stroke-width:2.0px;stroke-linecap:butt;stroke-linejoin:miter;stroke-opacity:1\"/>\n<path class=\"bond-0 atom-0 atom-1\" d=\"M 439.0,91.7 L 438.9,118.7\" style=\"fill:none;fill-rule:evenodd;stroke:#0000FF;stroke-width:2.0px;stroke-linecap:butt;stroke-linejoin:miter;stroke-opacity:1\"/>\n<path class=\"bond-0 atom-0 atom-1\" d=\"M 449.5,70.8 L 449.5,94.8\" style=\"fill:none;fill-rule:evenodd;stroke:#000000;stroke-width:2.0px;stroke-linecap:butt;stroke-linejoin:miter;stroke-opacity:1\"/>\n<path class=\"bond-0 atom-0 atom-1\" d=\"M 449.5,94.8 L 449.5,118.7\" style=\"fill:none;fill-rule:evenodd;stroke:#0000FF;stroke-width:2.0px;stroke-linecap:butt;stroke-linejoin:miter;stroke-opacity:1\"/>\n<path class=\"bond-1 atom-1 atom-2\" d=\"M 452.0,142.8 L 476.0,156.7\" style=\"fill:none;fill-rule:evenodd;stroke:#0000FF;stroke-width:2.0px;stroke-linecap:butt;stroke-linejoin:miter;stroke-opacity:1\"/>\n<path class=\"bond-1 atom-1 atom-2\" d=\"M 476.0,156.7 L 500.0,170.5\" style=\"fill:none;fill-rule:evenodd;stroke:#000000;stroke-width:2.0px;stroke-linecap:butt;stroke-linejoin:miter;stroke-opacity:1\"/>\n<path class=\"bond-2 atom-2 atom-3\" d=\"M 500.0,170.5 L 524.0,156.7\" style=\"fill:none;fill-rule:evenodd;stroke:#000000;stroke-width:2.0px;stroke-linecap:butt;stroke-linejoin:miter;stroke-opacity:1\"/>\n<path class=\"bond-2 atom-2 atom-3\" d=\"M 524.0,156.7 L 548.0,142.8\" style=\"fill:none;fill-rule:evenodd;stroke:#0000FF;stroke-width:2.0px;stroke-linecap:butt;stroke-linejoin:miter;stroke-opacity:1\"/>\n<path class=\"bond-2 atom-2 atom-3\" d=\"M 500.0,158.3 L 521.4,146.0\" style=\"fill:none;fill-rule:evenodd;stroke:#000000;stroke-width:2.0px;stroke-linecap:butt;stroke-linejoin:miter;stroke-opacity:1\"/>\n<path class=\"bond-2 atom-2 atom-3\" d=\"M 521.4,146.0 L 542.7,133.7\" style=\"fill:none;fill-rule:evenodd;stroke:#0000FF;stroke-width:2.0px;stroke-linecap:butt;stroke-linejoin:miter;stroke-opacity:1\"/>\n<path class=\"bond-3 atom-3 atom-4\" d=\"M 561.1,118.8 L 561.1,91.8\" style=\"fill:none;fill-rule:evenodd;stroke:#0000FF;stroke-width:2.0px;stroke-linecap:butt;stroke-linejoin:miter;stroke-opacity:1\"/>\n<path class=\"bond-3 atom-3 atom-4\" d=\"M 561.1,91.8 L 561.1,64.8\" style=\"fill:none;fill-rule:evenodd;stroke:#000000;stroke-width:2.0px;stroke-linecap:butt;stroke-linejoin:miter;stroke-opacity:1\"/>\n<path class=\"bond-4 atom-4 atom-5\" d=\"M 561.1,64.8 L 500.1,29.5\" style=\"fill:none;fill-rule:evenodd;stroke:#000000;stroke-width:2.0px;stroke-linecap:butt;stroke-linejoin:miter;stroke-opacity:1\"/>\n<path class=\"bond-4 atom-4 atom-5\" d=\"M 550.6,70.9 L 500.1,41.7\" style=\"fill:none;fill-rule:evenodd;stroke:#000000;stroke-width:2.0px;stroke-linecap:butt;stroke-linejoin:miter;stroke-opacity:1\"/>\n<path class=\"bond-5 atom-5 atom-0\" d=\"M 500.1,29.5 L 439.0,64.7\" style=\"fill:none;fill-rule:evenodd;stroke:#000000;stroke-width:2.0px;stroke-linecap:butt;stroke-linejoin:miter;stroke-opacity:1\"/>\n<path d=\"M 439.0,66.0 L 439.0,64.7 L 442.0,62.9\" style=\"fill:none;stroke:#000000;stroke-width:2.0px;stroke-linecap:butt;stroke-linejoin:miter;stroke-miterlimit:10;stroke-opacity:1;\"/>\n<path d=\"M 498.8,169.8 L 500.0,170.5 L 501.2,169.8\" style=\"fill:none;stroke:#000000;stroke-width:2.0px;stroke-linecap:butt;stroke-linejoin:miter;stroke-miterlimit:10;stroke-opacity:1;\"/>\n<path d=\"M 561.1,66.1 L 561.1,64.8 L 558.1,63.0\" style=\"fill:none;stroke:#000000;stroke-width:2.0px;stroke-linecap:butt;stroke-linejoin:miter;stroke-miterlimit:10;stroke-opacity:1;\"/>\n<path d=\"M 503.1,31.2 L 500.1,29.5 L 497.0,31.2\" style=\"fill:none;stroke:#000000;stroke-width:2.0px;stroke-linecap:butt;stroke-linejoin:miter;stroke-miterlimit:10;stroke-opacity:1;\"/>\n<path class=\"atom-1\" d=\"M 432.7 121.1 L 441.9 136.1 Q 442.9 137.5, 444.3 140.2 Q 445.8 142.9, 445.9 143.1 L 445.9 121.1 L 449.7 121.1 L 449.7 149.4 L 445.8 149.4 L 435.8 133.0 Q 434.7 131.1, 433.4 128.9 Q 432.2 126.7, 431.9 126.0 L 431.9 149.4 L 428.2 149.4 L 428.2 121.1 L 432.7 121.1 \" fill=\"#0000FF\"/>\n<path class=\"atom-3\" d=\"M 554.8 121.2 L 564.1 136.2 Q 565.0 137.6, 566.5 140.3 Q 568.0 143.0, 568.1 143.2 L 568.1 121.2 L 571.8 121.2 L 571.8 149.5 L 567.9 149.5 L 558.0 133.1 Q 556.8 131.2, 555.6 129.0 Q 554.4 126.8, 554.0 126.1 L 554.0 149.5 L 550.3 149.5 L 550.3 121.2 L 554.8 121.2 \" fill=\"#0000FF\"/>\n<path class=\"bond-0 atom-0 atom-1\" d=\"M 69.4,300.2 L 130.6,335.3\" style=\"fill:none;fill-rule:evenodd;stroke:#000000;stroke-width:2.0px;stroke-linecap:butt;stroke-linejoin:miter;stroke-opacity:1\"/>\n<path class=\"bond-1 atom-1 atom-2\" d=\"M 130.6,335.3 L 130.4,264.7\" style=\"fill:none;fill-rule:evenodd;stroke:#000000;stroke-width:2.0px;stroke-linecap:butt;stroke-linejoin:miter;stroke-opacity:1\"/>\n<path class=\"bond-2 atom-2 atom-0\" d=\"M 130.4,264.7 L 69.4,300.2\" style=\"fill:none;fill-rule:evenodd;stroke:#000000;stroke-width:2.0px;stroke-linecap:butt;stroke-linejoin:miter;stroke-opacity:1\"/>\n<path d=\"M 72.5,302.0 L 69.4,300.2 L 72.4,298.4\" style=\"fill:none;stroke:#000000;stroke-width:2.0px;stroke-linecap:butt;stroke-linejoin:miter;stroke-miterlimit:10;stroke-opacity:1;\"/>\n<path d=\"M 127.5,333.5 L 130.6,335.3 L 130.6,331.7\" style=\"fill:none;stroke:#000000;stroke-width:2.0px;stroke-linecap:butt;stroke-linejoin:miter;stroke-miterlimit:10;stroke-opacity:1;\"/>\n<path d=\"M 130.4,268.3 L 130.4,264.7 L 127.3,266.5\" style=\"fill:none;stroke:#000000;stroke-width:2.0px;stroke-linecap:butt;stroke-linejoin:miter;stroke-miterlimit:10;stroke-opacity:1;\"/>\n<path class=\"bond-0 atom-0 atom-1\" d=\"M 366.3,291.7 L 305.2,327.1\" style=\"fill:none;fill-rule:evenodd;stroke:#000000;stroke-width:2.0px;stroke-linecap:butt;stroke-linejoin:miter;stroke-opacity:1\"/>\n<path class=\"bond-1 atom-1 atom-2\" d=\"M 305.2,327.1 L 282.3,313.9\" style=\"fill:none;fill-rule:evenodd;stroke:#000000;stroke-width:2.0px;stroke-linecap:butt;stroke-linejoin:miter;stroke-opacity:1\"/>\n<path class=\"bond-1 atom-1 atom-2\" d=\"M 282.3,313.9 L 259.4,300.7\" style=\"fill:none;fill-rule:evenodd;stroke:#FF0000;stroke-width:2.0px;stroke-linecap:butt;stroke-linejoin:miter;stroke-opacity:1\"/>\n<path class=\"bond-1 atom-1 atom-2\" d=\"M 305.2,314.8 L 287.6,304.7\" style=\"fill:none;fill-rule:evenodd;stroke:#000000;stroke-width:2.0px;stroke-linecap:butt;stroke-linejoin:miter;stroke-opacity:1\"/>\n<path class=\"bond-1 atom-1 atom-2\" d=\"M 287.6,304.7 L 264.7,291.5\" style=\"fill:none;fill-rule:evenodd;stroke:#FF0000;stroke-width:2.0px;stroke-linecap:butt;stroke-linejoin:miter;stroke-opacity:1\"/>\n<path d=\"M 308.3,325.3 L 305.2,327.1 L 304.1,326.4\" style=\"fill:none;stroke:#000000;stroke-width:2.0px;stroke-linecap:butt;stroke-linejoin:miter;stroke-miterlimit:10;stroke-opacity:1;\"/>\n<path class=\"atom-2\" d=\"M 233.7 287.3 Q 233.7 280.5, 237.1 276.7 Q 240.5 272.9, 246.7 272.9 Q 253.0 272.9, 256.4 276.7 Q 259.7 280.5, 259.7 287.3 Q 259.7 294.2, 256.3 298.1 Q 252.9 302.0, 246.7 302.0 Q 240.5 302.0, 237.1 298.1 Q 233.7 294.3, 233.7 287.3 M 246.7 298.8 Q 251.1 298.8, 253.4 295.9 Q 255.7 293.0, 255.7 287.3 Q 255.7 281.8, 253.4 279.0 Q 251.1 276.1, 246.7 276.1 Q 242.4 276.1, 240.1 278.9 Q 237.7 281.7, 237.7 287.3 Q 237.7 293.1, 240.1 295.9 Q 242.4 298.8, 246.7 298.8 \" fill=\"#FF0000\"/>\n<path class=\"bond-0 atom-0 atom-1\" d=\"M 479.3,295.9 L 503.4,282.1\" style=\"fill:none;fill-rule:evenodd;stroke:#0000FF;stroke-width:2.0px;stroke-linecap:butt;stroke-linejoin:miter;stroke-opacity:1\"/>\n<path class=\"bond-0 atom-0 atom-1\" d=\"M 503.4,282.1 L 527.5,268.3\" style=\"fill:none;fill-rule:evenodd;stroke:#000000;stroke-width:2.0px;stroke-linecap:butt;stroke-linejoin:miter;stroke-opacity:1\"/>\n<path class=\"bond-1 atom-1 atom-2\" d=\"M 527.5,268.3 L 588.4,303.8\" style=\"fill:none;fill-rule:evenodd;stroke:#000000;stroke-width:2.0px;stroke-linecap:butt;stroke-linejoin:miter;stroke-opacity:1\"/>\n<path d=\"M 526.3,269.0 L 527.5,268.3 L 530.5,270.1\" style=\"fill:none;stroke:#000000;stroke-width:2.0px;stroke-linecap:butt;stroke-linejoin:miter;stroke-miterlimit:10;stroke-opacity:1;\"/>\n<path class=\"atom-0\" d=\"M 411.6 289.2 L 415.4 289.2 L 415.4 301.2 L 429.9 301.2 L 429.9 289.2 L 433.7 289.2 L 433.7 317.5 L 429.9 317.5 L 429.9 304.4 L 415.4 304.4 L 415.4 317.5 L 411.6 317.5 L 411.6 289.2 \" fill=\"#0000FF\"/>\n<path class=\"atom-0\" d=\"M 439.3 316.5 Q 440.0 314.8, 441.6 313.8 Q 443.2 312.8, 445.5 312.8 Q 448.3 312.8, 449.9 314.3 Q 451.5 315.8, 451.5 318.6 Q 451.5 321.3, 449.5 323.9 Q 447.4 326.5, 443.2 329.6 L 451.8 329.6 L 451.8 331.7 L 439.2 331.7 L 439.2 329.9 Q 442.7 327.4, 444.8 325.6 Q 446.9 323.7, 447.9 322.1 Q 448.9 320.4, 448.9 318.7 Q 448.9 316.9, 448.0 315.9 Q 447.1 314.9, 445.5 314.9 Q 444.0 314.9, 443.0 315.5 Q 442.0 316.1, 441.3 317.5 L 439.3 316.5 \" fill=\"#0000FF\"/>\n<path class=\"atom-0\" d=\"M 460.0 289.2 L 469.3 304.2 Q 470.2 305.7, 471.7 308.4 Q 473.1 311.0, 473.2 311.2 L 473.2 289.2 L 477.0 289.2 L 477.0 317.5 L 473.1 317.5 L 463.1 301.1 Q 462.0 299.2, 460.7 297.0 Q 459.5 294.8, 459.2 294.1 L 459.2 317.5 L 455.5 317.5 L 455.5 289.2 L 460.0 289.2 \" fill=\"#0000FF\"/>\n</svg>"
          },
          "metadata": {}
        }
      ],
      "source": [
        "smiles = [\"c1ccccc1\", \"c1cccnc1\", \"c1ncncc1\", \"C1CC1\", \"CC=O\", \"NCC\"]\n",
        "mols = [Chem.MolFromSmiles(x) for x in smiles]\n",
        "fps = [AllChem.GetMorganFingerprintAsBitVect(x, 2, nBits=20) for x in mols]\n",
        "display(Draw.MolsToGridImage(mols, molsPerRow=3))"
      ]
    },
    {
      "cell_type": "markdown",
      "metadata": {
        "id": "qa8CuBlcYopC"
      },
      "source": [
        "Show their fingerprints:"
      ]
    },
    {
      "cell_type": "code",
      "execution_count": 15,
      "metadata": {
        "id": "tUl-HmTO3x11",
        "colab": {
          "base_uri": "https://localhost:8080/"
        },
        "outputId": "9f84f6ba-a77c-4d3a-9767-54a04dd2f1df"
      },
      "outputs": [
        {
          "output_type": "stream",
          "name": "stdout",
          "text": [
            "00001000010001000000 c1ccccc1\n",
            "00011101011001100001 c1cccnc1\n",
            "00011100011001100100 c1ncncc1\n",
            "10000000000000100000 C1CC1\n",
            "00000000001000001110 CC=O\n",
            "00000100000010100101 NCC\n"
          ]
        }
      ],
      "source": [
        "import numpy as np\n",
        "for i in range(len(fps)): print(\"%s %s\" % (fps[i].ToBitString(), smiles[i]))"
      ]
    },
    {
      "cell_type": "markdown",
      "metadata": {
        "id": "Cu7IjYyHYtl4"
      },
      "source": [
        "Convert the fingerprints to a format that is useable by a clustering algorithm:"
      ]
    },
    {
      "cell_type": "code",
      "execution_count": 16,
      "metadata": {
        "id": "9b-G0YLV4g5n",
        "colab": {
          "base_uri": "https://localhost:8080/"
        },
        "outputId": "1944df73-7226-47f6-e56b-f23e7c9022e4"
      },
      "outputs": [
        {
          "output_type": "stream",
          "name": "stdout",
          "text": [
            "[[0 0 0 0 1 0 0 0 0 1 0 0 0 1 0 0 0 0 0 0]\n",
            " [0 0 0 1 1 1 0 1 0 1 1 0 0 1 1 0 0 0 0 1]\n",
            " [0 0 0 1 1 1 0 0 0 1 1 0 0 1 1 0 0 1 0 0]\n",
            " [1 0 0 0 0 0 0 0 0 0 0 0 0 0 1 0 0 0 0 0]\n",
            " [0 0 0 0 0 0 0 0 0 0 1 0 0 0 0 0 1 1 1 0]\n",
            " [0 0 0 0 0 1 0 0 0 0 0 0 1 0 1 0 0 1 0 1]]\n"
          ]
        }
      ],
      "source": [
        "nps = [np.array(x) for x in fps]\n",
        "X = np.array(nps)\n",
        "print(X)"
      ]
    },
    {
      "cell_type": "markdown",
      "metadata": {
        "id": "dXDfm7_-Y0ij"
      },
      "source": [
        "Do an hierarchical clustering:"
      ]
    },
    {
      "cell_type": "code",
      "execution_count": 17,
      "metadata": {
        "id": "a60zc6X26RDp",
        "colab": {
          "base_uri": "https://localhost:8080/",
          "height": 421
        },
        "outputId": "46173221-1d39-4f58-a4c9-7eda3ccfa9f5"
      },
      "outputs": [
        {
          "output_type": "display_data",
          "data": {
            "text/plain": [
              "<IPython.core.display.SVG object>"
            ],
            "image/svg+xml": "<svg xmlns=\"http://www.w3.org/2000/svg\" xmlns:rdkit=\"http://www.rdkit.org/xml\" xmlns:xlink=\"http://www.w3.org/1999/xlink\" version=\"1.1\" baseProfile=\"full\" xml:space=\"preserve\" width=\"600px\" height=\"400px\" viewBox=\"0 0 600 400\">\n<!-- END OF HEADER -->\n<rect style=\"opacity:1.0;fill:#FFFFFF;stroke:none\" width=\"200.0\" height=\"200.0\" x=\"0.0\" y=\"0.0\"> </rect>\n<path class=\"bond-0 atom-0 atom-1\" d=\"M 38.9,126.2 L 38.9,55.7\" style=\"fill:none;fill-rule:evenodd;stroke:#000000;stroke-width:2.0px;stroke-linecap:butt;stroke-linejoin:miter;stroke-opacity:1\"/>\n<path class=\"bond-0 atom-0 atom-1\" d=\"M 49.5,120.1 L 49.5,61.8\" style=\"fill:none;fill-rule:evenodd;stroke:#000000;stroke-width:2.0px;stroke-linecap:butt;stroke-linejoin:miter;stroke-opacity:1\"/>\n<path class=\"bond-1 atom-1 atom-2\" d=\"M 38.9,55.7 L 100.1,20.5\" style=\"fill:none;fill-rule:evenodd;stroke:#000000;stroke-width:2.0px;stroke-linecap:butt;stroke-linejoin:miter;stroke-opacity:1\"/>\n<path class=\"bond-2 atom-2 atom-3\" d=\"M 100.1,20.5 L 161.1,55.8\" style=\"fill:none;fill-rule:evenodd;stroke:#000000;stroke-width:2.0px;stroke-linecap:butt;stroke-linejoin:miter;stroke-opacity:1\"/>\n<path class=\"bond-2 atom-2 atom-3\" d=\"M 100.0,32.7 L 150.5,61.9\" style=\"fill:none;fill-rule:evenodd;stroke:#000000;stroke-width:2.0px;stroke-linecap:butt;stroke-linejoin:miter;stroke-opacity:1\"/>\n<path class=\"bond-3 atom-3 atom-4\" d=\"M 161.1,55.8 L 161.1,126.3\" style=\"fill:none;fill-rule:evenodd;stroke:#000000;stroke-width:2.0px;stroke-linecap:butt;stroke-linejoin:miter;stroke-opacity:1\"/>\n<path class=\"bond-4 atom-4 atom-5\" d=\"M 161.1,126.3 L 99.9,161.5\" style=\"fill:none;fill-rule:evenodd;stroke:#000000;stroke-width:2.0px;stroke-linecap:butt;stroke-linejoin:miter;stroke-opacity:1\"/>\n<path class=\"bond-4 atom-4 atom-5\" d=\"M 150.5,120.2 L 100.0,149.3\" style=\"fill:none;fill-rule:evenodd;stroke:#000000;stroke-width:2.0px;stroke-linecap:butt;stroke-linejoin:miter;stroke-opacity:1\"/>\n<path class=\"bond-5 atom-5 atom-0\" d=\"M 99.9,161.5 L 38.9,126.2\" style=\"fill:none;fill-rule:evenodd;stroke:#000000;stroke-width:2.0px;stroke-linecap:butt;stroke-linejoin:miter;stroke-opacity:1\"/>\n<path d=\"M 38.9,122.7 L 38.9,126.2 L 41.9,128.0\" style=\"fill:none;stroke:#000000;stroke-width:2.0px;stroke-linecap:butt;stroke-linejoin:miter;stroke-miterlimit:10;stroke-opacity:1;\"/>\n<path d=\"M 38.9,59.2 L 38.9,55.7 L 42.0,53.9\" style=\"fill:none;stroke:#000000;stroke-width:2.0px;stroke-linecap:butt;stroke-linejoin:miter;stroke-miterlimit:10;stroke-opacity:1;\"/>\n<path d=\"M 97.0,22.2 L 100.1,20.5 L 103.1,22.2\" style=\"fill:none;stroke:#000000;stroke-width:2.0px;stroke-linecap:butt;stroke-linejoin:miter;stroke-miterlimit:10;stroke-opacity:1;\"/>\n<path d=\"M 158.1,54.0 L 161.1,55.8 L 161.1,59.3\" style=\"fill:none;stroke:#000000;stroke-width:2.0px;stroke-linecap:butt;stroke-linejoin:miter;stroke-miterlimit:10;stroke-opacity:1;\"/>\n<path d=\"M 161.1,122.8 L 161.1,126.3 L 158.0,128.1\" style=\"fill:none;stroke:#000000;stroke-width:2.0px;stroke-linecap:butt;stroke-linejoin:miter;stroke-miterlimit:10;stroke-opacity:1;\"/>\n<path d=\"M 103.0,159.8 L 99.9,161.5 L 96.9,159.8\" style=\"fill:none;stroke:#000000;stroke-width:2.0px;stroke-linecap:butt;stroke-linejoin:miter;stroke-miterlimit:10;stroke-opacity:1;\"/>\n<path class=\"legend\" d=\"M 100.0 190.0 Q 97.9 190.0, 96.9 188.5 Q 95.9 186.9, 95.9 184.2 Q 95.9 181.5, 96.9 179.9 Q 97.9 178.4, 100.0 178.4 Q 102.1 178.4, 103.1 179.9 Q 104.1 181.5, 104.1 184.2 Q 104.1 186.9, 103.1 188.5 Q 102.1 190.0, 100.0 190.0 M 100.0 188.7 Q 101.2 188.7, 101.9 187.6 Q 102.5 186.4, 102.5 184.2 Q 102.5 182.0, 101.9 180.8 Q 101.2 179.7, 100.0 179.7 Q 98.8 179.7, 98.1 180.8 Q 97.5 182.0, 97.5 184.2 Q 97.5 186.4, 98.1 187.6 Q 98.8 188.7, 100.0 188.7 \" fill=\"#000000\"/>\n<path class=\"bond-0 atom-0 atom-1\" d=\"M 366.4,126.3 L 366.5,55.8\" style=\"fill:none;fill-rule:evenodd;stroke:#000000;stroke-width:2.0px;stroke-linecap:butt;stroke-linejoin:miter;stroke-opacity:1\"/>\n<path class=\"bond-0 atom-0 atom-1\" d=\"M 355.9,120.2 L 355.9,61.9\" style=\"fill:none;fill-rule:evenodd;stroke:#000000;stroke-width:2.0px;stroke-linecap:butt;stroke-linejoin:miter;stroke-opacity:1\"/>\n<path class=\"bond-1 atom-1 atom-2\" d=\"M 366.5,55.8 L 305.4,20.5\" style=\"fill:none;fill-rule:evenodd;stroke:#000000;stroke-width:2.0px;stroke-linecap:butt;stroke-linejoin:miter;stroke-opacity:1\"/>\n<path class=\"bond-2 atom-2 atom-3\" d=\"M 305.4,20.5 L 244.3,55.7\" style=\"fill:none;fill-rule:evenodd;stroke:#000000;stroke-width:2.0px;stroke-linecap:butt;stroke-linejoin:miter;stroke-opacity:1\"/>\n<path class=\"bond-2 atom-2 atom-3\" d=\"M 305.4,32.7 L 254.9,61.8\" style=\"fill:none;fill-rule:evenodd;stroke:#000000;stroke-width:2.0px;stroke-linecap:butt;stroke-linejoin:miter;stroke-opacity:1\"/>\n<path class=\"bond-3 atom-3 atom-4\" d=\"M 244.3,55.7 L 244.3,82.7\" style=\"fill:none;fill-rule:evenodd;stroke:#000000;stroke-width:2.0px;stroke-linecap:butt;stroke-linejoin:miter;stroke-opacity:1\"/>\n<path class=\"bond-3 atom-3 atom-4\" d=\"M 244.3,82.7 L 244.3,109.7\" style=\"fill:none;fill-rule:evenodd;stroke:#0000FF;stroke-width:2.0px;stroke-linecap:butt;stroke-linejoin:miter;stroke-opacity:1\"/>\n<path class=\"bond-4 atom-4 atom-5\" d=\"M 257.3,133.8 L 281.3,147.7\" style=\"fill:none;fill-rule:evenodd;stroke:#0000FF;stroke-width:2.0px;stroke-linecap:butt;stroke-linejoin:miter;stroke-opacity:1\"/>\n<path class=\"bond-4 atom-4 atom-5\" d=\"M 281.3,147.7 L 305.3,161.5\" style=\"fill:none;fill-rule:evenodd;stroke:#000000;stroke-width:2.0px;stroke-linecap:butt;stroke-linejoin:miter;stroke-opacity:1\"/>\n<path class=\"bond-4 atom-4 atom-5\" d=\"M 262.6,124.6 L 284.0,137.0\" style=\"fill:none;fill-rule:evenodd;stroke:#0000FF;stroke-width:2.0px;stroke-linecap:butt;stroke-linejoin:miter;stroke-opacity:1\"/>\n<path class=\"bond-4 atom-4 atom-5\" d=\"M 284.0,137.0 L 305.3,149.3\" style=\"fill:none;fill-rule:evenodd;stroke:#000000;stroke-width:2.0px;stroke-linecap:butt;stroke-linejoin:miter;stroke-opacity:1\"/>\n<path class=\"bond-5 atom-5 atom-0\" d=\"M 305.3,161.5 L 366.4,126.3\" style=\"fill:none;fill-rule:evenodd;stroke:#000000;stroke-width:2.0px;stroke-linecap:butt;stroke-linejoin:miter;stroke-opacity:1\"/>\n<path d=\"M 366.4,122.8 L 366.4,126.3 L 363.4,128.1\" style=\"fill:none;stroke:#000000;stroke-width:2.0px;stroke-linecap:butt;stroke-linejoin:miter;stroke-miterlimit:10;stroke-opacity:1;\"/>\n<path d=\"M 366.5,59.3 L 366.5,55.8 L 363.4,54.0\" style=\"fill:none;stroke:#000000;stroke-width:2.0px;stroke-linecap:butt;stroke-linejoin:miter;stroke-miterlimit:10;stroke-opacity:1;\"/>\n<path d=\"M 308.5,22.2 L 305.4,20.5 L 302.4,22.2\" style=\"fill:none;stroke:#000000;stroke-width:2.0px;stroke-linecap:butt;stroke-linejoin:miter;stroke-miterlimit:10;stroke-opacity:1;\"/>\n<path d=\"M 247.4,53.9 L 244.3,55.7 L 244.3,57.0\" style=\"fill:none;stroke:#000000;stroke-width:2.0px;stroke-linecap:butt;stroke-linejoin:miter;stroke-miterlimit:10;stroke-opacity:1;\"/>\n<path d=\"M 304.1,160.8 L 305.3,161.5 L 308.4,159.8\" style=\"fill:none;stroke:#000000;stroke-width:2.0px;stroke-linecap:butt;stroke-linejoin:miter;stroke-miterlimit:10;stroke-opacity:1;\"/>\n<path class=\"atom-4\" d=\"M 238.0 112.1 L 247.3 127.1 Q 248.2 128.5, 249.7 131.2 Q 251.2 133.9, 251.2 134.1 L 251.2 112.1 L 255.0 112.1 L 255.0 140.4 L 251.1 140.4 L 241.2 124.0 Q 240.0 122.1, 238.8 119.9 Q 237.6 117.7, 237.2 117.0 L 237.2 140.4 L 233.5 140.4 L 233.5 112.1 L 238.0 112.1 \" fill=\"#0000FF\"/>\n<path class=\"legend\" d=\"M 297.2 188.7 L 299.7 188.7 L 299.7 180.3 L 297.0 181.1 L 296.6 180.2 L 300.1 178.6 L 301.2 178.8 L 301.2 188.7 L 303.4 188.7 L 303.4 190.0 L 297.2 190.0 L 297.2 188.7 \" fill=\"#000000\"/>\n<path class=\"bond-0 atom-0 atom-1\" d=\"M 439.0,55.7 L 439.0,82.7\" style=\"fill:none;fill-rule:evenodd;stroke:#000000;stroke-width:2.0px;stroke-linecap:butt;stroke-linejoin:miter;stroke-opacity:1\"/>\n<path class=\"bond-0 atom-0 atom-1\" d=\"M 439.0,82.7 L 438.9,109.7\" style=\"fill:none;fill-rule:evenodd;stroke:#0000FF;stroke-width:2.0px;stroke-linecap:butt;stroke-linejoin:miter;stroke-opacity:1\"/>\n<path class=\"bond-0 atom-0 atom-1\" d=\"M 449.5,61.8 L 449.5,85.8\" style=\"fill:none;fill-rule:evenodd;stroke:#000000;stroke-width:2.0px;stroke-linecap:butt;stroke-linejoin:miter;stroke-opacity:1\"/>\n<path class=\"bond-0 atom-0 atom-1\" d=\"M 449.5,85.8 L 449.5,109.7\" style=\"fill:none;fill-rule:evenodd;stroke:#0000FF;stroke-width:2.0px;stroke-linecap:butt;stroke-linejoin:miter;stroke-opacity:1\"/>\n<path class=\"bond-1 atom-1 atom-2\" d=\"M 452.0,133.8 L 476.0,147.7\" style=\"fill:none;fill-rule:evenodd;stroke:#0000FF;stroke-width:2.0px;stroke-linecap:butt;stroke-linejoin:miter;stroke-opacity:1\"/>\n<path class=\"bond-1 atom-1 atom-2\" d=\"M 476.0,147.7 L 500.0,161.5\" style=\"fill:none;fill-rule:evenodd;stroke:#000000;stroke-width:2.0px;stroke-linecap:butt;stroke-linejoin:miter;stroke-opacity:1\"/>\n<path class=\"bond-2 atom-2 atom-3\" d=\"M 500.0,161.5 L 524.0,147.7\" style=\"fill:none;fill-rule:evenodd;stroke:#000000;stroke-width:2.0px;stroke-linecap:butt;stroke-linejoin:miter;stroke-opacity:1\"/>\n<path class=\"bond-2 atom-2 atom-3\" d=\"M 524.0,147.7 L 548.0,133.8\" style=\"fill:none;fill-rule:evenodd;stroke:#0000FF;stroke-width:2.0px;stroke-linecap:butt;stroke-linejoin:miter;stroke-opacity:1\"/>\n<path class=\"bond-2 atom-2 atom-3\" d=\"M 500.0,149.3 L 521.4,137.0\" style=\"fill:none;fill-rule:evenodd;stroke:#000000;stroke-width:2.0px;stroke-linecap:butt;stroke-linejoin:miter;stroke-opacity:1\"/>\n<path class=\"bond-2 atom-2 atom-3\" d=\"M 521.4,137.0 L 542.7,124.7\" style=\"fill:none;fill-rule:evenodd;stroke:#0000FF;stroke-width:2.0px;stroke-linecap:butt;stroke-linejoin:miter;stroke-opacity:1\"/>\n<path class=\"bond-3 atom-3 atom-4\" d=\"M 561.1,109.8 L 561.1,82.8\" style=\"fill:none;fill-rule:evenodd;stroke:#0000FF;stroke-width:2.0px;stroke-linecap:butt;stroke-linejoin:miter;stroke-opacity:1\"/>\n<path class=\"bond-3 atom-3 atom-4\" d=\"M 561.1,82.8 L 561.1,55.8\" style=\"fill:none;fill-rule:evenodd;stroke:#000000;stroke-width:2.0px;stroke-linecap:butt;stroke-linejoin:miter;stroke-opacity:1\"/>\n<path class=\"bond-4 atom-4 atom-5\" d=\"M 561.1,55.8 L 500.1,20.5\" style=\"fill:none;fill-rule:evenodd;stroke:#000000;stroke-width:2.0px;stroke-linecap:butt;stroke-linejoin:miter;stroke-opacity:1\"/>\n<path class=\"bond-4 atom-4 atom-5\" d=\"M 550.6,61.9 L 500.1,32.7\" style=\"fill:none;fill-rule:evenodd;stroke:#000000;stroke-width:2.0px;stroke-linecap:butt;stroke-linejoin:miter;stroke-opacity:1\"/>\n<path class=\"bond-5 atom-5 atom-0\" d=\"M 500.1,20.5 L 439.0,55.7\" style=\"fill:none;fill-rule:evenodd;stroke:#000000;stroke-width:2.0px;stroke-linecap:butt;stroke-linejoin:miter;stroke-opacity:1\"/>\n<path d=\"M 439.0,57.0 L 439.0,55.7 L 442.0,53.9\" style=\"fill:none;stroke:#000000;stroke-width:2.0px;stroke-linecap:butt;stroke-linejoin:miter;stroke-miterlimit:10;stroke-opacity:1;\"/>\n<path d=\"M 498.8,160.8 L 500.0,161.5 L 501.2,160.8\" style=\"fill:none;stroke:#000000;stroke-width:2.0px;stroke-linecap:butt;stroke-linejoin:miter;stroke-miterlimit:10;stroke-opacity:1;\"/>\n<path d=\"M 561.1,57.1 L 561.1,55.8 L 558.1,54.0\" style=\"fill:none;stroke:#000000;stroke-width:2.0px;stroke-linecap:butt;stroke-linejoin:miter;stroke-miterlimit:10;stroke-opacity:1;\"/>\n<path d=\"M 503.1,22.2 L 500.1,20.5 L 497.0,22.2\" style=\"fill:none;stroke:#000000;stroke-width:2.0px;stroke-linecap:butt;stroke-linejoin:miter;stroke-miterlimit:10;stroke-opacity:1;\"/>\n<path class=\"atom-1\" d=\"M 432.7 112.1 L 441.9 127.1 Q 442.9 128.5, 444.3 131.2 Q 445.8 133.9, 445.9 134.1 L 445.9 112.1 L 449.7 112.1 L 449.7 140.4 L 445.8 140.4 L 435.8 124.0 Q 434.7 122.1, 433.4 119.9 Q 432.2 117.7, 431.9 117.0 L 431.9 140.4 L 428.2 140.4 L 428.2 112.1 L 432.7 112.1 \" fill=\"#0000FF\"/>\n<path class=\"atom-3\" d=\"M 554.8 112.2 L 564.1 127.2 Q 565.0 128.6, 566.5 131.3 Q 568.0 134.0, 568.1 134.2 L 568.1 112.2 L 571.8 112.2 L 571.8 140.5 L 567.9 140.5 L 558.0 124.1 Q 556.8 122.2, 555.6 120.0 Q 554.4 117.8, 554.0 117.1 L 554.0 140.5 L 550.3 140.5 L 550.3 112.2 L 554.8 112.2 \" fill=\"#0000FF\"/>\n<path class=\"legend\" d=\"M 497.2 188.7 L 499.7 188.7 L 499.7 180.3 L 497.0 181.1 L 496.6 180.2 L 500.1 178.6 L 501.2 178.8 L 501.2 188.7 L 503.4 188.7 L 503.4 190.0 L 497.2 190.0 L 497.2 188.7 \" fill=\"#000000\"/>\n<path class=\"bond-0 atom-0 atom-1\" d=\"M 69.4,291.2 L 130.6,326.3\" style=\"fill:none;fill-rule:evenodd;stroke:#000000;stroke-width:2.0px;stroke-linecap:butt;stroke-linejoin:miter;stroke-opacity:1\"/>\n<path class=\"bond-1 atom-1 atom-2\" d=\"M 130.6,326.3 L 130.4,255.7\" style=\"fill:none;fill-rule:evenodd;stroke:#000000;stroke-width:2.0px;stroke-linecap:butt;stroke-linejoin:miter;stroke-opacity:1\"/>\n<path class=\"bond-2 atom-2 atom-0\" d=\"M 130.4,255.7 L 69.4,291.2\" style=\"fill:none;fill-rule:evenodd;stroke:#000000;stroke-width:2.0px;stroke-linecap:butt;stroke-linejoin:miter;stroke-opacity:1\"/>\n<path d=\"M 72.5,293.0 L 69.4,291.2 L 72.4,289.4\" style=\"fill:none;stroke:#000000;stroke-width:2.0px;stroke-linecap:butt;stroke-linejoin:miter;stroke-miterlimit:10;stroke-opacity:1;\"/>\n<path d=\"M 127.5,324.5 L 130.6,326.3 L 130.6,322.7\" style=\"fill:none;stroke:#000000;stroke-width:2.0px;stroke-linecap:butt;stroke-linejoin:miter;stroke-miterlimit:10;stroke-opacity:1;\"/>\n<path d=\"M 130.4,259.3 L 130.4,255.7 L 127.3,257.5\" style=\"fill:none;stroke:#000000;stroke-width:2.0px;stroke-linecap:butt;stroke-linejoin:miter;stroke-miterlimit:10;stroke-opacity:1;\"/>\n<path class=\"legend\" d=\"M 100.0 390.0 Q 97.9 390.0, 96.9 388.5 Q 95.9 386.9, 95.9 384.2 Q 95.9 381.5, 96.9 379.9 Q 97.9 378.4, 100.0 378.4 Q 102.1 378.4, 103.1 379.9 Q 104.1 381.5, 104.1 384.2 Q 104.1 386.9, 103.1 388.5 Q 102.1 390.0, 100.0 390.0 M 100.0 388.7 Q 101.2 388.7, 101.9 387.6 Q 102.5 386.4, 102.5 384.2 Q 102.5 382.0, 101.9 380.8 Q 101.2 379.7, 100.0 379.7 Q 98.8 379.7, 98.1 380.8 Q 97.5 382.0, 97.5 384.2 Q 97.5 386.4, 98.1 387.6 Q 98.8 388.7, 100.0 388.7 \" fill=\"#000000\"/>\n<path class=\"bond-0 atom-0 atom-1\" d=\"M 366.3,282.7 L 305.2,318.1\" style=\"fill:none;fill-rule:evenodd;stroke:#000000;stroke-width:2.0px;stroke-linecap:butt;stroke-linejoin:miter;stroke-opacity:1\"/>\n<path class=\"bond-1 atom-1 atom-2\" d=\"M 305.2,318.1 L 282.3,304.9\" style=\"fill:none;fill-rule:evenodd;stroke:#000000;stroke-width:2.0px;stroke-linecap:butt;stroke-linejoin:miter;stroke-opacity:1\"/>\n<path class=\"bond-1 atom-1 atom-2\" d=\"M 282.3,304.9 L 259.4,291.7\" style=\"fill:none;fill-rule:evenodd;stroke:#FF0000;stroke-width:2.0px;stroke-linecap:butt;stroke-linejoin:miter;stroke-opacity:1\"/>\n<path class=\"bond-1 atom-1 atom-2\" d=\"M 305.2,305.8 L 287.6,295.7\" style=\"fill:none;fill-rule:evenodd;stroke:#000000;stroke-width:2.0px;stroke-linecap:butt;stroke-linejoin:miter;stroke-opacity:1\"/>\n<path class=\"bond-1 atom-1 atom-2\" d=\"M 287.6,295.7 L 264.7,282.5\" style=\"fill:none;fill-rule:evenodd;stroke:#FF0000;stroke-width:2.0px;stroke-linecap:butt;stroke-linejoin:miter;stroke-opacity:1\"/>\n<path d=\"M 308.3,316.3 L 305.2,318.1 L 304.1,317.4\" style=\"fill:none;stroke:#000000;stroke-width:2.0px;stroke-linecap:butt;stroke-linejoin:miter;stroke-miterlimit:10;stroke-opacity:1;\"/>\n<path class=\"atom-2\" d=\"M 233.7 278.3 Q 233.7 271.5, 237.1 267.7 Q 240.5 263.9, 246.7 263.9 Q 253.0 263.9, 256.4 267.7 Q 259.7 271.5, 259.7 278.3 Q 259.7 285.2, 256.3 289.1 Q 252.9 293.0, 246.7 293.0 Q 240.5 293.0, 237.1 289.1 Q 233.7 285.3, 233.7 278.3 M 246.7 289.8 Q 251.1 289.8, 253.4 286.9 Q 255.7 284.0, 255.7 278.3 Q 255.7 272.8, 253.4 270.0 Q 251.1 267.1, 246.7 267.1 Q 242.4 267.1, 240.1 269.9 Q 237.7 272.7, 237.7 278.3 Q 237.7 284.1, 240.1 286.9 Q 242.4 289.8, 246.7 289.8 \" fill=\"#FF0000\"/>\n<path class=\"legend\" d=\"M 300.0 390.0 Q 297.9 390.0, 296.9 388.5 Q 295.9 386.9, 295.9 384.2 Q 295.9 381.5, 296.9 379.9 Q 297.9 378.4, 300.0 378.4 Q 302.1 378.4, 303.1 379.9 Q 304.1 381.5, 304.1 384.2 Q 304.1 386.9, 303.1 388.5 Q 302.1 390.0, 300.0 390.0 M 300.0 388.7 Q 301.2 388.7, 301.9 387.6 Q 302.5 386.4, 302.5 384.2 Q 302.5 382.0, 301.9 380.8 Q 301.2 379.7, 300.0 379.7 Q 298.8 379.7, 298.1 380.8 Q 297.5 382.0, 297.5 384.2 Q 297.5 386.4, 298.1 387.6 Q 298.8 388.7, 300.0 388.7 \" fill=\"#000000\"/>\n<path class=\"bond-0 atom-0 atom-1\" d=\"M 479.3,286.9 L 503.4,273.1\" style=\"fill:none;fill-rule:evenodd;stroke:#0000FF;stroke-width:2.0px;stroke-linecap:butt;stroke-linejoin:miter;stroke-opacity:1\"/>\n<path class=\"bond-0 atom-0 atom-1\" d=\"M 503.4,273.1 L 527.5,259.3\" style=\"fill:none;fill-rule:evenodd;stroke:#000000;stroke-width:2.0px;stroke-linecap:butt;stroke-linejoin:miter;stroke-opacity:1\"/>\n<path class=\"bond-1 atom-1 atom-2\" d=\"M 527.5,259.3 L 588.4,294.8\" style=\"fill:none;fill-rule:evenodd;stroke:#000000;stroke-width:2.0px;stroke-linecap:butt;stroke-linejoin:miter;stroke-opacity:1\"/>\n<path d=\"M 526.3,260.0 L 527.5,259.3 L 530.5,261.1\" style=\"fill:none;stroke:#000000;stroke-width:2.0px;stroke-linecap:butt;stroke-linejoin:miter;stroke-miterlimit:10;stroke-opacity:1;\"/>\n<path class=\"atom-0\" d=\"M 411.6 280.2 L 415.4 280.2 L 415.4 292.2 L 429.9 292.2 L 429.9 280.2 L 433.7 280.2 L 433.7 308.5 L 429.9 308.5 L 429.9 295.4 L 415.4 295.4 L 415.4 308.5 L 411.6 308.5 L 411.6 280.2 \" fill=\"#0000FF\"/>\n<path class=\"atom-0\" d=\"M 439.3 307.5 Q 440.0 305.8, 441.6 304.8 Q 443.2 303.8, 445.5 303.8 Q 448.3 303.8, 449.9 305.3 Q 451.5 306.8, 451.5 309.6 Q 451.5 312.3, 449.5 314.9 Q 447.4 317.5, 443.2 320.6 L 451.8 320.6 L 451.8 322.7 L 439.2 322.7 L 439.2 320.9 Q 442.7 318.4, 444.8 316.6 Q 446.9 314.7, 447.9 313.1 Q 448.9 311.4, 448.9 309.7 Q 448.9 307.9, 448.0 306.9 Q 447.1 305.9, 445.5 305.9 Q 444.0 305.9, 443.0 306.5 Q 442.0 307.1, 441.3 308.5 L 439.3 307.5 \" fill=\"#0000FF\"/>\n<path class=\"atom-0\" d=\"M 460.0 280.2 L 469.3 295.2 Q 470.2 296.7, 471.7 299.4 Q 473.1 302.0, 473.2 302.2 L 473.2 280.2 L 477.0 280.2 L 477.0 308.5 L 473.1 308.5 L 463.1 292.1 Q 462.0 290.2, 460.7 288.0 Q 459.5 285.8, 459.2 285.1 L 459.2 308.5 L 455.5 308.5 L 455.5 280.2 L 460.0 280.2 \" fill=\"#0000FF\"/>\n<path class=\"legend\" d=\"M 496.2 380.8 Q 496.6 379.7, 497.6 379.2 Q 498.6 378.5, 500.0 378.5 Q 501.7 378.5, 502.7 379.5 Q 503.6 380.4, 503.6 382.0 Q 503.6 383.7, 502.4 385.3 Q 501.1 386.9, 498.6 388.7 L 503.8 388.7 L 503.8 390.0 L 496.2 390.0 L 496.2 388.9 Q 498.3 387.4, 499.5 386.3 Q 500.8 385.2, 501.4 384.2 Q 502.0 383.2, 502.0 382.1 Q 502.0 381.0, 501.5 380.4 Q 500.9 379.8, 500.0 379.8 Q 499.1 379.8, 498.5 380.2 Q 497.9 380.6, 497.4 381.4 L 496.2 380.8 \" fill=\"#000000\"/>\n</svg>"
          },
          "metadata": {}
        }
      ],
      "source": [
        "import sklearn\n",
        "from sklearn.cluster import AgglomerativeClustering\n",
        "clusterEngine = AgglomerativeClustering(n_clusters = 3)\n",
        "clusterEngine.fit(X)\n",
        "\n",
        "labels = [str(x) for x in clusterEngine.labels_]\n",
        "display(Draw.MolsToGridImage(mols, molsPerRow=3, legends=labels))"
      ]
    },
    {
      "cell_type": "markdown",
      "metadata": {
        "id": "bNykGus9Y7f0"
      },
      "source": [
        "And now non-hierarchical clustering (k-means):"
      ]
    },
    {
      "cell_type": "code",
      "execution_count": 18,
      "metadata": {
        "id": "XU5YU18f-AAq",
        "colab": {
          "base_uri": "https://localhost:8080/",
          "height": 421
        },
        "outputId": "2072a43d-1744-46f0-9609-88fbdf53b847"
      },
      "outputs": [
        {
          "output_type": "display_data",
          "data": {
            "text/plain": [
              "<IPython.core.display.SVG object>"
            ],
            "image/svg+xml": "<svg xmlns=\"http://www.w3.org/2000/svg\" xmlns:rdkit=\"http://www.rdkit.org/xml\" xmlns:xlink=\"http://www.w3.org/1999/xlink\" version=\"1.1\" baseProfile=\"full\" xml:space=\"preserve\" width=\"600px\" height=\"400px\" viewBox=\"0 0 600 400\">\n<!-- END OF HEADER -->\n<rect style=\"opacity:1.0;fill:#FFFFFF;stroke:none\" width=\"200.0\" height=\"200.0\" x=\"0.0\" y=\"0.0\"> </rect>\n<path class=\"bond-0 atom-0 atom-1\" d=\"M 38.9,126.2 L 38.9,55.7\" style=\"fill:none;fill-rule:evenodd;stroke:#000000;stroke-width:2.0px;stroke-linecap:butt;stroke-linejoin:miter;stroke-opacity:1\"/>\n<path class=\"bond-0 atom-0 atom-1\" d=\"M 49.5,120.1 L 49.5,61.8\" style=\"fill:none;fill-rule:evenodd;stroke:#000000;stroke-width:2.0px;stroke-linecap:butt;stroke-linejoin:miter;stroke-opacity:1\"/>\n<path class=\"bond-1 atom-1 atom-2\" d=\"M 38.9,55.7 L 100.1,20.5\" style=\"fill:none;fill-rule:evenodd;stroke:#000000;stroke-width:2.0px;stroke-linecap:butt;stroke-linejoin:miter;stroke-opacity:1\"/>\n<path class=\"bond-2 atom-2 atom-3\" d=\"M 100.1,20.5 L 161.1,55.8\" style=\"fill:none;fill-rule:evenodd;stroke:#000000;stroke-width:2.0px;stroke-linecap:butt;stroke-linejoin:miter;stroke-opacity:1\"/>\n<path class=\"bond-2 atom-2 atom-3\" d=\"M 100.0,32.7 L 150.5,61.9\" style=\"fill:none;fill-rule:evenodd;stroke:#000000;stroke-width:2.0px;stroke-linecap:butt;stroke-linejoin:miter;stroke-opacity:1\"/>\n<path class=\"bond-3 atom-3 atom-4\" d=\"M 161.1,55.8 L 161.1,126.3\" style=\"fill:none;fill-rule:evenodd;stroke:#000000;stroke-width:2.0px;stroke-linecap:butt;stroke-linejoin:miter;stroke-opacity:1\"/>\n<path class=\"bond-4 atom-4 atom-5\" d=\"M 161.1,126.3 L 99.9,161.5\" style=\"fill:none;fill-rule:evenodd;stroke:#000000;stroke-width:2.0px;stroke-linecap:butt;stroke-linejoin:miter;stroke-opacity:1\"/>\n<path class=\"bond-4 atom-4 atom-5\" d=\"M 150.5,120.2 L 100.0,149.3\" style=\"fill:none;fill-rule:evenodd;stroke:#000000;stroke-width:2.0px;stroke-linecap:butt;stroke-linejoin:miter;stroke-opacity:1\"/>\n<path class=\"bond-5 atom-5 atom-0\" d=\"M 99.9,161.5 L 38.9,126.2\" style=\"fill:none;fill-rule:evenodd;stroke:#000000;stroke-width:2.0px;stroke-linecap:butt;stroke-linejoin:miter;stroke-opacity:1\"/>\n<path d=\"M 38.9,122.7 L 38.9,126.2 L 41.9,128.0\" style=\"fill:none;stroke:#000000;stroke-width:2.0px;stroke-linecap:butt;stroke-linejoin:miter;stroke-miterlimit:10;stroke-opacity:1;\"/>\n<path d=\"M 38.9,59.2 L 38.9,55.7 L 42.0,53.9\" style=\"fill:none;stroke:#000000;stroke-width:2.0px;stroke-linecap:butt;stroke-linejoin:miter;stroke-miterlimit:10;stroke-opacity:1;\"/>\n<path d=\"M 97.0,22.2 L 100.1,20.5 L 103.1,22.2\" style=\"fill:none;stroke:#000000;stroke-width:2.0px;stroke-linecap:butt;stroke-linejoin:miter;stroke-miterlimit:10;stroke-opacity:1;\"/>\n<path d=\"M 158.1,54.0 L 161.1,55.8 L 161.1,59.3\" style=\"fill:none;stroke:#000000;stroke-width:2.0px;stroke-linecap:butt;stroke-linejoin:miter;stroke-miterlimit:10;stroke-opacity:1;\"/>\n<path d=\"M 161.1,122.8 L 161.1,126.3 L 158.0,128.1\" style=\"fill:none;stroke:#000000;stroke-width:2.0px;stroke-linecap:butt;stroke-linejoin:miter;stroke-miterlimit:10;stroke-opacity:1;\"/>\n<path d=\"M 103.0,159.8 L 99.9,161.5 L 96.9,159.8\" style=\"fill:none;stroke:#000000;stroke-width:2.0px;stroke-linecap:butt;stroke-linejoin:miter;stroke-miterlimit:10;stroke-opacity:1;\"/>\n<path class=\"legend\" d=\"M 97.2 188.7 L 99.7 188.7 L 99.7 180.3 L 97.0 181.1 L 96.6 180.2 L 100.1 178.6 L 101.2 178.8 L 101.2 188.7 L 103.4 188.7 L 103.4 190.0 L 97.2 190.0 L 97.2 188.7 \" fill=\"#000000\"/>\n<path class=\"bond-0 atom-0 atom-1\" d=\"M 366.4,126.3 L 366.5,55.8\" style=\"fill:none;fill-rule:evenodd;stroke:#000000;stroke-width:2.0px;stroke-linecap:butt;stroke-linejoin:miter;stroke-opacity:1\"/>\n<path class=\"bond-0 atom-0 atom-1\" d=\"M 355.9,120.2 L 355.9,61.9\" style=\"fill:none;fill-rule:evenodd;stroke:#000000;stroke-width:2.0px;stroke-linecap:butt;stroke-linejoin:miter;stroke-opacity:1\"/>\n<path class=\"bond-1 atom-1 atom-2\" d=\"M 366.5,55.8 L 305.4,20.5\" style=\"fill:none;fill-rule:evenodd;stroke:#000000;stroke-width:2.0px;stroke-linecap:butt;stroke-linejoin:miter;stroke-opacity:1\"/>\n<path class=\"bond-2 atom-2 atom-3\" d=\"M 305.4,20.5 L 244.3,55.7\" style=\"fill:none;fill-rule:evenodd;stroke:#000000;stroke-width:2.0px;stroke-linecap:butt;stroke-linejoin:miter;stroke-opacity:1\"/>\n<path class=\"bond-2 atom-2 atom-3\" d=\"M 305.4,32.7 L 254.9,61.8\" style=\"fill:none;fill-rule:evenodd;stroke:#000000;stroke-width:2.0px;stroke-linecap:butt;stroke-linejoin:miter;stroke-opacity:1\"/>\n<path class=\"bond-3 atom-3 atom-4\" d=\"M 244.3,55.7 L 244.3,82.7\" style=\"fill:none;fill-rule:evenodd;stroke:#000000;stroke-width:2.0px;stroke-linecap:butt;stroke-linejoin:miter;stroke-opacity:1\"/>\n<path class=\"bond-3 atom-3 atom-4\" d=\"M 244.3,82.7 L 244.3,109.7\" style=\"fill:none;fill-rule:evenodd;stroke:#0000FF;stroke-width:2.0px;stroke-linecap:butt;stroke-linejoin:miter;stroke-opacity:1\"/>\n<path class=\"bond-4 atom-4 atom-5\" d=\"M 257.3,133.8 L 281.3,147.7\" style=\"fill:none;fill-rule:evenodd;stroke:#0000FF;stroke-width:2.0px;stroke-linecap:butt;stroke-linejoin:miter;stroke-opacity:1\"/>\n<path class=\"bond-4 atom-4 atom-5\" d=\"M 281.3,147.7 L 305.3,161.5\" style=\"fill:none;fill-rule:evenodd;stroke:#000000;stroke-width:2.0px;stroke-linecap:butt;stroke-linejoin:miter;stroke-opacity:1\"/>\n<path class=\"bond-4 atom-4 atom-5\" d=\"M 262.6,124.6 L 284.0,137.0\" style=\"fill:none;fill-rule:evenodd;stroke:#0000FF;stroke-width:2.0px;stroke-linecap:butt;stroke-linejoin:miter;stroke-opacity:1\"/>\n<path class=\"bond-4 atom-4 atom-5\" d=\"M 284.0,137.0 L 305.3,149.3\" style=\"fill:none;fill-rule:evenodd;stroke:#000000;stroke-width:2.0px;stroke-linecap:butt;stroke-linejoin:miter;stroke-opacity:1\"/>\n<path class=\"bond-5 atom-5 atom-0\" d=\"M 305.3,161.5 L 366.4,126.3\" style=\"fill:none;fill-rule:evenodd;stroke:#000000;stroke-width:2.0px;stroke-linecap:butt;stroke-linejoin:miter;stroke-opacity:1\"/>\n<path d=\"M 366.4,122.8 L 366.4,126.3 L 363.4,128.1\" style=\"fill:none;stroke:#000000;stroke-width:2.0px;stroke-linecap:butt;stroke-linejoin:miter;stroke-miterlimit:10;stroke-opacity:1;\"/>\n<path d=\"M 366.5,59.3 L 366.5,55.8 L 363.4,54.0\" style=\"fill:none;stroke:#000000;stroke-width:2.0px;stroke-linecap:butt;stroke-linejoin:miter;stroke-miterlimit:10;stroke-opacity:1;\"/>\n<path d=\"M 308.5,22.2 L 305.4,20.5 L 302.4,22.2\" style=\"fill:none;stroke:#000000;stroke-width:2.0px;stroke-linecap:butt;stroke-linejoin:miter;stroke-miterlimit:10;stroke-opacity:1;\"/>\n<path d=\"M 247.4,53.9 L 244.3,55.7 L 244.3,57.0\" style=\"fill:none;stroke:#000000;stroke-width:2.0px;stroke-linecap:butt;stroke-linejoin:miter;stroke-miterlimit:10;stroke-opacity:1;\"/>\n<path d=\"M 304.1,160.8 L 305.3,161.5 L 308.4,159.8\" style=\"fill:none;stroke:#000000;stroke-width:2.0px;stroke-linecap:butt;stroke-linejoin:miter;stroke-miterlimit:10;stroke-opacity:1;\"/>\n<path class=\"atom-4\" d=\"M 238.0 112.1 L 247.3 127.1 Q 248.2 128.5, 249.7 131.2 Q 251.2 133.9, 251.2 134.1 L 251.2 112.1 L 255.0 112.1 L 255.0 140.4 L 251.1 140.4 L 241.2 124.0 Q 240.0 122.1, 238.8 119.9 Q 237.6 117.7, 237.2 117.0 L 237.2 140.4 L 233.5 140.4 L 233.5 112.1 L 238.0 112.1 \" fill=\"#0000FF\"/>\n<path class=\"legend\" d=\"M 300.0 190.0 Q 297.9 190.0, 296.9 188.5 Q 295.9 186.9, 295.9 184.2 Q 295.9 181.5, 296.9 179.9 Q 297.9 178.4, 300.0 178.4 Q 302.1 178.4, 303.1 179.9 Q 304.1 181.5, 304.1 184.2 Q 304.1 186.9, 303.1 188.5 Q 302.1 190.0, 300.0 190.0 M 300.0 188.7 Q 301.2 188.7, 301.9 187.6 Q 302.5 186.4, 302.5 184.2 Q 302.5 182.0, 301.9 180.8 Q 301.2 179.7, 300.0 179.7 Q 298.8 179.7, 298.1 180.8 Q 297.5 182.0, 297.5 184.2 Q 297.5 186.4, 298.1 187.6 Q 298.8 188.7, 300.0 188.7 \" fill=\"#000000\"/>\n<path class=\"bond-0 atom-0 atom-1\" d=\"M 439.0,55.7 L 439.0,82.7\" style=\"fill:none;fill-rule:evenodd;stroke:#000000;stroke-width:2.0px;stroke-linecap:butt;stroke-linejoin:miter;stroke-opacity:1\"/>\n<path class=\"bond-0 atom-0 atom-1\" d=\"M 439.0,82.7 L 438.9,109.7\" style=\"fill:none;fill-rule:evenodd;stroke:#0000FF;stroke-width:2.0px;stroke-linecap:butt;stroke-linejoin:miter;stroke-opacity:1\"/>\n<path class=\"bond-0 atom-0 atom-1\" d=\"M 449.5,61.8 L 449.5,85.8\" style=\"fill:none;fill-rule:evenodd;stroke:#000000;stroke-width:2.0px;stroke-linecap:butt;stroke-linejoin:miter;stroke-opacity:1\"/>\n<path class=\"bond-0 atom-0 atom-1\" d=\"M 449.5,85.8 L 449.5,109.7\" style=\"fill:none;fill-rule:evenodd;stroke:#0000FF;stroke-width:2.0px;stroke-linecap:butt;stroke-linejoin:miter;stroke-opacity:1\"/>\n<path class=\"bond-1 atom-1 atom-2\" d=\"M 452.0,133.8 L 476.0,147.7\" style=\"fill:none;fill-rule:evenodd;stroke:#0000FF;stroke-width:2.0px;stroke-linecap:butt;stroke-linejoin:miter;stroke-opacity:1\"/>\n<path class=\"bond-1 atom-1 atom-2\" d=\"M 476.0,147.7 L 500.0,161.5\" style=\"fill:none;fill-rule:evenodd;stroke:#000000;stroke-width:2.0px;stroke-linecap:butt;stroke-linejoin:miter;stroke-opacity:1\"/>\n<path class=\"bond-2 atom-2 atom-3\" d=\"M 500.0,161.5 L 524.0,147.7\" style=\"fill:none;fill-rule:evenodd;stroke:#000000;stroke-width:2.0px;stroke-linecap:butt;stroke-linejoin:miter;stroke-opacity:1\"/>\n<path class=\"bond-2 atom-2 atom-3\" d=\"M 524.0,147.7 L 548.0,133.8\" style=\"fill:none;fill-rule:evenodd;stroke:#0000FF;stroke-width:2.0px;stroke-linecap:butt;stroke-linejoin:miter;stroke-opacity:1\"/>\n<path class=\"bond-2 atom-2 atom-3\" d=\"M 500.0,149.3 L 521.4,137.0\" style=\"fill:none;fill-rule:evenodd;stroke:#000000;stroke-width:2.0px;stroke-linecap:butt;stroke-linejoin:miter;stroke-opacity:1\"/>\n<path class=\"bond-2 atom-2 atom-3\" d=\"M 521.4,137.0 L 542.7,124.7\" style=\"fill:none;fill-rule:evenodd;stroke:#0000FF;stroke-width:2.0px;stroke-linecap:butt;stroke-linejoin:miter;stroke-opacity:1\"/>\n<path class=\"bond-3 atom-3 atom-4\" d=\"M 561.1,109.8 L 561.1,82.8\" style=\"fill:none;fill-rule:evenodd;stroke:#0000FF;stroke-width:2.0px;stroke-linecap:butt;stroke-linejoin:miter;stroke-opacity:1\"/>\n<path class=\"bond-3 atom-3 atom-4\" d=\"M 561.1,82.8 L 561.1,55.8\" style=\"fill:none;fill-rule:evenodd;stroke:#000000;stroke-width:2.0px;stroke-linecap:butt;stroke-linejoin:miter;stroke-opacity:1\"/>\n<path class=\"bond-4 atom-4 atom-5\" d=\"M 561.1,55.8 L 500.1,20.5\" style=\"fill:none;fill-rule:evenodd;stroke:#000000;stroke-width:2.0px;stroke-linecap:butt;stroke-linejoin:miter;stroke-opacity:1\"/>\n<path class=\"bond-4 atom-4 atom-5\" d=\"M 550.6,61.9 L 500.1,32.7\" style=\"fill:none;fill-rule:evenodd;stroke:#000000;stroke-width:2.0px;stroke-linecap:butt;stroke-linejoin:miter;stroke-opacity:1\"/>\n<path class=\"bond-5 atom-5 atom-0\" d=\"M 500.1,20.5 L 439.0,55.7\" style=\"fill:none;fill-rule:evenodd;stroke:#000000;stroke-width:2.0px;stroke-linecap:butt;stroke-linejoin:miter;stroke-opacity:1\"/>\n<path d=\"M 439.0,57.0 L 439.0,55.7 L 442.0,53.9\" style=\"fill:none;stroke:#000000;stroke-width:2.0px;stroke-linecap:butt;stroke-linejoin:miter;stroke-miterlimit:10;stroke-opacity:1;\"/>\n<path d=\"M 498.8,160.8 L 500.0,161.5 L 501.2,160.8\" style=\"fill:none;stroke:#000000;stroke-width:2.0px;stroke-linecap:butt;stroke-linejoin:miter;stroke-miterlimit:10;stroke-opacity:1;\"/>\n<path d=\"M 561.1,57.1 L 561.1,55.8 L 558.1,54.0\" style=\"fill:none;stroke:#000000;stroke-width:2.0px;stroke-linecap:butt;stroke-linejoin:miter;stroke-miterlimit:10;stroke-opacity:1;\"/>\n<path d=\"M 503.1,22.2 L 500.1,20.5 L 497.0,22.2\" style=\"fill:none;stroke:#000000;stroke-width:2.0px;stroke-linecap:butt;stroke-linejoin:miter;stroke-miterlimit:10;stroke-opacity:1;\"/>\n<path class=\"atom-1\" d=\"M 432.7 112.1 L 441.9 127.1 Q 442.9 128.5, 444.3 131.2 Q 445.8 133.9, 445.9 134.1 L 445.9 112.1 L 449.7 112.1 L 449.7 140.4 L 445.8 140.4 L 435.8 124.0 Q 434.7 122.1, 433.4 119.9 Q 432.2 117.7, 431.9 117.0 L 431.9 140.4 L 428.2 140.4 L 428.2 112.1 L 432.7 112.1 \" fill=\"#0000FF\"/>\n<path class=\"atom-3\" d=\"M 554.8 112.2 L 564.1 127.2 Q 565.0 128.6, 566.5 131.3 Q 568.0 134.0, 568.1 134.2 L 568.1 112.2 L 571.8 112.2 L 571.8 140.5 L 567.9 140.5 L 558.0 124.1 Q 556.8 122.2, 555.6 120.0 Q 554.4 117.8, 554.0 117.1 L 554.0 140.5 L 550.3 140.5 L 550.3 112.2 L 554.8 112.2 \" fill=\"#0000FF\"/>\n<path class=\"legend\" d=\"M 500.0 190.0 Q 497.9 190.0, 496.9 188.5 Q 495.9 186.9, 495.9 184.2 Q 495.9 181.5, 496.9 179.9 Q 497.9 178.4, 500.0 178.4 Q 502.1 178.4, 503.1 179.9 Q 504.1 181.5, 504.1 184.2 Q 504.1 186.9, 503.1 188.5 Q 502.1 190.0, 500.0 190.0 M 500.0 188.7 Q 501.2 188.7, 501.9 187.6 Q 502.5 186.4, 502.5 184.2 Q 502.5 182.0, 501.9 180.8 Q 501.2 179.7, 500.0 179.7 Q 498.8 179.7, 498.1 180.8 Q 497.5 182.0, 497.5 184.2 Q 497.5 186.4, 498.1 187.6 Q 498.8 188.7, 500.0 188.7 \" fill=\"#000000\"/>\n<path class=\"bond-0 atom-0 atom-1\" d=\"M 69.4,291.2 L 130.6,326.3\" style=\"fill:none;fill-rule:evenodd;stroke:#000000;stroke-width:2.0px;stroke-linecap:butt;stroke-linejoin:miter;stroke-opacity:1\"/>\n<path class=\"bond-1 atom-1 atom-2\" d=\"M 130.6,326.3 L 130.4,255.7\" style=\"fill:none;fill-rule:evenodd;stroke:#000000;stroke-width:2.0px;stroke-linecap:butt;stroke-linejoin:miter;stroke-opacity:1\"/>\n<path class=\"bond-2 atom-2 atom-0\" d=\"M 130.4,255.7 L 69.4,291.2\" style=\"fill:none;fill-rule:evenodd;stroke:#000000;stroke-width:2.0px;stroke-linecap:butt;stroke-linejoin:miter;stroke-opacity:1\"/>\n<path d=\"M 72.5,293.0 L 69.4,291.2 L 72.4,289.4\" style=\"fill:none;stroke:#000000;stroke-width:2.0px;stroke-linecap:butt;stroke-linejoin:miter;stroke-miterlimit:10;stroke-opacity:1;\"/>\n<path d=\"M 127.5,324.5 L 130.6,326.3 L 130.6,322.7\" style=\"fill:none;stroke:#000000;stroke-width:2.0px;stroke-linecap:butt;stroke-linejoin:miter;stroke-miterlimit:10;stroke-opacity:1;\"/>\n<path d=\"M 130.4,259.3 L 130.4,255.7 L 127.3,257.5\" style=\"fill:none;stroke:#000000;stroke-width:2.0px;stroke-linecap:butt;stroke-linejoin:miter;stroke-miterlimit:10;stroke-opacity:1;\"/>\n<path class=\"legend\" d=\"M 97.2 388.7 L 99.7 388.7 L 99.7 380.3 L 97.0 381.1 L 96.6 380.2 L 100.1 378.6 L 101.2 378.8 L 101.2 388.7 L 103.4 388.7 L 103.4 390.0 L 97.2 390.0 L 97.2 388.7 \" fill=\"#000000\"/>\n<path class=\"bond-0 atom-0 atom-1\" d=\"M 366.3,282.7 L 305.2,318.1\" style=\"fill:none;fill-rule:evenodd;stroke:#000000;stroke-width:2.0px;stroke-linecap:butt;stroke-linejoin:miter;stroke-opacity:1\"/>\n<path class=\"bond-1 atom-1 atom-2\" d=\"M 305.2,318.1 L 282.3,304.9\" style=\"fill:none;fill-rule:evenodd;stroke:#000000;stroke-width:2.0px;stroke-linecap:butt;stroke-linejoin:miter;stroke-opacity:1\"/>\n<path class=\"bond-1 atom-1 atom-2\" d=\"M 282.3,304.9 L 259.4,291.7\" style=\"fill:none;fill-rule:evenodd;stroke:#FF0000;stroke-width:2.0px;stroke-linecap:butt;stroke-linejoin:miter;stroke-opacity:1\"/>\n<path class=\"bond-1 atom-1 atom-2\" d=\"M 305.2,305.8 L 287.6,295.7\" style=\"fill:none;fill-rule:evenodd;stroke:#000000;stroke-width:2.0px;stroke-linecap:butt;stroke-linejoin:miter;stroke-opacity:1\"/>\n<path class=\"bond-1 atom-1 atom-2\" d=\"M 287.6,295.7 L 264.7,282.5\" style=\"fill:none;fill-rule:evenodd;stroke:#FF0000;stroke-width:2.0px;stroke-linecap:butt;stroke-linejoin:miter;stroke-opacity:1\"/>\n<path d=\"M 308.3,316.3 L 305.2,318.1 L 304.1,317.4\" style=\"fill:none;stroke:#000000;stroke-width:2.0px;stroke-linecap:butt;stroke-linejoin:miter;stroke-miterlimit:10;stroke-opacity:1;\"/>\n<path class=\"atom-2\" d=\"M 233.7 278.3 Q 233.7 271.5, 237.1 267.7 Q 240.5 263.9, 246.7 263.9 Q 253.0 263.9, 256.4 267.7 Q 259.7 271.5, 259.7 278.3 Q 259.7 285.2, 256.3 289.1 Q 252.9 293.0, 246.7 293.0 Q 240.5 293.0, 237.1 289.1 Q 233.7 285.3, 233.7 278.3 M 246.7 289.8 Q 251.1 289.8, 253.4 286.9 Q 255.7 284.0, 255.7 278.3 Q 255.7 272.8, 253.4 270.0 Q 251.1 267.1, 246.7 267.1 Q 242.4 267.1, 240.1 269.9 Q 237.7 272.7, 237.7 278.3 Q 237.7 284.1, 240.1 286.9 Q 242.4 289.8, 246.7 289.8 \" fill=\"#FF0000\"/>\n<path class=\"legend\" d=\"M 296.2 380.8 Q 296.6 379.7, 297.6 379.2 Q 298.6 378.5, 300.0 378.5 Q 301.7 378.5, 302.7 379.5 Q 303.6 380.4, 303.6 382.0 Q 303.6 383.7, 302.4 385.3 Q 301.1 386.9, 298.6 388.7 L 303.8 388.7 L 303.8 390.0 L 296.2 390.0 L 296.2 388.9 Q 298.3 387.4, 299.5 386.3 Q 300.8 385.2, 301.4 384.2 Q 302.0 383.2, 302.0 382.1 Q 302.0 381.0, 301.5 380.4 Q 300.9 379.8, 300.0 379.8 Q 299.1 379.8, 298.5 380.2 Q 297.9 380.6, 297.4 381.4 L 296.2 380.8 \" fill=\"#000000\"/>\n<path class=\"bond-0 atom-0 atom-1\" d=\"M 479.3,286.9 L 503.4,273.1\" style=\"fill:none;fill-rule:evenodd;stroke:#0000FF;stroke-width:2.0px;stroke-linecap:butt;stroke-linejoin:miter;stroke-opacity:1\"/>\n<path class=\"bond-0 atom-0 atom-1\" d=\"M 503.4,273.1 L 527.5,259.3\" style=\"fill:none;fill-rule:evenodd;stroke:#000000;stroke-width:2.0px;stroke-linecap:butt;stroke-linejoin:miter;stroke-opacity:1\"/>\n<path class=\"bond-1 atom-1 atom-2\" d=\"M 527.5,259.3 L 588.4,294.8\" style=\"fill:none;fill-rule:evenodd;stroke:#000000;stroke-width:2.0px;stroke-linecap:butt;stroke-linejoin:miter;stroke-opacity:1\"/>\n<path d=\"M 526.3,260.0 L 527.5,259.3 L 530.5,261.1\" style=\"fill:none;stroke:#000000;stroke-width:2.0px;stroke-linecap:butt;stroke-linejoin:miter;stroke-miterlimit:10;stroke-opacity:1;\"/>\n<path class=\"atom-0\" d=\"M 411.6 280.2 L 415.4 280.2 L 415.4 292.2 L 429.9 292.2 L 429.9 280.2 L 433.7 280.2 L 433.7 308.5 L 429.9 308.5 L 429.9 295.4 L 415.4 295.4 L 415.4 308.5 L 411.6 308.5 L 411.6 280.2 \" fill=\"#0000FF\"/>\n<path class=\"atom-0\" d=\"M 439.3 307.5 Q 440.0 305.8, 441.6 304.8 Q 443.2 303.8, 445.5 303.8 Q 448.3 303.8, 449.9 305.3 Q 451.5 306.8, 451.5 309.6 Q 451.5 312.3, 449.5 314.9 Q 447.4 317.5, 443.2 320.6 L 451.8 320.6 L 451.8 322.7 L 439.2 322.7 L 439.2 320.9 Q 442.7 318.4, 444.8 316.6 Q 446.9 314.7, 447.9 313.1 Q 448.9 311.4, 448.9 309.7 Q 448.9 307.9, 448.0 306.9 Q 447.1 305.9, 445.5 305.9 Q 444.0 305.9, 443.0 306.5 Q 442.0 307.1, 441.3 308.5 L 439.3 307.5 \" fill=\"#0000FF\"/>\n<path class=\"atom-0\" d=\"M 460.0 280.2 L 469.3 295.2 Q 470.2 296.7, 471.7 299.4 Q 473.1 302.0, 473.2 302.2 L 473.2 280.2 L 477.0 280.2 L 477.0 308.5 L 473.1 308.5 L 463.1 292.1 Q 462.0 290.2, 460.7 288.0 Q 459.5 285.8, 459.2 285.1 L 459.2 308.5 L 455.5 308.5 L 455.5 280.2 L 460.0 280.2 \" fill=\"#0000FF\"/>\n<path class=\"legend\" d=\"M 497.2 388.7 L 499.7 388.7 L 499.7 380.3 L 497.0 381.1 L 496.6 380.2 L 500.1 378.6 L 501.2 378.8 L 501.2 388.7 L 503.4 388.7 L 503.4 390.0 L 497.2 390.0 L 497.2 388.7 \" fill=\"#000000\"/>\n</svg>"
          },
          "metadata": {}
        }
      ],
      "source": [
        "from sklearn.cluster import KMeans\n",
        "clusterEngine = KMeans(n_clusters = 3)\n",
        "clusterEngine.fit(X)\n",
        "\n",
        "labels = [str(x) for x in clusterEngine.labels_]\n",
        "display(Draw.MolsToGridImage(mols, molsPerRow=3, legends=labels))"
      ]
    },
    {
      "cell_type": "code",
      "execution_count": 19,
      "metadata": {
        "id": "3PEaHpszEaJX",
        "colab": {
          "base_uri": "https://localhost:8080/"
        },
        "outputId": "c92a19d4-6015-4f5d-850c-2eb588bfb948"
      },
      "outputs": [
        {
          "output_type": "stream",
          "name": "stdout",
          "text": [
            "[[0.         0.         0.         1.         1.         1.\n",
            "  0.         0.5        0.         1.         1.         0.\n",
            "  0.         1.         1.         0.         0.         0.5\n",
            "  0.         0.5       ]\n",
            " [0.33333333 0.         0.         0.         0.33333333 0.33333333\n",
            "  0.         0.         0.         0.33333333 0.         0.\n",
            "  0.33333333 0.33333333 0.66666667 0.         0.         0.33333333\n",
            "  0.         0.33333333]\n",
            " [0.         0.         0.         0.         0.         0.\n",
            "  0.         0.         0.         0.         1.         0.\n",
            "  0.         0.         0.         0.         1.         1.\n",
            "  1.         0.        ]]\n"
          ]
        }
      ],
      "source": [
        "centers = clusterEngine.cluster_centers_\n",
        "print(centers)"
      ]
    },
    {
      "cell_type": "markdown",
      "metadata": {
        "id": "zdLDA8kWEJlC"
      },
      "source": [
        "# Machine learning: QSAR models"
      ]
    },
    {
      "cell_type": "markdown",
      "metadata": {
        "id": "pTeP_kZ8W1sZ"
      },
      "source": [
        "## An example of a simple model: linear regression"
      ]
    },
    {
      "cell_type": "markdown",
      "metadata": {
        "id": "zkRT93e4W1sZ"
      },
      "source": [
        "Read in a dataset of DPP4 inhibitors with corresponding pIC50 inhibition constants:"
      ]
    },
    {
      "cell_type": "code",
      "execution_count": 20,
      "metadata": {
        "id": "n6wNaZfdW1sa",
        "colab": {
          "base_uri": "https://localhost:8080/"
        },
        "outputId": "eb548d21-82e0-423d-b168-aa6c33fd8d10"
      },
      "outputs": [
        {
          "output_type": "stream",
          "name": "stdout",
          "text": [
            "N[C@H](C(=O)N1CC[C@H](F)C1)C1CCC(NS(=O)(=O)c2ccc(F)cc2F)CC1\t7.32\n"
          ]
        }
      ],
      "source": [
        "url = \"https://raw.githubusercontent.com/UAMCAntwerpen/2040FBDBIC/master/Topic_02/dpp4.pIC50.txt\"\n",
        "data = requests.get(url).text.split(\"\\n\")\n",
        "print(data[0])"
      ]
    },
    {
      "cell_type": "markdown",
      "metadata": {
        "id": "BsO5kLioW1sa"
      },
      "source": [
        "Split into smiles, mols, fps and pIC50:"
      ]
    },
    {
      "cell_type": "code",
      "execution_count": 21,
      "metadata": {
        "id": "oQ3_tPVFW1sa",
        "colab": {
          "base_uri": "https://localhost:8080/"
        },
        "outputId": "a04f6a0c-a5f6-48de-dd1f-c94c3d4deed2"
      },
      "outputs": [
        {
          "output_type": "stream",
          "name": "stdout",
          "text": [
            "N[C@H](C(=O)N1CC[C@H](F)C1)C1CCC(NS(=O)(=O)c2ccc(F)cc2F)CC1\n",
            "7.32\n",
            "[0 1 1 ... 1 0 1]\n",
            "10.92\n",
            "4.0\n",
            "3858\n"
          ]
        }
      ],
      "source": [
        "mols = []\n",
        "smiles = []\n",
        "fps = []\n",
        "pic50 = []\n",
        "for d in data:\n",
        "  fields = d.split()\n",
        "  if len(fields) < 1: continue\n",
        "  smiles.append(fields[0])\n",
        "  pic50.append(float(fields[1]))\n",
        "  mol = Chem.MolFromSmiles(fields[0])\n",
        "  mols.append(mol)\n",
        "  fp = np.zeros((0,), dtype=np.int8)\n",
        "  DataStructs.ConvertToNumpyArray(Chem.RDKFingerprint(mol), fp)\n",
        "  fps.append(fp)\n",
        "print(smiles[0])\n",
        "print(pic50[0])\n",
        "print(fps[0])\n",
        "print(max(pic50))\n",
        "print(min(pic50))\n",
        "print(len(smiles))"
      ]
    },
    {
      "cell_type": "markdown",
      "metadata": {
        "id": "1P35Q7npW1sb"
      },
      "source": [
        "Create a training set (70%) and a test set (30%):"
      ]
    },
    {
      "cell_type": "code",
      "execution_count": 22,
      "metadata": {
        "id": "Lr3wJpZvW1sc",
        "colab": {
          "base_uri": "https://localhost:8080/"
        },
        "outputId": "eaff9ab0-7fa5-4e26-9b65-86b6369819bd"
      },
      "outputs": [
        {
          "output_type": "stream",
          "name": "stdout",
          "text": [
            "2700 1158\n"
          ]
        }
      ],
      "source": [
        "from sklearn.model_selection import train_test_split\n",
        "\n",
        "pic50_train, pic50_test, fps_train, fps_test = train_test_split(pic50, fps, test_size=0.3, random_state=42)\n",
        "print(len(pic50_train), len(pic50_test))"
      ]
    },
    {
      "cell_type": "markdown",
      "metadata": {
        "id": "7IkGpuKZZZEB"
      },
      "source": [
        "Train a linear regression model:"
      ]
    },
    {
      "cell_type": "code",
      "execution_count": 23,
      "metadata": {
        "id": "9F9OL1TNW1sd",
        "colab": {
          "base_uri": "https://localhost:8080/"
        },
        "outputId": "22b121dd-acad-4a9d-878d-285bc8857573"
      },
      "outputs": [
        {
          "output_type": "stream",
          "name": "stdout",
          "text": [
            "[-1.19183471  1.14758749  0.77929443 ...  0.18272035  0.82914222\n",
            " -3.20376615]\n"
          ]
        }
      ],
      "source": [
        "from sklearn import linear_model\n",
        "\n",
        "model = linear_model.LinearRegression()\n",
        "model.fit(fps_train, pic50_train)\n",
        "print(model.coef_)"
      ]
    },
    {
      "cell_type": "markdown",
      "metadata": {
        "id": "X-d3VHFfZgTY"
      },
      "source": [
        "Apply the trained model on the test set and compare the predicted values with the experimental ones:"
      ]
    },
    {
      "cell_type": "code",
      "execution_count": 24,
      "metadata": {
        "id": "Kfsx3A81ZhNC",
        "colab": {
          "base_uri": "https://localhost:8080/"
        },
        "outputId": "06085aaf-fc6b-490c-aa8b-ab0bb0663f81"
      },
      "outputs": [
        {
          "output_type": "stream",
          "name": "stdout",
          "text": [
            "[ 5.04302546  7.70686352 10.78220042 ...  7.14680847  9.82744807\n",
            "  7.41976824]\n"
          ]
        }
      ],
      "source": [
        "pic50_pred = model.predict(fps_test)\n",
        "print(pic50_pred)"
      ]
    },
    {
      "cell_type": "markdown",
      "metadata": {
        "id": "TJwSWcEoZlem"
      },
      "source": [
        "Validate the model by calculating the MSE of the predictions when compared to the true values:"
      ]
    },
    {
      "cell_type": "code",
      "execution_count": 25,
      "metadata": {
        "id": "4Y7mtmHVZmd5",
        "colab": {
          "base_uri": "https://localhost:8080/",
          "height": 483
        },
        "outputId": "3f446614-4ae8-47a1-ccfc-990f6a8dfc21"
      },
      "outputs": [
        {
          "output_type": "stream",
          "name": "stdout",
          "text": [
            "MSE =  13.059437179691749\n"
          ]
        },
        {
          "output_type": "execute_result",
          "data": {
            "text/plain": [
              "Text(0, 0.5, 'Predicted values')"
            ]
          },
          "metadata": {},
          "execution_count": 25
        },
        {
          "output_type": "display_data",
          "data": {
            "text/plain": [
              "<Figure size 640x480 with 1 Axes>"
            ],
            "image/png": "[encoded data removed]"
          },
          "metadata": {}
        }
      ],
      "source": [
        "from sklearn.metrics import mean_squared_error\n",
        "import matplotlib.pyplot as plt\n",
        "\n",
        "print(\"MSE = \", mean_squared_error(pic50_test, pic50_pred))\n",
        "plt.plot(pic50_test, pic50_pred, '.')\n",
        "plt.xlabel(\"True values\")\n",
        "plt.ylabel(\"Predicted values\")"
      ]
    },
    {
      "cell_type": "markdown",
      "metadata": {
        "id": "uHFtDSgCZrJk"
      },
      "source": [
        "Repeat the test/train splitting a number of times in order to get statistics:"
      ]
    },
    {
      "cell_type": "code",
      "execution_count": 26,
      "metadata": {
        "id": "N0YWmYbYZsOj",
        "colab": {
          "base_uri": "https://localhost:8080/"
        },
        "outputId": "426acee9-df9a-4b96-b084-aa0207117390"
      },
      "outputs": [
        {
          "output_type": "stream",
          "name": "stdout",
          "text": [
            "MSE =  10.902094112569618\n",
            "MSE =  9.534169033180481\n",
            "MSE =  10.674434902286462\n",
            "MSE =  13.386123686335033\n",
            "MSE =  9.180724048388617\n"
          ]
        }
      ],
      "source": [
        "for i in range(5):\n",
        "  pic50_train, pic50_test, fps_train, fps_test = train_test_split(pic50, fps, test_size=0.3)\n",
        "  model.fit(fps_train, pic50_train)\n",
        "  pic50_pred = model.predict(fps_test)\n",
        "  print(\"MSE = \", mean_squared_error(pic50_test, pic50_pred))"
      ]
    },
    {
      "cell_type": "markdown",
      "metadata": {
        "id": "yb-ngeMMZ_8k"
      },
      "source": [
        "## A more complicated model: neural networks"
      ]
    },
    {
      "cell_type": "code",
      "execution_count": 27,
      "metadata": {
        "id": "tcj2gOshaCvi",
        "colab": {
          "base_uri": "https://localhost:8080/",
          "height": 483
        },
        "outputId": "c67275ee-b06d-4b3f-f5fc-b416c1de6832"
      },
      "outputs": [
        {
          "output_type": "stream",
          "name": "stdout",
          "text": [
            "MSE = 0.6927053799872565\n"
          ]
        },
        {
          "output_type": "execute_result",
          "data": {
            "text/plain": [
              "Text(0, 0.5, 'Predicted values')"
            ]
          },
          "metadata": {},
          "execution_count": 27
        },
        {
          "output_type": "display_data",
          "data": {
            "text/plain": [
              "<Figure size 640x480 with 1 Axes>"
            ],
            "image/png": "[encoded data removed]"
          },
          "metadata": {}
        }
      ],
      "source": [
        "from sklearn.neural_network import MLPRegressor\n",
        "model = MLPRegressor(random_state=1, max_iter=500)\n",
        "model.fit(fps_train, pic50_train)\n",
        "pic50_pred = model.predict(fps_test)\n",
        "print(\"MSE =\", mean_squared_error(pic50_test, pic50_pred))\n",
        "plt.plot(pic50_test, pic50_pred, '.')\n",
        "plt.xlabel(\"True values\")\n",
        "plt.ylabel(\"Predicted values\")"
      ]
    },
    {
      "cell_type": "markdown",
      "metadata": {
        "id": "fn6OgWckag3E"
      },
      "source": [
        "Repeat the test/train splitting a number of times in order to get statistics:"
      ]
    },
    {
      "cell_type": "code",
      "execution_count": 28,
      "metadata": {
        "id": "YCsT89kuai3a",
        "colab": {
          "base_uri": "https://localhost:8080/"
        },
        "outputId": "b2237954-cc62-42ad-9ce0-c91120d98020"
      },
      "outputs": [
        {
          "output_type": "stream",
          "name": "stdout",
          "text": [
            "MSE = 0.6601633169175893\n",
            "MSE = 0.706197740084934\n",
            "MSE = 0.6471480510515816\n"
          ]
        }
      ],
      "source": [
        "for i in range(3):\n",
        "  pic50_train, pic50_test, fps_train, fps_test = train_test_split(pic50, fps, test_size=0.3)\n",
        "  model.fit(fps_train, pic50_train)\n",
        "  pic50_pred = model.predict(fps_test)\n",
        "  print(\"MSE =\", mean_squared_error(pic50_test, pic50_pred))"
      ]
    },
    {
      "cell_type": "markdown",
      "metadata": {
        "id": "28hXPtvwamvA"
      },
      "source": [
        "Now built a model using the entire dataset and save for later on:"
      ]
    },
    {
      "cell_type": "code",
      "execution_count": 29,
      "metadata": {
        "id": "GSZS7Pqfan2L",
        "colab": {
          "base_uri": "https://localhost:8080/",
          "height": 80
        },
        "outputId": "61fa36b2-7992-4b41-bb79-cdbea6cbc094"
      },
      "outputs": [
        {
          "output_type": "execute_result",
          "data": {
            "text/plain": [
              "MLPRegressor(max_iter=500)"
            ],
            "text/html": [
              "<style>#sk-container-id-1 {\n",
              "  /* Definition of color scheme common for light and dark mode */\n",
              "  --sklearn-color-text: #000;\n",
              "  --sklearn-color-text-muted: #666;\n",
              "  --sklearn-color-line: gray;\n",
              "  /* Definition of color scheme for unfitted estimators */\n",
              "  --sklearn-color-unfitted-level-0: #fff5e6;\n",
              "  --sklearn-color-unfitted-level-1: #f6e4d2;\n",
              "  --sklearn-color-unfitted-level-2: #ffe0b3;\n",
              "  --sklearn-color-unfitted-level-3: chocolate;\n",
              "  /* Definition of color scheme for fitted estimators */\n",
              "  --sklearn-color-fitted-level-0: #f0f8ff;\n",
              "  --sklearn-color-fitted-level-1: #d4ebff;\n",
              "  --sklearn-color-fitted-level-2: #b3dbfd;\n",
              "  --sklearn-color-fitted-level-3: cornflowerblue;\n",
              "\n",
              "  /* Specific color for light theme */\n",
              "  --sklearn-color-text-on-default-background: var(--sg-text-color, var(--theme-code-foreground, var(--jp-content-font-color1, black)));\n",
              "  --sklearn-color-background: var(--sg-background-color, var(--theme-background, var(--jp-layout-color0, white)));\n",
              "  --sklearn-color-border-box: var(--sg-text-color, var(--theme-code-foreground, var(--jp-content-font-color1, black)));\n",
              "  --sklearn-color-icon: #696969;\n",
              "\n",
              "  @media (prefers-color-scheme: dark) {\n",
              "    /* Redefinition of color scheme for dark theme */\n",
              "    --sklearn-color-text-on-default-background: var(--sg-text-color, var(--theme-code-foreground, var(--jp-content-font-color1, white)));\n",
              "    --sklearn-color-background: var(--sg-background-color, var(--theme-background, var(--jp-layout-color0, #111)));\n",
              "    --sklearn-color-border-box: var(--sg-text-color, var(--theme-code-foreground, var(--jp-content-font-color1, white)));\n",
              "    --sklearn-color-icon: #878787;\n",
              "  }\n",
              "}\n",
              "\n",
              "#sk-container-id-1 {\n",
              "  color: var(--sklearn-color-text);\n",
              "}\n",
              "\n",
              "#sk-container-id-1 pre {\n",
              "  padding: 0;\n",
              "}\n",
              "\n",
              "#sk-container-id-1 input.sk-hidden--visually {\n",
              "  border: 0;\n",
              "  clip: rect(1px 1px 1px 1px);\n",
              "  clip: rect(1px, 1px, 1px, 1px);\n",
              "  height: 1px;\n",
              "  margin: -1px;\n",
              "  overflow: hidden;\n",
              "  padding: 0;\n",
              "  position: absolute;\n",
              "  width: 1px;\n",
              "}\n",
              "\n",
              "#sk-container-id-1 div.sk-dashed-wrapped {\n",
              "  border: 1px dashed var(--sklearn-color-line);\n",
              "  margin: 0 0.4em 0.5em 0.4em;\n",
              "  box-sizing: border-box;\n",
              "  padding-bottom: 0.4em;\n",
              "  background-color: var(--sklearn-color-background);\n",
              "}\n",
              "\n",
              "#sk-container-id-1 div.sk-container {\n",
              "  /* jupyter's `normalize.less` sets `[hidden] { display: none; }`\n",
              "     but bootstrap.min.css set `[hidden] { display: none !important; }`\n",
              "     so we also need the `!important` here to be able to override the\n",
              "     default hidden behavior on the sphinx rendered scikit-learn.org.\n",
              "     See: https://github.com/scikit-learn/scikit-learn/issues/21755 */\n",
              "  display: inline-block !important;\n",
              "  position: relative;\n",
              "}\n",
              "\n",
              "#sk-container-id-1 div.sk-text-repr-fallback {\n",
              "  display: none;\n",
              "}\n",
              "\n",
              "div.sk-parallel-item,\n",
              "div.sk-serial,\n",
              "div.sk-item {\n",
              "  /* draw centered vertical line to link estimators */\n",
              "  background-image: linear-gradient(var(--sklearn-color-text-on-default-background), var(--sklearn-color-text-on-default-background));\n",
              "  background-size: 2px 100%;\n",
              "  background-repeat: no-repeat;\n",
              "  background-position: center center;\n",
              "}\n",
              "\n",
              "/* Parallel-specific style estimator block */\n",
              "\n",
              "#sk-container-id-1 div.sk-parallel-item::after {\n",
              "  content: \"\";\n",
              "  width: 100%;\n",
              "  border-bottom: 2px solid var(--sklearn-color-text-on-default-background);\n",
              "  flex-grow: 1;\n",
              "}\n",
              "\n",
              "#sk-container-id-1 div.sk-parallel {\n",
              "  display: flex;\n",
              "  align-items: stretch;\n",
              "  justify-content: center;\n",
              "  background-color: var(--sklearn-color-background);\n",
              "  position: relative;\n",
              "}\n",
              "\n",
              "#sk-container-id-1 div.sk-parallel-item {\n",
              "  display: flex;\n",
              "  flex-direction: column;\n",
              "}\n",
              "\n",
              "#sk-container-id-1 div.sk-parallel-item:first-child::after {\n",
              "  align-self: flex-end;\n",
              "  width: 50%;\n",
              "}\n",
              "\n",
              "#sk-container-id-1 div.sk-parallel-item:last-child::after {\n",
              "  align-self: flex-start;\n",
              "  width: 50%;\n",
              "}\n",
              "\n",
              "#sk-container-id-1 div.sk-parallel-item:only-child::after {\n",
              "  width: 0;\n",
              "}\n",
              "\n",
              "/* Serial-specific style estimator block */\n",
              "\n",
              "#sk-container-id-1 div.sk-serial {\n",
              "  display: flex;\n",
              "  flex-direction: column;\n",
              "  align-items: center;\n",
              "  background-color: var(--sklearn-color-background);\n",
              "  padding-right: 1em;\n",
              "  padding-left: 1em;\n",
              "}\n",
              "\n",
              "\n",
              "/* Toggleable style: style used for estimator/Pipeline/ColumnTransformer box that is\n",
              "clickable and can be expanded/collapsed.\n",
              "- Pipeline and ColumnTransformer use this feature and define the default style\n",
              "- Estimators will overwrite some part of the style using the `sk-estimator` class\n",
              "*/\n",
              "\n",
              "/* Pipeline and ColumnTransformer style (default) */\n",
              "\n",
              "#sk-container-id-1 div.sk-toggleable {\n",
              "  /* Default theme specific background. It is overwritten whether we have a\n",
              "  specific estimator or a Pipeline/ColumnTransformer */\n",
              "  background-color: var(--sklearn-color-background);\n",
              "}\n",
              "\n",
              "/* Toggleable label */\n",
              "#sk-container-id-1 label.sk-toggleable__label {\n",
              "  cursor: pointer;\n",
              "  display: flex;\n",
              "  width: 100%;\n",
              "  margin-bottom: 0;\n",
              "  padding: 0.5em;\n",
              "  box-sizing: border-box;\n",
              "  text-align: center;\n",
              "  align-items: start;\n",
              "  justify-content: space-between;\n",
              "  gap: 0.5em;\n",
              "}\n",
              "\n",
              "#sk-container-id-1 label.sk-toggleable__label .caption {\n",
              "  font-size: 0.6rem;\n",
              "  font-weight: lighter;\n",
              "  color: var(--sklearn-color-text-muted);\n",
              "}\n",
              "\n",
              "#sk-container-id-1 label.sk-toggleable__label-arrow:before {\n",
              "  /* Arrow on the left of the label */\n",
              "  content: \"▸\";\n",
              "  float: left;\n",
              "  margin-right: 0.25em;\n",
              "  color: var(--sklearn-color-icon);\n",
              "}\n",
              "\n",
              "#sk-container-id-1 label.sk-toggleable__label-arrow:hover:before {\n",
              "  color: var(--sklearn-color-text);\n",
              "}\n",
              "\n",
              "/* Toggleable content - dropdown */\n",
              "\n",
              "#sk-container-id-1 div.sk-toggleable__content {\n",
              "  max-height: 0;\n",
              "  max-width: 0;\n",
              "  overflow: hidden;\n",
              "  text-align: left;\n",
              "  /* unfitted */\n",
              "  background-color: var(--sklearn-color-unfitted-level-0);\n",
              "}\n",
              "\n",
              "#sk-container-id-1 div.sk-toggleable__content.fitted {\n",
              "  /* fitted */\n",
              "  background-color: var(--sklearn-color-fitted-level-0);\n",
              "}\n",
              "\n",
              "#sk-container-id-1 div.sk-toggleable__content pre {\n",
              "  margin: 0.2em;\n",
              "  border-radius: 0.25em;\n",
              "  color: var(--sklearn-color-text);\n",
              "  /* unfitted */\n",
              "  background-color: var(--sklearn-color-unfitted-level-0);\n",
              "}\n",
              "\n",
              "#sk-container-id-1 div.sk-toggleable__content.fitted pre {\n",
              "  /* unfitted */\n",
              "  background-color: var(--sklearn-color-fitted-level-0);\n",
              "}\n",
              "\n",
              "#sk-container-id-1 input.sk-toggleable__control:checked~div.sk-toggleable__content {\n",
              "  /* Expand drop-down */\n",
              "  max-height: 200px;\n",
              "  max-width: 100%;\n",
              "  overflow: auto;\n",
              "}\n",
              "\n",
              "#sk-container-id-1 input.sk-toggleable__control:checked~label.sk-toggleable__label-arrow:before {\n",
              "  content: \"▾\";\n",
              "}\n",
              "\n",
              "/* Pipeline/ColumnTransformer-specific style */\n",
              "\n",
              "#sk-container-id-1 div.sk-label input.sk-toggleable__control:checked~label.sk-toggleable__label {\n",
              "  color: var(--sklearn-color-text);\n",
              "  background-color: var(--sklearn-color-unfitted-level-2);\n",
              "}\n",
              "\n",
              "#sk-container-id-1 div.sk-label.fitted input.sk-toggleable__control:checked~label.sk-toggleable__label {\n",
              "  background-color: var(--sklearn-color-fitted-level-2);\n",
              "}\n",
              "\n",
              "/* Estimator-specific style */\n",
              "\n",
              "/* Colorize estimator box */\n",
              "#sk-container-id-1 div.sk-estimator input.sk-toggleable__control:checked~label.sk-toggleable__label {\n",
              "  /* unfitted */\n",
              "  background-color: var(--sklearn-color-unfitted-level-2);\n",
              "}\n",
              "\n",
              "#sk-container-id-1 div.sk-estimator.fitted input.sk-toggleable__control:checked~label.sk-toggleable__label {\n",
              "  /* fitted */\n",
              "  background-color: var(--sklearn-color-fitted-level-2);\n",
              "}\n",
              "\n",
              "#sk-container-id-1 div.sk-label label.sk-toggleable__label,\n",
              "#sk-container-id-1 div.sk-label label {\n",
              "  /* The background is the default theme color */\n",
              "  color: var(--sklearn-color-text-on-default-background);\n",
              "}\n",
              "\n",
              "/* On hover, darken the color of the background */\n",
              "#sk-container-id-1 div.sk-label:hover label.sk-toggleable__label {\n",
              "  color: var(--sklearn-color-text);\n",
              "  background-color: var(--sklearn-color-unfitted-level-2);\n",
              "}\n",
              "\n",
              "/* Label box, darken color on hover, fitted */\n",
              "#sk-container-id-1 div.sk-label.fitted:hover label.sk-toggleable__label.fitted {\n",
              "  color: var(--sklearn-color-text);\n",
              "  background-color: var(--sklearn-color-fitted-level-2);\n",
              "}\n",
              "\n",
              "/* Estimator label */\n",
              "\n",
              "#sk-container-id-1 div.sk-label label {\n",
              "  font-family: monospace;\n",
              "  font-weight: bold;\n",
              "  display: inline-block;\n",
              "  line-height: 1.2em;\n",
              "}\n",
              "\n",
              "#sk-container-id-1 div.sk-label-container {\n",
              "  text-align: center;\n",
              "}\n",
              "\n",
              "/* Estimator-specific */\n",
              "#sk-container-id-1 div.sk-estimator {\n",
              "  font-family: monospace;\n",
              "  border: 1px dotted var(--sklearn-color-border-box);\n",
              "  border-radius: 0.25em;\n",
              "  box-sizing: border-box;\n",
              "  margin-bottom: 0.5em;\n",
              "  /* unfitted */\n",
              "  background-color: var(--sklearn-color-unfitted-level-0);\n",
              "}\n",
              "\n",
              "#sk-container-id-1 div.sk-estimator.fitted {\n",
              "  /* fitted */\n",
              "  background-color: var(--sklearn-color-fitted-level-0);\n",
              "}\n",
              "\n",
              "/* on hover */\n",
              "#sk-container-id-1 div.sk-estimator:hover {\n",
              "  /* unfitted */\n",
              "  background-color: var(--sklearn-color-unfitted-level-2);\n",
              "}\n",
              "\n",
              "#sk-container-id-1 div.sk-estimator.fitted:hover {\n",
              "  /* fitted */\n",
              "  background-color: var(--sklearn-color-fitted-level-2);\n",
              "}\n",
              "\n",
              "/* Specification for estimator info (e.g. \"i\" and \"?\") */\n",
              "\n",
              "/* Common style for \"i\" and \"?\" */\n",
              "\n",
              ".sk-estimator-doc-link,\n",
              "a:link.sk-estimator-doc-link,\n",
              "a:visited.sk-estimator-doc-link {\n",
              "  float: right;\n",
              "  font-size: smaller;\n",
              "  line-height: 1em;\n",
              "  font-family: monospace;\n",
              "  background-color: var(--sklearn-color-background);\n",
              "  border-radius: 1em;\n",
              "  height: 1em;\n",
              "  width: 1em;\n",
              "  text-decoration: none !important;\n",
              "  margin-left: 0.5em;\n",
              "  text-align: center;\n",
              "  /* unfitted */\n",
              "  border: var(--sklearn-color-unfitted-level-1) 1pt solid;\n",
              "  color: var(--sklearn-color-unfitted-level-1);\n",
              "}\n",
              "\n",
              ".sk-estimator-doc-link.fitted,\n",
              "a:link.sk-estimator-doc-link.fitted,\n",
              "a:visited.sk-estimator-doc-link.fitted {\n",
              "  /* fitted */\n",
              "  border: var(--sklearn-color-fitted-level-1) 1pt solid;\n",
              "  color: var(--sklearn-color-fitted-level-1);\n",
              "}\n",
              "\n",
              "/* On hover */\n",
              "div.sk-estimator:hover .sk-estimator-doc-link:hover,\n",
              ".sk-estimator-doc-link:hover,\n",
              "div.sk-label-container:hover .sk-estimator-doc-link:hover,\n",
              ".sk-estimator-doc-link:hover {\n",
              "  /* unfitted */\n",
              "  background-color: var(--sklearn-color-unfitted-level-3);\n",
              "  color: var(--sklearn-color-background);\n",
              "  text-decoration: none;\n",
              "}\n",
              "\n",
              "div.sk-estimator.fitted:hover .sk-estimator-doc-link.fitted:hover,\n",
              ".sk-estimator-doc-link.fitted:hover,\n",
              "div.sk-label-container:hover .sk-estimator-doc-link.fitted:hover,\n",
              ".sk-estimator-doc-link.fitted:hover {\n",
              "  /* fitted */\n",
              "  background-color: var(--sklearn-color-fitted-level-3);\n",
              "  color: var(--sklearn-color-background);\n",
              "  text-decoration: none;\n",
              "}\n",
              "\n",
              "/* Span, style for the box shown on hovering the info icon */\n",
              ".sk-estimator-doc-link span {\n",
              "  display: none;\n",
              "  z-index: 9999;\n",
              "  position: relative;\n",
              "  font-weight: normal;\n",
              "  right: .2ex;\n",
              "  padding: .5ex;\n",
              "  margin: .5ex;\n",
              "  width: min-content;\n",
              "  min-width: 20ex;\n",
              "  max-width: 50ex;\n",
              "  color: var(--sklearn-color-text);\n",
              "  box-shadow: 2pt 2pt 4pt #999;\n",
              "  /* unfitted */\n",
              "  background: var(--sklearn-color-unfitted-level-0);\n",
              "  border: .5pt solid var(--sklearn-color-unfitted-level-3);\n",
              "}\n",
              "\n",
              ".sk-estimator-doc-link.fitted span {\n",
              "  /* fitted */\n",
              "  background: var(--sklearn-color-fitted-level-0);\n",
              "  border: var(--sklearn-color-fitted-level-3);\n",
              "}\n",
              "\n",
              ".sk-estimator-doc-link:hover span {\n",
              "  display: block;\n",
              "}\n",
              "\n",
              "/* \"?\"-specific style due to the `<a>` HTML tag */\n",
              "\n",
              "#sk-container-id-1 a.estimator_doc_link {\n",
              "  float: right;\n",
              "  font-size: 1rem;\n",
              "  line-height: 1em;\n",
              "  font-family: monospace;\n",
              "  background-color: var(--sklearn-color-background);\n",
              "  border-radius: 1rem;\n",
              "  height: 1rem;\n",
              "  width: 1rem;\n",
              "  text-decoration: none;\n",
              "  /* unfitted */\n",
              "  color: var(--sklearn-color-unfitted-level-1);\n",
              "  border: var(--sklearn-color-unfitted-level-1) 1pt solid;\n",
              "}\n",
              "\n",
              "#sk-container-id-1 a.estimator_doc_link.fitted {\n",
              "  /* fitted */\n",
              "  border: var(--sklearn-color-fitted-level-1) 1pt solid;\n",
              "  color: var(--sklearn-color-fitted-level-1);\n",
              "}\n",
              "\n",
              "/* On hover */\n",
              "#sk-container-id-1 a.estimator_doc_link:hover {\n",
              "  /* unfitted */\n",
              "  background-color: var(--sklearn-color-unfitted-level-3);\n",
              "  color: var(--sklearn-color-background);\n",
              "  text-decoration: none;\n",
              "}\n",
              "\n",
              "#sk-container-id-1 a.estimator_doc_link.fitted:hover {\n",
              "  /* fitted */\n",
              "  background-color: var(--sklearn-color-fitted-level-3);\n",
              "}\n",
              "</style><div id=\"sk-container-id-1\" class=\"sk-top-container\"><div class=\"sk-text-repr-fallback\"><pre>MLPRegressor(max_iter=500)</pre><b>In a Jupyter environment, please rerun this cell to show the HTML representation or trust the notebook. <br />On GitHub, the HTML representation is unable to render, please try loading this page with nbviewer.org.</b></div><div class=\"sk-container\" hidden><div class=\"sk-item\"><div class=\"sk-estimator fitted sk-toggleable\"><input class=\"sk-toggleable__control sk-hidden--visually\" id=\"sk-estimator-id-1\" type=\"checkbox\" checked><label for=\"sk-estimator-id-1\" class=\"sk-toggleable__label fitted sk-toggleable__label-arrow\"><div><div>MLPRegressor</div></div><div><a class=\"sk-estimator-doc-link fitted\" rel=\"noreferrer\" target=\"_blank\" href=\"https://scikit-learn.org/1.6/modules/generated/sklearn.neural_network.MLPRegressor.html\">?<span>Documentation for MLPRegressor</span></a><span class=\"sk-estimator-doc-link fitted\">i<span>Fitted</span></span></div></label><div class=\"sk-toggleable__content fitted\"><pre>MLPRegressor(max_iter=500)</pre></div> </div></div></div></div>"
            ]
          },
          "metadata": {},
          "execution_count": 29
        }
      ],
      "source": [
        "pic50_predictor = MLPRegressor(max_iter=500)\n",
        "pic50_predictor.fit(fps, pic50)"
      ]
    },
    {
      "cell_type": "markdown",
      "metadata": {
        "id": "e-WxL41kcB-p"
      },
      "source": [
        "## Another model: random forest"
      ]
    },
    {
      "cell_type": "markdown",
      "metadata": {
        "id": "9Gt184KVcM5Y"
      },
      "source": [
        "Load a DPP4 dataset with actives and non-actives (classification model):"
      ]
    },
    {
      "cell_type": "code",
      "execution_count": 30,
      "metadata": {
        "id": "I65fHBDqcG-b",
        "colab": {
          "base_uri": "https://localhost:8080/"
        },
        "outputId": "39bc7409-85ce-462e-a9a0-2d4d25d08d88"
      },
      "outputs": [
        {
          "output_type": "stream",
          "name": "stdout",
          "text": [
            "COc1cc(OC)cc(c1)c2nc(N)c(CN)c(n2)c3ccc(Cl)cc3Cl\tACTIVE\n"
          ]
        }
      ],
      "source": [
        "url = \"https://raw.githubusercontent.com/UAMCAntwerpen/2040FBDBIC/master/Topic_02/dpp4.classified.txt\"\n",
        "data = requests.get(url).text.split(\"\\n\")\n",
        "print(data[0])"
      ]
    },
    {
      "cell_type": "markdown",
      "metadata": {
        "id": "Sb3xMZSzcgP-"
      },
      "source": [
        "Generate fingerprints and make a list of all the activities:"
      ]
    },
    {
      "cell_type": "code",
      "execution_count": 31,
      "metadata": {
        "id": "NJWbRSw6cqRQ",
        "colab": {
          "base_uri": "https://localhost:8080/"
        },
        "outputId": "5b0bdf5d-bd5d-47a2-c4cf-4950a9835dd7"
      },
      "outputs": [
        {
          "output_type": "stream",
          "name": "stdout",
          "text": [
            "13858 13858\n"
          ]
        }
      ],
      "source": [
        "activities = []\n",
        "fps = []\n",
        "for d in data:\n",
        "  if d is None or d == \"\": continue\n",
        "  fields = d.split()\n",
        "  if fields[1] == \"ACTIVE\": activities.append(1)\n",
        "  if fields[1] == \"INACTIVE\": activities.append(0)\n",
        "  mol = Chem.MolFromSmiles(fields[0])\n",
        "  fp = np.zeros((0,), dtype=np.int8)\n",
        "  DataStructs.ConvertToNumpyArray(Chem.RDKFingerprint(mol), fp)\n",
        "  fps.append(fp)\n",
        "\n",
        "print(len(activities), len(fps))"
      ]
    },
    {
      "cell_type": "markdown",
      "source": [
        "Let's count how many actives and inactives:"
      ],
      "metadata": {
        "id": "rAcbwRpWf54T"
      }
    },
    {
      "cell_type": "code",
      "source": [
        "n_actives = 0\n",
        "n_inactives = 0\n",
        "for a in activities:\n",
        "  if a == 1: n_actives += 1\n",
        "  if a == 0: n_inactives += 1\n",
        "print(f'Actives: {n_actives}')\n",
        "print(f'Inactives: {n_inactives}')"
      ],
      "metadata": {
        "colab": {
          "base_uri": "https://localhost:8080/"
        },
        "id": "3-qKJc0vf-u6",
        "outputId": "a9daad11-ddfb-4753-d317-d97160bb3f17"
      },
      "execution_count": 56,
      "outputs": [
        {
          "output_type": "stream",
          "name": "stdout",
          "text": [
            "Actives: 3858\n",
            "Inactives: 10000\n"
          ]
        }
      ]
    },
    {
      "cell_type": "markdown",
      "metadata": {
        "id": "46Wks4gQcrsh"
      },
      "source": [
        "Train a random forest model to predict activity:"
      ]
    },
    {
      "cell_type": "code",
      "execution_count": 32,
      "metadata": {
        "id": "TBcKP5hwcuQ2",
        "colab": {
          "base_uri": "https://localhost:8080/",
          "height": 80
        },
        "outputId": "1f2a29a6-c658-40c4-ec3d-03ec2856601e"
      },
      "outputs": [
        {
          "output_type": "execute_result",
          "data": {
            "text/plain": [
              "RandomForestClassifier(max_depth=2)"
            ],
            "text/html": [
              "<style>#sk-container-id-2 {\n",
              "  /* Definition of color scheme common for light and dark mode */\n",
              "  --sklearn-color-text: #000;\n",
              "  --sklearn-color-text-muted: #666;\n",
              "  --sklearn-color-line: gray;\n",
              "  /* Definition of color scheme for unfitted estimators */\n",
              "  --sklearn-color-unfitted-level-0: #fff5e6;\n",
              "  --sklearn-color-unfitted-level-1: #f6e4d2;\n",
              "  --sklearn-color-unfitted-level-2: #ffe0b3;\n",
              "  --sklearn-color-unfitted-level-3: chocolate;\n",
              "  /* Definition of color scheme for fitted estimators */\n",
              "  --sklearn-color-fitted-level-0: #f0f8ff;\n",
              "  --sklearn-color-fitted-level-1: #d4ebff;\n",
              "  --sklearn-color-fitted-level-2: #b3dbfd;\n",
              "  --sklearn-color-fitted-level-3: cornflowerblue;\n",
              "\n",
              "  /* Specific color for light theme */\n",
              "  --sklearn-color-text-on-default-background: var(--sg-text-color, var(--theme-code-foreground, var(--jp-content-font-color1, black)));\n",
              "  --sklearn-color-background: var(--sg-background-color, var(--theme-background, var(--jp-layout-color0, white)));\n",
              "  --sklearn-color-border-box: var(--sg-text-color, var(--theme-code-foreground, var(--jp-content-font-color1, black)));\n",
              "  --sklearn-color-icon: #696969;\n",
              "\n",
              "  @media (prefers-color-scheme: dark) {\n",
              "    /* Redefinition of color scheme for dark theme */\n",
              "    --sklearn-color-text-on-default-background: var(--sg-text-color, var(--theme-code-foreground, var(--jp-content-font-color1, white)));\n",
              "    --sklearn-color-background: var(--sg-background-color, var(--theme-background, var(--jp-layout-color0, #111)));\n",
              "    --sklearn-color-border-box: var(--sg-text-color, var(--theme-code-foreground, var(--jp-content-font-color1, white)));\n",
              "    --sklearn-color-icon: #878787;\n",
              "  }\n",
              "}\n",
              "\n",
              "#sk-container-id-2 {\n",
              "  color: var(--sklearn-color-text);\n",
              "}\n",
              "\n",
              "#sk-container-id-2 pre {\n",
              "  padding: 0;\n",
              "}\n",
              "\n",
              "#sk-container-id-2 input.sk-hidden--visually {\n",
              "  border: 0;\n",
              "  clip: rect(1px 1px 1px 1px);\n",
              "  clip: rect(1px, 1px, 1px, 1px);\n",
              "  height: 1px;\n",
              "  margin: -1px;\n",
              "  overflow: hidden;\n",
              "  padding: 0;\n",
              "  position: absolute;\n",
              "  width: 1px;\n",
              "}\n",
              "\n",
              "#sk-container-id-2 div.sk-dashed-wrapped {\n",
              "  border: 1px dashed var(--sklearn-color-line);\n",
              "  margin: 0 0.4em 0.5em 0.4em;\n",
              "  box-sizing: border-box;\n",
              "  padding-bottom: 0.4em;\n",
              "  background-color: var(--sklearn-color-background);\n",
              "}\n",
              "\n",
              "#sk-container-id-2 div.sk-container {\n",
              "  /* jupyter's `normalize.less` sets `[hidden] { display: none; }`\n",
              "     but bootstrap.min.css set `[hidden] { display: none !important; }`\n",
              "     so we also need the `!important` here to be able to override the\n",
              "     default hidden behavior on the sphinx rendered scikit-learn.org.\n",
              "     See: https://github.com/scikit-learn/scikit-learn/issues/21755 */\n",
              "  display: inline-block !important;\n",
              "  position: relative;\n",
              "}\n",
              "\n",
              "#sk-container-id-2 div.sk-text-repr-fallback {\n",
              "  display: none;\n",
              "}\n",
              "\n",
              "div.sk-parallel-item,\n",
              "div.sk-serial,\n",
              "div.sk-item {\n",
              "  /* draw centered vertical line to link estimators */\n",
              "  background-image: linear-gradient(var(--sklearn-color-text-on-default-background), var(--sklearn-color-text-on-default-background));\n",
              "  background-size: 2px 100%;\n",
              "  background-repeat: no-repeat;\n",
              "  background-position: center center;\n",
              "}\n",
              "\n",
              "/* Parallel-specific style estimator block */\n",
              "\n",
              "#sk-container-id-2 div.sk-parallel-item::after {\n",
              "  content: \"\";\n",
              "  width: 100%;\n",
              "  border-bottom: 2px solid var(--sklearn-color-text-on-default-background);\n",
              "  flex-grow: 1;\n",
              "}\n",
              "\n",
              "#sk-container-id-2 div.sk-parallel {\n",
              "  display: flex;\n",
              "  align-items: stretch;\n",
              "  justify-content: center;\n",
              "  background-color: var(--sklearn-color-background);\n",
              "  position: relative;\n",
              "}\n",
              "\n",
              "#sk-container-id-2 div.sk-parallel-item {\n",
              "  display: flex;\n",
              "  flex-direction: column;\n",
              "}\n",
              "\n",
              "#sk-container-id-2 div.sk-parallel-item:first-child::after {\n",
              "  align-self: flex-end;\n",
              "  width: 50%;\n",
              "}\n",
              "\n",
              "#sk-container-id-2 div.sk-parallel-item:last-child::after {\n",
              "  align-self: flex-start;\n",
              "  width: 50%;\n",
              "}\n",
              "\n",
              "#sk-container-id-2 div.sk-parallel-item:only-child::after {\n",
              "  width: 0;\n",
              "}\n",
              "\n",
              "/* Serial-specific style estimator block */\n",
              "\n",
              "#sk-container-id-2 div.sk-serial {\n",
              "  display: flex;\n",
              "  flex-direction: column;\n",
              "  align-items: center;\n",
              "  background-color: var(--sklearn-color-background);\n",
              "  padding-right: 1em;\n",
              "  padding-left: 1em;\n",
              "}\n",
              "\n",
              "\n",
              "/* Toggleable style: style used for estimator/Pipeline/ColumnTransformer box that is\n",
              "clickable and can be expanded/collapsed.\n",
              "- Pipeline and ColumnTransformer use this feature and define the default style\n",
              "- Estimators will overwrite some part of the style using the `sk-estimator` class\n",
              "*/\n",
              "\n",
              "/* Pipeline and ColumnTransformer style (default) */\n",
              "\n",
              "#sk-container-id-2 div.sk-toggleable {\n",
              "  /* Default theme specific background. It is overwritten whether we have a\n",
              "  specific estimator or a Pipeline/ColumnTransformer */\n",
              "  background-color: var(--sklearn-color-background);\n",
              "}\n",
              "\n",
              "/* Toggleable label */\n",
              "#sk-container-id-2 label.sk-toggleable__label {\n",
              "  cursor: pointer;\n",
              "  display: flex;\n",
              "  width: 100%;\n",
              "  margin-bottom: 0;\n",
              "  padding: 0.5em;\n",
              "  box-sizing: border-box;\n",
              "  text-align: center;\n",
              "  align-items: start;\n",
              "  justify-content: space-between;\n",
              "  gap: 0.5em;\n",
              "}\n",
              "\n",
              "#sk-container-id-2 label.sk-toggleable__label .caption {\n",
              "  font-size: 0.6rem;\n",
              "  font-weight: lighter;\n",
              "  color: var(--sklearn-color-text-muted);\n",
              "}\n",
              "\n",
              "#sk-container-id-2 label.sk-toggleable__label-arrow:before {\n",
              "  /* Arrow on the left of the label */\n",
              "  content: \"▸\";\n",
              "  float: left;\n",
              "  margin-right: 0.25em;\n",
              "  color: var(--sklearn-color-icon);\n",
              "}\n",
              "\n",
              "#sk-container-id-2 label.sk-toggleable__label-arrow:hover:before {\n",
              "  color: var(--sklearn-color-text);\n",
              "}\n",
              "\n",
              "/* Toggleable content - dropdown */\n",
              "\n",
              "#sk-container-id-2 div.sk-toggleable__content {\n",
              "  max-height: 0;\n",
              "  max-width: 0;\n",
              "  overflow: hidden;\n",
              "  text-align: left;\n",
              "  /* unfitted */\n",
              "  background-color: var(--sklearn-color-unfitted-level-0);\n",
              "}\n",
              "\n",
              "#sk-container-id-2 div.sk-toggleable__content.fitted {\n",
              "  /* fitted */\n",
              "  background-color: var(--sklearn-color-fitted-level-0);\n",
              "}\n",
              "\n",
              "#sk-container-id-2 div.sk-toggleable__content pre {\n",
              "  margin: 0.2em;\n",
              "  border-radius: 0.25em;\n",
              "  color: var(--sklearn-color-text);\n",
              "  /* unfitted */\n",
              "  background-color: var(--sklearn-color-unfitted-level-0);\n",
              "}\n",
              "\n",
              "#sk-container-id-2 div.sk-toggleable__content.fitted pre {\n",
              "  /* unfitted */\n",
              "  background-color: var(--sklearn-color-fitted-level-0);\n",
              "}\n",
              "\n",
              "#sk-container-id-2 input.sk-toggleable__control:checked~div.sk-toggleable__content {\n",
              "  /* Expand drop-down */\n",
              "  max-height: 200px;\n",
              "  max-width: 100%;\n",
              "  overflow: auto;\n",
              "}\n",
              "\n",
              "#sk-container-id-2 input.sk-toggleable__control:checked~label.sk-toggleable__label-arrow:before {\n",
              "  content: \"▾\";\n",
              "}\n",
              "\n",
              "/* Pipeline/ColumnTransformer-specific style */\n",
              "\n",
              "#sk-container-id-2 div.sk-label input.sk-toggleable__control:checked~label.sk-toggleable__label {\n",
              "  color: var(--sklearn-color-text);\n",
              "  background-color: var(--sklearn-color-unfitted-level-2);\n",
              "}\n",
              "\n",
              "#sk-container-id-2 div.sk-label.fitted input.sk-toggleable__control:checked~label.sk-toggleable__label {\n",
              "  background-color: var(--sklearn-color-fitted-level-2);\n",
              "}\n",
              "\n",
              "/* Estimator-specific style */\n",
              "\n",
              "/* Colorize estimator box */\n",
              "#sk-container-id-2 div.sk-estimator input.sk-toggleable__control:checked~label.sk-toggleable__label {\n",
              "  /* unfitted */\n",
              "  background-color: var(--sklearn-color-unfitted-level-2);\n",
              "}\n",
              "\n",
              "#sk-container-id-2 div.sk-estimator.fitted input.sk-toggleable__control:checked~label.sk-toggleable__label {\n",
              "  /* fitted */\n",
              "  background-color: var(--sklearn-color-fitted-level-2);\n",
              "}\n",
              "\n",
              "#sk-container-id-2 div.sk-label label.sk-toggleable__label,\n",
              "#sk-container-id-2 div.sk-label label {\n",
              "  /* The background is the default theme color */\n",
              "  color: var(--sklearn-color-text-on-default-background);\n",
              "}\n",
              "\n",
              "/* On hover, darken the color of the background */\n",
              "#sk-container-id-2 div.sk-label:hover label.sk-toggleable__label {\n",
              "  color: var(--sklearn-color-text);\n",
              "  background-color: var(--sklearn-color-unfitted-level-2);\n",
              "}\n",
              "\n",
              "/* Label box, darken color on hover, fitted */\n",
              "#sk-container-id-2 div.sk-label.fitted:hover label.sk-toggleable__label.fitted {\n",
              "  color: var(--sklearn-color-text);\n",
              "  background-color: var(--sklearn-color-fitted-level-2);\n",
              "}\n",
              "\n",
              "/* Estimator label */\n",
              "\n",
              "#sk-container-id-2 div.sk-label label {\n",
              "  font-family: monospace;\n",
              "  font-weight: bold;\n",
              "  display: inline-block;\n",
              "  line-height: 1.2em;\n",
              "}\n",
              "\n",
              "#sk-container-id-2 div.sk-label-container {\n",
              "  text-align: center;\n",
              "}\n",
              "\n",
              "/* Estimator-specific */\n",
              "#sk-container-id-2 div.sk-estimator {\n",
              "  font-family: monospace;\n",
              "  border: 1px dotted var(--sklearn-color-border-box);\n",
              "  border-radius: 0.25em;\n",
              "  box-sizing: border-box;\n",
              "  margin-bottom: 0.5em;\n",
              "  /* unfitted */\n",
              "  background-color: var(--sklearn-color-unfitted-level-0);\n",
              "}\n",
              "\n",
              "#sk-container-id-2 div.sk-estimator.fitted {\n",
              "  /* fitted */\n",
              "  background-color: var(--sklearn-color-fitted-level-0);\n",
              "}\n",
              "\n",
              "/* on hover */\n",
              "#sk-container-id-2 div.sk-estimator:hover {\n",
              "  /* unfitted */\n",
              "  background-color: var(--sklearn-color-unfitted-level-2);\n",
              "}\n",
              "\n",
              "#sk-container-id-2 div.sk-estimator.fitted:hover {\n",
              "  /* fitted */\n",
              "  background-color: var(--sklearn-color-fitted-level-2);\n",
              "}\n",
              "\n",
              "/* Specification for estimator info (e.g. \"i\" and \"?\") */\n",
              "\n",
              "/* Common style for \"i\" and \"?\" */\n",
              "\n",
              ".sk-estimator-doc-link,\n",
              "a:link.sk-estimator-doc-link,\n",
              "a:visited.sk-estimator-doc-link {\n",
              "  float: right;\n",
              "  font-size: smaller;\n",
              "  line-height: 1em;\n",
              "  font-family: monospace;\n",
              "  background-color: var(--sklearn-color-background);\n",
              "  border-radius: 1em;\n",
              "  height: 1em;\n",
              "  width: 1em;\n",
              "  text-decoration: none !important;\n",
              "  margin-left: 0.5em;\n",
              "  text-align: center;\n",
              "  /* unfitted */\n",
              "  border: var(--sklearn-color-unfitted-level-1) 1pt solid;\n",
              "  color: var(--sklearn-color-unfitted-level-1);\n",
              "}\n",
              "\n",
              ".sk-estimator-doc-link.fitted,\n",
              "a:link.sk-estimator-doc-link.fitted,\n",
              "a:visited.sk-estimator-doc-link.fitted {\n",
              "  /* fitted */\n",
              "  border: var(--sklearn-color-fitted-level-1) 1pt solid;\n",
              "  color: var(--sklearn-color-fitted-level-1);\n",
              "}\n",
              "\n",
              "/* On hover */\n",
              "div.sk-estimator:hover .sk-estimator-doc-link:hover,\n",
              ".sk-estimator-doc-link:hover,\n",
              "div.sk-label-container:hover .sk-estimator-doc-link:hover,\n",
              ".sk-estimator-doc-link:hover {\n",
              "  /* unfitted */\n",
              "  background-color: var(--sklearn-color-unfitted-level-3);\n",
              "  color: var(--sklearn-color-background);\n",
              "  text-decoration: none;\n",
              "}\n",
              "\n",
              "div.sk-estimator.fitted:hover .sk-estimator-doc-link.fitted:hover,\n",
              ".sk-estimator-doc-link.fitted:hover,\n",
              "div.sk-label-container:hover .sk-estimator-doc-link.fitted:hover,\n",
              ".sk-estimator-doc-link.fitted:hover {\n",
              "  /* fitted */\n",
              "  background-color: var(--sklearn-color-fitted-level-3);\n",
              "  color: var(--sklearn-color-background);\n",
              "  text-decoration: none;\n",
              "}\n",
              "\n",
              "/* Span, style for the box shown on hovering the info icon */\n",
              ".sk-estimator-doc-link span {\n",
              "  display: none;\n",
              "  z-index: 9999;\n",
              "  position: relative;\n",
              "  font-weight: normal;\n",
              "  right: .2ex;\n",
              "  padding: .5ex;\n",
              "  margin: .5ex;\n",
              "  width: min-content;\n",
              "  min-width: 20ex;\n",
              "  max-width: 50ex;\n",
              "  color: var(--sklearn-color-text);\n",
              "  box-shadow: 2pt 2pt 4pt #999;\n",
              "  /* unfitted */\n",
              "  background: var(--sklearn-color-unfitted-level-0);\n",
              "  border: .5pt solid var(--sklearn-color-unfitted-level-3);\n",
              "}\n",
              "\n",
              ".sk-estimator-doc-link.fitted span {\n",
              "  /* fitted */\n",
              "  background: var(--sklearn-color-fitted-level-0);\n",
              "  border: var(--sklearn-color-fitted-level-3);\n",
              "}\n",
              "\n",
              ".sk-estimator-doc-link:hover span {\n",
              "  display: block;\n",
              "}\n",
              "\n",
              "/* \"?\"-specific style due to the `<a>` HTML tag */\n",
              "\n",
              "#sk-container-id-2 a.estimator_doc_link {\n",
              "  float: right;\n",
              "  font-size: 1rem;\n",
              "  line-height: 1em;\n",
              "  font-family: monospace;\n",
              "  background-color: var(--sklearn-color-background);\n",
              "  border-radius: 1rem;\n",
              "  height: 1rem;\n",
              "  width: 1rem;\n",
              "  text-decoration: none;\n",
              "  /* unfitted */\n",
              "  color: var(--sklearn-color-unfitted-level-1);\n",
              "  border: var(--sklearn-color-unfitted-level-1) 1pt solid;\n",
              "}\n",
              "\n",
              "#sk-container-id-2 a.estimator_doc_link.fitted {\n",
              "  /* fitted */\n",
              "  border: var(--sklearn-color-fitted-level-1) 1pt solid;\n",
              "  color: var(--sklearn-color-fitted-level-1);\n",
              "}\n",
              "\n",
              "/* On hover */\n",
              "#sk-container-id-2 a.estimator_doc_link:hover {\n",
              "  /* unfitted */\n",
              "  background-color: var(--sklearn-color-unfitted-level-3);\n",
              "  color: var(--sklearn-color-background);\n",
              "  text-decoration: none;\n",
              "}\n",
              "\n",
              "#sk-container-id-2 a.estimator_doc_link.fitted:hover {\n",
              "  /* fitted */\n",
              "  background-color: var(--sklearn-color-fitted-level-3);\n",
              "}\n",
              "</style><div id=\"sk-container-id-2\" class=\"sk-top-container\"><div class=\"sk-text-repr-fallback\"><pre>RandomForestClassifier(max_depth=2)</pre><b>In a Jupyter environment, please rerun this cell to show the HTML representation or trust the notebook. <br />On GitHub, the HTML representation is unable to render, please try loading this page with nbviewer.org.</b></div><div class=\"sk-container\" hidden><div class=\"sk-item\"><div class=\"sk-estimator fitted sk-toggleable\"><input class=\"sk-toggleable__control sk-hidden--visually\" id=\"sk-estimator-id-2\" type=\"checkbox\" checked><label for=\"sk-estimator-id-2\" class=\"sk-toggleable__label fitted sk-toggleable__label-arrow\"><div><div>RandomForestClassifier</div></div><div><a class=\"sk-estimator-doc-link fitted\" rel=\"noreferrer\" target=\"_blank\" href=\"https://scikit-learn.org/1.6/modules/generated/sklearn.ensemble.RandomForestClassifier.html\">?<span>Documentation for RandomForestClassifier</span></a><span class=\"sk-estimator-doc-link fitted\">i<span>Fitted</span></span></div></label><div class=\"sk-toggleable__content fitted\"><pre>RandomForestClassifier(max_depth=2)</pre></div> </div></div></div></div>"
            ]
          },
          "metadata": {},
          "execution_count": 32
        }
      ],
      "source": [
        "from sklearn.ensemble import RandomForestClassifier\n",
        "\n",
        "act_train, act_test, fps_train, fps_test = train_test_split(activities, fps, test_size=0.3)\n",
        "model = RandomForestClassifier(max_depth=2)\n",
        "model.fit(fps_train, act_train)"
      ]
    },
    {
      "cell_type": "markdown",
      "metadata": {
        "id": "YXjECwLNcx5R"
      },
      "source": [
        "Calculate the accuracy of the generated model:"
      ]
    },
    {
      "cell_type": "code",
      "execution_count": 33,
      "metadata": {
        "id": "DQGzszBwc0Og",
        "colab": {
          "base_uri": "https://localhost:8080/"
        },
        "outputId": "0b608257-e465-4656-dc19-b1816500faf1"
      },
      "outputs": [
        {
          "output_type": "stream",
          "name": "stdout",
          "text": [
            "0.8078403078403078\n"
          ]
        }
      ],
      "source": [
        "from sklearn.metrics import accuracy_score\n",
        "\n",
        "prediction = model.predict(fps_test)\n",
        "print(accuracy_score(act_test, prediction))"
      ]
    },
    {
      "cell_type": "markdown",
      "source": [
        "**Precision versus recall**\n",
        "\n",
        "The **precision** metric is defined by TP / (TP + FP). A high precision is therefore obtained when the model **reduces the number of false positives**. A model with a high precision is useful in a situation where one wants to be sure that, if the model predicts a compound to be active, the compound is really active, however at the expense of missing some other actives. This might be useful when one wants to purchase compounds with a limited budget.\n",
        "\n",
        "The **recall** metric is defined by TP / (TP + FN). A high recall is therefore obtained when the model **reduces the number of false negatives**. A model with a high recall is therefore useful in a situation where one wants to be sure that **all** active compounds in a database will be purchased, however at the expense of buying also compounds which are not active. This might be useful when one can purchase compounds with an unlimited budget."
      ],
      "metadata": {
        "id": "EsyqVJY3f0TF"
      }
    },
    {
      "cell_type": "markdown",
      "metadata": {
        "id": "9gs20R6Gc4cy"
      },
      "source": [
        "Let us make a random forest model with a **high precision**. We can do this by tweaking some of the parameters in the random forest classifier. The main parameters to adjust when using these methods is *n_estimators* and *max_features*. The former is the number of trees in the forest. The larger the better, but also the longer it will take to compute. The latter is the size of the random subsets of features to consider when splitting a node. The lower the greater the reduction of variance, but also the greater the increase in bias."
      ]
    },
    {
      "cell_type": "code",
      "execution_count": 87,
      "metadata": {
        "id": "mVtTE4DQc6sy",
        "colab": {
          "base_uri": "https://localhost:8080/"
        },
        "outputId": "7a4ccbe4-d8f9-457e-d1fe-a24c94a9c0b4"
      },
      "outputs": [
        {
          "output_type": "stream",
          "name": "stdout",
          "text": [
            "Max_depth: 4\n",
            "Max_depth: 5\n",
            "Max_depth: 6\n",
            "Max_depth: 7\n",
            "Max_depth: 8\n",
            "Max_depth: 9\n",
            "max_depth: 5, n_estimators: 9, max_features: 4 -> precision = 0.992577963108533\n"
          ]
        }
      ],
      "source": [
        "from sklearn.metrics import precision_score\n",
        "\n",
        "optimal_max_depth = 0\n",
        "optimal_n_estimators = 0\n",
        "optimal_max_features = 0\n",
        "optimal_precision = 0\n",
        "for max_depth in range(4,10):\n",
        "  print(f'Max_depth: {max_depth}')\n",
        "  for n_estimators in range(4,10):\n",
        "    for max_features in range(4,10):\n",
        "      precision = []\n",
        "      for i in range(5): # Repeat 5 times to get average\n",
        "        act_train, act_test, fps_train, fps_test = train_test_split(activities, fps, test_size=0.3)\n",
        "        model = RandomForestClassifier(max_depth=max_depth, n_estimators=n_estimators, max_features=max_features)\n",
        "        model.fit(fps_train, act_train)\n",
        "        prediction = model.predict(fps_test)\n",
        "        precision.append(precision_score(act_test, prediction))\n",
        "      mean_precision = np.mean(precision)\n",
        "      if mean_precision > optimal_precision:\n",
        "        optimal_max_depth = max_depth\n",
        "        optimal_n_estimators = n_estimators\n",
        "        optimal_max_features = max_features\n",
        "        optimal_precision = mean_precision\n",
        "print(f'max_depth: {optimal_max_depth}, n_estimators: {optimal_n_estimators}, max_features: {optimal_max_features} -> precision = {optimal_precision}')"
      ]
    },
    {
      "cell_type": "markdown",
      "source": [
        "Now that we have the optimal parameters for a **high precision** model, let's train this model and count the number of TP's and FP's in the test set:"
      ],
      "metadata": {
        "id": "M0XNZeFhrM-c"
      }
    },
    {
      "cell_type": "code",
      "source": [
        "from sklearn.metrics import confusion_matrix\n",
        "\n",
        "TP = []\n",
        "FP = []\n",
        "FN = []\n",
        "for i in range(10): # Repeat 10 times to get average\n",
        "  act_train, act_test, fps_train, fps_test = train_test_split(activities, fps, test_size=0.3)\n",
        "  precision_model = RandomForestClassifier(max_depth=optimal_max_depth, n_estimators=optimal_n_estimators, max_features=optimal_max_features)\n",
        "\n",
        "  precision_model.fit(fps_train, act_train)\n",
        "  prediction = precision_model.predict(fps_test)\n",
        "\n",
        "  tn, fp, fn, tp = confusion_matrix(act_test, prediction).ravel().tolist()\n",
        "\n",
        "  TP.append(tp)\n",
        "  FP.append(fp)\n",
        "  FN.append(fn)\n",
        "\n",
        "print(f'TP: {np.mean(TP)}')\n",
        "print(f'FP: {np.mean(FP)}')\n",
        "print(f'FN: {np.mean(FN)}')\n"
      ],
      "metadata": {
        "colab": {
          "base_uri": "https://localhost:8080/"
        },
        "id": "EBFkLI9trnku",
        "outputId": "70ddb775-032b-494f-b237-1505e1115dfc"
      },
      "execution_count": 88,
      "outputs": [
        {
          "output_type": "stream",
          "name": "stdout",
          "text": [
            "TP: 492.3\n",
            "FP: 6.1\n",
            "FN: 662.3\n"
          ]
        }
      ]
    },
    {
      "cell_type": "markdown",
      "source": [
        "Let us make a random forest model with a **high recall**:"
      ],
      "metadata": {
        "id": "s3aJiWJptH_4"
      }
    },
    {
      "cell_type": "code",
      "source": [
        "from sklearn.metrics import recall_score\n",
        "\n",
        "optimal_max_depth = 0\n",
        "optimal_n_estimators = 0\n",
        "optimal_max_features = 0\n",
        "optimal_recall = 0\n",
        "for max_depth in range(4,10):\n",
        "  print(f'Max_depth: {max_depth}')\n",
        "  for n_estimators in range(4,10):\n",
        "    for max_features in range(4,10):\n",
        "      recall = []\n",
        "      for i in range(5): # Repeat 5 times to get average\n",
        "        act_train, act_test, fps_train, fps_test = train_test_split(activities, fps, test_size=0.3)\n",
        "        model = RandomForestClassifier(max_depth=max_depth, n_estimators=n_estimators, max_features=max_features)\n",
        "        model.fit(fps_train, act_train)\n",
        "        prediction = model.predict(fps_test)\n",
        "        recall.append(recall_score(act_test, prediction))\n",
        "      mean_recall = np.mean(recall)\n",
        "      if mean_recall > optimal_recall:\n",
        "        optimal_max_depth = max_depth\n",
        "        optimal_n_estimators = n_estimators\n",
        "        optimal_max_features = max_features\n",
        "        optimal_recall = mean_recall\n",
        "print(f'max_depth: {optimal_max_depth}, n_estimators: {optimal_n_estimators}, max_features: {optimal_max_features} -> recall = {optimal_recall}')"
      ],
      "metadata": {
        "colab": {
          "base_uri": "https://localhost:8080/"
        },
        "id": "5NpjDLGgtQL2",
        "outputId": "e3a6ee62-9d0d-4c24-ec05-181fb3387ca4"
      },
      "execution_count": 89,
      "outputs": [
        {
          "output_type": "stream",
          "name": "stdout",
          "text": [
            "Max_depth: 4\n",
            "Max_depth: 5\n",
            "Max_depth: 6\n",
            "Max_depth: 7\n",
            "Max_depth: 8\n",
            "Max_depth: 9\n",
            "max_depth: 9, n_estimators: 9, max_features: 9 -> recall = 0.9060259607680464\n"
          ]
        }
      ]
    },
    {
      "cell_type": "markdown",
      "source": [
        "Now that we have the optimal parameters for a high recall model, let's train this model and count the number of TP's and FP's in the test set:"
      ],
      "metadata": {
        "id": "RNfElz-gvYmg"
      }
    },
    {
      "cell_type": "code",
      "source": [
        "TP = []\n",
        "FP = []\n",
        "FN = []\n",
        "for i in range(10): # Repeat 10 times to get average\n",
        "  act_train, act_test, fps_train, fps_test = train_test_split(activities, fps, test_size=0.3)\n",
        "  recall_model = RandomForestClassifier(max_depth=optimal_max_depth, n_estimators=optimal_n_estimators, max_features=optimal_max_features)\n",
        "\n",
        "  recall_model.fit(fps_train, act_train)\n",
        "  prediction = recall_model.predict(fps_test)\n",
        "\n",
        "  tn, fp, fn, tp = confusion_matrix(act_test, prediction).ravel().tolist()\n",
        "\n",
        "  TP.append(tp)\n",
        "  FP.append(fp)\n",
        "  FN.append(fn)\n",
        "\n",
        "print(f'TP: {np.mean(TP)}')\n",
        "print(f'FP: {np.mean(FP)}')\n",
        "print(f'FN: {np.mean(FN)}')"
      ],
      "metadata": {
        "colab": {
          "base_uri": "https://localhost:8080/"
        },
        "id": "kvyYYoNYvbHr",
        "outputId": "3b838032-7e62-4f56-9206-967f75bb877f"
      },
      "execution_count": 90,
      "outputs": [
        {
          "output_type": "stream",
          "name": "stdout",
          "text": [
            "TP: 1045.0\n",
            "FP: 17.0\n",
            "FN: 121.0\n"
          ]
        }
      ]
    },
    {
      "cell_type": "markdown",
      "metadata": {
        "id": "AmKFZf9ieCFi"
      },
      "source": [
        "Apply this model on a database of 100k compounds and search for DPP4 actives:"
      ]
    },
    {
      "cell_type": "code",
      "execution_count": 91,
      "metadata": {
        "id": "cLmzOYOheFNa",
        "colab": {
          "base_uri": "https://localhost:8080/"
        },
        "outputId": "e7f05ca1-ad65-4c8d-d774-74826b26db89"
      },
      "outputs": [
        {
          "output_type": "stream",
          "name": "stdout",
          "text": [
            "COc1cccc(-n2c(-c3cccs3)cn3c4c(=O)n(C)c(=O)n(C)c4nc23)c1\n"
          ]
        }
      ],
      "source": [
        "url = \"https://raw.githubusercontent.com/UAMCAntwerpen/2040FBDBIC/master/Topic_02/Compounds_100k.smi\"\n",
        "data = requests.get(url).text.split(\"\\n\")\n",
        "print(data[0])"
      ]
    },
    {
      "cell_type": "markdown",
      "metadata": {
        "id": "I6KYnExSeQk1"
      },
      "source": [
        "Calculate fingerprints:"
      ]
    },
    {
      "cell_type": "code",
      "execution_count": 92,
      "metadata": {
        "id": "kyk7yTkJeItg"
      },
      "outputs": [],
      "source": [
        "db_fps = []\n",
        "for d in data:\n",
        "  if d == \"\" or d is None: continue\n",
        "  mol = Chem.MolFromSmiles(d)\n",
        "  fp = np.zeros((0,), dtype=np.int8)\n",
        "  DataStructs.ConvertToNumpyArray(Chem.RDKFingerprint(mol), fp)\n",
        "  db_fps.append(fp)"
      ]
    },
    {
      "cell_type": "markdown",
      "metadata": {
        "id": "zLnf37bCeTN7"
      },
      "source": [
        "Apply the RF on the database and extract those that are predicted to be active:"
      ]
    },
    {
      "cell_type": "code",
      "execution_count": 93,
      "metadata": {
        "id": "m_DnrZT-eWl-",
        "colab": {
          "base_uri": "https://localhost:8080/"
        },
        "outputId": "714dbd67-1b96-47d3-d4af-08b9252d2194"
      },
      "outputs": [
        {
          "output_type": "stream",
          "name": "stdout",
          "text": [
            "517 517\n"
          ]
        }
      ],
      "source": [
        "prediction = recall_model.predict(db_fps)\n",
        "hits_smiles = []\n",
        "hits_fps = []\n",
        "for i in range(len(prediction)):\n",
        "  if prediction[i] == 1:\n",
        "    hits_smiles.append(data[i])\n",
        "    hits_fps.append(db_fps[i])\n",
        "print(len(hits_smiles), len(hits_fps))"
      ]
    },
    {
      "cell_type": "markdown",
      "metadata": {
        "id": "rwkL-bCpecO1"
      },
      "source": [
        "Score the identified hits with the pIC50 neural network model:"
      ]
    },
    {
      "cell_type": "code",
      "execution_count": 39,
      "metadata": {
        "id": "0sXoX958efq_"
      },
      "outputs": [],
      "source": [
        "hits_pic50 = pic50_predictor.predict(hits_fps)"
      ]
    },
    {
      "cell_type": "markdown",
      "metadata": {
        "id": "3tHLWpkPeisF"
      },
      "source": [
        "Identify the compound with the highest pIC50 and show structure:"
      ]
    },
    {
      "cell_type": "code",
      "execution_count": 40,
      "metadata": {
        "id": "YnxF_Uptej1m",
        "colab": {
          "base_uri": "https://localhost:8080/",
          "height": 205
        },
        "outputId": "d4cf94c6-fb74-46f2-819c-5170f42f75f2"
      },
      "outputs": [
        {
          "output_type": "stream",
          "name": "stdout",
          "text": [
            "9.49130962727499\n",
            "CN(C)c1ccc([C@@H]2[C@@H](C(=O)c3ccccc3)N3N=Cc4ccccc4C3[C@H]2[N+](=O)[O-])cc1\n"
          ]
        },
        {
          "output_type": "execute_result",
          "data": {
            "text/plain": [
              "<rdkit.Chem.rdchem.Mol at 0x7f0cb6ea2ea0>"
            ],
            "text/html": [
              "<?xml version='1.0' encoding='iso-8859-1'?>\n",
              "<svg version='1.1' baseProfile='full'\n",
              "              xmlns='http://www.w3.org/2000/svg'\n",
              "                      xmlns:rdkit='http://www.rdkit.org/xml'\n",
              "                      xmlns:xlink='http://www.w3.org/1999/xlink'\n",
              "                  xml:space='preserve'\n",
              "width='450px' height='150px' viewBox='0 0 450 150'>\n",
              "<!-- END OF HEADER -->\n",
              "<rect style='opacity:1.0;fill:#FFFFFF;stroke:none' width='450.0' height='150.0' x='0.0' y='0.0'> </rect>\n",
              "<path class='bond-0 atom-0 atom-1' d='M 271.6,7.5 L 273.1,13.4' style='fill:none;fill-rule:evenodd;stroke:#000000;stroke-width:2.0px;stroke-linecap:butt;stroke-linejoin:miter;stroke-opacity:1' />\n",
              "<path class='bond-0 atom-0 atom-1' d='M 273.1,13.4 L 274.7,19.3' style='fill:none;fill-rule:evenodd;stroke:#0000FF;stroke-width:2.0px;stroke-linecap:butt;stroke-linejoin:miter;stroke-opacity:1' />\n",
              "<path class='bond-1 atom-1 atom-2' d='M 279.0,24.2 L 285.3,25.9' style='fill:none;fill-rule:evenodd;stroke:#0000FF;stroke-width:2.0px;stroke-linecap:butt;stroke-linejoin:miter;stroke-opacity:1' />\n",
              "<path class='bond-1 atom-1 atom-2' d='M 285.3,25.9 L 291.7,27.6' style='fill:none;fill-rule:evenodd;stroke:#000000;stroke-width:2.0px;stroke-linecap:butt;stroke-linejoin:miter;stroke-opacity:1' />\n",
              "<path class='bond-2 atom-1 atom-3' d='M 272.6,26.5 L 268.4,30.7' style='fill:none;fill-rule:evenodd;stroke:#0000FF;stroke-width:2.0px;stroke-linecap:butt;stroke-linejoin:miter;stroke-opacity:1' />\n",
              "<path class='bond-2 atom-1 atom-3' d='M 268.4,30.7 L 264.2,34.9' style='fill:none;fill-rule:evenodd;stroke:#000000;stroke-width:2.0px;stroke-linecap:butt;stroke-linejoin:miter;stroke-opacity:1' />\n",
              "<path class='bond-3 atom-3 atom-4' d='M 264.2,34.9 L 248.4,30.7' style='fill:none;fill-rule:evenodd;stroke:#000000;stroke-width:2.0px;stroke-linecap:butt;stroke-linejoin:miter;stroke-opacity:1' />\n",
              "<path class='bond-3 atom-3 atom-4' d='M 262.2,37.0 L 249.1,33.5' style='fill:none;fill-rule:evenodd;stroke:#000000;stroke-width:2.0px;stroke-linecap:butt;stroke-linejoin:miter;stroke-opacity:1' />\n",
              "<path class='bond-4 atom-4 atom-5' d='M 248.4,30.7 L 236.8,42.3' style='fill:none;fill-rule:evenodd;stroke:#000000;stroke-width:2.0px;stroke-linecap:butt;stroke-linejoin:miter;stroke-opacity:1' />\n",
              "<path class='bond-5 atom-5 atom-6' d='M 236.8,42.3 L 241.1,58.2' style='fill:none;fill-rule:evenodd;stroke:#000000;stroke-width:2.0px;stroke-linecap:butt;stroke-linejoin:miter;stroke-opacity:1' />\n",
              "<path class='bond-5 atom-5 atom-6' d='M 239.5,43.1 L 243.1,56.1' style='fill:none;fill-rule:evenodd;stroke:#000000;stroke-width:2.0px;stroke-linecap:butt;stroke-linejoin:miter;stroke-opacity:1' />\n",
              "<path class='bond-6 atom-7 atom-6' d='M 232.0,67.7 L 231.6,67.2' style='fill:none;fill-rule:evenodd;stroke:#000000;stroke-width:1.0px;stroke-linecap:butt;stroke-linejoin:miter;stroke-opacity:1' />\n",
              "<path class='bond-6 atom-7 atom-6' d='M 234.5,65.6 L 233.7,64.7' style='fill:none;fill-rule:evenodd;stroke:#000000;stroke-width:1.0px;stroke-linecap:butt;stroke-linejoin:miter;stroke-opacity:1' />\n",
              "<path class='bond-6 atom-7 atom-6' d='M 237.1,63.5 L 235.8,62.2' style='fill:none;fill-rule:evenodd;stroke:#000000;stroke-width:1.0px;stroke-linecap:butt;stroke-linejoin:miter;stroke-opacity:1' />\n",
              "<path class='bond-6 atom-7 atom-6' d='M 239.6,61.4 L 237.9,59.6' style='fill:none;fill-rule:evenodd;stroke:#000000;stroke-width:1.0px;stroke-linecap:butt;stroke-linejoin:miter;stroke-opacity:1' />\n",
              "<path class='bond-7 atom-7 atom-8' d='M 229.5,69.8 L 232.1,86.0' style='fill:none;fill-rule:evenodd;stroke:#000000;stroke-width:2.0px;stroke-linecap:butt;stroke-linejoin:miter;stroke-opacity:1' />\n",
              "<path class='bond-8 atom-8 atom-9' d='M 232.1,86.0 L 246.6,92.0 L 246.8,94.9 Z' style='fill:#000000;fill-rule:evenodd;fill-opacity:1;stroke:#000000;stroke-width:0.5px;stroke-linecap:butt;stroke-linejoin:miter;stroke-miterlimit:10;stroke-opacity:1;' />\n",
              "<path class='bond-9 atom-9 atom-10' d='M 246.8,94.8 L 252.1,91.3' style='fill:none;fill-rule:evenodd;stroke:#000000;stroke-width:2.0px;stroke-linecap:butt;stroke-linejoin:miter;stroke-opacity:1' />\n",
              "<path class='bond-9 atom-9 atom-10' d='M 252.1,91.3 L 257.4,87.9' style='fill:none;fill-rule:evenodd;stroke:#FF0000;stroke-width:2.0px;stroke-linecap:butt;stroke-linejoin:miter;stroke-opacity:1' />\n",
              "<path class='bond-9 atom-9 atom-10' d='M 245.4,92.7 L 250.7,89.3' style='fill:none;fill-rule:evenodd;stroke:#000000;stroke-width:2.0px;stroke-linecap:butt;stroke-linejoin:miter;stroke-opacity:1' />\n",
              "<path class='bond-9 atom-9 atom-10' d='M 250.7,89.3 L 256.0,85.8' style='fill:none;fill-rule:evenodd;stroke:#FF0000;stroke-width:2.0px;stroke-linecap:butt;stroke-linejoin:miter;stroke-opacity:1' />\n",
              "<path class='bond-10 atom-9 atom-11' d='M 246.7,93.4 L 247.6,109.8' style='fill:none;fill-rule:evenodd;stroke:#000000;stroke-width:2.0px;stroke-linecap:butt;stroke-linejoin:miter;stroke-opacity:1' />\n",
              "<path class='bond-11 atom-11 atom-12' d='M 247.6,109.8 L 262.2,117.2' style='fill:none;fill-rule:evenodd;stroke:#000000;stroke-width:2.0px;stroke-linecap:butt;stroke-linejoin:miter;stroke-opacity:1' />\n",
              "<path class='bond-11 atom-11 atom-12' d='M 247.7,112.6 L 259.8,118.7' style='fill:none;fill-rule:evenodd;stroke:#000000;stroke-width:2.0px;stroke-linecap:butt;stroke-linejoin:miter;stroke-opacity:1' />\n",
              "<path class='bond-12 atom-12 atom-13' d='M 262.2,117.2 L 263.1,133.6' style='fill:none;fill-rule:evenodd;stroke:#000000;stroke-width:2.0px;stroke-linecap:butt;stroke-linejoin:miter;stroke-opacity:1' />\n",
              "<path class='bond-13 atom-13 atom-14' d='M 263.1,133.6 L 249.3,142.5' style='fill:none;fill-rule:evenodd;stroke:#000000;stroke-width:2.0px;stroke-linecap:butt;stroke-linejoin:miter;stroke-opacity:1' />\n",
              "<path class='bond-13 atom-13 atom-14' d='M 260.5,132.3 L 249.2,139.7' style='fill:none;fill-rule:evenodd;stroke:#000000;stroke-width:2.0px;stroke-linecap:butt;stroke-linejoin:miter;stroke-opacity:1' />\n",
              "<path class='bond-14 atom-14 atom-15' d='M 249.3,142.5 L 234.7,135.1' style='fill:none;fill-rule:evenodd;stroke:#000000;stroke-width:2.0px;stroke-linecap:butt;stroke-linejoin:miter;stroke-opacity:1' />\n",
              "<path class='bond-15 atom-15 atom-16' d='M 234.7,135.1 L 233.8,118.7' style='fill:none;fill-rule:evenodd;stroke:#000000;stroke-width:2.0px;stroke-linecap:butt;stroke-linejoin:miter;stroke-opacity:1' />\n",
              "<path class='bond-15 atom-15 atom-16' d='M 237.1,133.5 L 236.3,120.0' style='fill:none;fill-rule:evenodd;stroke:#000000;stroke-width:2.0px;stroke-linecap:butt;stroke-linejoin:miter;stroke-opacity:1' />\n",
              "<path class='bond-16 atom-8 atom-17' d='M 232.1,86.0 L 226.4,88.9' style='fill:none;fill-rule:evenodd;stroke:#000000;stroke-width:2.0px;stroke-linecap:butt;stroke-linejoin:miter;stroke-opacity:1' />\n",
              "<path class='bond-16 atom-8 atom-17' d='M 226.4,88.9 L 220.6,91.8' style='fill:none;fill-rule:evenodd;stroke:#0000FF;stroke-width:2.0px;stroke-linecap:butt;stroke-linejoin:miter;stroke-opacity:1' />\n",
              "<path class='bond-17 atom-17 atom-18' d='M 216.4,97.4 L 214.3,105.2' style='fill:none;fill-rule:evenodd;stroke:#0000FF;stroke-width:2.0px;stroke-linecap:butt;stroke-linejoin:miter;stroke-opacity:1' />\n",
              "<path class='bond-18 atom-18 atom-19' d='M 210.0,110.1 L 203.7,111.8' style='fill:none;fill-rule:evenodd;stroke:#0000FF;stroke-width:2.0px;stroke-linecap:butt;stroke-linejoin:miter;stroke-opacity:1' />\n",
              "<path class='bond-18 atom-18 atom-19' d='M 203.7,111.8 L 197.4,113.5' style='fill:none;fill-rule:evenodd;stroke:#000000;stroke-width:2.0px;stroke-linecap:butt;stroke-linejoin:miter;stroke-opacity:1' />\n",
              "<path class='bond-18 atom-18 atom-19' d='M 209.4,107.7 L 203.8,109.3' style='fill:none;fill-rule:evenodd;stroke:#0000FF;stroke-width:2.0px;stroke-linecap:butt;stroke-linejoin:miter;stroke-opacity:1' />\n",
              "<path class='bond-18 atom-18 atom-19' d='M 203.8,109.3 L 198.1,110.8' style='fill:none;fill-rule:evenodd;stroke:#000000;stroke-width:2.0px;stroke-linecap:butt;stroke-linejoin:miter;stroke-opacity:1' />\n",
              "<path class='bond-19 atom-19 atom-20' d='M 197.4,113.5 L 185.8,101.9' style='fill:none;fill-rule:evenodd;stroke:#000000;stroke-width:2.0px;stroke-linecap:butt;stroke-linejoin:miter;stroke-opacity:1' />\n",
              "<path class='bond-20 atom-20 atom-21' d='M 185.8,101.9 L 170.0,106.2' style='fill:none;fill-rule:evenodd;stroke:#000000;stroke-width:2.0px;stroke-linecap:butt;stroke-linejoin:miter;stroke-opacity:1' />\n",
              "<path class='bond-20 atom-20 atom-21' d='M 183.8,99.9 L 170.7,103.4' style='fill:none;fill-rule:evenodd;stroke:#000000;stroke-width:2.0px;stroke-linecap:butt;stroke-linejoin:miter;stroke-opacity:1' />\n",
              "<path class='bond-21 atom-21 atom-22' d='M 170.0,106.2 L 158.3,94.6' style='fill:none;fill-rule:evenodd;stroke:#000000;stroke-width:2.0px;stroke-linecap:butt;stroke-linejoin:miter;stroke-opacity:1' />\n",
              "<path class='bond-22 atom-22 atom-23' d='M 158.3,94.6 L 162.6,78.8' style='fill:none;fill-rule:evenodd;stroke:#000000;stroke-width:2.0px;stroke-linecap:butt;stroke-linejoin:miter;stroke-opacity:1' />\n",
              "<path class='bond-22 atom-22 atom-23' d='M 161.1,93.9 L 164.6,80.8' style='fill:none;fill-rule:evenodd;stroke:#000000;stroke-width:2.0px;stroke-linecap:butt;stroke-linejoin:miter;stroke-opacity:1' />\n",
              "<path class='bond-23 atom-23 atom-24' d='M 162.6,78.8 L 178.4,74.5' style='fill:none;fill-rule:evenodd;stroke:#000000;stroke-width:2.0px;stroke-linecap:butt;stroke-linejoin:miter;stroke-opacity:1' />\n",
              "<path class='bond-24 atom-24 atom-25' d='M 178.4,74.5 L 190.0,86.1' style='fill:none;fill-rule:evenodd;stroke:#000000;stroke-width:2.0px;stroke-linecap:butt;stroke-linejoin:miter;stroke-opacity:1' />\n",
              "<path class='bond-24 atom-24 atom-25' d='M 177.7,77.2 L 187.3,86.8' style='fill:none;fill-rule:evenodd;stroke:#000000;stroke-width:2.0px;stroke-linecap:butt;stroke-linejoin:miter;stroke-opacity:1' />\n",
              "<path class='bond-25 atom-25 atom-26' d='M 190.0,86.1 L 205.9,81.8' style='fill:none;fill-rule:evenodd;stroke:#000000;stroke-width:2.0px;stroke-linecap:butt;stroke-linejoin:miter;stroke-opacity:1' />\n",
              "<path class='bond-26 atom-26 atom-27' d='M 205.9,81.8 L 213.3,67.2' style='fill:none;fill-rule:evenodd;stroke:#000000;stroke-width:2.0px;stroke-linecap:butt;stroke-linejoin:miter;stroke-opacity:1' />\n",
              "<path class='bond-27 atom-27 atom-28' d='M 213.3,67.2 L 210.2,62.5 L 211.3,61.9 Z' style='fill:#000000;fill-rule:evenodd;fill-opacity:1;stroke:#000000;stroke-width:0.5px;stroke-linecap:butt;stroke-linejoin:miter;stroke-miterlimit:10;stroke-opacity:1;' />\n",
              "<path class='bond-27 atom-27 atom-28' d='M 210.2,62.5 L 209.3,56.6 L 207.1,57.7 Z' style='fill:#0000FF;fill-rule:evenodd;fill-opacity:1;stroke:#0000FF;stroke-width:0.5px;stroke-linecap:butt;stroke-linejoin:miter;stroke-miterlimit:10;stroke-opacity:1;' />\n",
              "<path class='bond-27 atom-27 atom-28' d='M 210.2,62.5 L 211.3,61.9 L 209.3,56.6 Z' style='fill:#0000FF;fill-rule:evenodd;fill-opacity:1;stroke:#0000FF;stroke-width:0.5px;stroke-linecap:butt;stroke-linejoin:miter;stroke-miterlimit:10;stroke-opacity:1;' />\n",
              "<path class='bond-28 atom-28 atom-29' d='M 209.5,49.2 L 211.3,46.5' style='fill:none;fill-rule:evenodd;stroke:#0000FF;stroke-width:2.0px;stroke-linecap:butt;stroke-linejoin:miter;stroke-opacity:1' />\n",
              "<path class='bond-28 atom-28 atom-29' d='M 211.3,46.5 L 213.1,43.7' style='fill:none;fill-rule:evenodd;stroke:#FF0000;stroke-width:2.0px;stroke-linecap:butt;stroke-linejoin:miter;stroke-opacity:1' />\n",
              "<path class='bond-28 atom-28 atom-29' d='M 207.4,47.9 L 209.2,45.1' style='fill:none;fill-rule:evenodd;stroke:#0000FF;stroke-width:2.0px;stroke-linecap:butt;stroke-linejoin:miter;stroke-opacity:1' />\n",
              "<path class='bond-28 atom-28 atom-29' d='M 209.2,45.1 L 211.0,42.3' style='fill:none;fill-rule:evenodd;stroke:#FF0000;stroke-width:2.0px;stroke-linecap:butt;stroke-linejoin:miter;stroke-opacity:1' />\n",
              "<path class='bond-29 atom-28 atom-30' d='M 202.6,52.4 L 197.9,52.2' style='fill:none;fill-rule:evenodd;stroke:#0000FF;stroke-width:2.0px;stroke-linecap:butt;stroke-linejoin:miter;stroke-opacity:1' />\n",
              "<path class='bond-29 atom-28 atom-30' d='M 197.9,52.2 L 193.2,52.0' style='fill:none;fill-rule:evenodd;stroke:#FF0000;stroke-width:2.0px;stroke-linecap:butt;stroke-linejoin:miter;stroke-opacity:1' />\n",
              "<path class='bond-30 atom-6 atom-31' d='M 241.1,58.2 L 256.9,62.4' style='fill:none;fill-rule:evenodd;stroke:#000000;stroke-width:2.0px;stroke-linecap:butt;stroke-linejoin:miter;stroke-opacity:1' />\n",
              "<path class='bond-31 atom-31 atom-32' d='M 256.9,62.4 L 268.5,50.8' style='fill:none;fill-rule:evenodd;stroke:#000000;stroke-width:2.0px;stroke-linecap:butt;stroke-linejoin:miter;stroke-opacity:1' />\n",
              "<path class='bond-31 atom-31 atom-32' d='M 256.2,59.6 L 265.7,50.0' style='fill:none;fill-rule:evenodd;stroke:#000000;stroke-width:2.0px;stroke-linecap:butt;stroke-linejoin:miter;stroke-opacity:1' />\n",
              "<path class='bond-32 atom-32 atom-3' d='M 268.5,50.8 L 264.2,34.9' style='fill:none;fill-rule:evenodd;stroke:#000000;stroke-width:2.0px;stroke-linecap:butt;stroke-linejoin:miter;stroke-opacity:1' />\n",
              "<path class='bond-33 atom-27 atom-7' d='M 213.3,67.2 L 229.5,69.8' style='fill:none;fill-rule:evenodd;stroke:#000000;stroke-width:2.0px;stroke-linecap:butt;stroke-linejoin:miter;stroke-opacity:1' />\n",
              "<path class='bond-34 atom-16 atom-11' d='M 233.8,118.7 L 247.6,109.8' style='fill:none;fill-rule:evenodd;stroke:#000000;stroke-width:2.0px;stroke-linecap:butt;stroke-linejoin:miter;stroke-opacity:1' />\n",
              "<path class='bond-35 atom-26 atom-17' d='M 205.9,81.8 L 210.1,86.0' style='fill:none;fill-rule:evenodd;stroke:#000000;stroke-width:2.0px;stroke-linecap:butt;stroke-linejoin:miter;stroke-opacity:1' />\n",
              "<path class='bond-35 atom-26 atom-17' d='M 210.1,86.0 L 214.3,90.2' style='fill:none;fill-rule:evenodd;stroke:#0000FF;stroke-width:2.0px;stroke-linecap:butt;stroke-linejoin:miter;stroke-opacity:1' />\n",
              "<path class='bond-36 atom-25 atom-20' d='M 190.0,86.1 L 185.8,101.9' style='fill:none;fill-rule:evenodd;stroke:#000000;stroke-width:2.0px;stroke-linecap:butt;stroke-linejoin:miter;stroke-opacity:1' />\n",
              "<path d='M 249.2,30.9 L 248.4,30.7 L 247.8,31.3' style='fill:none;stroke:#000000;stroke-width:2.0px;stroke-linecap:butt;stroke-linejoin:miter;stroke-miterlimit:10;stroke-opacity:1;' />\n",
              "<path d='M 237.4,41.7 L 236.8,42.3 L 237.0,43.1' style='fill:none;stroke:#000000;stroke-width:2.0px;stroke-linecap:butt;stroke-linejoin:miter;stroke-miterlimit:10;stroke-opacity:1;' />\n",
              "<path d='M 240.8,57.4 L 241.1,58.2 L 241.9,58.4' style='fill:none;stroke:#000000;stroke-width:2.0px;stroke-linecap:butt;stroke-linejoin:miter;stroke-miterlimit:10;stroke-opacity:1;' />\n",
              "<path d='M 229.6,70.6 L 229.5,69.8 L 228.7,69.6' style='fill:none;stroke:#000000;stroke-width:2.0px;stroke-linecap:butt;stroke-linejoin:miter;stroke-miterlimit:10;stroke-opacity:1;' />\n",
              "<path d='M 231.9,85.1 L 232.1,86.0 L 231.8,86.1' style='fill:none;stroke:#000000;stroke-width:2.0px;stroke-linecap:butt;stroke-linejoin:miter;stroke-miterlimit:10;stroke-opacity:1;' />\n",
              "<path d='M 261.4,116.8 L 262.2,117.2 L 262.2,118.0' style='fill:none;stroke:#000000;stroke-width:2.0px;stroke-linecap:butt;stroke-linejoin:miter;stroke-miterlimit:10;stroke-opacity:1;' />\n",
              "<path d='M 263.0,132.7 L 263.1,133.6 L 262.4,134.0' style='fill:none;stroke:#000000;stroke-width:2.0px;stroke-linecap:butt;stroke-linejoin:miter;stroke-miterlimit:10;stroke-opacity:1;' />\n",
              "<path d='M 250.0,142.1 L 249.3,142.5 L 248.6,142.1' style='fill:none;stroke:#000000;stroke-width:2.0px;stroke-linecap:butt;stroke-linejoin:miter;stroke-miterlimit:10;stroke-opacity:1;' />\n",
              "<path d='M 235.4,135.4 L 234.7,135.1 L 234.7,134.3' style='fill:none;stroke:#000000;stroke-width:2.0px;stroke-linecap:butt;stroke-linejoin:miter;stroke-miterlimit:10;stroke-opacity:1;' />\n",
              "<path d='M 233.9,119.5 L 233.8,118.7 L 234.5,118.2' style='fill:none;stroke:#000000;stroke-width:2.0px;stroke-linecap:butt;stroke-linejoin:miter;stroke-miterlimit:10;stroke-opacity:1;' />\n",
              "<path d='M 197.7,113.4 L 197.4,113.5 L 196.8,112.9' style='fill:none;stroke:#000000;stroke-width:2.0px;stroke-linecap:butt;stroke-linejoin:miter;stroke-miterlimit:10;stroke-opacity:1;' />\n",
              "<path d='M 170.7,106.0 L 170.0,106.2 L 169.4,105.6' style='fill:none;stroke:#000000;stroke-width:2.0px;stroke-linecap:butt;stroke-linejoin:miter;stroke-miterlimit:10;stroke-opacity:1;' />\n",
              "<path d='M 158.9,95.2 L 158.3,94.6 L 158.6,93.8' style='fill:none;stroke:#000000;stroke-width:2.0px;stroke-linecap:butt;stroke-linejoin:miter;stroke-miterlimit:10;stroke-opacity:1;' />\n",
              "<path d='M 162.4,79.6 L 162.6,78.8 L 163.4,78.5' style='fill:none;stroke:#000000;stroke-width:2.0px;stroke-linecap:butt;stroke-linejoin:miter;stroke-miterlimit:10;stroke-opacity:1;' />\n",
              "<path d='M 177.6,74.7 L 178.4,74.5 L 179.0,75.1' style='fill:none;stroke:#000000;stroke-width:2.0px;stroke-linecap:butt;stroke-linejoin:miter;stroke-miterlimit:10;stroke-opacity:1;' />\n",
              "<path d='M 212.9,67.9 L 213.3,67.2 L 214.1,67.3' style='fill:none;stroke:#000000;stroke-width:2.0px;stroke-linecap:butt;stroke-linejoin:miter;stroke-miterlimit:10;stroke-opacity:1;' />\n",
              "<path d='M 256.1,62.2 L 256.9,62.4 L 257.5,61.8' style='fill:none;stroke:#000000;stroke-width:2.0px;stroke-linecap:butt;stroke-linejoin:miter;stroke-miterlimit:10;stroke-opacity:1;' />\n",
              "<path d='M 267.9,51.4 L 268.5,50.8 L 268.3,50.0' style='fill:none;stroke:#000000;stroke-width:2.0px;stroke-linecap:butt;stroke-linejoin:miter;stroke-miterlimit:10;stroke-opacity:1;' />\n",
              "<path class='atom-1' d='M 274.3 19.9\n",
              "L 276.6 23.5\n",
              "Q 276.8 23.9, 277.1 24.6\n",
              "Q 277.5 25.2, 277.5 25.3\n",
              "L 277.5 19.9\n",
              "L 278.5 19.9\n",
              "L 278.5 26.8\n",
              "L 277.5 26.8\n",
              "L 275.0 22.8\n",
              "Q 274.8 22.3, 274.5 21.8\n",
              "Q 274.2 21.2, 274.1 21.1\n",
              "L 274.1 26.8\n",
              "L 273.2 26.8\n",
              "L 273.2 19.9\n",
              "L 274.3 19.9\n",
              "' fill='#0000FF'/>\n",
              "<path class='atom-10' d='M 257.2 84.5\n",
              "Q 257.2 82.8, 258.1 81.8\n",
              "Q 258.9 80.9, 260.4 80.9\n",
              "Q 262.0 80.9, 262.8 81.8\n",
              "Q 263.6 82.8, 263.6 84.5\n",
              "Q 263.6 86.1, 262.8 87.1\n",
              "Q 261.9 88.1, 260.4 88.1\n",
              "Q 258.9 88.1, 258.1 87.1\n",
              "Q 257.2 86.2, 257.2 84.5\n",
              "M 260.4 87.3\n",
              "Q 261.5 87.3, 262.1 86.6\n",
              "Q 262.6 85.8, 262.6 84.5\n",
              "Q 262.6 83.1, 262.1 82.4\n",
              "Q 261.5 81.7, 260.4 81.7\n",
              "Q 259.4 81.7, 258.8 82.4\n",
              "Q 258.2 83.1, 258.2 84.5\n",
              "Q 258.2 85.9, 258.8 86.6\n",
              "Q 259.4 87.3, 260.4 87.3\n",
              "' fill='#FF0000'/>\n",
              "<path class='atom-17' d='M 215.9 89.9\n",
              "L 218.2 93.6\n",
              "Q 218.4 94.0, 218.8 94.6\n",
              "Q 219.2 95.3, 219.2 95.3\n",
              "L 219.2 89.9\n",
              "L 220.1 89.9\n",
              "L 220.1 96.9\n",
              "L 219.1 96.9\n",
              "L 216.7 92.9\n",
              "Q 216.4 92.4, 216.1 91.8\n",
              "Q 215.8 91.3, 215.7 91.1\n",
              "L 215.7 96.9\n",
              "L 214.8 96.9\n",
              "L 214.8 89.9\n",
              "L 215.9 89.9\n",
              "' fill='#0000FF'/>\n",
              "<path class='atom-18' d='M 211.7 105.8\n",
              "L 214.0 109.5\n",
              "Q 214.2 109.8, 214.6 110.5\n",
              "Q 214.9 111.1, 214.9 111.2\n",
              "L 214.9 105.8\n",
              "L 215.9 105.8\n",
              "L 215.9 112.7\n",
              "L 214.9 112.7\n",
              "L 212.5 108.7\n",
              "Q 212.2 108.2, 211.9 107.7\n",
              "Q 211.6 107.1, 211.5 107.0\n",
              "L 211.5 112.7\n",
              "L 210.6 112.7\n",
              "L 210.6 105.8\n",
              "L 211.7 105.8\n",
              "' fill='#0000FF'/>\n",
              "<path class='atom-28' d='M 204.3 49.1\n",
              "L 206.6 52.8\n",
              "Q 206.8 53.2, 207.2 53.8\n",
              "Q 207.5 54.5, 207.5 54.5\n",
              "L 207.5 49.1\n",
              "L 208.5 49.1\n",
              "L 208.5 56.1\n",
              "L 207.5 56.1\n",
              "L 205.1 52.1\n",
              "Q 204.8 51.6, 204.5 51.0\n",
              "Q 204.2 50.5, 204.1 50.3\n",
              "L 204.1 56.1\n",
              "L 203.2 56.1\n",
              "L 203.2 49.1\n",
              "L 204.3 49.1\n",
              "' fill='#0000FF'/>\n",
              "<path class='atom-28' d='M 209.8 50.4\n",
              "L 211.0 50.4\n",
              "L 211.0 49.1\n",
              "L 211.5 49.1\n",
              "L 211.5 50.4\n",
              "L 212.8 50.4\n",
              "L 212.8 50.8\n",
              "L 211.5 50.8\n",
              "L 211.5 52.1\n",
              "L 211.0 52.1\n",
              "L 211.0 50.8\n",
              "L 209.8 50.8\n",
              "L 209.8 50.4\n",
              "' fill='#0000FF'/>\n",
              "<path class='atom-29' d='M 211.5 38.9\n",
              "Q 211.5 37.2, 212.4 36.3\n",
              "Q 213.2 35.3, 214.7 35.3\n",
              "Q 216.3 35.3, 217.1 36.3\n",
              "Q 217.9 37.2, 217.9 38.9\n",
              "Q 217.9 40.6, 217.1 41.5\n",
              "Q 216.3 42.5, 214.7 42.5\n",
              "Q 213.2 42.5, 212.4 41.5\n",
              "Q 211.5 40.6, 211.5 38.9\n",
              "M 214.7 41.7\n",
              "Q 215.8 41.7, 216.4 41.0\n",
              "Q 217.0 40.3, 217.0 38.9\n",
              "Q 217.0 37.5, 216.4 36.8\n",
              "Q 215.8 36.1, 214.7 36.1\n",
              "Q 213.7 36.1, 213.1 36.8\n",
              "Q 212.5 37.5, 212.5 38.9\n",
              "Q 212.5 40.3, 213.1 41.0\n",
              "Q 213.7 41.7, 214.7 41.7\n",
              "' fill='#FF0000'/>\n",
              "<path class='atom-30' d='M 186.3 51.8\n",
              "Q 186.3 50.1, 187.1 49.2\n",
              "Q 187.9 48.2, 189.4 48.2\n",
              "Q 191.0 48.2, 191.8 49.2\n",
              "Q 192.6 50.1, 192.6 51.8\n",
              "Q 192.6 53.5, 191.8 54.4\n",
              "Q 191.0 55.4, 189.4 55.4\n",
              "Q 187.9 55.4, 187.1 54.4\n",
              "Q 186.3 53.5, 186.3 51.8\n",
              "M 189.4 54.6\n",
              "Q 190.5 54.6, 191.1 53.9\n",
              "Q 191.7 53.2, 191.7 51.8\n",
              "Q 191.7 50.4, 191.1 49.7\n",
              "Q 190.5 49.0, 189.4 49.0\n",
              "Q 188.4 49.0, 187.8 49.7\n",
              "Q 187.2 50.4, 187.2 51.8\n",
              "Q 187.2 53.2, 187.8 53.9\n",
              "Q 188.4 54.6, 189.4 54.6\n",
              "' fill='#FF0000'/>\n",
              "<path class='atom-30' d='M 193.6 49.4\n",
              "L 196.0 49.4\n",
              "L 196.0 49.9\n",
              "L 193.6 49.9\n",
              "L 193.6 49.4\n",
              "' fill='#FF0000'/>\n",
              "</svg>\n"
            ],
            "image/svg+xml": "<?xml version='1.0' encoding='iso-8859-1'?>\n<svg version='1.1' baseProfile='full'\n              xmlns='http://www.w3.org/2000/svg'\n                      xmlns:rdkit='http://www.rdkit.org/xml'\n                      xmlns:xlink='http://www.w3.org/1999/xlink'\n                  xml:space='preserve'\nwidth='450px' height='150px' viewBox='0 0 450 150'>\n<!-- END OF HEADER -->\n<rect style='opacity:1.0;fill:#FFFFFF;stroke:none' width='450.0' height='150.0' x='0.0' y='0.0'> </rect>\n<path class='bond-0 atom-0 atom-1' d='M 271.6,7.5 L 273.1,13.4' style='fill:none;fill-rule:evenodd;stroke:#000000;stroke-width:2.0px;stroke-linecap:butt;stroke-linejoin:miter;stroke-opacity:1' />\n<path class='bond-0 atom-0 atom-1' d='M 273.1,13.4 L 274.7,19.3' style='fill:none;fill-rule:evenodd;stroke:#0000FF;stroke-width:2.0px;stroke-linecap:butt;stroke-linejoin:miter;stroke-opacity:1' />\n<path class='bond-1 atom-1 atom-2' d='M 279.0,24.2 L 285.3,25.9' style='fill:none;fill-rule:evenodd;stroke:#0000FF;stroke-width:2.0px;stroke-linecap:butt;stroke-linejoin:miter;stroke-opacity:1' />\n<path class='bond-1 atom-1 atom-2' d='M 285.3,25.9 L 291.7,27.6' style='fill:none;fill-rule:evenodd;stroke:#000000;stroke-width:2.0px;stroke-linecap:butt;stroke-linejoin:miter;stroke-opacity:1' />\n<path class='bond-2 atom-1 atom-3' d='M 272.6,26.5 L 268.4,30.7' style='fill:none;fill-rule:evenodd;stroke:#0000FF;stroke-width:2.0px;stroke-linecap:butt;stroke-linejoin:miter;stroke-opacity:1' />\n<path class='bond-2 atom-1 atom-3' d='M 268.4,30.7 L 264.2,34.9' style='fill:none;fill-rule:evenodd;stroke:#000000;stroke-width:2.0px;stroke-linecap:butt;stroke-linejoin:miter;stroke-opacity:1' />\n<path class='bond-3 atom-3 atom-4' d='M 264.2,34.9 L 248.4,30.7' style='fill:none;fill-rule:evenodd;stroke:#000000;stroke-width:2.0px;stroke-linecap:butt;stroke-linejoin:miter;stroke-opacity:1' />\n<path class='bond-3 atom-3 atom-4' d='M 262.2,37.0 L 249.1,33.5' style='fill:none;fill-rule:evenodd;stroke:#000000;stroke-width:2.0px;stroke-linecap:butt;stroke-linejoin:miter;stroke-opacity:1' />\n<path class='bond-4 atom-4 atom-5' d='M 248.4,30.7 L 236.8,42.3' style='fill:none;fill-rule:evenodd;stroke:#000000;stroke-width:2.0px;stroke-linecap:butt;stroke-linejoin:miter;stroke-opacity:1' />\n<path class='bond-5 atom-5 atom-6' d='M 236.8,42.3 L 241.1,58.2' style='fill:none;fill-rule:evenodd;stroke:#000000;stroke-width:2.0px;stroke-linecap:butt;stroke-linejoin:miter;stroke-opacity:1' />\n<path class='bond-5 atom-5 atom-6' d='M 239.5,43.1 L 243.1,56.1' style='fill:none;fill-rule:evenodd;stroke:#000000;stroke-width:2.0px;stroke-linecap:butt;stroke-linejoin:miter;stroke-opacity:1' />\n<path class='bond-6 atom-7 atom-6' d='M 232.0,67.7 L 231.6,67.2' style='fill:none;fill-rule:evenodd;stroke:#000000;stroke-width:1.0px;stroke-linecap:butt;stroke-linejoin:miter;stroke-opacity:1' />\n<path class='bond-6 atom-7 atom-6' d='M 234.5,65.6 L 233.7,64.7' style='fill:none;fill-rule:evenodd;stroke:#000000;stroke-width:1.0px;stroke-linecap:butt;stroke-linejoin:miter;stroke-opacity:1' />\n<path class='bond-6 atom-7 atom-6' d='M 237.1,63.5 L 235.8,62.2' style='fill:none;fill-rule:evenodd;stroke:#000000;stroke-width:1.0px;stroke-linecap:butt;stroke-linejoin:miter;stroke-opacity:1' />\n<path class='bond-6 atom-7 atom-6' d='M 239.6,61.4 L 237.9,59.6' style='fill:none;fill-rule:evenodd;stroke:#000000;stroke-width:1.0px;stroke-linecap:butt;stroke-linejoin:miter;stroke-opacity:1' />\n<path class='bond-7 atom-7 atom-8' d='M 229.5,69.8 L 232.1,86.0' style='fill:none;fill-rule:evenodd;stroke:#000000;stroke-width:2.0px;stroke-linecap:butt;stroke-linejoin:miter;stroke-opacity:1' />\n<path class='bond-8 atom-8 atom-9' d='M 232.1,86.0 L 246.6,92.0 L 246.8,94.9 Z' style='fill:#000000;fill-rule:evenodd;fill-opacity:1;stroke:#000000;stroke-width:0.5px;stroke-linecap:butt;stroke-linejoin:miter;stroke-miterlimit:10;stroke-opacity:1;' />\n<path class='bond-9 atom-9 atom-10' d='M 246.8,94.8 L 252.1,91.3' style='fill:none;fill-rule:evenodd;stroke:#000000;stroke-width:2.0px;stroke-linecap:butt;stroke-linejoin:miter;stroke-opacity:1' />\n<path class='bond-9 atom-9 atom-10' d='M 252.1,91.3 L 257.4,87.9' style='fill:none;fill-rule:evenodd;stroke:#FF0000;stroke-width:2.0px;stroke-linecap:butt;stroke-linejoin:miter;stroke-opacity:1' />\n<path class='bond-9 atom-9 atom-10' d='M 245.4,92.7 L 250.7,89.3' style='fill:none;fill-rule:evenodd;stroke:#000000;stroke-width:2.0px;stroke-linecap:butt;stroke-linejoin:miter;stroke-opacity:1' />\n<path class='bond-9 atom-9 atom-10' d='M 250.7,89.3 L 256.0,85.8' style='fill:none;fill-rule:evenodd;stroke:#FF0000;stroke-width:2.0px;stroke-linecap:butt;stroke-linejoin:miter;stroke-opacity:1' />\n<path class='bond-10 atom-9 atom-11' d='M 246.7,93.4 L 247.6,109.8' style='fill:none;fill-rule:evenodd;stroke:#000000;stroke-width:2.0px;stroke-linecap:butt;stroke-linejoin:miter;stroke-opacity:1' />\n<path class='bond-11 atom-11 atom-12' d='M 247.6,109.8 L 262.2,117.2' style='fill:none;fill-rule:evenodd;stroke:#000000;stroke-width:2.0px;stroke-linecap:butt;stroke-linejoin:miter;stroke-opacity:1' />\n<path class='bond-11 atom-11 atom-12' d='M 247.7,112.6 L 259.8,118.7' style='fill:none;fill-rule:evenodd;stroke:#000000;stroke-width:2.0px;stroke-linecap:butt;stroke-linejoin:miter;stroke-opacity:1' />\n<path class='bond-12 atom-12 atom-13' d='M 262.2,117.2 L 263.1,133.6' style='fill:none;fill-rule:evenodd;stroke:#000000;stroke-width:2.0px;stroke-linecap:butt;stroke-linejoin:miter;stroke-opacity:1' />\n<path class='bond-13 atom-13 atom-14' d='M 263.1,133.6 L 249.3,142.5' style='fill:none;fill-rule:evenodd;stroke:#000000;stroke-width:2.0px;stroke-linecap:butt;stroke-linejoin:miter;stroke-opacity:1' />\n<path class='bond-13 atom-13 atom-14' d='M 260.5,132.3 L 249.2,139.7' style='fill:none;fill-rule:evenodd;stroke:#000000;stroke-width:2.0px;stroke-linecap:butt;stroke-linejoin:miter;stroke-opacity:1' />\n<path class='bond-14 atom-14 atom-15' d='M 249.3,142.5 L 234.7,135.1' style='fill:none;fill-rule:evenodd;stroke:#000000;stroke-width:2.0px;stroke-linecap:butt;stroke-linejoin:miter;stroke-opacity:1' />\n<path class='bond-15 atom-15 atom-16' d='M 234.7,135.1 L 233.8,118.7' style='fill:none;fill-rule:evenodd;stroke:#000000;stroke-width:2.0px;stroke-linecap:butt;stroke-linejoin:miter;stroke-opacity:1' />\n<path class='bond-15 atom-15 atom-16' d='M 237.1,133.5 L 236.3,120.0' style='fill:none;fill-rule:evenodd;stroke:#000000;stroke-width:2.0px;stroke-linecap:butt;stroke-linejoin:miter;stroke-opacity:1' />\n<path class='bond-16 atom-8 atom-17' d='M 232.1,86.0 L 226.4,88.9' style='fill:none;fill-rule:evenodd;stroke:#000000;stroke-width:2.0px;stroke-linecap:butt;stroke-linejoin:miter;stroke-opacity:1' />\n<path class='bond-16 atom-8 atom-17' d='M 226.4,88.9 L 220.6,91.8' style='fill:none;fill-rule:evenodd;stroke:#0000FF;stroke-width:2.0px;stroke-linecap:butt;stroke-linejoin:miter;stroke-opacity:1' />\n<path class='bond-17 atom-17 atom-18' d='M 216.4,97.4 L 214.3,105.2' style='fill:none;fill-rule:evenodd;stroke:#0000FF;stroke-width:2.0px;stroke-linecap:butt;stroke-linejoin:miter;stroke-opacity:1' />\n<path class='bond-18 atom-18 atom-19' d='M 210.0,110.1 L 203.7,111.8' style='fill:none;fill-rule:evenodd;stroke:#0000FF;stroke-width:2.0px;stroke-linecap:butt;stroke-linejoin:miter;stroke-opacity:1' />\n<path class='bond-18 atom-18 atom-19' d='M 203.7,111.8 L 197.4,113.5' style='fill:none;fill-rule:evenodd;stroke:#000000;stroke-width:2.0px;stroke-linecap:butt;stroke-linejoin:miter;stroke-opacity:1' />\n<path class='bond-18 atom-18 atom-19' d='M 209.4,107.7 L 203.8,109.3' style='fill:none;fill-rule:evenodd;stroke:#0000FF;stroke-width:2.0px;stroke-linecap:butt;stroke-linejoin:miter;stroke-opacity:1' />\n<path class='bond-18 atom-18 atom-19' d='M 203.8,109.3 L 198.1,110.8' style='fill:none;fill-rule:evenodd;stroke:#000000;stroke-width:2.0px;stroke-linecap:butt;stroke-linejoin:miter;stroke-opacity:1' />\n<path class='bond-19 atom-19 atom-20' d='M 197.4,113.5 L 185.8,101.9' style='fill:none;fill-rule:evenodd;stroke:#000000;stroke-width:2.0px;stroke-linecap:butt;stroke-linejoin:miter;stroke-opacity:1' />\n<path class='bond-20 atom-20 atom-21' d='M 185.8,101.9 L 170.0,106.2' style='fill:none;fill-rule:evenodd;stroke:#000000;stroke-width:2.0px;stroke-linecap:butt;stroke-linejoin:miter;stroke-opacity:1' />\n<path class='bond-20 atom-20 atom-21' d='M 183.8,99.9 L 170.7,103.4' style='fill:none;fill-rule:evenodd;stroke:#000000;stroke-width:2.0px;stroke-linecap:butt;stroke-linejoin:miter;stroke-opacity:1' />\n<path class='bond-21 atom-21 atom-22' d='M 170.0,106.2 L 158.3,94.6' style='fill:none;fill-rule:evenodd;stroke:#000000;stroke-width:2.0px;stroke-linecap:butt;stroke-linejoin:miter;stroke-opacity:1' />\n<path class='bond-22 atom-22 atom-23' d='M 158.3,94.6 L 162.6,78.8' style='fill:none;fill-rule:evenodd;stroke:#000000;stroke-width:2.0px;stroke-linecap:butt;stroke-linejoin:miter;stroke-opacity:1' />\n<path class='bond-22 atom-22 atom-23' d='M 161.1,93.9 L 164.6,80.8' style='fill:none;fill-rule:evenodd;stroke:#000000;stroke-width:2.0px;stroke-linecap:butt;stroke-linejoin:miter;stroke-opacity:1' />\n<path class='bond-23 atom-23 atom-24' d='M 162.6,78.8 L 178.4,74.5' style='fill:none;fill-rule:evenodd;stroke:#000000;stroke-width:2.0px;stroke-linecap:butt;stroke-linejoin:miter;stroke-opacity:1' />\n<path class='bond-24 atom-24 atom-25' d='M 178.4,74.5 L 190.0,86.1' style='fill:none;fill-rule:evenodd;stroke:#000000;stroke-width:2.0px;stroke-linecap:butt;stroke-linejoin:miter;stroke-opacity:1' />\n<path class='bond-24 atom-24 atom-25' d='M 177.7,77.2 L 187.3,86.8' style='fill:none;fill-rule:evenodd;stroke:#000000;stroke-width:2.0px;stroke-linecap:butt;stroke-linejoin:miter;stroke-opacity:1' />\n<path class='bond-25 atom-25 atom-26' d='M 190.0,86.1 L 205.9,81.8' style='fill:none;fill-rule:evenodd;stroke:#000000;stroke-width:2.0px;stroke-linecap:butt;stroke-linejoin:miter;stroke-opacity:1' />\n<path class='bond-26 atom-26 atom-27' d='M 205.9,81.8 L 213.3,67.2' style='fill:none;fill-rule:evenodd;stroke:#000000;stroke-width:2.0px;stroke-linecap:butt;stroke-linejoin:miter;stroke-opacity:1' />\n<path class='bond-27 atom-27 atom-28' d='M 213.3,67.2 L 210.2,62.5 L 211.3,61.9 Z' style='fill:#000000;fill-rule:evenodd;fill-opacity:1;stroke:#000000;stroke-width:0.5px;stroke-linecap:butt;stroke-linejoin:miter;stroke-miterlimit:10;stroke-opacity:1;' />\n<path class='bond-27 atom-27 atom-28' d='M 210.2,62.5 L 209.3,56.6 L 207.1,57.7 Z' style='fill:#0000FF;fill-rule:evenodd;fill-opacity:1;stroke:#0000FF;stroke-width:0.5px;stroke-linecap:butt;stroke-linejoin:miter;stroke-miterlimit:10;stroke-opacity:1;' />\n<path class='bond-27 atom-27 atom-28' d='M 210.2,62.5 L 211.3,61.9 L 209.3,56.6 Z' style='fill:#0000FF;fill-rule:evenodd;fill-opacity:1;stroke:#0000FF;stroke-width:0.5px;stroke-linecap:butt;stroke-linejoin:miter;stroke-miterlimit:10;stroke-opacity:1;' />\n<path class='bond-28 atom-28 atom-29' d='M 209.5,49.2 L 211.3,46.5' style='fill:none;fill-rule:evenodd;stroke:#0000FF;stroke-width:2.0px;stroke-linecap:butt;stroke-linejoin:miter;stroke-opacity:1' />\n<path class='bond-28 atom-28 atom-29' d='M 211.3,46.5 L 213.1,43.7' style='fill:none;fill-rule:evenodd;stroke:#FF0000;stroke-width:2.0px;stroke-linecap:butt;stroke-linejoin:miter;stroke-opacity:1' />\n<path class='bond-28 atom-28 atom-29' d='M 207.4,47.9 L 209.2,45.1' style='fill:none;fill-rule:evenodd;stroke:#0000FF;stroke-width:2.0px;stroke-linecap:butt;stroke-linejoin:miter;stroke-opacity:1' />\n<path class='bond-28 atom-28 atom-29' d='M 209.2,45.1 L 211.0,42.3' style='fill:none;fill-rule:evenodd;stroke:#FF0000;stroke-width:2.0px;stroke-linecap:butt;stroke-linejoin:miter;stroke-opacity:1' />\n<path class='bond-29 atom-28 atom-30' d='M 202.6,52.4 L 197.9,52.2' style='fill:none;fill-rule:evenodd;stroke:#0000FF;stroke-width:2.0px;stroke-linecap:butt;stroke-linejoin:miter;stroke-opacity:1' />\n<path class='bond-29 atom-28 atom-30' d='M 197.9,52.2 L 193.2,52.0' style='fill:none;fill-rule:evenodd;stroke:#FF0000;stroke-width:2.0px;stroke-linecap:butt;stroke-linejoin:miter;stroke-opacity:1' />\n<path class='bond-30 atom-6 atom-31' d='M 241.1,58.2 L 256.9,62.4' style='fill:none;fill-rule:evenodd;stroke:#000000;stroke-width:2.0px;stroke-linecap:butt;stroke-linejoin:miter;stroke-opacity:1' />\n<path class='bond-31 atom-31 atom-32' d='M 256.9,62.4 L 268.5,50.8' style='fill:none;fill-rule:evenodd;stroke:#000000;stroke-width:2.0px;stroke-linecap:butt;stroke-linejoin:miter;stroke-opacity:1' />\n<path class='bond-31 atom-31 atom-32' d='M 256.2,59.6 L 265.7,50.0' style='fill:none;fill-rule:evenodd;stroke:#000000;stroke-width:2.0px;stroke-linecap:butt;stroke-linejoin:miter;stroke-opacity:1' />\n<path class='bond-32 atom-32 atom-3' d='M 268.5,50.8 L 264.2,34.9' style='fill:none;fill-rule:evenodd;stroke:#000000;stroke-width:2.0px;stroke-linecap:butt;stroke-linejoin:miter;stroke-opacity:1' />\n<path class='bond-33 atom-27 atom-7' d='M 213.3,67.2 L 229.5,69.8' style='fill:none;fill-rule:evenodd;stroke:#000000;stroke-width:2.0px;stroke-linecap:butt;stroke-linejoin:miter;stroke-opacity:1' />\n<path class='bond-34 atom-16 atom-11' d='M 233.8,118.7 L 247.6,109.8' style='fill:none;fill-rule:evenodd;stroke:#000000;stroke-width:2.0px;stroke-linecap:butt;stroke-linejoin:miter;stroke-opacity:1' />\n<path class='bond-35 atom-26 atom-17' d='M 205.9,81.8 L 210.1,86.0' style='fill:none;fill-rule:evenodd;stroke:#000000;stroke-width:2.0px;stroke-linecap:butt;stroke-linejoin:miter;stroke-opacity:1' />\n<path class='bond-35 atom-26 atom-17' d='M 210.1,86.0 L 214.3,90.2' style='fill:none;fill-rule:evenodd;stroke:#0000FF;stroke-width:2.0px;stroke-linecap:butt;stroke-linejoin:miter;stroke-opacity:1' />\n<path class='bond-36 atom-25 atom-20' d='M 190.0,86.1 L 185.8,101.9' style='fill:none;fill-rule:evenodd;stroke:#000000;stroke-width:2.0px;stroke-linecap:butt;stroke-linejoin:miter;stroke-opacity:1' />\n<path d='M 249.2,30.9 L 248.4,30.7 L 247.8,31.3' style='fill:none;stroke:#000000;stroke-width:2.0px;stroke-linecap:butt;stroke-linejoin:miter;stroke-miterlimit:10;stroke-opacity:1;' />\n<path d='M 237.4,41.7 L 236.8,42.3 L 237.0,43.1' style='fill:none;stroke:#000000;stroke-width:2.0px;stroke-linecap:butt;stroke-linejoin:miter;stroke-miterlimit:10;stroke-opacity:1;' />\n<path d='M 240.8,57.4 L 241.1,58.2 L 241.9,58.4' style='fill:none;stroke:#000000;stroke-width:2.0px;stroke-linecap:butt;stroke-linejoin:miter;stroke-miterlimit:10;stroke-opacity:1;' />\n<path d='M 229.6,70.6 L 229.5,69.8 L 228.7,69.6' style='fill:none;stroke:#000000;stroke-width:2.0px;stroke-linecap:butt;stroke-linejoin:miter;stroke-miterlimit:10;stroke-opacity:1;' />\n<path d='M 231.9,85.1 L 232.1,86.0 L 231.8,86.1' style='fill:none;stroke:#000000;stroke-width:2.0px;stroke-linecap:butt;stroke-linejoin:miter;stroke-miterlimit:10;stroke-opacity:1;' />\n<path d='M 261.4,116.8 L 262.2,117.2 L 262.2,118.0' style='fill:none;stroke:#000000;stroke-width:2.0px;stroke-linecap:butt;stroke-linejoin:miter;stroke-miterlimit:10;stroke-opacity:1;' />\n<path d='M 263.0,132.7 L 263.1,133.6 L 262.4,134.0' style='fill:none;stroke:#000000;stroke-width:2.0px;stroke-linecap:butt;stroke-linejoin:miter;stroke-miterlimit:10;stroke-opacity:1;' />\n<path d='M 250.0,142.1 L 249.3,142.5 L 248.6,142.1' style='fill:none;stroke:#000000;stroke-width:2.0px;stroke-linecap:butt;stroke-linejoin:miter;stroke-miterlimit:10;stroke-opacity:1;' />\n<path d='M 235.4,135.4 L 234.7,135.1 L 234.7,134.3' style='fill:none;stroke:#000000;stroke-width:2.0px;stroke-linecap:butt;stroke-linejoin:miter;stroke-miterlimit:10;stroke-opacity:1;' />\n<path d='M 233.9,119.5 L 233.8,118.7 L 234.5,118.2' style='fill:none;stroke:#000000;stroke-width:2.0px;stroke-linecap:butt;stroke-linejoin:miter;stroke-miterlimit:10;stroke-opacity:1;' />\n<path d='M 197.7,113.4 L 197.4,113.5 L 196.8,112.9' style='fill:none;stroke:#000000;stroke-width:2.0px;stroke-linecap:butt;stroke-linejoin:miter;stroke-miterlimit:10;stroke-opacity:1;' />\n<path d='M 170.7,106.0 L 170.0,106.2 L 169.4,105.6' style='fill:none;stroke:#000000;stroke-width:2.0px;stroke-linecap:butt;stroke-linejoin:miter;stroke-miterlimit:10;stroke-opacity:1;' />\n<path d='M 158.9,95.2 L 158.3,94.6 L 158.6,93.8' style='fill:none;stroke:#000000;stroke-width:2.0px;stroke-linecap:butt;stroke-linejoin:miter;stroke-miterlimit:10;stroke-opacity:1;' />\n<path d='M 162.4,79.6 L 162.6,78.8 L 163.4,78.5' style='fill:none;stroke:#000000;stroke-width:2.0px;stroke-linecap:butt;stroke-linejoin:miter;stroke-miterlimit:10;stroke-opacity:1;' />\n<path d='M 177.6,74.7 L 178.4,74.5 L 179.0,75.1' style='fill:none;stroke:#000000;stroke-width:2.0px;stroke-linecap:butt;stroke-linejoin:miter;stroke-miterlimit:10;stroke-opacity:1;' />\n<path d='M 212.9,67.9 L 213.3,67.2 L 214.1,67.3' style='fill:none;stroke:#000000;stroke-width:2.0px;stroke-linecap:butt;stroke-linejoin:miter;stroke-miterlimit:10;stroke-opacity:1;' />\n<path d='M 256.1,62.2 L 256.9,62.4 L 257.5,61.8' style='fill:none;stroke:#000000;stroke-width:2.0px;stroke-linecap:butt;stroke-linejoin:miter;stroke-miterlimit:10;stroke-opacity:1;' />\n<path d='M 267.9,51.4 L 268.5,50.8 L 268.3,50.0' style='fill:none;stroke:#000000;stroke-width:2.0px;stroke-linecap:butt;stroke-linejoin:miter;stroke-miterlimit:10;stroke-opacity:1;' />\n<path class='atom-1' d='M 274.3 19.9\nL 276.6 23.5\nQ 276.8 23.9, 277.1 24.6\nQ 277.5 25.2, 277.5 25.3\nL 277.5 19.9\nL 278.5 19.9\nL 278.5 26.8\nL 277.5 26.8\nL 275.0 22.8\nQ 274.8 22.3, 274.5 21.8\nQ 274.2 21.2, 274.1 21.1\nL 274.1 26.8\nL 273.2 26.8\nL 273.2 19.9\nL 274.3 19.9\n' fill='#0000FF'/>\n<path class='atom-10' d='M 257.2 84.5\nQ 257.2 82.8, 258.1 81.8\nQ 258.9 80.9, 260.4 80.9\nQ 262.0 80.9, 262.8 81.8\nQ 263.6 82.8, 263.6 84.5\nQ 263.6 86.1, 262.8 87.1\nQ 261.9 88.1, 260.4 88.1\nQ 258.9 88.1, 258.1 87.1\nQ 257.2 86.2, 257.2 84.5\nM 260.4 87.3\nQ 261.5 87.3, 262.1 86.6\nQ 262.6 85.8, 262.6 84.5\nQ 262.6 83.1, 262.1 82.4\nQ 261.5 81.7, 260.4 81.7\nQ 259.4 81.7, 258.8 82.4\nQ 258.2 83.1, 258.2 84.5\nQ 258.2 85.9, 258.8 86.6\nQ 259.4 87.3, 260.4 87.3\n' fill='#FF0000'/>\n<path class='atom-17' d='M 215.9 89.9\nL 218.2 93.6\nQ 218.4 94.0, 218.8 94.6\nQ 219.2 95.3, 219.2 95.3\nL 219.2 89.9\nL 220.1 89.9\nL 220.1 96.9\nL 219.1 96.9\nL 216.7 92.9\nQ 216.4 92.4, 216.1 91.8\nQ 215.8 91.3, 215.7 91.1\nL 215.7 96.9\nL 214.8 96.9\nL 214.8 89.9\nL 215.9 89.9\n' fill='#0000FF'/>\n<path class='atom-18' d='M 211.7 105.8\nL 214.0 109.5\nQ 214.2 109.8, 214.6 110.5\nQ 214.9 111.1, 214.9 111.2\nL 214.9 105.8\nL 215.9 105.8\nL 215.9 112.7\nL 214.9 112.7\nL 212.5 108.7\nQ 212.2 108.2, 211.9 107.7\nQ 211.6 107.1, 211.5 107.0\nL 211.5 112.7\nL 210.6 112.7\nL 210.6 105.8\nL 211.7 105.8\n' fill='#0000FF'/>\n<path class='atom-28' d='M 204.3 49.1\nL 206.6 52.8\nQ 206.8 53.2, 207.2 53.8\nQ 207.5 54.5, 207.5 54.5\nL 207.5 49.1\nL 208.5 49.1\nL 208.5 56.1\nL 207.5 56.1\nL 205.1 52.1\nQ 204.8 51.6, 204.5 51.0\nQ 204.2 50.5, 204.1 50.3\nL 204.1 56.1\nL 203.2 56.1\nL 203.2 49.1\nL 204.3 49.1\n' fill='#0000FF'/>\n<path class='atom-28' d='M 209.8 50.4\nL 211.0 50.4\nL 211.0 49.1\nL 211.5 49.1\nL 211.5 50.4\nL 212.8 50.4\nL 212.8 50.8\nL 211.5 50.8\nL 211.5 52.1\nL 211.0 52.1\nL 211.0 50.8\nL 209.8 50.8\nL 209.8 50.4\n' fill='#0000FF'/>\n<path class='atom-29' d='M 211.5 38.9\nQ 211.5 37.2, 212.4 36.3\nQ 213.2 35.3, 214.7 35.3\nQ 216.3 35.3, 217.1 36.3\nQ 217.9 37.2, 217.9 38.9\nQ 217.9 40.6, 217.1 41.5\nQ 216.3 42.5, 214.7 42.5\nQ 213.2 42.5, 212.4 41.5\nQ 211.5 40.6, 211.5 38.9\nM 214.7 41.7\nQ 215.8 41.7, 216.4 41.0\nQ 217.0 40.3, 217.0 38.9\nQ 217.0 37.5, 216.4 36.8\nQ 215.8 36.1, 214.7 36.1\nQ 213.7 36.1, 213.1 36.8\nQ 212.5 37.5, 212.5 38.9\nQ 212.5 40.3, 213.1 41.0\nQ 213.7 41.7, 214.7 41.7\n' fill='#FF0000'/>\n<path class='atom-30' d='M 186.3 51.8\nQ 186.3 50.1, 187.1 49.2\nQ 187.9 48.2, 189.4 48.2\nQ 191.0 48.2, 191.8 49.2\nQ 192.6 50.1, 192.6 51.8\nQ 192.6 53.5, 191.8 54.4\nQ 191.0 55.4, 189.4 55.4\nQ 187.9 55.4, 187.1 54.4\nQ 186.3 53.5, 186.3 51.8\nM 189.4 54.6\nQ 190.5 54.6, 191.1 53.9\nQ 191.7 53.2, 191.7 51.8\nQ 191.7 50.4, 191.1 49.7\nQ 190.5 49.0, 189.4 49.0\nQ 188.4 49.0, 187.8 49.7\nQ 187.2 50.4, 187.2 51.8\nQ 187.2 53.2, 187.8 53.9\nQ 188.4 54.6, 189.4 54.6\n' fill='#FF0000'/>\n<path class='atom-30' d='M 193.6 49.4\nL 196.0 49.4\nL 196.0 49.9\nL 193.6 49.9\nL 193.6 49.4\n' fill='#FF0000'/>\n</svg>\n",
            "image/png": "[encoded data removed]"
          },
          "metadata": {},
          "execution_count": 40
        }
      ],
      "source": [
        "best_pic50 = 0\n",
        "best_smiles = \"\"\n",
        "for i in range(len(hits_pic50)):\n",
        "  if hits_pic50[i] > best_pic50:\n",
        "    best_pic50 = hits_pic50[i]\n",
        "    best_smiles = hits_smiles[i]\n",
        "print(best_pic50)\n",
        "print(best_smiles)\n",
        "mol = Chem.MolFromSmiles(best_smiles)\n",
        "mol"
      ]
    }
  ],
  "metadata": {
    "colab": {
      "collapsed_sections": [
        "8PhH8DaZuUYR",
        "J1-Yukf3uZVf",
        "WVAllf-l0g3J",
        "RLWKEl0b4OzS",
        "Yf0lDgH96sZw",
        "xhpdJmfpAo1Z",
        "ynlSQX20WX6k"
      ],
      "name": "Clustering and machine learning.ipynb",
      "provenance": [],
      "include_colab_link": true
    },
    "kernelspec": {
      "display_name": "rdkit",
      "language": "python",
      "name": "python3"
    },
    "language_info": {
      "codemirror_mode": {
        "name": "ipython",
        "version": 3
      },
      "file_extension": ".py",
      "mimetype": "text/x-python",
      "name": "python",
      "nbconvert_exporter": "python",
      "pygments_lexer": "ipython3",
      "version": "3.9.1 (default, Dec 11 2020, 06:28:49) \n[Clang 10.0.0 ]"
    },
    "vscode": {
      "interpreter": {
        "hash": "984c61d9eae59f925342f013e6d67034dbdb09854ae1bd3515009e4153808d15"
      }
    }
  },
  "nbformat": 4,
  "nbformat_minor": 0
}